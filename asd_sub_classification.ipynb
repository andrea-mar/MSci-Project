{
 "cells": [
  {
   "cell_type": "markdown",
   "metadata": {},
   "source": [
    "NLP for Text Classfication to select only the ASD relevant subreddits - see discussion in *reddit_data.ipynb* : \n",
    "\n",
    "'From the above analysis we can see that the first 10 subreddits , by number of subscribers, do not seem to be related to ASD. \n",
    "\n",
    "=> Use NLP to filter out the ASD relavant subreddits : display_name + title + public_description + header_title + description (Text classification task - target categories: ASD vs Other. ) - Manually annotate 40% out of 534 subreddits -> train different models -> choose the best one to classify the rest 60% and get the final subreddits list.\n",
    "\n",
    "As the private subreddits' data can't be accessed, these will be excluded from the analisys. The subreddits dataset will only inlcude those that are listed as 'public' or 'restricted' (= everyone can read the data but only certain people can post).\n",
    "\n",
    "Features used: display_name + title + public_description + header_title + description"
   ]
  },
  {
   "cell_type": "markdown",
   "metadata": {},
   "source": [
    "Pipeline for NLP:\n",
    "\n",
    "1. get data (40% asd_final_rows_list.csv) and annotate it \n",
    "2. text extraction and cleanup - merge relevant information into one text column, remove punctuation/spelling mistakes etc. \n",
    "3. pre-processing:\n",
    "    3.1 split text into tokens/words (=sentence segmentation/ tokanisation NLTK or Spcy or AutoTokenizer if using transformers)\n",
    "    3.3 stemming (=remove prefixes and sufixes) and lemmatization (=get the base word - ext ate becomes (to)eat)\n",
    "4. feature engineering (= convert text / document into vector)\n",
    "    count-vector\n",
    "    tf-idf\n",
    "    one-hot encode - not really used due to size and sparcity problems\n",
    "    word/token-emebeding\n",
    "5. apply classifier ( any machine learning model classifier ) - use gridSearchCV to see which is the best performing classifier ?\n",
    "6. evaluate  model: Accuracy, Precision, Recall, F1 score ( if not good , go back to preprocessing step )\n",
    "7. Deploy\n",
    "8. Monitor and update"
   ]
  },
  {
   "cell_type": "code",
   "execution_count": 3,
   "metadata": {},
   "outputs": [],
   "source": [
    "import pandas as pd\n",
    "import numpy as np\n",
    "import matplotlib.pyplot as plt\n",
    "import seaborn as sns"
   ]
  },
  {
   "cell_type": "markdown",
   "metadata": {},
   "source": [
    "## 1.1 Get data  - whole dataset"
   ]
  },
  {
   "cell_type": "code",
   "execution_count": 2,
   "metadata": {},
   "outputs": [
    {
     "name": "stdout",
     "output_type": "stream",
     "text": [
      "<class 'pandas.core.frame.DataFrame'>\n",
      "RangeIndex: 534 entries, 0 to 533\n",
      "Data columns (total 19 columns):\n",
      " #   Column                 Non-Null Count  Dtype  \n",
      "---  ------                 --------------  -----  \n",
      " 0   Unnamed: 0             534 non-null    int64  \n",
      " 1   restrict_posting       534 non-null    bool   \n",
      " 2   display_name           534 non-null    object \n",
      " 3   title                  534 non-null    object \n",
      " 4   display_name_prefixed  534 non-null    object \n",
      " 5   subscribers            534 non-null    int64  \n",
      " 6   name                   534 non-null    object \n",
      " 7   public_description     506 non-null    object \n",
      " 8   community_reviewed     534 non-null    bool   \n",
      " 9   created                534 non-null    float64\n",
      " 10  subreddit_type         534 non-null    object \n",
      " 11  id                     534 non-null    object \n",
      " 12  over18                 534 non-null    bool   \n",
      " 13  header_title           81 non-null     object \n",
      " 14  description            393 non-null    object \n",
      " 15  url                    534 non-null    object \n",
      " 16  created_utc            534 non-null    float64\n",
      " 17  _path                  534 non-null    object \n",
      " 18  lang                   534 non-null    object \n",
      "dtypes: bool(3), float64(2), int64(2), object(12)\n",
      "memory usage: 68.4+ KB\n"
     ]
    }
   ],
   "source": [
    "asd_subs_df = pd.read_csv('asd_final_rows_list.csv')\n",
    "asd_subs_df.info()"
   ]
  },
  {
   "cell_type": "code",
   "execution_count": 3,
   "metadata": {},
   "outputs": [
    {
     "name": "stdout",
     "output_type": "stream",
     "text": [
      "<class 'pandas.core.frame.DataFrame'>\n",
      "RangeIndex: 534 entries, 0 to 533\n",
      "Data columns (total 6 columns):\n",
      " #   Column              Non-Null Count  Dtype \n",
      "---  ------              --------------  ----- \n",
      " 0   id                  534 non-null    object\n",
      " 1   display_name        534 non-null    object\n",
      " 2   title               534 non-null    object\n",
      " 3   public_description  506 non-null    object\n",
      " 4   header_title        81 non-null     object\n",
      " 5   description         393 non-null    object\n",
      "dtypes: object(6)\n",
      "memory usage: 25.2+ KB\n"
     ]
    }
   ],
   "source": [
    "# select from the dataset only the text features neccesary for topic modeling + id \n",
    "# Features: display_name + title + public_description + header_title + description \n",
    "asd_subs_df = asd_subs_df[['id','display_name', 'title', 'public_description', 'header_title', 'description']]\n",
    "asd_subs_df.info()"
   ]
  },
  {
   "cell_type": "code",
   "execution_count": 4,
   "metadata": {},
   "outputs": [
    {
     "data": {
      "text/html": [
       "<div>\n",
       "<style scoped>\n",
       "    .dataframe tbody tr th:only-of-type {\n",
       "        vertical-align: middle;\n",
       "    }\n",
       "\n",
       "    .dataframe tbody tr th {\n",
       "        vertical-align: top;\n",
       "    }\n",
       "\n",
       "    .dataframe thead th {\n",
       "        text-align: right;\n",
       "    }\n",
       "</style>\n",
       "<table border=\"1\" class=\"dataframe\">\n",
       "  <thead>\n",
       "    <tr style=\"text-align: right;\">\n",
       "      <th></th>\n",
       "      <th>id</th>\n",
       "      <th>display_name</th>\n",
       "      <th>title</th>\n",
       "      <th>public_description</th>\n",
       "      <th>header_title</th>\n",
       "      <th>description</th>\n",
       "    </tr>\n",
       "  </thead>\n",
       "  <tbody>\n",
       "    <tr>\n",
       "      <th>0</th>\n",
       "      <td>28lhh2</td>\n",
       "      <td>AutismRepresentation</td>\n",
       "      <td>Autism Awareness</td>\n",
       "      <td>A place for kind people who want to spread awa...</td>\n",
       "      <td>NaN</td>\n",
       "      <td>NaN</td>\n",
       "    </tr>\n",
       "    <tr>\n",
       "      <th>1</th>\n",
       "      <td>3b4rh</td>\n",
       "      <td>AspiePositive</td>\n",
       "      <td>AspiePositive: by aspies, for aspies | no hate...</td>\n",
       "      <td>If you have Asperger's, you are welcome. If yo...</td>\n",
       "      <td>NaN</td>\n",
       "      <td>**The Golden Rule: Be excellent to each other....</td>\n",
       "    </tr>\n",
       "    <tr>\n",
       "      <th>2</th>\n",
       "      <td>2nwjjb</td>\n",
       "      <td>TrumpAutism</td>\n",
       "      <td>Trump Autism</td>\n",
       "      <td>Trump Autism</td>\n",
       "      <td>NaN</td>\n",
       "      <td>Trump Autism</td>\n",
       "    </tr>\n",
       "  </tbody>\n",
       "</table>\n",
       "</div>"
      ],
      "text/plain": [
       "       id          display_name  \\\n",
       "0  28lhh2  AutismRepresentation   \n",
       "1   3b4rh         AspiePositive   \n",
       "2  2nwjjb           TrumpAutism   \n",
       "\n",
       "                                               title  \\\n",
       "0                                   Autism Awareness   \n",
       "1  AspiePositive: by aspies, for aspies | no hate...   \n",
       "2                                       Trump Autism   \n",
       "\n",
       "                                  public_description header_title  \\\n",
       "0  A place for kind people who want to spread awa...          NaN   \n",
       "1  If you have Asperger's, you are welcome. If yo...          NaN   \n",
       "2                                       Trump Autism          NaN   \n",
       "\n",
       "                                         description  \n",
       "0                                                NaN  \n",
       "1  **The Golden Rule: Be excellent to each other....  \n",
       "2                                       Trump Autism  "
      ]
     },
     "execution_count": 4,
     "metadata": {},
     "output_type": "execute_result"
    }
   ],
   "source": [
    "# public_description, header_title, description have missing data\n",
    "# in the reddit_data.ipynb the missing data appears as an empty string, meaning the subreddit does not have any text added to these sections\n",
    "# all NaN values will be replaced with an empty string \n",
    "# the text in each column will be agregated into one single text document as to include as much relevant words as possible for each subreddit\n",
    "asd_subs_df.head(3)"
   ]
  },
  {
   "cell_type": "code",
   "execution_count": 5,
   "metadata": {},
   "outputs": [
    {
     "data": {
      "text/plain": [
       "id                      0\n",
       "display_name            0\n",
       "title                   0\n",
       "public_description     28\n",
       "header_title          453\n",
       "description           141\n",
       "dtype: int64"
      ]
     },
     "execution_count": 5,
     "metadata": {},
     "output_type": "execute_result"
    }
   ],
   "source": [
    "# check missing data\n",
    "asd_subs_df.isnull().sum()"
   ]
  },
  {
   "cell_type": "markdown",
   "metadata": {},
   "source": [
    "The dataset contains 534 entries, of which 28 are missing 'public_description' and 141 are missing 'description' and 453 are missing 'header_title'.\n",
    "\n",
    "display_name and title have no missing data.\n",
    "\n",
    "All text columns will be aggregated into one large text document ( to include all relevant words available for each subreddit)."
   ]
  },
  {
   "cell_type": "markdown",
   "metadata": {},
   "source": [
    "## 1.2. Clean up and text extraction - whole data set"
   ]
  },
  {
   "cell_type": "code",
   "execution_count": 6,
   "metadata": {},
   "outputs": [
    {
     "data": {
      "text/html": [
       "<div>\n",
       "<style scoped>\n",
       "    .dataframe tbody tr th:only-of-type {\n",
       "        vertical-align: middle;\n",
       "    }\n",
       "\n",
       "    .dataframe tbody tr th {\n",
       "        vertical-align: top;\n",
       "    }\n",
       "\n",
       "    .dataframe thead th {\n",
       "        text-align: right;\n",
       "    }\n",
       "</style>\n",
       "<table border=\"1\" class=\"dataframe\">\n",
       "  <thead>\n",
       "    <tr style=\"text-align: right;\">\n",
       "      <th></th>\n",
       "      <th>id</th>\n",
       "      <th>display_name</th>\n",
       "      <th>title</th>\n",
       "      <th>public_description</th>\n",
       "      <th>header_title</th>\n",
       "      <th>description</th>\n",
       "    </tr>\n",
       "  </thead>\n",
       "  <tbody>\n",
       "    <tr>\n",
       "      <th>0</th>\n",
       "      <td>28lhh2</td>\n",
       "      <td>AutismRepresentation</td>\n",
       "      <td>Autism Awareness</td>\n",
       "      <td>A place for kind people who want to spread awa...</td>\n",
       "      <td></td>\n",
       "      <td></td>\n",
       "    </tr>\n",
       "    <tr>\n",
       "      <th>1</th>\n",
       "      <td>3b4rh</td>\n",
       "      <td>AspiePositive</td>\n",
       "      <td>AspiePositive: by aspies, for aspies | no hate...</td>\n",
       "      <td>If you have Asperger's, you are welcome. If yo...</td>\n",
       "      <td></td>\n",
       "      <td>**The Golden Rule: Be excellent to each other....</td>\n",
       "    </tr>\n",
       "    <tr>\n",
       "      <th>2</th>\n",
       "      <td>2nwjjb</td>\n",
       "      <td>TrumpAutism</td>\n",
       "      <td>Trump Autism</td>\n",
       "      <td>Trump Autism</td>\n",
       "      <td></td>\n",
       "      <td>Trump Autism</td>\n",
       "    </tr>\n",
       "  </tbody>\n",
       "</table>\n",
       "</div>"
      ],
      "text/plain": [
       "       id          display_name  \\\n",
       "0  28lhh2  AutismRepresentation   \n",
       "1   3b4rh         AspiePositive   \n",
       "2  2nwjjb           TrumpAutism   \n",
       "\n",
       "                                               title  \\\n",
       "0                                   Autism Awareness   \n",
       "1  AspiePositive: by aspies, for aspies | no hate...   \n",
       "2                                       Trump Autism   \n",
       "\n",
       "                                  public_description header_title  \\\n",
       "0  A place for kind people who want to spread awa...                \n",
       "1  If you have Asperger's, you are welcome. If yo...                \n",
       "2                                       Trump Autism                \n",
       "\n",
       "                                         description  \n",
       "0                                                     \n",
       "1  **The Golden Rule: Be excellent to each other....  \n",
       "2                                       Trump Autism  "
      ]
     },
     "execution_count": 6,
     "metadata": {},
     "output_type": "execute_result"
    }
   ],
   "source": [
    "# replace NaN values with empty string ''\n",
    "# NaN valuse are only observed for text columns: public_description, header_title, description\n",
    "asd_subs_df = asd_subs_df.fillna('')\n",
    "asd_subs_df.head(3)"
   ]
  },
  {
   "cell_type": "code",
   "execution_count": 7,
   "metadata": {},
   "outputs": [
    {
     "name": "stdout",
     "output_type": "stream",
     "text": [
      "<class 'pandas.core.frame.DataFrame'>\n",
      "RangeIndex: 534 entries, 0 to 533\n",
      "Data columns (total 6 columns):\n",
      " #   Column              Non-Null Count  Dtype \n",
      "---  ------              --------------  ----- \n",
      " 0   id                  534 non-null    object\n",
      " 1   display_name        534 non-null    object\n",
      " 2   title               534 non-null    object\n",
      " 3   public_description  534 non-null    object\n",
      " 4   header_title        534 non-null    object\n",
      " 5   description         534 non-null    object\n",
      "dtypes: object(6)\n",
      "memory usage: 25.2+ KB\n"
     ]
    }
   ],
   "source": [
    "# no more null values \n",
    "asd_subs_df.info()"
   ]
  },
  {
   "cell_type": "code",
   "execution_count": 8,
   "metadata": {},
   "outputs": [
    {
     "data": {
      "text/html": [
       "<div>\n",
       "<style scoped>\n",
       "    .dataframe tbody tr th:only-of-type {\n",
       "        vertical-align: middle;\n",
       "    }\n",
       "\n",
       "    .dataframe tbody tr th {\n",
       "        vertical-align: top;\n",
       "    }\n",
       "\n",
       "    .dataframe thead th {\n",
       "        text-align: right;\n",
       "    }\n",
       "</style>\n",
       "<table border=\"1\" class=\"dataframe\">\n",
       "  <thead>\n",
       "    <tr style=\"text-align: right;\">\n",
       "      <th></th>\n",
       "      <th>id</th>\n",
       "      <th>display_name</th>\n",
       "      <th>title</th>\n",
       "      <th>public_description</th>\n",
       "      <th>header_title</th>\n",
       "      <th>description</th>\n",
       "      <th>text</th>\n",
       "    </tr>\n",
       "  </thead>\n",
       "  <tbody>\n",
       "    <tr>\n",
       "      <th>0</th>\n",
       "      <td>28lhh2</td>\n",
       "      <td>AutismRepresentation</td>\n",
       "      <td>Autism Awareness</td>\n",
       "      <td>A place for kind people who want to spread awa...</td>\n",
       "      <td></td>\n",
       "      <td></td>\n",
       "      <td>AutismRepresentation Autism Awareness A place ...</td>\n",
       "    </tr>\n",
       "    <tr>\n",
       "      <th>1</th>\n",
       "      <td>3b4rh</td>\n",
       "      <td>AspiePositive</td>\n",
       "      <td>AspiePositive: by aspies, for aspies | no hate...</td>\n",
       "      <td>If you have Asperger's, you are welcome. If yo...</td>\n",
       "      <td></td>\n",
       "      <td>**The Golden Rule: Be excellent to each other....</td>\n",
       "      <td>AspiePositive AspiePositive: by aspies, for as...</td>\n",
       "    </tr>\n",
       "    <tr>\n",
       "      <th>2</th>\n",
       "      <td>2nwjjb</td>\n",
       "      <td>TrumpAutism</td>\n",
       "      <td>Trump Autism</td>\n",
       "      <td>Trump Autism</td>\n",
       "      <td></td>\n",
       "      <td>Trump Autism</td>\n",
       "      <td>TrumpAutism Trump Autism Trump Autism  Trump A...</td>\n",
       "    </tr>\n",
       "  </tbody>\n",
       "</table>\n",
       "</div>"
      ],
      "text/plain": [
       "       id          display_name  \\\n",
       "0  28lhh2  AutismRepresentation   \n",
       "1   3b4rh         AspiePositive   \n",
       "2  2nwjjb           TrumpAutism   \n",
       "\n",
       "                                               title  \\\n",
       "0                                   Autism Awareness   \n",
       "1  AspiePositive: by aspies, for aspies | no hate...   \n",
       "2                                       Trump Autism   \n",
       "\n",
       "                                  public_description header_title  \\\n",
       "0  A place for kind people who want to spread awa...                \n",
       "1  If you have Asperger's, you are welcome. If yo...                \n",
       "2                                       Trump Autism                \n",
       "\n",
       "                                         description  \\\n",
       "0                                                      \n",
       "1  **The Golden Rule: Be excellent to each other....   \n",
       "2                                       Trump Autism   \n",
       "\n",
       "                                                text  \n",
       "0  AutismRepresentation Autism Awareness A place ...  \n",
       "1  AspiePositive AspiePositive: by aspies, for as...  \n",
       "2  TrumpAutism Trump Autism Trump Autism  Trump A...  "
      ]
     },
     "execution_count": 8,
     "metadata": {},
     "output_type": "execute_result"
    }
   ],
   "source": [
    "# join text columns\n",
    "asd_subs_df[\"text\"] = asd_subs_df[[\"display_name\", \"title\", 'public_description', 'header_title', 'description']].apply(\" \".join, axis='columns')\n",
    "asd_subs_df.head(3)"
   ]
  },
  {
   "cell_type": "code",
   "execution_count": 9,
   "metadata": {},
   "outputs": [
    {
     "name": "stdout",
     "output_type": "stream",
     "text": [
      "<class 'pandas.core.frame.DataFrame'>\n",
      "RangeIndex: 534 entries, 0 to 533\n",
      "Data columns (total 7 columns):\n",
      " #   Column              Non-Null Count  Dtype \n",
      "---  ------              --------------  ----- \n",
      " 0   id                  534 non-null    object\n",
      " 1   display_name        534 non-null    object\n",
      " 2   title               534 non-null    object\n",
      " 3   public_description  534 non-null    object\n",
      " 4   header_title        534 non-null    object\n",
      " 5   description         534 non-null    object\n",
      " 6   text                534 non-null    object\n",
      "dtypes: object(7)\n",
      "memory usage: 29.3+ KB\n"
     ]
    }
   ],
   "source": [
    "asd_subs_df.info()"
   ]
  },
  {
   "cell_type": "code",
   "execution_count": 10,
   "metadata": {},
   "outputs": [
    {
     "data": {
      "text/html": [
       "<div>\n",
       "<style scoped>\n",
       "    .dataframe tbody tr th:only-of-type {\n",
       "        vertical-align: middle;\n",
       "    }\n",
       "\n",
       "    .dataframe tbody tr th {\n",
       "        vertical-align: top;\n",
       "    }\n",
       "\n",
       "    .dataframe thead th {\n",
       "        text-align: right;\n",
       "    }\n",
       "</style>\n",
       "<table border=\"1\" class=\"dataframe\">\n",
       "  <thead>\n",
       "    <tr style=\"text-align: right;\">\n",
       "      <th></th>\n",
       "      <th>id</th>\n",
       "      <th>display_name</th>\n",
       "      <th>text</th>\n",
       "    </tr>\n",
       "  </thead>\n",
       "  <tbody>\n",
       "    <tr>\n",
       "      <th>0</th>\n",
       "      <td>28lhh2</td>\n",
       "      <td>AutismRepresentation</td>\n",
       "      <td>AutismRepresentation Autism Awareness A place ...</td>\n",
       "    </tr>\n",
       "    <tr>\n",
       "      <th>1</th>\n",
       "      <td>3b4rh</td>\n",
       "      <td>AspiePositive</td>\n",
       "      <td>AspiePositive AspiePositive: by aspies, for as...</td>\n",
       "    </tr>\n",
       "    <tr>\n",
       "      <th>2</th>\n",
       "      <td>2nwjjb</td>\n",
       "      <td>TrumpAutism</td>\n",
       "      <td>TrumpAutism Trump Autism Trump Autism  Trump A...</td>\n",
       "    </tr>\n",
       "  </tbody>\n",
       "</table>\n",
       "</div>"
      ],
      "text/plain": [
       "       id          display_name  \\\n",
       "0  28lhh2  AutismRepresentation   \n",
       "1   3b4rh         AspiePositive   \n",
       "2  2nwjjb           TrumpAutism   \n",
       "\n",
       "                                                text  \n",
       "0  AutismRepresentation Autism Awareness A place ...  \n",
       "1  AspiePositive AspiePositive: by aspies, for as...  \n",
       "2  TrumpAutism Trump Autism Trump Autism  Trump A...  "
      ]
     },
     "execution_count": 10,
     "metadata": {},
     "output_type": "execute_result"
    }
   ],
   "source": [
    "# drop the individual text columns for easier visualisation\n",
    "# only the text column will be used for the analysis\n",
    "# keep id and display_name - to identify subreddits\n",
    "asd_subs_df.drop(['title', 'public_description', 'header_title', 'description'], axis=1, inplace=True)\n",
    "asd_subs_df.head(3)"
   ]
  },
  {
   "cell_type": "code",
   "execution_count": 11,
   "metadata": {},
   "outputs": [
    {
     "data": {
      "text/plain": [
       "327    autism__friends autism__friends a safe place f...\n",
       "381    videos /r/videos Reddit's main subreddit for v...\n",
       "482    mentalhealth Mental Health The Mental Health s...\n",
       "55     offmychest Off My Chest | A Safe Community for...\n",
       "273    AutismAndAddiction AutismAndAddiction A place ...\n",
       "3      nevergrewup When the body got older but the mi...\n",
       "97     IAmA IAmA I Am A, where the mundane becomes fa...\n",
       "90     WritteND WritteND A space for Neurodivergent w...\n",
       "204    asptrees asptrees the community for discussing...\n",
       "70     Autisme_France Autisme_France Groupe qui conce...\n",
       "478    Parenting Reddit Parenting - For those with ki...\n",
       "395    genetics Genetics, genes, and genomes For disc...\n",
       "472    Aspergians Aspergians A subreddit by and for s...\n",
       "50     aspieselfies aspieselfies a place for people w...\n",
       "306    AutisticPilking AutisticPilking Neco Arc is yo...\n",
       "115    TheAspieWorld The Aspie World - Aspergers & Au...\n",
       "109    CoronavirusUK CoronavirusUK Spreading news, ad...\n",
       "132    AskMeAnythingIAnswer We will try to answer any...\n",
       "351    AskTeenGirls r/AskTeenGirls: Ask girls questio...\n",
       "227    CasaAutistic CasaAutistic la casa autistic es ...\n",
       "Name: text, dtype: object"
      ]
     },
     "execution_count": 11,
     "metadata": {},
     "output_type": "execute_result"
    }
   ],
   "source": [
    "# invesitgate data further ( check text patterns that could be cleaned further )\n",
    "asd_subs_df['text'].sample(n=20, random_state=7) "
   ]
  },
  {
   "cell_type": "markdown",
   "metadata": {},
   "source": [
    "Some terms appear in cammelCase - words capitalized and joined together - ex. *AutismAndAddiction*; Some terms are separated by _ : ex. *autism__friends*. We can separate these words by white spaces using regular expressions. However, some words are joined together with no clear delimitation (ex. *nevergrewup* ). In this situation we can't separate the words, but the deep leaning approach should be able to tokenize this text in a relevant way as these models split the text into single characters or groups of characters, or use bytes instead of characters/words ( see : Unigrams (Gasparetto et al., 2022)). To clean the data in this section cammelCase, dashes and underscores will be replaced by white spaces in the dataset. Concatenated strings of words with no clear delimitation will be left unchanged in the dataset. "
   ]
  },
  {
   "cell_type": "code",
   "execution_count": 4,
   "metadata": {},
   "outputs": [],
   "source": [
    "# function to find and replace all cammelCase, dash and undreline joined words\n",
    "import re\n",
    "def split_words_by_space(text):\n",
    "    # split camelCase\n",
    "    text = re.sub(r'([a-z])([A-Z])', r'\\1 \\2', text) \n",
    "    # replace underscores and dashes with spaces\n",
    "    text = re.sub(r'[_-]+', ' ', text)  \n",
    "\n",
    "    return text"
   ]
  },
  {
   "cell_type": "code",
   "execution_count": 13,
   "metadata": {},
   "outputs": [],
   "source": [
    "# split text words by spaces\n",
    "asd_subs_df['text'] = asd_subs_df['text'].apply(split_words_by_space)"
   ]
  },
  {
   "cell_type": "code",
   "execution_count": 14,
   "metadata": {},
   "outputs": [
    {
     "data": {
      "text/plain": [
       "327    autism friends autism friends a safe place for...\n",
       "381    videos /r/videos Reddit's main subreddit for v...\n",
       "482    mentalhealth Mental Health The Mental Health s...\n",
       "55     offmychest Off My Chest | A Safe Community for...\n",
       "273    Autism And Addiction Autism And Addiction A pl...\n",
       "3      nevergrewup When the body got older but the mi...\n",
       "97     IAm A IAm A I Am A, where the mundane becomes ...\n",
       "90     Writte ND Writte ND A space for Neurodivergent...\n",
       "204    asptrees asptrees the community for discussing...\n",
       "70     Autisme France Autisme France Groupe qui conce...\n",
       "478    Parenting Reddit Parenting   For those with ki...\n",
       "395    genetics Genetics, genes, and genomes For disc...\n",
       "472    Aspergians Aspergians A subreddit by and for s...\n",
       "50     aspieselfies aspieselfies a place for people w...\n",
       "306    Autistic Pilking Autistic Pilking Neco Arc is ...\n",
       "115    The Aspie World The Aspie World   Aspergers & ...\n",
       "109    Coronavirus UK Coronavirus UK Spreading news, ...\n",
       "132    Ask Me Anything IAnswer We will try to answer ...\n",
       "351    Ask Teen Girls r/Ask Teen Girls: Ask girls que...\n",
       "227    Casa Autistic Casa Autistic la casa autistic e...\n",
       "Name: text, dtype: object"
      ]
     },
     "execution_count": 14,
     "metadata": {},
     "output_type": "execute_result"
    }
   ],
   "source": [
    "asd_subs_df['text'].sample(n=20, random_state=7) "
   ]
  },
  {
   "cell_type": "markdown",
   "metadata": {},
   "source": [
    "Notice above that some of the subreddis are not in english (227-CasaAutistic, 70-Autisme_France)\n",
    "\n",
    "Use langdetect to identify the language of the subreddits\n",
    "(https://pypi.org/project/langdetect/)"
   ]
  },
  {
   "cell_type": "code",
   "execution_count": 15,
   "metadata": {},
   "outputs": [],
   "source": [
    "%%capture\n",
    "%pip install langdetect"
   ]
  },
  {
   "cell_type": "code",
   "execution_count": 16,
   "metadata": {},
   "outputs": [],
   "source": [
    "# detect langage of subreddits text and save it in a 'lang' column\n",
    "from langdetect import detect\n",
    "np.random.seed(7)\n",
    "asd_subs_df['lang'] = asd_subs_df['text'].apply(detect)"
   ]
  },
  {
   "cell_type": "code",
   "execution_count": 17,
   "metadata": {},
   "outputs": [
    {
     "data": {
      "text/plain": [
       "18"
      ]
     },
     "execution_count": 17,
     "metadata": {},
     "output_type": "execute_result"
    }
   ],
   "source": [
    "# 18 rows are identified as not being english\n",
    "len(asd_subs_df[asd_subs_df['lang'] != 'en'])\n"
   ]
  },
  {
   "cell_type": "code",
   "execution_count": 18,
   "metadata": {},
   "outputs": [
    {
     "data": {
      "text/html": [
       "<div>\n",
       "<style scoped>\n",
       "    .dataframe tbody tr th:only-of-type {\n",
       "        vertical-align: middle;\n",
       "    }\n",
       "\n",
       "    .dataframe tbody tr th {\n",
       "        vertical-align: top;\n",
       "    }\n",
       "\n",
       "    .dataframe thead th {\n",
       "        text-align: right;\n",
       "    }\n",
       "</style>\n",
       "<table border=\"1\" class=\"dataframe\">\n",
       "  <thead>\n",
       "    <tr style=\"text-align: right;\">\n",
       "      <th></th>\n",
       "      <th>text</th>\n",
       "      <th>lang</th>\n",
       "    </tr>\n",
       "  </thead>\n",
       "  <tbody>\n",
       "    <tr>\n",
       "      <th>2</th>\n",
       "      <td>Trump Autism Trump Autism Trump Autism  Trump ...</td>\n",
       "      <td>lv</td>\n",
       "    </tr>\n",
       "    <tr>\n",
       "      <th>16</th>\n",
       "      <td>Aspergers After Dark Aspergers After Dark Migr...</td>\n",
       "      <td>da</td>\n",
       "    </tr>\n",
       "    <tr>\n",
       "      <th>56</th>\n",
       "      <td>autismogang  autismogang</td>\n",
       "      <td>tl</td>\n",
       "    </tr>\n",
       "    <tr>\n",
       "      <th>70</th>\n",
       "      <td>Autisme France Autisme France Groupe qui conce...</td>\n",
       "      <td>fr</td>\n",
       "    </tr>\n",
       "    <tr>\n",
       "      <th>89</th>\n",
       "      <td>Onions Cause Autism Onions Cause Autism Onions...</td>\n",
       "      <td>fr</td>\n",
       "    </tr>\n",
       "    <tr>\n",
       "      <th>91</th>\n",
       "      <td>Asperger En Espanol Asperger En Espanol</td>\n",
       "      <td>es</td>\n",
       "    </tr>\n",
       "    <tr>\n",
       "      <th>93</th>\n",
       "      <td>Vidar Autism Vidar Autism Autistic Vidar minec...</td>\n",
       "      <td>de</td>\n",
       "    </tr>\n",
       "    <tr>\n",
       "      <th>214</th>\n",
       "      <td>aspergerinterests Asperger Interests</td>\n",
       "      <td>no</td>\n",
       "    </tr>\n",
       "    <tr>\n",
       "      <th>227</th>\n",
       "      <td>Casa Autistic Casa Autistic la casa autistic e...</td>\n",
       "      <td>ca</td>\n",
       "    </tr>\n",
       "    <tr>\n",
       "      <th>263</th>\n",
       "      <td>Autistic Pride2 Autistic Pride2</td>\n",
       "      <td>ro</td>\n",
       "    </tr>\n",
       "    <tr>\n",
       "      <th>283</th>\n",
       "      <td>girl parents autism girl parents autism</td>\n",
       "      <td>fr</td>\n",
       "    </tr>\n",
       "    <tr>\n",
       "      <th>291</th>\n",
       "      <td>Autism Art Autism Art welcome!</td>\n",
       "      <td>de</td>\n",
       "    </tr>\n",
       "    <tr>\n",
       "      <th>300</th>\n",
       "      <td>Autism Gamers Autism Gamers</td>\n",
       "      <td>de</td>\n",
       "    </tr>\n",
       "    <tr>\n",
       "      <th>345</th>\n",
       "      <td>Masked Autism Masked Autism</td>\n",
       "      <td>et</td>\n",
       "    </tr>\n",
       "    <tr>\n",
       "      <th>388</th>\n",
       "      <td>Real Autists Romania Real Autists Romania Salu...</td>\n",
       "      <td>ro</td>\n",
       "    </tr>\n",
       "    <tr>\n",
       "      <th>430</th>\n",
       "      <td>Asperger Latam Asperger Latam Una comunidad en...</td>\n",
       "      <td>es</td>\n",
       "    </tr>\n",
       "    <tr>\n",
       "      <th>487</th>\n",
       "      <td>Asper Minismo Asper Minismo El Asperminismo es...</td>\n",
       "      <td>es</td>\n",
       "    </tr>\n",
       "    <tr>\n",
       "      <th>512</th>\n",
       "      <td>Aspergers BR Aspergers BR Uma comunidade volta...</td>\n",
       "      <td>pt</td>\n",
       "    </tr>\n",
       "  </tbody>\n",
       "</table>\n",
       "</div>"
      ],
      "text/plain": [
       "                                                  text lang\n",
       "2    Trump Autism Trump Autism Trump Autism  Trump ...   lv\n",
       "16   Aspergers After Dark Aspergers After Dark Migr...   da\n",
       "56                        autismogang  autismogang       tl\n",
       "70   Autisme France Autisme France Groupe qui conce...   fr\n",
       "89   Onions Cause Autism Onions Cause Autism Onions...   fr\n",
       "91          Asperger En Espanol Asperger En Espanol      es\n",
       "93   Vidar Autism Vidar Autism Autistic Vidar minec...   de\n",
       "214           aspergerinterests Asperger Interests       no\n",
       "227  Casa Autistic Casa Autistic la casa autistic e...   ca\n",
       "263                 Autistic Pride2 Autistic Pride2      ro\n",
       "283         girl parents autism girl parents autism      fr\n",
       "291                  Autism Art Autism Art welcome!      de\n",
       "300                     Autism Gamers Autism Gamers      de\n",
       "345                     Masked Autism Masked Autism      et\n",
       "388  Real Autists Romania Real Autists Romania Salu...   ro\n",
       "430  Asperger Latam Asperger Latam Una comunidad en...   es\n",
       "487  Asper Minismo Asper Minismo El Asperminismo es...   es\n",
       "512  Aspergers BR Aspergers BR Uma comunidade volta...   pt"
      ]
     },
     "execution_count": 18,
     "metadata": {},
     "output_type": "execute_result"
    }
   ],
   "source": [
    "# inspect rows manually to confirm language\n",
    "# set the maximum column width to display all content\n",
    "# pd.set_option('display.max_colwidth', 1)\n",
    "asd_subs_df[asd_subs_df['lang'] != 'en'][['text', 'lang']]\n"
   ]
  },
  {
   "cell_type": "markdown",
   "metadata": {},
   "source": [
    "Inspecting the rows above, the following row are confirmed as not being in English: \n",
    "56, 70, 91, 227, 388, 430, 487, 512\n",
    "\n"
   ]
  },
  {
   "cell_type": "code",
   "execution_count": 19,
   "metadata": {},
   "outputs": [
    {
     "name": "stdout",
     "output_type": "stream",
     "text": [
      "<class 'pandas.core.frame.DataFrame'>\n",
      "Index: 526 entries, 0 to 533\n",
      "Data columns (total 4 columns):\n",
      " #   Column        Non-Null Count  Dtype \n",
      "---  ------        --------------  ----- \n",
      " 0   id            526 non-null    object\n",
      " 1   display_name  526 non-null    object\n",
      " 2   text          526 non-null    object\n",
      " 3   lang          526 non-null    object\n",
      "dtypes: object(4)\n",
      "memory usage: 20.5+ KB\n"
     ]
    }
   ],
   "source": [
    "# drop the non-english rows\n",
    "# 526 subreddits left in the dataset\n",
    "non_en_rows_indices = [56, 70, 91, 227, 388, 430, 487, 512]\n",
    "asd_subs_df = asd_subs_df.drop(non_en_rows_indices)\n",
    "asd_subs_df.info()\n"
   ]
  },
  {
   "cell_type": "code",
   "execution_count": 20,
   "metadata": {},
   "outputs": [
    {
     "data": {
      "text/plain": [
       "205    autismmemes autism memes Meme for people with\\...\n",
       "488    ASDcareers The Careers of People with ASD Livi...\n",
       "231    Gamingcirclejerk Gaming Circlejerk   Don Chead...\n",
       "104    autisticpeople Autism Spectrum Disorder News, ...\n",
       "263                   Autistic Pride2 Autistic Pride2   \n",
       "492    Baby Bumps Baby Bumps A place for pregnant red...\n",
       "236    hypersensitivity Hypersensitivity A place for ...\n",
       "3      nevergrewup When the body got older but the mi...\n",
       "323    Everything Science Everything Science /r/Every...\n",
       "506    aplusguide A+ Guide A+ Guide is a place for po...\n",
       "66     Neurodivergent LGBTQ Neurodivergent LGBTQ Neur...\n",
       "293    The Owl House The Owl House A subreddit for th...\n",
       "317    traaaaaaannnnnnnnnns If youre memes and im mem...\n",
       "529    Savant Savant This subreddit is dedicated to t...\n",
       "278    Debate Vaccines Debate Vaccines Debate and dis...\n",
       "51     intj analytical, conceptual and objective For ...\n",
       "216    gaspies A place for gay aspies For the aspies ...\n",
       "219    Council Of Autism Council Of Autism This is no...\n",
       "190    BPD Borderline Personality Disorder r/BPD is a...\n",
       "207    wallstreetbets wallstreetbets Like 4chan found...\n",
       "Name: text, dtype: object"
      ]
     },
     "execution_count": 20,
     "metadata": {},
     "output_type": "execute_result"
    }
   ],
   "source": [
    "asd_subs_df['text'].sample(n=20, random_state=7) "
   ]
  },
  {
   "cell_type": "code",
   "execution_count": 21,
   "metadata": {},
   "outputs": [
    {
     "data": {
      "text/plain": [
       "205    autismmemes autism memes Meme for people with ...\n",
       "488    ASDcareers The Careers of People with ASD Livi...\n",
       "231    Gamingcirclejerk Gaming Circlejerk   Don Chead...\n",
       "104    autisticpeople Autism Spectrum Disorder News, ...\n",
       "263                   Autistic Pride2 Autistic Pride2   \n",
       "492    Baby Bumps Baby Bumps A place for pregnant red...\n",
       "236    hypersensitivity Hypersensitivity A place for ...\n",
       "3      nevergrewup When the body got older but the mi...\n",
       "323    Everything Science Everything Science  Everyth...\n",
       "506    aplusguide A+ Guide A+ Guide is a place for po...\n",
       "66     Neurodivergent LGBTQ Neurodivergent LGBTQ Neur...\n",
       "293    The Owl House The Owl House A subreddit for th...\n",
       "317    traaaaaaannnnnnnnnns If youre memes and im mem...\n",
       "529    Savant Savant This subreddit is dedicated to t...\n",
       "278    Debate Vaccines Debate Vaccines Debate and dis...\n",
       "51     intj analytical, conceptual and objective For ...\n",
       "216    gaspies A place for gay aspies For the aspies ...\n",
       "219    Council Of Autism Council Of Autism This is no...\n",
       "190    BPD Borderline Personality Disorder  BPD is a ...\n",
       "207    wallstreetbets wallstreetbets Like 4chan found...\n",
       "Name: text, dtype: object"
      ]
     },
     "execution_count": 21,
     "metadata": {},
     "output_type": "execute_result"
    }
   ],
   "source": [
    "# remove \\n, /r/, r/, \\r  - these characters are not relevant\n",
    "asd_subs_df['text'] = asd_subs_df['text'].str.replace('\\n', ' ').str.replace('/r/', ' ').str.replace('r/', ' ').str.replace('\\r ', ' ')\n",
    "asd_subs_df['text'].sample(n=20, random_state=7) \n"
   ]
  },
  {
   "cell_type": "code",
   "execution_count": 22,
   "metadata": {},
   "outputs": [],
   "source": [
    "# use regex to replace non-word characters with space - these chars are not relevant to the text analysis\n",
    "def remove_non_word_chars(text):\n",
    "    cleaned_text = re.sub(r'[^A-Za-z0-9\\s]', ' ', text)\n",
    "    return cleaned_text"
   ]
  },
  {
   "cell_type": "code",
   "execution_count": 23,
   "metadata": {},
   "outputs": [
    {
     "data": {
      "text/plain": [
       "205    autismmemes autism memes Meme for people with ...\n",
       "488    ASDcareers The Careers of People with ASD Livi...\n",
       "231    Gamingcirclejerk Gaming Circlejerk   Don Chead...\n",
       "104    autisticpeople Autism Spectrum Disorder News  ...\n",
       "263                   Autistic Pride2 Autistic Pride2   \n",
       "492    Baby Bumps Baby Bumps A place for pregnant red...\n",
       "236    hypersensitivity Hypersensitivity A place for ...\n",
       "3      nevergrewup When the body got older but the mi...\n",
       "323    Everything Science Everything Science  Everyth...\n",
       "506    aplusguide A  Guide A  Guide is a place for po...\n",
       "66     Neurodivergent LGBTQ Neurodivergent LGBTQ Neur...\n",
       "293    The Owl House The Owl House A subreddit for th...\n",
       "317    traaaaaaannnnnnnnnns If youre memes and im mem...\n",
       "529    Savant Savant This subreddit is dedicated to t...\n",
       "278    Debate Vaccines Debate Vaccines Debate and dis...\n",
       "51     intj analytical  conceptual and objective For ...\n",
       "216    gaspies A place for gay aspies For the aspies ...\n",
       "219    Council Of Autism Council Of Autism This is no...\n",
       "190    BPD Borderline Personality Disorder  BPD is a ...\n",
       "207    wallstreetbets wallstreetbets Like 4chan found...\n",
       "Name: text, dtype: object"
      ]
     },
     "execution_count": 23,
     "metadata": {},
     "output_type": "execute_result"
    }
   ],
   "source": [
    "# replace non-word characters with space\n",
    "asd_subs_df['text'] = asd_subs_df['text'].apply(remove_non_word_chars)\n",
    "asd_subs_df['text'].sample(n=20, random_state=7) "
   ]
  },
  {
   "cell_type": "code",
   "execution_count": 24,
   "metadata": {},
   "outputs": [],
   "source": [
    "# use regex to remove all extra white spaces:\n",
    "def remove_extra_white_spaces(text):\n",
    "    cleaned_text = re.sub(r'\\s+', ' ', text)\n",
    "    return cleaned_text"
   ]
  },
  {
   "cell_type": "code",
   "execution_count": 25,
   "metadata": {},
   "outputs": [
    {
     "data": {
      "text/plain": [
       "205    autismmemes autism memes Meme for people with ...\n",
       "488    ASDcareers The Careers of People with ASD Livi...\n",
       "231    Gamingcirclejerk Gaming Circlejerk Don Cheadle...\n",
       "104    autisticpeople Autism Spectrum Disorder News l...\n",
       "263                     Autistic Pride2 Autistic Pride2 \n",
       "492    Baby Bumps Baby Bumps A place for pregnant red...\n",
       "236    hypersensitivity Hypersensitivity A place for ...\n",
       "3      nevergrewup When the body got older but the mi...\n",
       "323    Everything Science Everything Science Everythi...\n",
       "506    aplusguide A Guide A Guide is a place for poss...\n",
       "66     Neurodivergent LGBTQ Neurodivergent LGBTQ Neur...\n",
       "293    The Owl House The Owl House A subreddit for th...\n",
       "317    traaaaaaannnnnnnnnns If youre memes and im mem...\n",
       "529    Savant Savant This subreddit is dedicated to t...\n",
       "278    Debate Vaccines Debate Vaccines Debate and dis...\n",
       "51     intj analytical conceptual and objective For t...\n",
       "216    gaspies A place for gay aspies For the aspies ...\n",
       "219    Council Of Autism Council Of Autism This is no...\n",
       "190    BPD Borderline Personality Disorder BPD is a c...\n",
       "207    wallstreetbets wallstreetbets Like 4chan found...\n",
       "Name: text, dtype: object"
      ]
     },
     "execution_count": 25,
     "metadata": {},
     "output_type": "execute_result"
    }
   ],
   "source": [
    "# remove extra white spaces\n",
    "asd_subs_df['text'] = asd_subs_df['text'].apply(remove_extra_white_spaces)\n",
    "asd_subs_df['text'].sample(n=20, random_state=7) "
   ]
  },
  {
   "cell_type": "code",
   "execution_count": 26,
   "metadata": {},
   "outputs": [
    {
     "name": "stdout",
     "output_type": "stream",
     "text": [
      "<class 'pandas.core.frame.DataFrame'>\n",
      "Index: 526 entries, 0 to 533\n",
      "Data columns (total 4 columns):\n",
      " #   Column        Non-Null Count  Dtype \n",
      "---  ------        --------------  ----- \n",
      " 0   id            526 non-null    object\n",
      " 1   display_name  526 non-null    object\n",
      " 2   text          526 non-null    object\n",
      " 3   lang          526 non-null    object\n",
      "dtypes: object(4)\n",
      "memory usage: 20.5+ KB\n"
     ]
    }
   ],
   "source": [
    "asd_subs_df.info()"
   ]
  },
  {
   "cell_type": "markdown",
   "metadata": {},
   "source": [
    "Text will not be lowercased, as sometimes , for example, the acronym ASD or Asd or asd can appear in different contexts and i judge it to be important that all these instances are kept in the corpus."
   ]
  },
  {
   "cell_type": "markdown",
   "metadata": {},
   "source": [
    "## 1.3. Get dataset for model selection -  anotated data\n",
    "40% of 526 = 210.4 -> split train-test 80%-20%( use cross validation as the dataset is small)"
   ]
  },
  {
   "cell_type": "code",
   "execution_count": 27,
   "metadata": {},
   "outputs": [
    {
     "data": {
      "text/html": [
       "<div>\n",
       "<style scoped>\n",
       "    .dataframe tbody tr th:only-of-type {\n",
       "        vertical-align: middle;\n",
       "    }\n",
       "\n",
       "    .dataframe tbody tr th {\n",
       "        vertical-align: top;\n",
       "    }\n",
       "\n",
       "    .dataframe thead th {\n",
       "        text-align: right;\n",
       "    }\n",
       "</style>\n",
       "<table border=\"1\" class=\"dataframe\">\n",
       "  <thead>\n",
       "    <tr style=\"text-align: right;\">\n",
       "      <th></th>\n",
       "      <th>text</th>\n",
       "    </tr>\n",
       "  </thead>\n",
       "  <tbody>\n",
       "    <tr>\n",
       "      <th>0</th>\n",
       "      <td>Autism Representation Autism Awareness A place...</td>\n",
       "    </tr>\n",
       "    <tr>\n",
       "      <th>1</th>\n",
       "      <td>Aspie Positive Aspie Positive by aspies for as...</td>\n",
       "    </tr>\n",
       "    <tr>\n",
       "      <th>2</th>\n",
       "      <td>Trump Autism Trump Autism Trump Autism Trump A...</td>\n",
       "    </tr>\n",
       "  </tbody>\n",
       "</table>\n",
       "</div>"
      ],
      "text/plain": [
       "                                                text\n",
       "0  Autism Representation Autism Awareness A place...\n",
       "1  Aspie Positive Aspie Positive by aspies for as...\n",
       "2  Trump Autism Trump Autism Trump Autism Trump A..."
      ]
     },
     "execution_count": 27,
     "metadata": {},
     "output_type": "execute_result"
    }
   ],
   "source": [
    "asd_subs_annotated_df = asd_subs_df[['text']]\n",
    "asd_subs_annotated_df.head(3)"
   ]
  },
  {
   "cell_type": "code",
   "execution_count": 28,
   "metadata": {},
   "outputs": [
    {
     "name": "stdout",
     "output_type": "stream",
     "text": [
      "<class 'pandas.core.frame.DataFrame'>\n",
      "Index: 210 entries, 205 to 282\n",
      "Data columns (total 1 columns):\n",
      " #   Column  Non-Null Count  Dtype \n",
      "---  ------  --------------  ----- \n",
      " 0   text    210 non-null    object\n",
      "dtypes: object(1)\n",
      "memory usage: 3.3+ KB\n"
     ]
    }
   ],
   "source": [
    "# select at random 40% of rows in the dataset to be manually annotated into 2 categories: asd and other\n",
    "# 40% out of 542 = 210 - > text clasiffication needs a large number of documents to train : at least 100 , ideally 1000 ( http://benschmidt.org/medhist16/index.html%3Fp=16.html#:~:text=Topic%20modeling%20can%20work%20on,short%20as%20a%20paragraph%20apiece.)\\\n",
    "# it can be done with this dataset but it very close to the minumm limit ( limitation )\n",
    "np.random.seed(7)\n",
    "asd_subs_annotated_df = asd_subs_annotated_df.sample(frac=0.4)\n",
    "asd_subs_annotated_df.info()"
   ]
  },
  {
   "cell_type": "code",
   "execution_count": 29,
   "metadata": {},
   "outputs": [],
   "source": [
    "# save the data in a csv file to be annotated\n",
    "asd_subs_annotated_df.to_csv('annotated_data/asd_subs_to_annotate.csv')"
   ]
  },
  {
   "cell_type": "code",
   "execution_count": 5,
   "metadata": {},
   "outputs": [
    {
     "name": "stdout",
     "output_type": "stream",
     "text": [
      "<class 'pandas.core.frame.DataFrame'>\n",
      "RangeIndex: 210 entries, 0 to 209\n",
      "Data columns (total 3 columns):\n",
      " #   Column      Non-Null Count  Dtype \n",
      "---  ------      --------------  ----- \n",
      " 0   Unnamed: 0  210 non-null    int64 \n",
      " 1   text        210 non-null    object\n",
      " 2   Category    210 non-null    object\n",
      "dtypes: int64(1), object(2)\n",
      "memory usage: 5.0+ KB\n"
     ]
    }
   ],
   "source": [
    "# load annotated dataset\n",
    "data_path = 'annotated_data/asd_subs_annotated.csv'\n",
    "asd_subs_annotated_df = pd.read_csv(data_path)\n",
    "asd_subs_annotated_df.info()"
   ]
  },
  {
   "cell_type": "code",
   "execution_count": 6,
   "metadata": {},
   "outputs": [
    {
     "data": {
      "text/html": [
       "<div>\n",
       "<style scoped>\n",
       "    .dataframe tbody tr th:only-of-type {\n",
       "        vertical-align: middle;\n",
       "    }\n",
       "\n",
       "    .dataframe tbody tr th {\n",
       "        vertical-align: top;\n",
       "    }\n",
       "\n",
       "    .dataframe thead th {\n",
       "        text-align: right;\n",
       "    }\n",
       "</style>\n",
       "<table border=\"1\" class=\"dataframe\">\n",
       "  <thead>\n",
       "    <tr style=\"text-align: right;\">\n",
       "      <th></th>\n",
       "      <th>Unnamed: 0</th>\n",
       "      <th>text</th>\n",
       "      <th>Category</th>\n",
       "    </tr>\n",
       "  </thead>\n",
       "  <tbody>\n",
       "    <tr>\n",
       "      <th>0</th>\n",
       "      <td>205</td>\n",
       "      <td>autismmemes autism memes Meme for people with ...</td>\n",
       "      <td>asd</td>\n",
       "    </tr>\n",
       "    <tr>\n",
       "      <th>1</th>\n",
       "      <td>488</td>\n",
       "      <td>ASDcareers The Careers of People with ASD Livi...</td>\n",
       "      <td>asd</td>\n",
       "    </tr>\n",
       "    <tr>\n",
       "      <th>2</th>\n",
       "      <td>231</td>\n",
       "      <td>Gamingcirclejerk Gaming Circlejerk Don Cheadle...</td>\n",
       "      <td>other</td>\n",
       "    </tr>\n",
       "  </tbody>\n",
       "</table>\n",
       "</div>"
      ],
      "text/plain": [
       "   Unnamed: 0                                               text Category\n",
       "0         205  autismmemes autism memes Meme for people with ...      asd\n",
       "1         488  ASDcareers The Careers of People with ASD Livi...      asd\n",
       "2         231  Gamingcirclejerk Gaming Circlejerk Don Cheadle...    other"
      ]
     },
     "execution_count": 6,
     "metadata": {},
     "output_type": "execute_result"
    }
   ],
   "source": [
    "asd_subs_annotated_df.head(3)"
   ]
  },
  {
   "cell_type": "code",
   "execution_count": 7,
   "metadata": {},
   "outputs": [
    {
     "data": {
      "text/html": [
       "<div>\n",
       "<style scoped>\n",
       "    .dataframe tbody tr th:only-of-type {\n",
       "        vertical-align: middle;\n",
       "    }\n",
       "\n",
       "    .dataframe tbody tr th {\n",
       "        vertical-align: top;\n",
       "    }\n",
       "\n",
       "    .dataframe thead th {\n",
       "        text-align: right;\n",
       "    }\n",
       "</style>\n",
       "<table border=\"1\" class=\"dataframe\">\n",
       "  <thead>\n",
       "    <tr style=\"text-align: right;\">\n",
       "      <th></th>\n",
       "      <th>text</th>\n",
       "      <th>Category</th>\n",
       "    </tr>\n",
       "    <tr>\n",
       "      <th>Unnamed: 0</th>\n",
       "      <th></th>\n",
       "      <th></th>\n",
       "    </tr>\n",
       "  </thead>\n",
       "  <tbody>\n",
       "    <tr>\n",
       "      <th>205</th>\n",
       "      <td>autismmemes autism memes Meme for people with ...</td>\n",
       "      <td>asd</td>\n",
       "    </tr>\n",
       "    <tr>\n",
       "      <th>488</th>\n",
       "      <td>ASDcareers The Careers of People with ASD Livi...</td>\n",
       "      <td>asd</td>\n",
       "    </tr>\n",
       "    <tr>\n",
       "      <th>231</th>\n",
       "      <td>Gamingcirclejerk Gaming Circlejerk Don Cheadle...</td>\n",
       "      <td>other</td>\n",
       "    </tr>\n",
       "  </tbody>\n",
       "</table>\n",
       "</div>"
      ],
      "text/plain": [
       "                                                         text Category\n",
       "Unnamed: 0                                                            \n",
       "205         autismmemes autism memes Meme for people with ...      asd\n",
       "488         ASDcareers The Careers of People with ASD Livi...      asd\n",
       "231         Gamingcirclejerk Gaming Circlejerk Don Cheadle...    other"
      ]
     },
     "execution_count": 7,
     "metadata": {},
     "output_type": "execute_result"
    }
   ],
   "source": [
    "# Unnamed: 0 is the index in the original dataset\n",
    "# this column was changed by apple's Numbers program when the file was annotated\n",
    "# set it as the index ( to keep the original indexes of the subreddits )\n",
    "asd_subs_annotated_df.set_index('Unnamed: 0', inplace=True)\n",
    "asd_subs_annotated_df.head(3)"
   ]
  },
  {
   "cell_type": "code",
   "execution_count": 8,
   "metadata": {},
   "outputs": [
    {
     "data": {
      "text/html": [
       "<div>\n",
       "<style scoped>\n",
       "    .dataframe tbody tr th:only-of-type {\n",
       "        vertical-align: middle;\n",
       "    }\n",
       "\n",
       "    .dataframe tbody tr th {\n",
       "        vertical-align: top;\n",
       "    }\n",
       "\n",
       "    .dataframe thead th {\n",
       "        text-align: right;\n",
       "    }\n",
       "</style>\n",
       "<table border=\"1\" class=\"dataframe\">\n",
       "  <thead>\n",
       "    <tr style=\"text-align: right;\">\n",
       "      <th></th>\n",
       "      <th>text</th>\n",
       "      <th>Category</th>\n",
       "    </tr>\n",
       "  </thead>\n",
       "  <tbody>\n",
       "    <tr>\n",
       "      <th>205</th>\n",
       "      <td>autismmemes autism memes Meme for people with ...</td>\n",
       "      <td>asd</td>\n",
       "    </tr>\n",
       "    <tr>\n",
       "      <th>488</th>\n",
       "      <td>ASDcareers The Careers of People with ASD Livi...</td>\n",
       "      <td>asd</td>\n",
       "    </tr>\n",
       "    <tr>\n",
       "      <th>231</th>\n",
       "      <td>Gamingcirclejerk Gaming Circlejerk Don Cheadle...</td>\n",
       "      <td>other</td>\n",
       "    </tr>\n",
       "  </tbody>\n",
       "</table>\n",
       "</div>"
      ],
      "text/plain": [
       "                                                  text Category\n",
       "205  autismmemes autism memes Meme for people with ...      asd\n",
       "488  ASDcareers The Careers of People with ASD Livi...      asd\n",
       "231  Gamingcirclejerk Gaming Circlejerk Don Cheadle...    other"
      ]
     },
     "execution_count": 8,
     "metadata": {},
     "output_type": "execute_result"
    }
   ],
   "source": [
    "# remove the index column name\n",
    "asd_subs_annotated_df.index.names = [None]\n",
    "# category contains 2 classes : asd (=autism related) and other (= not autism ralated)\n",
    "# the annotations were made by the author alone\n",
    "asd_subs_annotated_df.head(3)"
   ]
  },
  {
   "cell_type": "code",
   "execution_count": 9,
   "metadata": {},
   "outputs": [
    {
     "data": {
      "text/html": [
       "<div>\n",
       "<style scoped>\n",
       "    .dataframe tbody tr th:only-of-type {\n",
       "        vertical-align: middle;\n",
       "    }\n",
       "\n",
       "    .dataframe tbody tr th {\n",
       "        vertical-align: top;\n",
       "    }\n",
       "\n",
       "    .dataframe thead th {\n",
       "        text-align: right;\n",
       "    }\n",
       "</style>\n",
       "<table border=\"1\" class=\"dataframe\">\n",
       "  <thead>\n",
       "    <tr style=\"text-align: right;\">\n",
       "      <th></th>\n",
       "      <th>text</th>\n",
       "      <th>Category</th>\n",
       "    </tr>\n",
       "  </thead>\n",
       "  <tbody>\n",
       "    <tr>\n",
       "      <th>205</th>\n",
       "      <td>autismmemes autism memes Meme for people with ...</td>\n",
       "      <td>asd</td>\n",
       "    </tr>\n",
       "    <tr>\n",
       "      <th>488</th>\n",
       "      <td>ASDcareers The Careers of People with ASD Livi...</td>\n",
       "      <td>asd</td>\n",
       "    </tr>\n",
       "    <tr>\n",
       "      <th>231</th>\n",
       "      <td>Gamingcirclejerk Gaming Circlejerk Don Cheadle...</td>\n",
       "      <td>other</td>\n",
       "    </tr>\n",
       "  </tbody>\n",
       "</table>\n",
       "</div>"
      ],
      "text/plain": [
       "                                                  text Category\n",
       "205  autismmemes autism memes Meme for people with ...      asd\n",
       "488  ASDcareers The Careers of People with ASD Livi...      asd\n",
       "231  Gamingcirclejerk Gaming Circlejerk Don Cheadle...    other"
      ]
     },
     "execution_count": 9,
     "metadata": {},
     "output_type": "execute_result"
    }
   ],
   "source": [
    "# category contains 2 classes : asd (=autism related) and other (= not autism ralated)\n",
    "# the annotations were made by the author alone\n",
    "asd_subs_annotated_df.head(3)"
   ]
  },
  {
   "cell_type": "code",
   "execution_count": 10,
   "metadata": {},
   "outputs": [
    {
     "data": {
      "text/html": [
       "<div>\n",
       "<style scoped>\n",
       "    .dataframe tbody tr th:only-of-type {\n",
       "        vertical-align: middle;\n",
       "    }\n",
       "\n",
       "    .dataframe tbody tr th {\n",
       "        vertical-align: top;\n",
       "    }\n",
       "\n",
       "    .dataframe thead tr th {\n",
       "        text-align: left;\n",
       "    }\n",
       "\n",
       "    .dataframe thead tr:last-of-type th {\n",
       "        text-align: right;\n",
       "    }\n",
       "</style>\n",
       "<table border=\"1\" class=\"dataframe\">\n",
       "  <thead>\n",
       "    <tr>\n",
       "      <th></th>\n",
       "      <th colspan=\"4\" halign=\"left\">text</th>\n",
       "    </tr>\n",
       "    <tr>\n",
       "      <th></th>\n",
       "      <th>count</th>\n",
       "      <th>unique</th>\n",
       "      <th>top</th>\n",
       "      <th>freq</th>\n",
       "    </tr>\n",
       "    <tr>\n",
       "      <th>Category</th>\n",
       "      <th></th>\n",
       "      <th></th>\n",
       "      <th></th>\n",
       "      <th></th>\n",
       "    </tr>\n",
       "  </thead>\n",
       "  <tbody>\n",
       "    <tr>\n",
       "      <th>Asd</th>\n",
       "      <td>6</td>\n",
       "      <td>6</td>\n",
       "      <td>gaspies A place for gay aspies For the aspies ...</td>\n",
       "      <td>1</td>\n",
       "    </tr>\n",
       "    <tr>\n",
       "      <th>Other</th>\n",
       "      <td>4</td>\n",
       "      <td>4</td>\n",
       "      <td>Baby Bumps Baby Bumps A place for pregnant red...</td>\n",
       "      <td>1</td>\n",
       "    </tr>\n",
       "    <tr>\n",
       "      <th>asd</th>\n",
       "      <td>107</td>\n",
       "      <td>107</td>\n",
       "      <td>autismmemes autism memes Meme for people with ...</td>\n",
       "      <td>1</td>\n",
       "    </tr>\n",
       "    <tr>\n",
       "      <th>ohter</th>\n",
       "      <td>1</td>\n",
       "      <td>1</td>\n",
       "      <td>Ask Me Anything IAnswer We will try to answer ...</td>\n",
       "      <td>1</td>\n",
       "    </tr>\n",
       "    <tr>\n",
       "      <th>other</th>\n",
       "      <td>92</td>\n",
       "      <td>92</td>\n",
       "      <td>Gamingcirclejerk Gaming Circlejerk Don Cheadle...</td>\n",
       "      <td>1</td>\n",
       "    </tr>\n",
       "  </tbody>\n",
       "</table>\n",
       "</div>"
      ],
      "text/plain": [
       "          text                                                               \n",
       "         count unique                                                top freq\n",
       "Category                                                                     \n",
       "Asd          6      6  gaspies A place for gay aspies For the aspies ...    1\n",
       "Other        4      4  Baby Bumps Baby Bumps A place for pregnant red...    1\n",
       "asd        107    107  autismmemes autism memes Meme for people with ...    1\n",
       "ohter        1      1  Ask Me Anything IAnswer We will try to answer ...    1\n",
       "other       92     92  Gamingcirclejerk Gaming Circlejerk Don Cheadle...    1"
      ]
     },
     "execution_count": 10,
     "metadata": {},
     "output_type": "execute_result"
    }
   ],
   "source": [
    "# descriptive statistics\n",
    "asd_subs_annotated_df.groupby('Category').describe()"
   ]
  },
  {
   "cell_type": "code",
   "execution_count": 11,
   "metadata": {},
   "outputs": [
    {
     "data": {
      "text/html": [
       "<div>\n",
       "<style scoped>\n",
       "    .dataframe tbody tr th:only-of-type {\n",
       "        vertical-align: middle;\n",
       "    }\n",
       "\n",
       "    .dataframe tbody tr th {\n",
       "        vertical-align: top;\n",
       "    }\n",
       "\n",
       "    .dataframe thead tr th {\n",
       "        text-align: left;\n",
       "    }\n",
       "\n",
       "    .dataframe thead tr:last-of-type th {\n",
       "        text-align: right;\n",
       "    }\n",
       "</style>\n",
       "<table border=\"1\" class=\"dataframe\">\n",
       "  <thead>\n",
       "    <tr>\n",
       "      <th></th>\n",
       "      <th colspan=\"4\" halign=\"left\">text</th>\n",
       "    </tr>\n",
       "    <tr>\n",
       "      <th></th>\n",
       "      <th>count</th>\n",
       "      <th>unique</th>\n",
       "      <th>top</th>\n",
       "      <th>freq</th>\n",
       "    </tr>\n",
       "    <tr>\n",
       "      <th>Category</th>\n",
       "      <th></th>\n",
       "      <th></th>\n",
       "      <th></th>\n",
       "      <th></th>\n",
       "    </tr>\n",
       "  </thead>\n",
       "  <tbody>\n",
       "    <tr>\n",
       "      <th>asd</th>\n",
       "      <td>113</td>\n",
       "      <td>113</td>\n",
       "      <td>autismmemes autism memes Meme for people with ...</td>\n",
       "      <td>1</td>\n",
       "    </tr>\n",
       "    <tr>\n",
       "      <th>ohter</th>\n",
       "      <td>1</td>\n",
       "      <td>1</td>\n",
       "      <td>Ask Me Anything IAnswer We will try to answer ...</td>\n",
       "      <td>1</td>\n",
       "    </tr>\n",
       "    <tr>\n",
       "      <th>other</th>\n",
       "      <td>96</td>\n",
       "      <td>96</td>\n",
       "      <td>Gamingcirclejerk Gaming Circlejerk Don Cheadle...</td>\n",
       "      <td>1</td>\n",
       "    </tr>\n",
       "  </tbody>\n",
       "</table>\n",
       "</div>"
      ],
      "text/plain": [
       "          text                                                               \n",
       "         count unique                                                top freq\n",
       "Category                                                                     \n",
       "asd        113    113  autismmemes autism memes Meme for people with ...    1\n",
       "ohter        1      1  Ask Me Anything IAnswer We will try to answer ...    1\n",
       "other       96     96  Gamingcirclejerk Gaming Circlejerk Don Cheadle...    1"
      ]
     },
     "execution_count": 11,
     "metadata": {},
     "output_type": "execute_result"
    }
   ],
   "source": [
    "# lower case all entries in category column\n",
    "asd_subs_annotated_df['Category'] = asd_subs_annotated_df['Category'].str.lower()\n",
    "asd_subs_annotated_df.groupby('Category').describe()"
   ]
  },
  {
   "cell_type": "code",
   "execution_count": 12,
   "metadata": {},
   "outputs": [
    {
     "data": {
      "text/html": [
       "<div>\n",
       "<style scoped>\n",
       "    .dataframe tbody tr th:only-of-type {\n",
       "        vertical-align: middle;\n",
       "    }\n",
       "\n",
       "    .dataframe tbody tr th {\n",
       "        vertical-align: top;\n",
       "    }\n",
       "\n",
       "    .dataframe thead tr th {\n",
       "        text-align: left;\n",
       "    }\n",
       "\n",
       "    .dataframe thead tr:last-of-type th {\n",
       "        text-align: right;\n",
       "    }\n",
       "</style>\n",
       "<table border=\"1\" class=\"dataframe\">\n",
       "  <thead>\n",
       "    <tr>\n",
       "      <th></th>\n",
       "      <th colspan=\"4\" halign=\"left\">text</th>\n",
       "    </tr>\n",
       "    <tr>\n",
       "      <th></th>\n",
       "      <th>count</th>\n",
       "      <th>unique</th>\n",
       "      <th>top</th>\n",
       "      <th>freq</th>\n",
       "    </tr>\n",
       "    <tr>\n",
       "      <th>Category</th>\n",
       "      <th></th>\n",
       "      <th></th>\n",
       "      <th></th>\n",
       "      <th></th>\n",
       "    </tr>\n",
       "  </thead>\n",
       "  <tbody>\n",
       "    <tr>\n",
       "      <th>asd</th>\n",
       "      <td>113</td>\n",
       "      <td>113</td>\n",
       "      <td>autismmemes autism memes Meme for people with ...</td>\n",
       "      <td>1</td>\n",
       "    </tr>\n",
       "    <tr>\n",
       "      <th>other</th>\n",
       "      <td>97</td>\n",
       "      <td>97</td>\n",
       "      <td>Gamingcirclejerk Gaming Circlejerk Don Cheadle...</td>\n",
       "      <td>1</td>\n",
       "    </tr>\n",
       "  </tbody>\n",
       "</table>\n",
       "</div>"
      ],
      "text/plain": [
       "          text                                                               \n",
       "         count unique                                                top freq\n",
       "Category                                                                     \n",
       "asd        113    113  autismmemes autism memes Meme for people with ...    1\n",
       "other       97     97  Gamingcirclejerk Gaming Circlejerk Don Cheadle...    1"
      ]
     },
     "execution_count": 12,
     "metadata": {},
     "output_type": "execute_result"
    }
   ],
   "source": [
    "# one entry is miss spelled \n",
    "# replace 'ohter' for 'other' in Category\n",
    "asd_subs_annotated_df['Category'] = asd_subs_annotated_df['Category'].replace('ohter', 'other')\n",
    "asd_subs_annotated_df.groupby('Category').describe()"
   ]
  },
  {
   "cell_type": "markdown",
   "metadata": {},
   "source": [
    "The dataset is relatively ballanced, with 113 subreddits in the ASD category and 97 in the other (non-ASD) category. \n",
    "\n",
    "In balanced datasets accuracy can be a reasonable measure for assessing the performance of a model. However , other metrics will be used in addition to accuracy, to evaluate the performance of the model: precission, recall and F1-score."
   ]
  },
  {
   "cell_type": "code",
   "execution_count": 13,
   "metadata": {},
   "outputs": [
    {
     "data": {
      "text/html": [
       "<div>\n",
       "<style scoped>\n",
       "    .dataframe tbody tr th:only-of-type {\n",
       "        vertical-align: middle;\n",
       "    }\n",
       "\n",
       "    .dataframe tbody tr th {\n",
       "        vertical-align: top;\n",
       "    }\n",
       "\n",
       "    .dataframe thead th {\n",
       "        text-align: right;\n",
       "    }\n",
       "</style>\n",
       "<table border=\"1\" class=\"dataframe\">\n",
       "  <thead>\n",
       "    <tr style=\"text-align: right;\">\n",
       "      <th></th>\n",
       "      <th>text</th>\n",
       "      <th>Category</th>\n",
       "      <th>text_length</th>\n",
       "    </tr>\n",
       "  </thead>\n",
       "  <tbody>\n",
       "    <tr>\n",
       "      <th>205</th>\n",
       "      <td>autismmemes autism memes Meme for people with ...</td>\n",
       "      <td>asd</td>\n",
       "      <td>71</td>\n",
       "    </tr>\n",
       "    <tr>\n",
       "      <th>488</th>\n",
       "      <td>ASDcareers The Careers of People with ASD Livi...</td>\n",
       "      <td>asd</td>\n",
       "      <td>1105</td>\n",
       "    </tr>\n",
       "    <tr>\n",
       "      <th>231</th>\n",
       "      <td>Gamingcirclejerk Gaming Circlejerk Don Cheadle...</td>\n",
       "      <td>other</td>\n",
       "      <td>2073</td>\n",
       "    </tr>\n",
       "  </tbody>\n",
       "</table>\n",
       "</div>"
      ],
      "text/plain": [
       "                                                  text Category  text_length\n",
       "205  autismmemes autism memes Meme for people with ...      asd           71\n",
       "488  ASDcareers The Careers of People with ASD Livi...      asd         1105\n",
       "231  Gamingcirclejerk Gaming Circlejerk Don Cheadle...    other         2073"
      ]
     },
     "execution_count": 13,
     "metadata": {},
     "output_type": "execute_result"
    }
   ],
   "source": [
    "# save the length of text in a new column 'text_tength' \n",
    "asd_subs_annotated_df['text_length'] = asd_subs_annotated_df['text'].apply(lambda x: len(x))\n",
    "asd_subs_annotated_df.head(3)"
   ]
  },
  {
   "cell_type": "code",
   "execution_count": 14,
   "metadata": {},
   "outputs": [
    {
     "name": "stdout",
     "output_type": "stream",
     "text": [
      "count     210.000000\n",
      "mean     1732.747619\n",
      "std      2057.506036\n",
      "min        22.000000\n",
      "25%       200.250000\n",
      "50%       643.500000\n",
      "75%      2801.250000\n",
      "max      9506.000000\n",
      "Name: text_length, dtype: float64\n"
     ]
    }
   ],
   "source": [
    "# text length statisitic for the whole dataset\n",
    "print(asd_subs_annotated_df['text_length'].describe())"
   ]
  },
  {
   "cell_type": "code",
   "execution_count": 32,
   "metadata": {},
   "outputs": [
    {
     "data": {
      "image/png": "[encoded data removed]",
      "text/plain": [
       "<Figure size 640x480 with 1 Axes>"
      ]
     },
     "metadata": {},
     "output_type": "display_data"
    }
   ],
   "source": [
    "# plot a histogram for 'text_length' values\n",
    "plt.hist(asd_subs_annotated_df['text_length'], bins=10, edgecolor='k')\n",
    "\n",
    "# labels and title\n",
    "plt.xlabel('Text Length')\n",
    "plt.ylabel('Frequency')\n",
    "plt.title('Histogram of Text Lengths Whole Dataset')\n",
    "\n",
    "plt.show()"
   ]
  },
  {
   "cell_type": "code",
   "execution_count": 15,
   "metadata": {},
   "outputs": [
    {
     "name": "stdout",
     "output_type": "stream",
     "text": [
      "text lenght statistics for Category=other\n",
      "count      97.000000\n",
      "mean     3035.422680\n",
      "std      2244.188401\n",
      "min        22.000000\n",
      "25%       928.000000\n",
      "50%      2657.000000\n",
      "75%      4755.000000\n",
      "max      9506.000000\n",
      "Name: text_length, dtype: float64\n",
      "\n",
      "text lenght statistics for Category=asd\n",
      "count     113.000000\n",
      "mean      614.522124\n",
      "std       922.776421\n",
      "min        26.000000\n",
      "25%       117.000000\n",
      "50%       312.000000\n",
      "75%       610.000000\n",
      "max      4631.000000\n",
      "Name: text_length, dtype: float64\n"
     ]
    }
   ],
   "source": [
    "# show text length for each of the 2 categories\n",
    "# filter rows where 'Category' = 'other'\n",
    "other_df = asd_subs_annotated_df[asd_subs_annotated_df['Category'] == 'other']\n",
    "# filter rows where 'Category' = 'asd'\n",
    "asd_df = asd_subs_annotated_df[asd_subs_annotated_df['Category'] == 'asd']\n",
    "\n",
    "# text lenght statistics for 'Category' = 'other'\n",
    "print('text lenght statistics for Category=other')\n",
    "print(other_df['text_length'].describe())\n",
    "# text lenght statistics for 'Category' = 'asd'\n",
    "print()\n",
    "print('text lenght statistics for Category=asd')\n",
    "print(asd_df['text_length'].describe())\n"
   ]
  },
  {
   "cell_type": "code",
   "execution_count": 34,
   "metadata": {},
   "outputs": [
    {
     "data": {
      "image/png": "[encoded data removed]",
      "text/plain": [
       "<Figure size 640x480 with 1 Axes>"
      ]
     },
     "metadata": {},
     "output_type": "display_data"
    }
   ],
   "source": [
    "# plot a histogram for 'text_length' values of other category\n",
    "plt.hist(other_df['text_length'], bins=10, edgecolor='k')\n",
    "\n",
    "# labels and title\n",
    "plt.xlabel('Text Length')\n",
    "plt.ylabel('Frequency')\n",
    "plt.title('Histogram of Text Lengths for Other Category')\n",
    "\n",
    "plt.show()"
   ]
  },
  {
   "cell_type": "code",
   "execution_count": 35,
   "metadata": {},
   "outputs": [
    {
     "data": {
      "image/png": "[encoded data removed]",
      "text/plain": [
       "<Figure size 640x480 with 1 Axes>"
      ]
     },
     "metadata": {},
     "output_type": "display_data"
    }
   ],
   "source": [
    "# plot a histogram for 'text_length' values of asd category\n",
    "plt.hist(asd_df['text_length'], bins=10, edgecolor='k')\n",
    "\n",
    "# labels and title\n",
    "plt.xlabel('Text Length')\n",
    "plt.ylabel('Frequency')\n",
    "plt.title('Histogram of Text Lengths for ASD Category')\n",
    "\n",
    "plt.show()"
   ]
  },
  {
   "cell_type": "markdown",
   "metadata": {},
   "source": [
    "The average text length for the whole data set is 1892 characters. Text descriptions vary between a minumum of 22 characters to a maximum of 9506 characters. \n",
    "\n",
    "The mean (1732) is almost triple the median value (643). This indicates that the distribution is positively skewed - the tail on the right side (higher values) is longer compared to the left side (lower values), as seen in the histogram above. This indicates that there are some very high values (outliers) pulling the mean upward. \n",
    "\n",
    "https://www.analyticsvidhya.com/blog/2020/07/what-is-skewness-statistics/:\n",
    "Since our data is positively skewed here, it means that it has a higher number of data points having low values (shorter text descriptions). So when we train our model on this data, it will perform better at predicting the category of subreddtis with shorter descriptions as compared to those with longer descriptions. (?)\n",
    "\n",
    "This statistics represent text_lenght in terms of characters (inlcuding white-space). Skewed data is typical in NLP tasks. The text will need to be transformed (tokenisation) and projected into a feature space. \n",
    "All lenght text will be included in the analysis, in order to develop the largest vocabulary possible. \n",
    "As most text descriptions are under 1000 characters, i will expect models to perform best on short text.\n",
    "Also, the 'other' category text data seems to be more balancend, while the 'asd' category seems to containt mostly short text (under 500 chars). Thus i would expect the models to perform better at classifing the other category ( True  negavies). (?)"
   ]
  },
  {
   "cell_type": "code",
   "execution_count": 16,
   "metadata": {},
   "outputs": [
    {
     "data": {
      "text/html": [
       "<div>\n",
       "<style scoped>\n",
       "    .dataframe tbody tr th:only-of-type {\n",
       "        vertical-align: middle;\n",
       "    }\n",
       "\n",
       "    .dataframe tbody tr th {\n",
       "        vertical-align: top;\n",
       "    }\n",
       "\n",
       "    .dataframe thead th {\n",
       "        text-align: right;\n",
       "    }\n",
       "</style>\n",
       "<table border=\"1\" class=\"dataframe\">\n",
       "  <thead>\n",
       "    <tr style=\"text-align: right;\">\n",
       "      <th></th>\n",
       "      <th>text</th>\n",
       "      <th>Category</th>\n",
       "      <th>text_length</th>\n",
       "      <th>asd</th>\n",
       "    </tr>\n",
       "  </thead>\n",
       "  <tbody>\n",
       "    <tr>\n",
       "      <th>205</th>\n",
       "      <td>autismmemes autism memes Meme for people with ...</td>\n",
       "      <td>asd</td>\n",
       "      <td>71</td>\n",
       "      <td>1</td>\n",
       "    </tr>\n",
       "    <tr>\n",
       "      <th>488</th>\n",
       "      <td>ASDcareers The Careers of People with ASD Livi...</td>\n",
       "      <td>asd</td>\n",
       "      <td>1105</td>\n",
       "      <td>1</td>\n",
       "    </tr>\n",
       "    <tr>\n",
       "      <th>231</th>\n",
       "      <td>Gamingcirclejerk Gaming Circlejerk Don Cheadle...</td>\n",
       "      <td>other</td>\n",
       "      <td>2073</td>\n",
       "      <td>0</td>\n",
       "    </tr>\n",
       "  </tbody>\n",
       "</table>\n",
       "</div>"
      ],
      "text/plain": [
       "                                                  text Category  text_length  \\\n",
       "205  autismmemes autism memes Meme for people with ...      asd           71   \n",
       "488  ASDcareers The Careers of People with ASD Livi...      asd         1105   \n",
       "231  Gamingcirclejerk Gaming Circlejerk Don Cheadle...    other         2073   \n",
       "\n",
       "     asd  \n",
       "205    1  \n",
       "488    1  \n",
       "231    0  "
      ]
     },
     "execution_count": 16,
     "metadata": {},
     "output_type": "execute_result"
    }
   ],
   "source": [
    "# Category is a categorical variable\n",
    "# needs to be turned into a numerical type for the analysis\n",
    "# create a new column 'Asd' for the numerical values of Category: 0 = Other, 1 = Asd\n",
    "asd_subs_annotated_df['asd']= asd_subs_annotated_df['Category'].apply(lambda x: 1 if x=='asd' else 0)\n",
    "asd_subs_annotated_df.head(3)"
   ]
  },
  {
   "cell_type": "code",
   "execution_count": 45,
   "metadata": {},
   "outputs": [
    {
     "name": "stdout",
     "output_type": "stream",
     "text": [
      "<class 'pandas.core.frame.DataFrame'>\n",
      "Index: 210 entries, 205 to 282\n",
      "Data columns (total 4 columns):\n",
      " #   Column       Non-Null Count  Dtype \n",
      "---  ------       --------------  ----- \n",
      " 0   text         210 non-null    object\n",
      " 1   Category     210 non-null    object\n",
      " 2   text_length  210 non-null    int64 \n",
      " 3   asd          210 non-null    int64 \n",
      "dtypes: int64(2), object(2)\n",
      "memory usage: 8.2+ KB\n"
     ]
    }
   ],
   "source": [
    "asd_subs_annotated_df.info()"
   ]
  },
  {
   "cell_type": "code",
   "execution_count": 17,
   "metadata": {},
   "outputs": [
    {
     "data": {
      "text/html": [
       "<div>\n",
       "<style scoped>\n",
       "    .dataframe tbody tr th:only-of-type {\n",
       "        vertical-align: middle;\n",
       "    }\n",
       "\n",
       "    .dataframe tbody tr th {\n",
       "        vertical-align: top;\n",
       "    }\n",
       "\n",
       "    .dataframe thead th {\n",
       "        text-align: right;\n",
       "    }\n",
       "</style>\n",
       "<table border=\"1\" class=\"dataframe\">\n",
       "  <thead>\n",
       "    <tr style=\"text-align: right;\">\n",
       "      <th></th>\n",
       "      <th>asd</th>\n",
       "      <th>text</th>\n",
       "    </tr>\n",
       "  </thead>\n",
       "  <tbody>\n",
       "    <tr>\n",
       "      <th>205</th>\n",
       "      <td>1</td>\n",
       "      <td>autismmemes autism memes Meme for people with ...</td>\n",
       "    </tr>\n",
       "    <tr>\n",
       "      <th>488</th>\n",
       "      <td>1</td>\n",
       "      <td>ASDcareers The Careers of People with ASD Livi...</td>\n",
       "    </tr>\n",
       "    <tr>\n",
       "      <th>231</th>\n",
       "      <td>0</td>\n",
       "      <td>Gamingcirclejerk Gaming Circlejerk Don Cheadle...</td>\n",
       "    </tr>\n",
       "  </tbody>\n",
       "</table>\n",
       "</div>"
      ],
      "text/plain": [
       "     asd                                               text\n",
       "205    1  autismmemes autism memes Meme for people with ...\n",
       "488    1  ASDcareers The Careers of People with ASD Livi...\n",
       "231    0  Gamingcirclejerk Gaming Circlejerk Don Cheadle..."
      ]
     },
     "execution_count": 17,
     "metadata": {},
     "output_type": "execute_result"
    }
   ],
   "source": [
    "# we will only use in the following analysis columns text and asd\n",
    "asd_subs_annotated_df_short = asd_subs_annotated_df[['asd', 'text']]\n",
    "asd_subs_annotated_df_short.head(3)"
   ]
  },
  {
   "cell_type": "code",
   "execution_count": 18,
   "metadata": {},
   "outputs": [],
   "source": [
    "# split the data into train set ( 0.8 of the dataset ) and test set of (0.2 of the dataset)\n",
    "from sklearn.model_selection import train_test_split\n",
    "X = asd_subs_annotated_df_short[['text']]\n",
    "y = asd_subs_annotated_df_short[['asd']]\n",
    "X_train, X_test, y_train, y_test = train_test_split(X, y, test_size=0.2, stratify=y, random_state=7)\n"
   ]
  },
  {
   "cell_type": "code",
   "execution_count": 19,
   "metadata": {},
   "outputs": [
    {
     "name": "stdout",
     "output_type": "stream",
     "text": [
      "Training Dataset\n",
      "<class 'pandas.core.frame.DataFrame'>\n",
      "Index: 168 entries, 116 to 441\n",
      "Data columns (total 1 columns):\n",
      " #   Column  Non-Null Count  Dtype \n",
      "---  ------  --------------  ----- \n",
      " 0   text    168 non-null    object\n",
      "dtypes: object(1)\n",
      "memory usage: 2.6+ KB\n",
      "\n",
      "<class 'pandas.core.frame.DataFrame'>\n",
      "Index: 168 entries, 116 to 441\n",
      "Data columns (total 1 columns):\n",
      " #   Column  Non-Null Count  Dtype\n",
      "---  ------  --------------  -----\n",
      " 0   asd     168 non-null    int64\n",
      "dtypes: int64(1)\n",
      "memory usage: 2.6 KB\n",
      "\n",
      "Asd-Other distribution\n",
      "asd\n",
      "1      90\n",
      "0      78\n",
      "Name: count, dtype: int64\n"
     ]
    }
   ],
   "source": [
    "print('Training Dataset')\n",
    "X_train.info()\n",
    "print()\n",
    "y_train.info()\n",
    "print()\n",
    "print('Asd-Other distribution')\n",
    "print(y_train.value_counts())"
   ]
  },
  {
   "cell_type": "markdown",
   "metadata": {},
   "source": [
    "Training data contains 168 non-null values, and is relatively ballanced (90 subreddits are in the asd category and 78 are in the other category)."
   ]
  },
  {
   "cell_type": "code",
   "execution_count": 20,
   "metadata": {},
   "outputs": [
    {
     "name": "stdout",
     "output_type": "stream",
     "text": [
      "Test Dataset\n",
      "<class 'pandas.core.frame.DataFrame'>\n",
      "Index: 42 entries, 231 to 426\n",
      "Data columns (total 1 columns):\n",
      " #   Column  Non-Null Count  Dtype \n",
      "---  ------  --------------  ----- \n",
      " 0   text    42 non-null     object\n",
      "dtypes: object(1)\n",
      "memory usage: 672.0+ bytes\n",
      "\n",
      "<class 'pandas.core.frame.DataFrame'>\n",
      "Index: 42 entries, 231 to 426\n",
      "Data columns (total 1 columns):\n",
      " #   Column  Non-Null Count  Dtype\n",
      "---  ------  --------------  -----\n",
      " 0   asd     42 non-null     int64\n",
      "dtypes: int64(1)\n",
      "memory usage: 672.0 bytes\n",
      "\n",
      "Asd-Other distribution\n",
      "asd\n",
      "1      23\n",
      "0      19\n",
      "Name: count, dtype: int64\n"
     ]
    }
   ],
   "source": [
    "print('Test Dataset')\n",
    "X_test.info()\n",
    "print()\n",
    "y_test.info()\n",
    "print()\n",
    "print('Asd-Other distribution')\n",
    "print(y_test.value_counts())\n"
   ]
  },
  {
   "cell_type": "markdown",
   "metadata": {},
   "source": [
    "Training data contains 42 non-null values, and is relatively ballanced (23 subreddits are in the asd category and 19 are in the other category)."
   ]
  },
  {
   "cell_type": "markdown",
   "metadata": {},
   "source": [
    "Both training and testing datasets are cleaned and ready for analysis.\n",
    "Cross validation will be used , instead of a stand alone validation set, due to the small training set size.\n",
    "\n",
    "I will apply different models used for supervised text classification. The best perfomant model will be used further to select the relevant asd(=autism) subreddits from the entire original dataset. \n",
    "\n",
    "List of models used:\n",
    "- text classification with Naive Bayes \n",
    "- text classification with KNeighborsClassifier\n",
    "- text classification with Random Forest\n",
    "- text classification with SVM (lienar = assumes the shape of the decision boundary is linear;  and RBF = for when you don't have prior knowledge about the shape of the decision boundary)"
   ]
  },
  {
   "cell_type": "markdown",
   "metadata": {},
   "source": [
    "# A. Shallow learning \n",
    "\n",
    "Shallow learning models were, up until recently, the go-to approach for text classification. In terms of actual classification algorithms, these methods mostly rely on general purpose classifiers that are not specific to this context (NLP). The particular challenges presented by textual data ( examples: languare is ambiguous - ex same words have different meanings, long term dependencies, meaning depends on context; high variablity in grammar, spelligns etc; high dimensionality; data is very noisy - has misspellings and inconsistencies; data is unstructured etc.) are somewhat “offloaded” to the preceding steps of the TC pipeline (Preprocessing and Projection into features space = tokenization and vectorization), which consist in the extraction of machine-interpretable features and representations from documents (i.e., text interpretation).\n",
    "([Gasparetto et al., 2022, p. 10](zotero://select/library/items/7QI33EDP)) ([pdf](zotero://open-pdf/library/items/GJM85X9Y?page=10&annotation=9B4KWS9B))\n"
   ]
  },
  {
   "cell_type": "markdown",
   "metadata": {},
   "source": [
    "## 3. Pre-processing:\n",
    "Text data is unstructured data. Preprocessing this data is a first step to give this data some form of structure. \n",
    "\n",
    "    3.1 split text into tokens/words (=sentence segmentation/ tokanisation NLTK or Spcy or AutoTokenizer if using transformers)\n",
    "\n",
    "    3.3 stemming (=remove prefixes and sufixes) and lemmatization (=get the base word - ext ate becomes (to)eat) - in this project lemmatization will be used as it can more accurately find the base word ( it has more complex rules than stemming -  see https://www.analyticsvidhya.com/blog/2022/06/stemming-vs-lemmatization-in-nlp-must-know-differences/#:~:text=Stemming%20is%20a%20process%20that,form%2C%20which%20is%20called%20Lemma.) "
   ]
  },
  {
   "cell_type": "markdown",
   "metadata": {},
   "source": [
    "#### Tokenize with spaCy"
   ]
  },
  {
   "cell_type": "code",
   "execution_count": 51,
   "metadata": {},
   "outputs": [
    {
     "name": "stdout",
     "output_type": "stream",
     "text": [
      "Requirement already satisfied: pip in /Library/Frameworks/Python.framework/Versions/3.10/lib/python3.10/site-packages (22.2.2)\n",
      "Collecting pip\n",
      "  Using cached pip-23.2.1-py3-none-any.whl (2.1 MB)\n",
      "Requirement already satisfied: setuptools in /Library/Frameworks/Python.framework/Versions/3.10/lib/python3.10/site-packages (63.2.0)\n",
      "Collecting setuptools\n",
      "  Using cached setuptools-68.2.2-py3-none-any.whl (807 kB)\n",
      "Requirement already satisfied: wheel in /Library/Frameworks/Python.framework/Versions/3.10/lib/python3.10/site-packages (0.41.0)\n",
      "Collecting wheel\n",
      "  Using cached wheel-0.41.2-py3-none-any.whl (64 kB)\n",
      "Installing collected packages: wheel, setuptools, pip\n",
      "  Attempting uninstall: wheel\n",
      "    Found existing installation: wheel 0.41.0\n",
      "    Uninstalling wheel-0.41.0:\n",
      "      Successfully uninstalled wheel-0.41.0\n",
      "  Attempting uninstall: setuptools\n",
      "    Found existing installation: setuptools 63.2.0\n",
      "    Uninstalling setuptools-63.2.0:\n",
      "      Successfully uninstalled setuptools-63.2.0\n",
      "  Attempting uninstall: pip\n",
      "    Found existing installation: pip 22.2.2\n",
      "    Uninstalling pip-22.2.2:\n",
      "      Successfully uninstalled pip-22.2.2\n",
      "\u001b[31mERROR: pip's dependency resolver does not currently take into account all the packages that are installed. This behaviour is the source of the following dependency conflicts.\n",
      "tensorflow-macos 2.13.0 requires typing-extensions<4.6.0,>=3.6.6, but you have typing-extensions 4.8.0 which is incompatible.\n",
      "en-core-web-sm 3.5.0 requires spacy<3.6.0,>=3.5.0, but you have spacy 3.7.1 which is incompatible.\n",
      "en-core-web-md 3.5.0 requires spacy<3.6.0,>=3.5.0, but you have spacy 3.7.1 which is incompatible.\u001b[0m\u001b[31m\n",
      "\u001b[0mSuccessfully installed pip-23.2.1 setuptools-68.2.2 wheel-0.41.2\n",
      "Note: you may need to restart the kernel to use updated packages.\n",
      "Requirement already satisfied: spacy in /Library/Frameworks/Python.framework/Versions/3.10/lib/python3.10/site-packages (3.7.1)\n",
      "Requirement already satisfied: spacy-legacy<3.1.0,>=3.0.11 in /Library/Frameworks/Python.framework/Versions/3.10/lib/python3.10/site-packages (from spacy) (3.0.12)\n",
      "Requirement already satisfied: spacy-loggers<2.0.0,>=1.0.0 in /Library/Frameworks/Python.framework/Versions/3.10/lib/python3.10/site-packages (from spacy) (1.0.4)\n",
      "Requirement already satisfied: murmurhash<1.1.0,>=0.28.0 in /Library/Frameworks/Python.framework/Versions/3.10/lib/python3.10/site-packages (from spacy) (1.0.9)\n",
      "Requirement already satisfied: cymem<2.1.0,>=2.0.2 in /Library/Frameworks/Python.framework/Versions/3.10/lib/python3.10/site-packages (from spacy) (2.0.7)\n",
      "Requirement already satisfied: preshed<3.1.0,>=3.0.2 in /Library/Frameworks/Python.framework/Versions/3.10/lib/python3.10/site-packages (from spacy) (3.0.8)\n",
      "Requirement already satisfied: thinc<8.3.0,>=8.1.8 in /Library/Frameworks/Python.framework/Versions/3.10/lib/python3.10/site-packages (from spacy) (8.1.10)\n",
      "Requirement already satisfied: wasabi<1.2.0,>=0.9.1 in /Library/Frameworks/Python.framework/Versions/3.10/lib/python3.10/site-packages (from spacy) (1.1.1)\n",
      "Requirement already satisfied: srsly<3.0.0,>=2.4.3 in /Library/Frameworks/Python.framework/Versions/3.10/lib/python3.10/site-packages (from spacy) (2.4.6)\n",
      "Requirement already satisfied: catalogue<2.1.0,>=2.0.6 in /Library/Frameworks/Python.framework/Versions/3.10/lib/python3.10/site-packages (from spacy) (2.0.8)\n",
      "Requirement already satisfied: weasel<0.4.0,>=0.1.0 in /Library/Frameworks/Python.framework/Versions/3.10/lib/python3.10/site-packages (from spacy) (0.3.2)\n",
      "Requirement already satisfied: typer<0.10.0,>=0.3.0 in /Library/Frameworks/Python.framework/Versions/3.10/lib/python3.10/site-packages (from spacy) (0.7.0)\n",
      "Requirement already satisfied: pathy>=0.10.0 in /Library/Frameworks/Python.framework/Versions/3.10/lib/python3.10/site-packages (from spacy) (0.10.1)\n",
      "Requirement already satisfied: smart-open<7.0.0,>=5.2.1 in /Library/Frameworks/Python.framework/Versions/3.10/lib/python3.10/site-packages (from spacy) (6.3.0)\n",
      "Requirement already satisfied: tqdm<5.0.0,>=4.38.0 in /Library/Frameworks/Python.framework/Versions/3.10/lib/python3.10/site-packages (from spacy) (4.65.0)\n",
      "Requirement already satisfied: requests<3.0.0,>=2.13.0 in /Library/Frameworks/Python.framework/Versions/3.10/lib/python3.10/site-packages (from spacy) (2.29.0)\n",
      "Requirement already satisfied: pydantic!=1.8,!=1.8.1,<3.0.0,>=1.7.4 in /Library/Frameworks/Python.framework/Versions/3.10/lib/python3.10/site-packages (from spacy) (1.10.7)\n",
      "Requirement already satisfied: jinja2 in /Library/Frameworks/Python.framework/Versions/3.10/lib/python3.10/site-packages (from spacy) (3.1.2)\n",
      "Requirement already satisfied: setuptools in /Library/Frameworks/Python.framework/Versions/3.10/lib/python3.10/site-packages (from spacy) (68.2.2)\n",
      "Requirement already satisfied: packaging>=20.0 in /Library/Frameworks/Python.framework/Versions/3.10/lib/python3.10/site-packages (from spacy) (23.1)\n",
      "Requirement already satisfied: langcodes<4.0.0,>=3.2.0 in /Library/Frameworks/Python.framework/Versions/3.10/lib/python3.10/site-packages (from spacy) (3.3.0)\n",
      "Requirement already satisfied: numpy>=1.19.0 in /Library/Frameworks/Python.framework/Versions/3.10/lib/python3.10/site-packages (from spacy) (1.24.1)\n",
      "Requirement already satisfied: typing-extensions>=4.2.0 in /Library/Frameworks/Python.framework/Versions/3.10/lib/python3.10/site-packages (from pydantic!=1.8,!=1.8.1,<3.0.0,>=1.7.4->spacy) (4.8.0)\n",
      "Requirement already satisfied: charset-normalizer<4,>=2 in /Library/Frameworks/Python.framework/Versions/3.10/lib/python3.10/site-packages (from requests<3.0.0,>=2.13.0->spacy) (3.1.0)\n",
      "Requirement already satisfied: idna<4,>=2.5 in /Library/Frameworks/Python.framework/Versions/3.10/lib/python3.10/site-packages (from requests<3.0.0,>=2.13.0->spacy) (3.4)\n",
      "Requirement already satisfied: urllib3<1.27,>=1.21.1 in /Library/Frameworks/Python.framework/Versions/3.10/lib/python3.10/site-packages (from requests<3.0.0,>=2.13.0->spacy) (1.26.15)\n",
      "Requirement already satisfied: certifi>=2017.4.17 in /Library/Frameworks/Python.framework/Versions/3.10/lib/python3.10/site-packages (from requests<3.0.0,>=2.13.0->spacy) (2022.12.7)\n",
      "Requirement already satisfied: blis<0.8.0,>=0.7.8 in /Library/Frameworks/Python.framework/Versions/3.10/lib/python3.10/site-packages (from thinc<8.3.0,>=8.1.8->spacy) (0.7.9)\n",
      "Requirement already satisfied: confection<1.0.0,>=0.0.1 in /Library/Frameworks/Python.framework/Versions/3.10/lib/python3.10/site-packages (from thinc<8.3.0,>=8.1.8->spacy) (0.0.4)\n",
      "Requirement already satisfied: click<9.0.0,>=7.1.1 in /Library/Frameworks/Python.framework/Versions/3.10/lib/python3.10/site-packages (from typer<0.10.0,>=0.3.0->spacy) (8.1.3)\n",
      "Requirement already satisfied: cloudpathlib<0.16.0,>=0.7.0 in /Library/Frameworks/Python.framework/Versions/3.10/lib/python3.10/site-packages (from weasel<0.4.0,>=0.1.0->spacy) (0.15.1)\n",
      "Requirement already satisfied: MarkupSafe>=2.0 in /Library/Frameworks/Python.framework/Versions/3.10/lib/python3.10/site-packages (from jinja2->spacy) (2.1.2)\n",
      "Note: you may need to restart the kernel to use updated packages.\n"
     ]
    }
   ],
   "source": [
    "%%capture\n",
    "%pip install -U pip setuptools wheel\n",
    "%pip install -U spacy"
   ]
  },
  {
   "cell_type": "code",
   "execution_count": 52,
   "metadata": {},
   "outputs": [
    {
     "name": "stdout",
     "output_type": "stream",
     "text": [
      "Name: spacy\n",
      "Version: 3.7.1\n",
      "Summary: Industrial-strength Natural Language Processing (NLP) in Python\n",
      "Home-page: https://spacy.io\n",
      "Author: Explosion\n",
      "Author-email: contact@explosion.ai\n",
      "License: MIT\n",
      "Location: /Library/Frameworks/Python.framework/Versions/3.10/lib/python3.10/site-packages\n",
      "Requires: catalogue, cymem, jinja2, langcodes, murmurhash, numpy, packaging, pathy, preshed, pydantic, requests, setuptools, smart-open, spacy-legacy, spacy-loggers, srsly, thinc, tqdm, typer, wasabi, weasel\n",
      "Required-by: en-core-web-lg, en-core-web-md, en-core-web-sm\n",
      "Note: you may need to restart the kernel to use updated packages.\n"
     ]
    }
   ],
   "source": [
    "%pip show spacy"
   ]
  },
  {
   "cell_type": "code",
   "execution_count": 21,
   "metadata": {},
   "outputs": [],
   "source": [
    "import spacy"
   ]
  },
  {
   "cell_type": "code",
   "execution_count": 54,
   "metadata": {},
   "outputs": [],
   "source": [
    "%%capture\n",
    "!python3 -m spacy download en_core_web_lg"
   ]
  },
  {
   "cell_type": "code",
   "execution_count": 24,
   "metadata": {},
   "outputs": [],
   "source": [
    "nlp = spacy.load('en_core_web_lg')"
   ]
  },
  {
   "cell_type": "code",
   "execution_count": 46,
   "metadata": {},
   "outputs": [
    {
     "data": {
      "text/html": [
       "<div>\n",
       "<style scoped>\n",
       "    .dataframe tbody tr th:only-of-type {\n",
       "        vertical-align: middle;\n",
       "    }\n",
       "\n",
       "    .dataframe tbody tr th {\n",
       "        vertical-align: top;\n",
       "    }\n",
       "\n",
       "    .dataframe thead th {\n",
       "        text-align: right;\n",
       "    }\n",
       "</style>\n",
       "<table border=\"1\" class=\"dataframe\">\n",
       "  <thead>\n",
       "    <tr style=\"text-align: right;\">\n",
       "      <th></th>\n",
       "      <th>text</th>\n",
       "    </tr>\n",
       "  </thead>\n",
       "  <tbody>\n",
       "    <tr>\n",
       "      <th>116</th>\n",
       "      <td>womenonthespectrum womenonthespectrum A commun...</td>\n",
       "    </tr>\n",
       "    <tr>\n",
       "      <th>293</th>\n",
       "      <td>The Owl House The Owl House A subreddit for th...</td>\n",
       "    </tr>\n",
       "    <tr>\n",
       "      <th>452</th>\n",
       "      <td>Autism Speaks Sucks Autism Speaks Sucks A comm...</td>\n",
       "    </tr>\n",
       "  </tbody>\n",
       "</table>\n",
       "</div>"
      ],
      "text/plain": [
       "                                                  text\n",
       "116  womenonthespectrum womenonthespectrum A commun...\n",
       "293  The Owl House The Owl House A subreddit for th...\n",
       "452  Autism Speaks Sucks Autism Speaks Sucks A comm..."
      ]
     },
     "execution_count": 46,
     "metadata": {},
     "output_type": "execute_result"
    }
   ],
   "source": [
    "X_train.head(3)"
   ]
  },
  {
   "cell_type": "code",
   "execution_count": 25,
   "metadata": {},
   "outputs": [],
   "source": [
    "# remove any stop words ( that were potentially missed by regex above) - > not relevant to the classification task\n",
    "# remove punctuation - not relevant to classification (?maybe)\n",
    "# lemmatize tokens\n",
    "def preprocess(text):\n",
    "    doc= nlp(text)\n",
    "    new_text = []\n",
    "    for t in doc:\n",
    "        if t.is_stop or t.is_punct:\n",
    "            continue\n",
    "        new_text.append(t.lemma_)\n",
    "    return ' '.join(new_text)"
   ]
  },
  {
   "cell_type": "code",
   "execution_count": 26,
   "metadata": {},
   "outputs": [
    {
     "data": {
      "text/html": [
       "<div>\n",
       "<style scoped>\n",
       "    .dataframe tbody tr th:only-of-type {\n",
       "        vertical-align: middle;\n",
       "    }\n",
       "\n",
       "    .dataframe tbody tr th {\n",
       "        vertical-align: top;\n",
       "    }\n",
       "\n",
       "    .dataframe thead th {\n",
       "        text-align: right;\n",
       "    }\n",
       "</style>\n",
       "<table border=\"1\" class=\"dataframe\">\n",
       "  <thead>\n",
       "    <tr style=\"text-align: right;\">\n",
       "      <th></th>\n",
       "      <th>text</th>\n",
       "      <th>new_text</th>\n",
       "    </tr>\n",
       "  </thead>\n",
       "  <tbody>\n",
       "    <tr>\n",
       "      <th>116</th>\n",
       "      <td>womenonthespectrum womenonthespectrum A commun...</td>\n",
       "      <td>womenonthespectrum womenonthespectrum communit...</td>\n",
       "    </tr>\n",
       "    <tr>\n",
       "      <th>293</th>\n",
       "      <td>The Owl House The Owl House A subreddit for th...</td>\n",
       "      <td>Owl House Owl House subreddit Disney fantasy c...</td>\n",
       "    </tr>\n",
       "    <tr>\n",
       "      <th>452</th>\n",
       "      <td>Autism Speaks Sucks Autism Speaks Sucks A comm...</td>\n",
       "      <td>autism speak Sucks autism speak suck community...</td>\n",
       "    </tr>\n",
       "  </tbody>\n",
       "</table>\n",
       "</div>"
      ],
      "text/plain": [
       "                                                  text  \\\n",
       "116  womenonthespectrum womenonthespectrum A commun...   \n",
       "293  The Owl House The Owl House A subreddit for th...   \n",
       "452  Autism Speaks Sucks Autism Speaks Sucks A comm...   \n",
       "\n",
       "                                              new_text  \n",
       "116  womenonthespectrum womenonthespectrum communit...  \n",
       "293  Owl House Owl House subreddit Disney fantasy c...  \n",
       "452  autism speak Sucks autism speak suck community...  "
      ]
     },
     "execution_count": 26,
     "metadata": {},
     "output_type": "execute_result"
    }
   ],
   "source": [
    "# pre-process traning set \n",
    "X_train.loc[:, 'new_text'] = X_train['text'].apply(preprocess)\n",
    "X_train.head(3)"
   ]
  },
  {
   "cell_type": "code",
   "execution_count": 27,
   "metadata": {},
   "outputs": [
    {
     "name": "stdout",
     "output_type": "stream",
     "text": [
      "['womenonthespectrum', 'womenonthespectrum', 'A', 'community', 'specifically', 'for', 'women', 'nonbinary', 'and', 'afab', 'people', 'on', 'the', 'spectrum', 'to', 'vent', 'discuss', 'topics', 'related', 'to', 'autism', 'and', 'support', 'each', 'other']\n",
      "['womenonthespectrum', 'womenonthespectrum', 'community', 'specifically', 'woman', 'nonbinary', 'afab', 'people', 'spectrum', 'vent', 'discuss', 'topic', 'relate', 'autism', 'support']\n"
     ]
    }
   ],
   "source": [
    "# difference in text before and after preprocessing\n",
    "doc_text = nlp(X_train.text[116])\n",
    "doc_new_text = nlp(X_train.new_text[116])\n",
    "print([t.text for t in doc_text])\n",
    "print([t.text for t in doc_new_text])"
   ]
  },
  {
   "cell_type": "code",
   "execution_count": 28,
   "metadata": {},
   "outputs": [
    {
     "data": {
      "text/html": [
       "<div>\n",
       "<style scoped>\n",
       "    .dataframe tbody tr th:only-of-type {\n",
       "        vertical-align: middle;\n",
       "    }\n",
       "\n",
       "    .dataframe tbody tr th {\n",
       "        vertical-align: top;\n",
       "    }\n",
       "\n",
       "    .dataframe thead th {\n",
       "        text-align: right;\n",
       "    }\n",
       "</style>\n",
       "<table border=\"1\" class=\"dataframe\">\n",
       "  <thead>\n",
       "    <tr style=\"text-align: right;\">\n",
       "      <th></th>\n",
       "      <th>text</th>\n",
       "      <th>new_text</th>\n",
       "    </tr>\n",
       "  </thead>\n",
       "  <tbody>\n",
       "    <tr>\n",
       "      <th>231</th>\n",
       "      <td>Gamingcirclejerk Gaming Circlejerk Don Cheadle...</td>\n",
       "      <td>Gamingcirclejerk gaming Circlejerk Don Cheadle...</td>\n",
       "    </tr>\n",
       "    <tr>\n",
       "      <th>243</th>\n",
       "      <td>ASDpeersupport ASD Peer Support Peer based sup...</td>\n",
       "      <td>ASDpeersupport ASD Peer support Peer base supp...</td>\n",
       "    </tr>\n",
       "    <tr>\n",
       "      <th>392</th>\n",
       "      <td>selfharm A Subreddit for Self Harmers A subred...</td>\n",
       "      <td>selfharm Subreddit Self Harmers subreddit self...</td>\n",
       "    </tr>\n",
       "  </tbody>\n",
       "</table>\n",
       "</div>"
      ],
      "text/plain": [
       "                                                  text  \\\n",
       "231  Gamingcirclejerk Gaming Circlejerk Don Cheadle...   \n",
       "243  ASDpeersupport ASD Peer Support Peer based sup...   \n",
       "392  selfharm A Subreddit for Self Harmers A subred...   \n",
       "\n",
       "                                              new_text  \n",
       "231  Gamingcirclejerk gaming Circlejerk Don Cheadle...  \n",
       "243  ASDpeersupport ASD Peer support Peer base supp...  \n",
       "392  selfharm Subreddit Self Harmers subreddit self...  "
      ]
     },
     "execution_count": 28,
     "metadata": {},
     "output_type": "execute_result"
    }
   ],
   "source": [
    "# pre-process testinf set \n",
    "X_test.loc[:, 'new_text'] = X_test['text'].apply(preprocess)\n",
    "X_test.head(3)"
   ]
  },
  {
   "cell_type": "markdown",
   "metadata": {},
   "source": [
    "## 4. 5. 6. Vectorize, Apply Classifier and Evaluate the model - uses sklearn.pipeline"
   ]
  },
  {
   "cell_type": "markdown",
   "metadata": {},
   "source": [
    "\n",
    "4. feature engineering (= convert text / document into vector)\n",
    "    count-vector\n",
    "    tf-idf\n",
    "    one-hot encode - not really used due to size and sparcity problems\n",
    "    word/token-emebeding\n",
    "5. apply classifier ( any machine learning model classifier ) - use gridSearchCV to see which is the best performing classifier ?\n",
    "6. evaluate  model: Accuracy, Precision, Recall, F1 score ( if not good , go back to preprocessing step )"
   ]
  },
  {
   "cell_type": "markdown",
   "metadata": {},
   "source": [
    "##### Approach 1. Vectorization does not involve any machine learning and is only based on applying frequency counts to tokens/words (Count Vectorization and TF-IDF)"
   ]
  },
  {
   "cell_type": "code",
   "execution_count": 29,
   "metadata": {},
   "outputs": [],
   "source": [
    "from sklearn.feature_extraction.text import TfidfVectorizer, CountVectorizer\n",
    "\n",
    "from sklearn.neighbors import KNeighborsClassifier\n",
    "from sklearn.naive_bayes import MultinomialNB\n",
    "from sklearn.ensemble import RandomForestClassifier\n",
    "from sklearn.svm import SVC\n",
    "from sklearn.linear_model import LogisticRegression\n",
    "from sklearn.pipeline import Pipeline\n",
    "\n",
    "from sklearn.model_selection import StratifiedKFold, cross_val_predict\n",
    "\n",
    "from sklearn.metrics import classification_report, confusion_matrix\n",
    "\n",
    "def classify(vectorizer, model, x_train, y_train, x_test, y_test, k_folds=5, scaler=None):\n",
    "    # create the pipeline\n",
    "    clf = Pipeline([\n",
    "        ('vectorizer', vectorizer),\n",
    "        ('scaler', scaler),\n",
    "        ('model', model)\n",
    "    ])\n",
    "    # initialize StratifiedKFold for cross-validation\n",
    "    kf = StratifiedKFold(n_splits=k_folds, shuffle=True, random_state=42)\n",
    "    \n",
    "    # perform k-fold (k=5) cross-validation \n",
    "    y_pred_cv = cross_val_predict(clf, x_train, y_train, cv=kf)\n",
    "    \n",
    "    # fit the model on the training data\n",
    "    clf.fit(x_train, y_train)\n",
    "    # make prediction using test data\n",
    "    y_pred = clf.predict(x_test)\n",
    "\n",
    "    # classification report and confusion matrix for cross-validated predictions\n",
    "    print(\"Cross-validated Classification Report:\\n\", classification_report(y_train, y_pred_cv))\n",
    "    print(\"Cross-validated Confusion Matrix:\\n\", confusion_matrix(y_train, y_pred_cv))\n",
    "    \n",
    "    # classification report and confusion matrix for test data \n",
    "    print(\"\\nTest Data Classification Report:\\n\", classification_report(y_test, y_pred))\n",
    "    print(\"Test Data Confusion Matrix:\\n\", confusion_matrix(y_test, y_pred))"
   ]
  },
  {
   "cell_type": "code",
   "execution_count": 30,
   "metadata": {},
   "outputs": [
    {
     "data": {
      "text/plain": [
       "((168,), (168,))"
      ]
     },
     "execution_count": 30,
     "metadata": {},
     "output_type": "execute_result"
    }
   ],
   "source": [
    "y_train.asd.shape, X_train.new_text.shape\n"
   ]
  },
  {
   "cell_type": "code",
   "execution_count": 63,
   "metadata": {},
   "outputs": [
    {
     "name": "stdout",
     "output_type": "stream",
     "text": [
      "CountVectorizer()\n",
      "CountVectorizer() KNeighborsClassifier()\n",
      "Cross-validated Classification Report:\n",
      "               precision    recall  f1-score   support\n",
      "\n",
      "           0       0.95      0.51      0.67        78\n",
      "           1       0.70      0.98      0.81        90\n",
      "\n",
      "    accuracy                           0.76       168\n",
      "   macro avg       0.83      0.75      0.74       168\n",
      "weighted avg       0.82      0.76      0.75       168\n",
      "\n",
      "Cross-validated Confusion Matrix:\n",
      " [[40 38]\n",
      " [ 2 88]]\n",
      "\n",
      "Test Data Classification Report:\n",
      "               precision    recall  f1-score   support\n",
      "\n",
      "           0       1.00      0.53      0.69        19\n",
      "           1       0.72      1.00      0.84        23\n",
      "\n",
      "    accuracy                           0.79        42\n",
      "   macro avg       0.86      0.76      0.76        42\n",
      "weighted avg       0.85      0.79      0.77        42\n",
      "\n",
      "Test Data Confusion Matrix:\n",
      " [[10  9]\n",
      " [ 0 23]]\n",
      "CountVectorizer() MultinomialNB()\n",
      "Cross-validated Classification Report:\n",
      "               precision    recall  f1-score   support\n",
      "\n",
      "           0       0.95      0.88      0.91        78\n",
      "           1       0.91      0.96      0.93        90\n",
      "\n",
      "    accuracy                           0.92       168\n",
      "   macro avg       0.93      0.92      0.92       168\n",
      "weighted avg       0.92      0.92      0.92       168\n",
      "\n",
      "Cross-validated Confusion Matrix:\n",
      " [[69  9]\n",
      " [ 4 86]]\n",
      "\n",
      "Test Data Classification Report:\n",
      "               precision    recall  f1-score   support\n",
      "\n",
      "           0       0.94      0.79      0.86        19\n",
      "           1       0.85      0.96      0.90        23\n",
      "\n",
      "    accuracy                           0.88        42\n",
      "   macro avg       0.89      0.87      0.88        42\n",
      "weighted avg       0.89      0.88      0.88        42\n",
      "\n",
      "Test Data Confusion Matrix:\n",
      " [[15  4]\n",
      " [ 1 22]]\n",
      "CountVectorizer() RandomForestClassifier()\n",
      "Cross-validated Classification Report:\n",
      "               precision    recall  f1-score   support\n",
      "\n",
      "           0       0.90      0.79      0.84        78\n",
      "           1       0.84      0.92      0.88        90\n",
      "\n",
      "    accuracy                           0.86       168\n",
      "   macro avg       0.87      0.86      0.86       168\n",
      "weighted avg       0.87      0.86      0.86       168\n",
      "\n",
      "Cross-validated Confusion Matrix:\n",
      " [[62 16]\n",
      " [ 7 83]]\n",
      "\n",
      "Test Data Classification Report:\n",
      "               precision    recall  f1-score   support\n",
      "\n",
      "           0       0.87      0.68      0.76        19\n",
      "           1       0.78      0.91      0.84        23\n",
      "\n",
      "    accuracy                           0.81        42\n",
      "   macro avg       0.82      0.80      0.80        42\n",
      "weighted avg       0.82      0.81      0.81        42\n",
      "\n",
      "Test Data Confusion Matrix:\n",
      " [[13  6]\n",
      " [ 2 21]]\n",
      "CountVectorizer() LogisticRegression()\n",
      "Cross-validated Classification Report:\n",
      "               precision    recall  f1-score   support\n",
      "\n",
      "           0       0.95      0.81      0.88        78\n",
      "           1       0.85      0.97      0.91        90\n",
      "\n",
      "    accuracy                           0.89       168\n",
      "   macro avg       0.90      0.89      0.89       168\n",
      "weighted avg       0.90      0.89      0.89       168\n",
      "\n",
      "Cross-validated Confusion Matrix:\n",
      " [[63 15]\n",
      " [ 3 87]]\n",
      "\n",
      "Test Data Classification Report:\n",
      "               precision    recall  f1-score   support\n",
      "\n",
      "           0       1.00      0.63      0.77        19\n",
      "           1       0.77      1.00      0.87        23\n",
      "\n",
      "    accuracy                           0.83        42\n",
      "   macro avg       0.88      0.82      0.82        42\n",
      "weighted avg       0.87      0.83      0.83        42\n",
      "\n",
      "Test Data Confusion Matrix:\n",
      " [[12  7]\n",
      " [ 0 23]]\n",
      "CountVectorizer() SVC(kernel='linear')\n",
      "Cross-validated Classification Report:\n",
      "               precision    recall  f1-score   support\n",
      "\n",
      "           0       0.91      0.78      0.84        78\n",
      "           1       0.83      0.93      0.88        90\n",
      "\n",
      "    accuracy                           0.86       168\n",
      "   macro avg       0.87      0.86      0.86       168\n",
      "weighted avg       0.87      0.86      0.86       168\n",
      "\n",
      "Cross-validated Confusion Matrix:\n",
      " [[61 17]\n",
      " [ 6 84]]\n",
      "\n",
      "Test Data Classification Report:\n",
      "               precision    recall  f1-score   support\n",
      "\n",
      "           0       1.00      0.63      0.77        19\n",
      "           1       0.77      1.00      0.87        23\n",
      "\n",
      "    accuracy                           0.83        42\n",
      "   macro avg       0.88      0.82      0.82        42\n",
      "weighted avg       0.87      0.83      0.83        42\n",
      "\n",
      "Test Data Confusion Matrix:\n",
      " [[12  7]\n",
      " [ 0 23]]\n",
      "CountVectorizer() SVC()\n",
      "Cross-validated Classification Report:\n",
      "               precision    recall  f1-score   support\n",
      "\n",
      "           0       0.93      0.67      0.78        78\n",
      "           1       0.77      0.96      0.85        90\n",
      "\n",
      "    accuracy                           0.82       168\n",
      "   macro avg       0.85      0.81      0.81       168\n",
      "weighted avg       0.84      0.82      0.82       168\n",
      "\n",
      "Cross-validated Confusion Matrix:\n",
      " [[52 26]\n",
      " [ 4 86]]\n",
      "\n",
      "Test Data Classification Report:\n",
      "               precision    recall  f1-score   support\n",
      "\n",
      "           0       0.92      0.63      0.75        19\n",
      "           1       0.76      0.96      0.85        23\n",
      "\n",
      "    accuracy                           0.81        42\n",
      "   macro avg       0.84      0.79      0.80        42\n",
      "weighted avg       0.83      0.81      0.80        42\n",
      "\n",
      "Test Data Confusion Matrix:\n",
      " [[12  7]\n",
      " [ 1 22]]\n",
      "\n",
      "TfidfVectorizer()\n",
      "TfidfVectorizer() KNeighborsClassifier()\n",
      "Cross-validated Classification Report:\n",
      "               precision    recall  f1-score   support\n",
      "\n",
      "           0       0.94      0.83      0.88        78\n",
      "           1       0.87      0.96      0.91        90\n",
      "\n",
      "    accuracy                           0.90       168\n",
      "   macro avg       0.91      0.89      0.90       168\n",
      "weighted avg       0.90      0.90      0.90       168\n",
      "\n",
      "Cross-validated Confusion Matrix:\n",
      " [[65 13]\n",
      " [ 4 86]]\n",
      "\n",
      "Test Data Classification Report:\n",
      "               precision    recall  f1-score   support\n",
      "\n",
      "           0       0.94      0.79      0.86        19\n",
      "           1       0.85      0.96      0.90        23\n",
      "\n",
      "    accuracy                           0.88        42\n",
      "   macro avg       0.89      0.87      0.88        42\n",
      "weighted avg       0.89      0.88      0.88        42\n",
      "\n",
      "Test Data Confusion Matrix:\n",
      " [[15  4]\n",
      " [ 1 22]]\n",
      "TfidfVectorizer() MultinomialNB()\n",
      "Cross-validated Classification Report:\n",
      "               precision    recall  f1-score   support\n",
      "\n",
      "           0       0.96      0.86      0.91        78\n",
      "           1       0.89      0.97      0.93        90\n",
      "\n",
      "    accuracy                           0.92       168\n",
      "   macro avg       0.92      0.91      0.92       168\n",
      "weighted avg       0.92      0.92      0.92       168\n",
      "\n",
      "Cross-validated Confusion Matrix:\n",
      " [[67 11]\n",
      " [ 3 87]]\n",
      "\n",
      "Test Data Classification Report:\n",
      "               precision    recall  f1-score   support\n",
      "\n",
      "           0       0.94      0.79      0.86        19\n",
      "           1       0.85      0.96      0.90        23\n",
      "\n",
      "    accuracy                           0.88        42\n",
      "   macro avg       0.89      0.87      0.88        42\n",
      "weighted avg       0.89      0.88      0.88        42\n",
      "\n",
      "Test Data Confusion Matrix:\n",
      " [[15  4]\n",
      " [ 1 22]]\n",
      "TfidfVectorizer() RandomForestClassifier()\n",
      "Cross-validated Classification Report:\n",
      "               precision    recall  f1-score   support\n",
      "\n",
      "           0       0.91      0.78      0.84        78\n",
      "           1       0.83      0.93      0.88        90\n",
      "\n",
      "    accuracy                           0.86       168\n",
      "   macro avg       0.87      0.86      0.86       168\n",
      "weighted avg       0.87      0.86      0.86       168\n",
      "\n",
      "Cross-validated Confusion Matrix:\n",
      " [[61 17]\n",
      " [ 6 84]]\n",
      "\n",
      "Test Data Classification Report:\n",
      "               precision    recall  f1-score   support\n",
      "\n",
      "           0       0.92      0.63      0.75        19\n",
      "           1       0.76      0.96      0.85        23\n",
      "\n",
      "    accuracy                           0.81        42\n",
      "   macro avg       0.84      0.79      0.80        42\n",
      "weighted avg       0.83      0.81      0.80        42\n",
      "\n",
      "Test Data Confusion Matrix:\n",
      " [[12  7]\n",
      " [ 1 22]]\n",
      "TfidfVectorizer() LogisticRegression()\n",
      "Cross-validated Classification Report:\n",
      "               precision    recall  f1-score   support\n",
      "\n",
      "           0       0.96      0.87      0.91        78\n",
      "           1       0.90      0.97      0.93        90\n",
      "\n",
      "    accuracy                           0.92       168\n",
      "   macro avg       0.93      0.92      0.92       168\n",
      "weighted avg       0.93      0.92      0.92       168\n",
      "\n",
      "Cross-validated Confusion Matrix:\n",
      " [[68 10]\n",
      " [ 3 87]]\n",
      "\n",
      "Test Data Classification Report:\n",
      "               precision    recall  f1-score   support\n",
      "\n",
      "           0       1.00      0.79      0.88        19\n",
      "           1       0.85      1.00      0.92        23\n",
      "\n",
      "    accuracy                           0.90        42\n",
      "   macro avg       0.93      0.89      0.90        42\n",
      "weighted avg       0.92      0.90      0.90        42\n",
      "\n",
      "Test Data Confusion Matrix:\n",
      " [[15  4]\n",
      " [ 0 23]]\n",
      "TfidfVectorizer() SVC(kernel='linear')\n",
      "Cross-validated Classification Report:\n",
      "               precision    recall  f1-score   support\n",
      "\n",
      "           0       0.96      0.92      0.94        78\n",
      "           1       0.94      0.97      0.95        90\n",
      "\n",
      "    accuracy                           0.95       168\n",
      "   macro avg       0.95      0.94      0.95       168\n",
      "weighted avg       0.95      0.95      0.95       168\n",
      "\n",
      "Cross-validated Confusion Matrix:\n",
      " [[72  6]\n",
      " [ 3 87]]\n",
      "\n",
      "Test Data Classification Report:\n",
      "               precision    recall  f1-score   support\n",
      "\n",
      "           0       1.00      0.84      0.91        19\n",
      "           1       0.88      1.00      0.94        23\n",
      "\n",
      "    accuracy                           0.93        42\n",
      "   macro avg       0.94      0.92      0.93        42\n",
      "weighted avg       0.94      0.93      0.93        42\n",
      "\n",
      "Test Data Confusion Matrix:\n",
      " [[16  3]\n",
      " [ 0 23]]\n",
      "TfidfVectorizer() SVC()\n",
      "Cross-validated Classification Report:\n",
      "               precision    recall  f1-score   support\n",
      "\n",
      "           0       0.96      0.87      0.91        78\n",
      "           1       0.90      0.97      0.93        90\n",
      "\n",
      "    accuracy                           0.92       168\n",
      "   macro avg       0.93      0.92      0.92       168\n",
      "weighted avg       0.93      0.92      0.92       168\n",
      "\n",
      "Cross-validated Confusion Matrix:\n",
      " [[68 10]\n",
      " [ 3 87]]\n",
      "\n",
      "Test Data Classification Report:\n",
      "               precision    recall  f1-score   support\n",
      "\n",
      "           0       1.00      0.79      0.88        19\n",
      "           1       0.85      1.00      0.92        23\n",
      "\n",
      "    accuracy                           0.90        42\n",
      "   macro avg       0.93      0.89      0.90        42\n",
      "weighted avg       0.92      0.90      0.90        42\n",
      "\n",
      "Test Data Confusion Matrix:\n",
      " [[15  4]\n",
      " [ 0 23]]\n",
      "\n"
     ]
    }
   ],
   "source": [
    "np.random.seed(7)\n",
    "vectorizers = [CountVectorizer(), TfidfVectorizer()]\n",
    "models = [KNeighborsClassifier(), MultinomialNB(), RandomForestClassifier(), LogisticRegression(), SVC(kernel='linear'), SVC(kernel='rbf')]\n",
    "\n",
    "for v in vectorizers:\n",
    "    print(v)\n",
    "    for m in models:\n",
    "        print(v, m)\n",
    "        classify(v, m, X_train.new_text, y_train.asd, X_test.new_text, y_test.asd)\n",
    "    print()\n",
    "        "
   ]
  },
  {
   "cell_type": "markdown",
   "metadata": {},
   "source": [
    "All the models classify non-ASD subreddits (0) with higher precission - as expected (see above discussion ).\n",
    "\n",
    "Using a simple frequency word count vectorisation method (CountVectorizer) resulted in an accuracy on test data of:\n",
    "\n",
    "CountVectorizer: \n",
    "\n",
    "0.79 - for KNN (trainig data 0.76 => not overfit)<br>\n",
    "0.88 - for multinomial naive bayes (training data 0.92 => maybe overfit?)<br>\n",
    "0.81 - for the Random Forest (training data 0.86 => maybe overift)<br>\n",
    "0.83 - for the LogisticRegression (training data 0.89 => maybe overfit)<br>\n",
    "0.83 - for SVM linear kernel (training data 0.86=> maybe overfit?)<br>\n",
    "0.81 - for SVM rbf kernel (training data 0.82 => not overfit)<br>\n",
    "\n",
    "TF-IDF:\n",
    "\n",
    "0.88 - for the KNN (training data 0.90 => not overfit)<br>\n",
    "0.88 - for multinomial naive bayes (training data 0.92 => maybe overfit?)<br>\n",
    "0.81 - for the Random Forest (training data 0.86 => maybe overift)<br>\n",
    "0.90 - for the LogisticRegression (training data 0.92 => not overfit)<br>\n",
    "0.93 - for SVM linear kernel (training data 0.95 => not overfit)<br>\n",
    "0.90 - for SVM rbf kernel (training data 0.92 => not overfit)<br>\n",
    "\n",
    "The predictions were improved, as expected, when using TF-IDF to vectorize the tokens ( this way frequent words, common to all the documents are given lower importance, and less common words are given more weight). The best performing model - similar performance on test set, no False negatives - were the Logistic regression and SVM models."
   ]
  },
  {
   "cell_type": "markdown",
   "metadata": {},
   "source": [
    "##### Approach 2. Vectorization using shallow neural nets (spaCy's GloVe)\n",
    "Token vectors are the result of utilising a shallow neural networks in order to create a high dimensional vector for each word (though they are much smaller and denser than, for example, TF-IDF vectors). - GloVe ( why not word2vec? - easier to train as it creates lower dimentions vectors; more suitable for large datasets or limited computer power; neither is able to handle OOV - out of vocab -  words). GloVe's unit on which the neural nets is trained is *word*.  \n",
    "\n",
    "maybe try also FastText?\n",
    "“FastText is able to handle OOV words, as long as it has seen its composing n-grams during training. Both GloVe and Word2Vec are instead unable to handle the case of OOV words.” ([Gasparetto et al., 2022, p. 10](zotero://select/library/items/7QI33EDP)) ([pdf](zotero://open-pdf/library/items/GJM85X9Y?page=10&annotation=6H5SYFFG))"
   ]
  },
  {
   "cell_type": "code",
   "execution_count": 64,
   "metadata": {},
   "outputs": [
    {
     "name": "stdout",
     "output_type": "stream",
     "text": [
      "(300,)\n"
     ]
    }
   ],
   "source": [
    "# spaCy large English model provides vectors (GloVe)\n",
    "# all vectors are of lenght 300 (= 300 dimensions )\n",
    "for text in X_train.text:\n",
    "    doc = nlp(text)\n",
    "    print(doc.vector.shape)\n",
    "    break"
   ]
  },
  {
   "cell_type": "markdown",
   "metadata": {},
   "source": [
    "spaCy 's English language model - large , provides 514k keys, 514k unique vectors (each=300 dimensions) (https://spacy.io/models/en)\n",
    "\n",
    "This model provides GloVe vectors trained on Common Crawl (https://github.com/explosion/spacy-models/releases//tag/en_core_web_lg-2.3.1) \n",
    "\n",
    "Common Crawl database: https://en.wikipedia.org/wiki/Common_Crawl"
   ]
  },
  {
   "cell_type": "code",
   "execution_count": 65,
   "metadata": {},
   "outputs": [
    {
     "name": "stdout",
     "output_type": "stream",
     "text": [
      "[-1.8486128e+00  1.5892310e+00 -3.2409065e+00 -4.3019190e-02\n",
      "  4.0609274e+00  4.7510800e-01  4.8715359e-01  4.1747169e+00\n",
      " -1.4294057e+00  4.5436048e-03  5.3522205e+00  2.2574072e+00\n",
      " -4.5851417e+00  1.3712009e+00  4.4433114e-01  2.2298615e+00\n",
      "  2.1136811e+00 -1.3794917e+00 -3.0008421e+00 -2.5509632e+00\n",
      "  8.7831706e-02 -1.9485286e+00 -1.1433463e+00 -2.1321458e-01\n",
      "  1.0417217e+00 -1.7193288e+00 -2.3502305e+00  9.7079217e-01\n",
      " -2.0635519e+00  6.4479995e-01  8.1923783e-01 -4.6718398e-01\n",
      " -1.9332402e+00 -3.0946743e+00 -1.9094207e+00 -5.7582241e-01\n",
      "  6.8277502e-01  3.5950679e-01  9.2482871e-01  2.8120521e-01\n",
      "  1.7119380e+00 -9.0557039e-02  1.2482457e-01 -8.7007560e-02\n",
      " -1.6891894e+00  1.6687484e+00  9.7832167e-01 -1.8785739e+00\n",
      " -1.3737924e+00  2.2778971e+00 -4.9244021e-03  2.4940062e+00\n",
      " -1.3629605e+00 -4.8081613e+00 -1.8509319e+00  1.8132876e+00\n",
      " -1.2980604e+00  1.1212356e+00  1.4739300e+00 -1.1941451e+00\n",
      "  9.5256023e-02  4.5365158e-01 -1.1192365e+00 -3.8787171e-02\n",
      "  2.7721593e+00  1.7451249e+00 -2.3981118e+00 -4.4940038e+00\n",
      "  9.5901239e-01  2.2615461e+00 -1.1881301e+00 -7.1540523e-01\n",
      " -2.5427940e+00  2.1812581e-01 -1.2869862e+00  1.8550901e+00\n",
      " -2.7567263e+00  2.1776268e+00 -3.3992243e+00 -8.2173623e-02\n",
      " -4.4456820e+00 -1.1336416e+00  7.3921371e-01  1.4418510e+00\n",
      "  2.0911708e+00  8.6766618e-01 -2.0605171e+00 -2.5663702e+00\n",
      "  1.1602172e+00 -9.6260804e-01 -6.4950472e-01  4.4791320e-01\n",
      "  1.0453191e-01 -3.2109497e+00  4.9352124e-01 -8.1007409e-01\n",
      "  1.1597320e+00 -1.1953099e+00  1.2387642e+00  2.2561636e+00\n",
      "  2.2526960e+00  8.8909179e-01  2.8272388e+00  2.1895928e+00\n",
      "  7.9014070e-02  4.4063263e+00 -1.5271601e-02 -3.5424263e+00\n",
      " -7.9467827e-01 -4.1521716e+00  2.8720887e+00  6.7872858e-01\n",
      " -9.9017352e-01  6.7907405e-01  1.2675071e+00  1.0349966e+00\n",
      " -6.4931160e-01 -1.2466155e+00  7.8239441e-01 -2.3689656e+00\n",
      " -2.6846299e+00 -2.4371803e+00  6.2432599e-01 -7.7566838e-01\n",
      " -3.1817323e-01 -3.8693261e+00  8.1504995e-01 -2.2502677e+00\n",
      "  2.5226393e+00 -1.5871588e+00 -3.4664960e+00 -5.9366941e-01\n",
      "  4.4501424e+00  1.0376472e+00  7.2079635e-01  1.7279395e+00\n",
      " -2.4075055e+00  5.9464639e-01  2.9307523e+00 -3.1697249e-01\n",
      " -1.8443201e+00 -8.4204674e-01  4.0485736e-02  1.4430989e+00\n",
      "  1.3717177e+00  2.8942195e-01 -2.1683633e+00  9.6444952e-01\n",
      "  9.1153848e-01  1.6861616e+00  2.7284345e-01  3.1786628e+00\n",
      " -2.6884973e-01  2.2603402e-01 -1.2949392e+00  6.5053278e-01\n",
      "  2.6353955e+00  4.1818479e-01 -1.8691132e+00 -1.6162257e+00\n",
      " -1.8289201e+00 -1.3636334e+00  1.6683270e-01  3.2047284e+00\n",
      " -1.6804321e+00 -1.6570185e+00 -4.5860090e+00  5.6198752e-01\n",
      "  1.2184116e+00 -1.5503386e+00  6.4979398e-01 -1.1733575e+00\n",
      "  1.8647968e+00  1.7883879e+00  1.6589230e+00  8.5050356e-01\n",
      "  5.2783036e-01 -1.0516793e+00 -3.7319841e+00 -3.3036938e+00\n",
      " -3.2144952e-01 -1.0420176e+00  1.2993311e+00 -2.4131296e+00\n",
      " -1.4800589e+00  9.8974299e-01 -2.2334754e+00 -6.7935264e-01\n",
      "  1.8875611e+00  1.9104831e+00 -2.5119683e-01 -1.5109971e+00\n",
      " -3.5590798e-01 -8.7727880e-01  5.2809083e-01  1.2623860e+00\n",
      " -3.0134747e+00  1.3460220e-01 -5.1972222e-01  4.6624955e-02\n",
      " -2.3708181e+00 -2.2317383e+00 -1.6532526e+00 -1.9728584e+00\n",
      "  3.8928397e+00  4.4453561e-01 -3.8113313e+00  1.3557708e+00\n",
      "  2.0109360e-01 -1.7748319e+00  1.4592683e+00  3.4003600e-01\n",
      " -9.6155703e-01  1.0240515e+00  5.9323645e-01  2.6453490e+00\n",
      "  9.5779228e-01 -2.7430100e+00 -9.8531753e-01  6.9066793e-02\n",
      " -2.1379478e+00  2.5216544e+00  3.8593638e-01 -6.7103988e-01\n",
      " -6.8593049e-01 -1.7129228e+00 -7.4767166e-01  1.8136367e-01\n",
      "  1.7403755e+00  7.5642252e-01  1.1847917e+00 -2.3679345e+00\n",
      " -1.6187577e-01 -1.6355841e-01  3.9168487e+00  1.0257910e+00\n",
      " -6.5368307e-01  9.3705767e-01 -4.2148936e-01 -1.8597522e-01\n",
      " -8.8167989e-01 -7.6361322e-01  1.7101768e+00  3.6566058e-01\n",
      " -5.4800361e-01  2.4975631e+00 -2.8282723e+00 -3.2815036e-01\n",
      "  2.4966881e-01  1.8636829e+00 -3.5992801e-01 -2.5831344e+00\n",
      " -2.8959243e+00 -8.0204874e-01  5.1763439e-01 -2.3424032e+00\n",
      "  3.0093272e+00 -4.1533554e-01  1.7821886e-01  1.4374208e+00\n",
      "  4.3918204e-01  5.5658002e+00  3.0900249e+00  3.4415536e+00\n",
      "  2.9662037e+00 -1.4320481e+00 -7.6286745e-01  1.8285425e+00\n",
      " -1.8780159e+00  1.4745520e-01 -5.6848764e-01 -1.3089867e+00\n",
      "  6.6980195e-01 -2.8438430e+00  1.1433554e+00 -8.8800544e-01\n",
      "  1.4381065e+00 -9.1180146e-01 -2.2206919e+00  7.1590751e-01\n",
      "  1.9339584e+00 -4.8441201e-02  1.1920552e+00  1.8568896e+00\n",
      "  1.7066920e-01 -1.8847406e-01 -1.3079999e-01  1.4817383e+00\n",
      " -1.1341300e+00 -6.7267245e-01 -7.7272844e-01 -4.9119607e-02\n",
      " -1.0566320e+00  1.5772431e-01 -5.5967039e-01 -5.8379763e-01\n",
      "  8.2700950e-01 -2.0801191e+00 -3.4544075e+00  9.8871636e-01]\n"
     ]
    }
   ],
   "source": [
    "for text in X_train.text:\n",
    "    doc = nlp(text)\n",
    "    print(doc.vector)\n",
    "    break"
   ]
  },
  {
   "cell_type": "code",
   "execution_count": 66,
   "metadata": {},
   "outputs": [],
   "source": [
    "# define a vectorizer function that uses spaCy GloVe vectors\n",
    "def text_to_vectors(texts):\n",
    "    return [nlp(text).vector for text in texts]"
   ]
  },
  {
   "cell_type": "code",
   "execution_count": 67,
   "metadata": {},
   "outputs": [
    {
     "name": "stdout",
     "output_type": "stream",
     "text": [
      "GloVe KNeighborsClassifier()\n"
     ]
    },
    {
     "name": "stdout",
     "output_type": "stream",
     "text": [
      "Cross-validated Classification Report:\n",
      "               precision    recall  f1-score   support\n",
      "\n",
      "           0       0.75      0.92      0.83        78\n",
      "           1       0.92      0.73      0.81        90\n",
      "\n",
      "    accuracy                           0.82       168\n",
      "   macro avg       0.83      0.83      0.82       168\n",
      "weighted avg       0.84      0.82      0.82       168\n",
      "\n",
      "Cross-validated Confusion Matrix:\n",
      " [[72  6]\n",
      " [24 66]]\n",
      "\n",
      "Test Data Classification Report:\n",
      "               precision    recall  f1-score   support\n",
      "\n",
      "           0       0.70      0.84      0.76        19\n",
      "           1       0.84      0.70      0.76        23\n",
      "\n",
      "    accuracy                           0.76        42\n",
      "   macro avg       0.77      0.77      0.76        42\n",
      "weighted avg       0.78      0.76      0.76        42\n",
      "\n",
      "Test Data Confusion Matrix:\n",
      " [[16  3]\n",
      " [ 7 16]]\n",
      "\n",
      "GloVe MultinomialNB()\n",
      "Cross-validated Classification Report:\n",
      "               precision    recall  f1-score   support\n",
      "\n",
      "           0       0.84      0.87      0.86        78\n",
      "           1       0.89      0.86      0.87        90\n",
      "\n",
      "    accuracy                           0.86       168\n",
      "   macro avg       0.86      0.86      0.86       168\n",
      "weighted avg       0.86      0.86      0.86       168\n",
      "\n",
      "Cross-validated Confusion Matrix:\n",
      " [[68 10]\n",
      " [13 77]]\n",
      "\n",
      "Test Data Classification Report:\n",
      "               precision    recall  f1-score   support\n",
      "\n",
      "           0       0.79      0.79      0.79        19\n",
      "           1       0.83      0.83      0.83        23\n",
      "\n",
      "    accuracy                           0.81        42\n",
      "   macro avg       0.81      0.81      0.81        42\n",
      "weighted avg       0.81      0.81      0.81        42\n",
      "\n",
      "Test Data Confusion Matrix:\n",
      " [[15  4]\n",
      " [ 4 19]]\n",
      "\n",
      "GloVe RandomForestClassifier()\n",
      "Cross-validated Classification Report:\n",
      "               precision    recall  f1-score   support\n",
      "\n",
      "           0       0.88      0.85      0.86        78\n",
      "           1       0.87      0.90      0.89        90\n",
      "\n",
      "    accuracy                           0.88       168\n",
      "   macro avg       0.88      0.87      0.87       168\n",
      "weighted avg       0.88      0.88      0.87       168\n",
      "\n",
      "Cross-validated Confusion Matrix:\n",
      " [[66 12]\n",
      " [ 9 81]]\n",
      "\n",
      "Test Data Classification Report:\n",
      "               precision    recall  f1-score   support\n",
      "\n",
      "           0       1.00      0.74      0.85        19\n",
      "           1       0.82      1.00      0.90        23\n",
      "\n",
      "    accuracy                           0.88        42\n",
      "   macro avg       0.91      0.87      0.88        42\n",
      "weighted avg       0.90      0.88      0.88        42\n",
      "\n",
      "Test Data Confusion Matrix:\n",
      " [[14  5]\n",
      " [ 0 23]]\n",
      "\n",
      "GloVe LogisticRegression()\n"
     ]
    },
    {
     "name": "stderr",
     "output_type": "stream",
     "text": [
      "/Library/Frameworks/Python.framework/Versions/3.10/lib/python3.10/site-packages/sklearn/linear_model/_logistic.py:458: ConvergenceWarning: lbfgs failed to converge (status=1):\n",
      "STOP: TOTAL NO. of ITERATIONS REACHED LIMIT.\n",
      "\n",
      "Increase the number of iterations (max_iter) or scale the data as shown in:\n",
      "    https://scikit-learn.org/stable/modules/preprocessing.html\n",
      "Please also refer to the documentation for alternative solver options:\n",
      "    https://scikit-learn.org/stable/modules/linear_model.html#logistic-regression\n",
      "  n_iter_i = _check_optimize_result(\n",
      "/Library/Frameworks/Python.framework/Versions/3.10/lib/python3.10/site-packages/sklearn/linear_model/_logistic.py:458: ConvergenceWarning: lbfgs failed to converge (status=1):\n",
      "STOP: TOTAL NO. of ITERATIONS REACHED LIMIT.\n",
      "\n",
      "Increase the number of iterations (max_iter) or scale the data as shown in:\n",
      "    https://scikit-learn.org/stable/modules/preprocessing.html\n",
      "Please also refer to the documentation for alternative solver options:\n",
      "    https://scikit-learn.org/stable/modules/linear_model.html#logistic-regression\n",
      "  n_iter_i = _check_optimize_result(\n",
      "/Library/Frameworks/Python.framework/Versions/3.10/lib/python3.10/site-packages/sklearn/linear_model/_logistic.py:458: ConvergenceWarning: lbfgs failed to converge (status=1):\n",
      "STOP: TOTAL NO. of ITERATIONS REACHED LIMIT.\n",
      "\n",
      "Increase the number of iterations (max_iter) or scale the data as shown in:\n",
      "    https://scikit-learn.org/stable/modules/preprocessing.html\n",
      "Please also refer to the documentation for alternative solver options:\n",
      "    https://scikit-learn.org/stable/modules/linear_model.html#logistic-regression\n",
      "  n_iter_i = _check_optimize_result(\n",
      "/Library/Frameworks/Python.framework/Versions/3.10/lib/python3.10/site-packages/sklearn/linear_model/_logistic.py:458: ConvergenceWarning: lbfgs failed to converge (status=1):\n",
      "STOP: TOTAL NO. of ITERATIONS REACHED LIMIT.\n",
      "\n",
      "Increase the number of iterations (max_iter) or scale the data as shown in:\n",
      "    https://scikit-learn.org/stable/modules/preprocessing.html\n",
      "Please also refer to the documentation for alternative solver options:\n",
      "    https://scikit-learn.org/stable/modules/linear_model.html#logistic-regression\n",
      "  n_iter_i = _check_optimize_result(\n",
      "/Library/Frameworks/Python.framework/Versions/3.10/lib/python3.10/site-packages/sklearn/linear_model/_logistic.py:458: ConvergenceWarning: lbfgs failed to converge (status=1):\n",
      "STOP: TOTAL NO. of ITERATIONS REACHED LIMIT.\n",
      "\n",
      "Increase the number of iterations (max_iter) or scale the data as shown in:\n",
      "    https://scikit-learn.org/stable/modules/preprocessing.html\n",
      "Please also refer to the documentation for alternative solver options:\n",
      "    https://scikit-learn.org/stable/modules/linear_model.html#logistic-regression\n",
      "  n_iter_i = _check_optimize_result(\n"
     ]
    },
    {
     "name": "stdout",
     "output_type": "stream",
     "text": [
      "Cross-validated Classification Report:\n",
      "               precision    recall  f1-score   support\n",
      "\n",
      "           0       0.86      0.87      0.87        78\n",
      "           1       0.89      0.88      0.88        90\n",
      "\n",
      "    accuracy                           0.88       168\n",
      "   macro avg       0.87      0.87      0.87       168\n",
      "weighted avg       0.88      0.88      0.88       168\n",
      "\n",
      "Cross-validated Confusion Matrix:\n",
      " [[68 10]\n",
      " [11 79]]\n",
      "\n",
      "Test Data Classification Report:\n",
      "               precision    recall  f1-score   support\n",
      "\n",
      "           0       0.88      0.74      0.80        19\n",
      "           1       0.81      0.91      0.86        23\n",
      "\n",
      "    accuracy                           0.83        42\n",
      "   macro avg       0.84      0.82      0.83        42\n",
      "weighted avg       0.84      0.83      0.83        42\n",
      "\n",
      "Test Data Confusion Matrix:\n",
      " [[14  5]\n",
      " [ 2 21]]\n",
      "\n",
      "GloVe SVC(kernel='linear')\n",
      "Cross-validated Classification Report:\n",
      "               precision    recall  f1-score   support\n",
      "\n",
      "           0       0.83      0.83      0.83        78\n",
      "           1       0.86      0.86      0.86        90\n",
      "\n",
      "    accuracy                           0.85       168\n",
      "   macro avg       0.84      0.84      0.84       168\n",
      "weighted avg       0.85      0.85      0.85       168\n",
      "\n",
      "Cross-validated Confusion Matrix:\n",
      " [[65 13]\n",
      " [13 77]]\n",
      "\n",
      "Test Data Classification Report:\n",
      "               precision    recall  f1-score   support\n",
      "\n",
      "           0       0.82      0.74      0.78        19\n",
      "           1       0.80      0.87      0.83        23\n",
      "\n",
      "    accuracy                           0.81        42\n",
      "   macro avg       0.81      0.80      0.81        42\n",
      "weighted avg       0.81      0.81      0.81        42\n",
      "\n",
      "Test Data Confusion Matrix:\n",
      " [[14  5]\n",
      " [ 3 20]]\n",
      "\n",
      "GloVe SVC()\n",
      "Cross-validated Classification Report:\n",
      "               precision    recall  f1-score   support\n",
      "\n",
      "           0       0.85      0.87      0.86        78\n",
      "           1       0.89      0.87      0.88        90\n",
      "\n",
      "    accuracy                           0.87       168\n",
      "   macro avg       0.87      0.87      0.87       168\n",
      "weighted avg       0.87      0.87      0.87       168\n",
      "\n",
      "Cross-validated Confusion Matrix:\n",
      " [[68 10]\n",
      " [12 78]]\n",
      "\n",
      "Test Data Classification Report:\n",
      "               precision    recall  f1-score   support\n",
      "\n",
      "           0       0.82      0.74      0.78        19\n",
      "           1       0.80      0.87      0.83        23\n",
      "\n",
      "    accuracy                           0.81        42\n",
      "   macro avg       0.81      0.80      0.81        42\n",
      "weighted avg       0.81      0.81      0.81        42\n",
      "\n",
      "Test Data Confusion Matrix:\n",
      " [[14  5]\n",
      " [ 3 20]]\n",
      "\n"
     ]
    }
   ],
   "source": [
    "\n",
    "# GloVe vectors contain negative values and this is not suitable to MultinomialNB()  ( it needs positive values to work )\n",
    "# we can rescale with MinMaxScaler = This estimator scales and translates each feature individually such that it is in the given range on the training set, e.g. between zero and one.\n",
    "# for different types and applications of Naive Bayse : https://www.ibm.com/topics/naive-bayes#:~:text=The%20Na%C3%AFve%20Bayes%20classifier%20is,a%20given%20class%20or%20category.\n",
    "from sklearn.preprocessing import MinMaxScaler\n",
    "from sklearn.preprocessing import FunctionTransformer\n",
    "\n",
    "np.random.seed(7)\n",
    "\n",
    "# save the vectorizer function above into a format suitable for use in the clf pipeline ( in the classify function )\n",
    "vect = FunctionTransformer(text_to_vectors)\n",
    "\n",
    "# fit the models and \n",
    "for m in models:\n",
    "    print('GloVe', m)\n",
    "\n",
    "    if isinstance(m, MultinomialNB):\n",
    "        scaler = MinMaxScaler()\n",
    "    else:\n",
    "        scaler = None\n",
    "\n",
    "    classify(vect, m, X_train.new_text, y_train.asd, X_test.new_text, y_test.asd, scaler=scaler)\n",
    "    print()"
   ]
  },
  {
   "cell_type": "markdown",
   "metadata": {},
   "source": [
    "With GloVe embedings, some models classified ASD subreddits (1) with higher or equal precission, compared to the Other category (0) - contrary to what was expected ( see above discussion ) - why? maybe ASD class has shorter text, but more consistent patterns.\n",
    "\n",
    "Using a word embeding method method (GloVe) resulted in an accuracy ranging from:\n",
    "\n",
    "0.76 - for KNN ( training data was 0.82 => overfit)<br>\n",
    "0.81 - multinomial naive bayes (training data 0.86 => maybe overfit)<br>\n",
    "0.88 - for Random Forest ( training data 0.88 => not overfit)<br>\n",
    "0.83 - for the LogisticRegression (training data 0.88 => maybe overfit)<br>\n",
    "0.81 - SVM linear kernel (training data 0.85 => not overfit)<br>\n",
    "0.81 - SVM RBF kernel ( training data 0.87 => maybe overfit?)<br>\n",
    "\n",
    "\n",
    "The performance of the model using GloVe embedings is lower that vectorization using count frequencies (see above - accuracy range (0.76 to 0.93 )). This might be due to the information loss resulted after GloVe ( - it does dimensionality reduction ). Another reason could be the difference in type of text between the current data base and Common Crawl ( on which the GloVe embedings were trained ) - CountVectorizer and TF-IDF create own specific word vectors for the current dataset, while spaCy's GloVe model uses pretrained ones (we used out of the box, pretrained vectors ). \n",
    "\n",
    "“GloVe models utilise a dimensionality reduction step in order to handle the large dimensions of the word co-occurrence matrix that it uses in its calculations. Although compressing representations can arguably lead to a more robust representation (as it theoretically forces the model to try to preserve the most significant pieces of information), a bigger advantage comes from the fact that this approach is more suitable for parallelisation, making it easier to train on more data.” ([Gasparetto et al., 2022, p. 9](zotero://select/library/items/7QI33EDP)) ([pdf](zotero://open-pdf/library/items/GJM85X9Y?page=9&annotation=7IIF5HKM))\n"
   ]
  },
  {
   "cell_type": "markdown",
   "metadata": {},
   "source": [
    "##### Approach 3. Vectorization using shallow neural nets (word2vec in Gensim)\n",
    "\n",
    "SpaCy's out of the box GloVe model does not perform very well on domain specific data. \n",
    "Apply word2vec -> use gensim as it makes it easier to train own model and has more out of the box models to choose from.\n",
    "\n",
    "https://radimrehurek.com/gensim/models/word2vec.html"
   ]
  },
  {
   "cell_type": "markdown",
   "metadata": {},
   "source": [
    "##### Approach 3a. word2vec out of the box"
   ]
  },
  {
   "cell_type": "code",
   "execution_count": 68,
   "metadata": {},
   "outputs": [],
   "source": [
    "%%capture\n",
    "%pip install gensim"
   ]
  },
  {
   "cell_type": "code",
   "execution_count": 31,
   "metadata": {},
   "outputs": [
    {
     "name": "stdout",
     "output_type": "stream",
     "text": [
      "['fasttext-wiki-news-subwords-300',\n",
      " 'conceptnet-numberbatch-17-06-300',\n",
      " 'word2vec-ruscorpora-300',\n",
      " 'word2vec-google-news-300',\n",
      " 'glove-wiki-gigaword-50',\n",
      " 'glove-wiki-gigaword-100',\n",
      " 'glove-wiki-gigaword-200',\n",
      " 'glove-wiki-gigaword-300',\n",
      " 'glove-twitter-25',\n",
      " 'glove-twitter-50',\n",
      " 'glove-twitter-100',\n",
      " 'glove-twitter-200',\n",
      " '__testing_word2vec-matrix-synopsis']\n"
     ]
    }
   ],
   "source": [
    "import gensim\n",
    "import gensim.downloader as api\n",
    "from pprint import pprint\n",
    "\n",
    "# list pretrained models available in gensim\n",
    "# the training copus used for available models for english is google-news\n",
    "# this type of text is different then text on reddit \n",
    "# the expectation is that the out of the box model will not have improved performance compared to count vectorizers used initially\n",
    "pprint(list(api.info()['models'].keys()))"
   ]
  },
  {
   "cell_type": "code",
   "execution_count": 32,
   "metadata": {},
   "outputs": [],
   "source": [
    "# load the word2vec-google-news-300 pretrained model - the vector size is 300\n",
    "embeding_model = api.load('word2vec-google-news-300')"
   ]
  },
  {
   "cell_type": "code",
   "execution_count": 55,
   "metadata": {},
   "outputs": [
    {
     "data": {
      "text/plain": [
       "[('autism_spectrum_disorders', 0.8032153248786926),\n",
       " ('autistic', 0.7907200455665588),\n",
       " ('Autism', 0.7736356854438782),\n",
       " ('autism_spectrum_disorder', 0.7603526711463928),\n",
       " ('autism_spectrum', 0.7037034630775452),\n",
       " ('ASDs', 0.6698784828186035),\n",
       " ('developmental_disorders', 0.6663668155670166),\n",
       " ('ADHD', 0.6658616065979004),\n",
       " ('Autism_Spectrum_Disorder_ASD', 0.6601077914237976),\n",
       " ('developmental_disorder', 0.6575655937194824)]"
      ]
     },
     "execution_count": 55,
     "metadata": {},
     "output_type": "execute_result"
    }
   ],
   "source": [
    "embeding_model.most_similar('autism')"
   ]
  },
  {
   "cell_type": "code",
   "execution_count": 33,
   "metadata": {},
   "outputs": [
    {
     "data": {
      "text/html": [
       "<div>\n",
       "<style scoped>\n",
       "    .dataframe tbody tr th:only-of-type {\n",
       "        vertical-align: middle;\n",
       "    }\n",
       "\n",
       "    .dataframe tbody tr th {\n",
       "        vertical-align: top;\n",
       "    }\n",
       "\n",
       "    .dataframe thead th {\n",
       "        text-align: right;\n",
       "    }\n",
       "</style>\n",
       "<table border=\"1\" class=\"dataframe\">\n",
       "  <thead>\n",
       "    <tr style=\"text-align: right;\">\n",
       "      <th></th>\n",
       "      <th>text</th>\n",
       "      <th>new_text</th>\n",
       "      <th>tokenized_text</th>\n",
       "    </tr>\n",
       "  </thead>\n",
       "  <tbody>\n",
       "    <tr>\n",
       "      <th>116</th>\n",
       "      <td>womenonthespectrum womenonthespectrum A commun...</td>\n",
       "      <td>womenonthespectrum womenonthespectrum communit...</td>\n",
       "      <td>[womenonthespectrum, womenonthespectrum, commu...</td>\n",
       "    </tr>\n",
       "    <tr>\n",
       "      <th>293</th>\n",
       "      <td>The Owl House The Owl House A subreddit for th...</td>\n",
       "      <td>Owl House Owl House subreddit Disney fantasy c...</td>\n",
       "      <td>[Owl, House, Owl, House, subreddit, Disney, fa...</td>\n",
       "    </tr>\n",
       "  </tbody>\n",
       "</table>\n",
       "</div>"
      ],
      "text/plain": [
       "                                                  text  \\\n",
       "116  womenonthespectrum womenonthespectrum A commun...   \n",
       "293  The Owl House The Owl House A subreddit for th...   \n",
       "\n",
       "                                              new_text  \\\n",
       "116  womenonthespectrum womenonthespectrum communit...   \n",
       "293  Owl House Owl House subreddit Disney fantasy c...   \n",
       "\n",
       "                                        tokenized_text  \n",
       "116  [womenonthespectrum, womenonthespectrum, commu...  \n",
       "293  [Owl, House, Owl, House, subreddit, Disney, fa...  "
      ]
     },
     "execution_count": 33,
     "metadata": {},
     "output_type": "execute_result"
    }
   ],
   "source": [
    "# tokenize training text\n",
    "X_train['tokenized_text'] = X_train.new_text.apply(gensim.utils.tokenize)\n",
    "X_train['tokenized_text'] = X_train.tokenized_text.apply(list)\n",
    "\n",
    "X_train.head(2)"
   ]
  },
  {
   "cell_type": "code",
   "execution_count": 34,
   "metadata": {},
   "outputs": [
    {
     "data": {
      "text/html": [
       "<div>\n",
       "<style scoped>\n",
       "    .dataframe tbody tr th:only-of-type {\n",
       "        vertical-align: middle;\n",
       "    }\n",
       "\n",
       "    .dataframe tbody tr th {\n",
       "        vertical-align: top;\n",
       "    }\n",
       "\n",
       "    .dataframe thead th {\n",
       "        text-align: right;\n",
       "    }\n",
       "</style>\n",
       "<table border=\"1\" class=\"dataframe\">\n",
       "  <thead>\n",
       "    <tr style=\"text-align: right;\">\n",
       "      <th></th>\n",
       "      <th>text</th>\n",
       "      <th>new_text</th>\n",
       "      <th>tokenized_text</th>\n",
       "    </tr>\n",
       "  </thead>\n",
       "  <tbody>\n",
       "    <tr>\n",
       "      <th>231</th>\n",
       "      <td>Gamingcirclejerk Gaming Circlejerk Don Cheadle...</td>\n",
       "      <td>Gamingcirclejerk gaming Circlejerk Don Cheadle...</td>\n",
       "      <td>[Gamingcirclejerk, gaming, Circlejerk, Don, Ch...</td>\n",
       "    </tr>\n",
       "    <tr>\n",
       "      <th>243</th>\n",
       "      <td>ASDpeersupport ASD Peer Support Peer based sup...</td>\n",
       "      <td>ASDpeersupport ASD Peer support Peer base supp...</td>\n",
       "      <td>[ASDpeersupport, ASD, Peer, support, Peer, bas...</td>\n",
       "    </tr>\n",
       "  </tbody>\n",
       "</table>\n",
       "</div>"
      ],
      "text/plain": [
       "                                                  text  \\\n",
       "231  Gamingcirclejerk Gaming Circlejerk Don Cheadle...   \n",
       "243  ASDpeersupport ASD Peer Support Peer based sup...   \n",
       "\n",
       "                                              new_text  \\\n",
       "231  Gamingcirclejerk gaming Circlejerk Don Cheadle...   \n",
       "243  ASDpeersupport ASD Peer support Peer base supp...   \n",
       "\n",
       "                                        tokenized_text  \n",
       "231  [Gamingcirclejerk, gaming, Circlejerk, Don, Ch...  \n",
       "243  [ASDpeersupport, ASD, Peer, support, Peer, bas...  "
      ]
     },
     "execution_count": 34,
     "metadata": {},
     "output_type": "execute_result"
    }
   ],
   "source": [
    "# tokenize testing text\n",
    "X_test['tokenized_text'] = X_test.new_text.apply(gensim.utils.tokenize)\n",
    "X_test['tokenized_text'] = X_test.tokenized_text.apply(list)\n",
    "X_test.head(2)"
   ]
  },
  {
   "cell_type": "code",
   "execution_count": 74,
   "metadata": {},
   "outputs": [],
   "source": [
    "# function to get the text vectors \n",
    "def pretrained_vectorizer(X, vector_size=300):\n",
    "    doc_vectors = []\n",
    "    for index, row in X.iterrows():\n",
    "        tokenized_text = row['tokenized_text'] \n",
    "        doc_vector = np.zeros(vector_size)\n",
    "        for word in tokenized_text:\n",
    "            if word in embeding_model:\n",
    "                doc_vector += embeding_model[word]\n",
    "\n",
    "        doc_vectors.append(doc_vector)\n",
    "\n",
    "    return np.array(doc_vectors)"
   ]
  },
  {
   "cell_type": "code",
   "execution_count": 75,
   "metadata": {},
   "outputs": [
    {
     "name": "stdout",
     "output_type": "stream",
     "text": [
      "15 300\n",
      "685 300\n",
      "14 300\n",
      "230 300\n",
      "12 300\n",
      "7 300\n",
      "40 300\n",
      "352 300\n",
      "177 300\n",
      "8 300\n",
      "844 300\n",
      "490 300\n",
      "4 300\n",
      "350 300\n",
      "315 300\n",
      "527 300\n",
      "69 300\n",
      "99 300\n",
      "166 300\n",
      "33 300\n",
      "36 300\n",
      "547 300\n",
      "12 300\n",
      "4 300\n",
      "152 300\n",
      "50 300\n",
      "72 300\n",
      "377 300\n",
      "4 300\n",
      "544 300\n",
      "492 300\n",
      "60 300\n",
      "465 300\n",
      "40 300\n",
      "4 300\n",
      "232 300\n",
      "4 300\n",
      "12 300\n",
      "10 300\n",
      "11 300\n",
      "853 300\n",
      "13 300\n",
      "453 300\n",
      "81 300\n",
      "122 300\n",
      "786 300\n",
      "153 300\n",
      "226 300\n",
      "376 300\n",
      "27 300\n",
      "35 300\n",
      "549 300\n",
      "79 300\n",
      "36 300\n",
      "60 300\n",
      "137 300\n",
      "10 300\n",
      "539 300\n",
      "28 300\n",
      "48 300\n",
      "23 300\n",
      "26 300\n",
      "47 300\n",
      "51 300\n",
      "141 300\n",
      "4 300\n",
      "114 300\n",
      "130 300\n",
      "166 300\n",
      "40 300\n",
      "480 300\n",
      "466 300\n",
      "28 300\n",
      "11 300\n",
      "660 300\n",
      "663 300\n",
      "338 300\n",
      "16 300\n",
      "31 300\n",
      "320 300\n",
      "12 300\n",
      "99 300\n",
      "234 300\n",
      "20 300\n",
      "87 300\n",
      "37 300\n",
      "113 300\n",
      "12 300\n",
      "42 300\n",
      "11 300\n",
      "162 300\n",
      "44 300\n",
      "631 300\n",
      "50 300\n",
      "270 300\n",
      "12 300\n",
      "73 300\n",
      "45 300\n",
      "12 300\n",
      "9 300\n",
      "14 300\n",
      "179 300\n",
      "269 300\n",
      "9 300\n",
      "521 300\n",
      "15 300\n",
      "674 300\n",
      "60 300\n",
      "595 300\n",
      "468 300\n",
      "386 300\n",
      "75 300\n",
      "4 300\n",
      "169 300\n",
      "38 300\n",
      "50 300\n",
      "35 300\n",
      "12 300\n",
      "18 300\n",
      "9 300\n",
      "418 300\n",
      "13 300\n",
      "21 300\n",
      "18 300\n",
      "330 300\n",
      "18 300\n",
      "459 300\n",
      "846 300\n",
      "656 300\n",
      "64 300\n",
      "295 300\n",
      "56 300\n",
      "13 300\n",
      "35 300\n",
      "9 300\n",
      "55 300\n",
      "8 300\n",
      "421 300\n",
      "35 300\n",
      "64 300\n",
      "305 300\n",
      "451 300\n",
      "464 300\n",
      "543 300\n",
      "10 300\n",
      "10 300\n",
      "77 300\n",
      "22 300\n",
      "215 300\n",
      "9 300\n",
      "12 300\n",
      "78 300\n",
      "604 300\n",
      "23 300\n",
      "26 300\n",
      "14 300\n",
      "60 300\n",
      "949 300\n",
      "148 300\n",
      "487 300\n",
      "9 300\n",
      "492 300\n",
      "67 300\n",
      "88 300\n",
      "56 300\n",
      "96 300\n",
      "350 300\n",
      "72 300\n"
     ]
    }
   ],
   "source": [
    "X_train_vectorized = pretrained_vectorizer(X_train)\n",
    "# all the text vectors are the same size \n",
    "for i, v in enumerate(X_train_vectorized):\n",
    "    print(len(X_train.tokenized_text.iloc[i]), len(v))"
   ]
  },
  {
   "cell_type": "code",
   "execution_count": 76,
   "metadata": {},
   "outputs": [
    {
     "name": "stdout",
     "output_type": "stream",
     "text": [
      "word2Vec-pretrained KNeighborsClassifier()\n",
      "Cross-validated Classification Report:\n",
      "               precision    recall  f1-score   support\n",
      "\n",
      "           0       0.91      0.74      0.82        78\n",
      "           1       0.81      0.93      0.87        90\n",
      "\n",
      "    accuracy                           0.85       168\n",
      "   macro avg       0.86      0.84      0.84       168\n",
      "weighted avg       0.85      0.85      0.84       168\n",
      "\n",
      "Cross-validated Confusion Matrix:\n",
      " [[58 20]\n",
      " [ 6 84]]\n",
      "\n",
      "Test Data Classification Report:\n",
      "               precision    recall  f1-score   support\n",
      "\n",
      "           0       0.92      0.63      0.75        19\n",
      "           1       0.76      0.96      0.85        23\n",
      "\n",
      "    accuracy                           0.81        42\n",
      "   macro avg       0.84      0.79      0.80        42\n",
      "weighted avg       0.83      0.81      0.80        42\n",
      "\n",
      "Test Data Confusion Matrix:\n",
      " [[12  7]\n",
      " [ 1 22]]\n",
      "\n",
      "word2Vec-pretrained MultinomialNB()\n",
      "Cross-validated Classification Report:\n",
      "               precision    recall  f1-score   support\n",
      "\n",
      "           0       0.91      0.63      0.74        78\n",
      "           1       0.75      0.94      0.83        90\n",
      "\n",
      "    accuracy                           0.80       168\n",
      "   macro avg       0.83      0.79      0.79       168\n",
      "weighted avg       0.82      0.80      0.79       168\n",
      "\n",
      "Cross-validated Confusion Matrix:\n",
      " [[49 29]\n",
      " [ 5 85]]\n",
      "\n",
      "Test Data Classification Report:\n",
      "               precision    recall  f1-score   support\n",
      "\n",
      "           0       0.80      0.63      0.71        19\n",
      "           1       0.74      0.87      0.80        23\n",
      "\n",
      "    accuracy                           0.76        42\n",
      "   macro avg       0.77      0.75      0.75        42\n",
      "weighted avg       0.77      0.76      0.76        42\n",
      "\n",
      "Test Data Confusion Matrix:\n",
      " [[12  7]\n",
      " [ 3 20]]\n",
      "\n",
      "word2Vec-pretrained RandomForestClassifier()\n",
      "Cross-validated Classification Report:\n",
      "               precision    recall  f1-score   support\n",
      "\n",
      "           0       0.87      0.85      0.86        78\n",
      "           1       0.87      0.89      0.88        90\n",
      "\n",
      "    accuracy                           0.87       168\n",
      "   macro avg       0.87      0.87      0.87       168\n",
      "weighted avg       0.87      0.87      0.87       168\n",
      "\n",
      "Cross-validated Confusion Matrix:\n",
      " [[66 12]\n",
      " [10 80]]\n",
      "\n",
      "Test Data Classification Report:\n",
      "               precision    recall  f1-score   support\n",
      "\n",
      "           0       0.70      0.74      0.72        19\n",
      "           1       0.77      0.74      0.76        23\n",
      "\n",
      "    accuracy                           0.74        42\n",
      "   macro avg       0.74      0.74      0.74        42\n",
      "weighted avg       0.74      0.74      0.74        42\n",
      "\n",
      "Test Data Confusion Matrix:\n",
      " [[14  5]\n",
      " [ 6 17]]\n",
      "\n",
      "word2Vec-pretrained LogisticRegression()\n"
     ]
    },
    {
     "name": "stderr",
     "output_type": "stream",
     "text": [
      "/Library/Frameworks/Python.framework/Versions/3.10/lib/python3.10/site-packages/sklearn/linear_model/_logistic.py:458: ConvergenceWarning: lbfgs failed to converge (status=1):\n",
      "STOP: TOTAL NO. of ITERATIONS REACHED LIMIT.\n",
      "\n",
      "Increase the number of iterations (max_iter) or scale the data as shown in:\n",
      "    https://scikit-learn.org/stable/modules/preprocessing.html\n",
      "Please also refer to the documentation for alternative solver options:\n",
      "    https://scikit-learn.org/stable/modules/linear_model.html#logistic-regression\n",
      "  n_iter_i = _check_optimize_result(\n",
      "/Library/Frameworks/Python.framework/Versions/3.10/lib/python3.10/site-packages/sklearn/linear_model/_logistic.py:458: ConvergenceWarning: lbfgs failed to converge (status=1):\n",
      "STOP: TOTAL NO. of ITERATIONS REACHED LIMIT.\n",
      "\n",
      "Increase the number of iterations (max_iter) or scale the data as shown in:\n",
      "    https://scikit-learn.org/stable/modules/preprocessing.html\n",
      "Please also refer to the documentation for alternative solver options:\n",
      "    https://scikit-learn.org/stable/modules/linear_model.html#logistic-regression\n",
      "  n_iter_i = _check_optimize_result(\n",
      "/Library/Frameworks/Python.framework/Versions/3.10/lib/python3.10/site-packages/sklearn/linear_model/_logistic.py:458: ConvergenceWarning: lbfgs failed to converge (status=1):\n",
      "STOP: TOTAL NO. of ITERATIONS REACHED LIMIT.\n",
      "\n",
      "Increase the number of iterations (max_iter) or scale the data as shown in:\n",
      "    https://scikit-learn.org/stable/modules/preprocessing.html\n",
      "Please also refer to the documentation for alternative solver options:\n",
      "    https://scikit-learn.org/stable/modules/linear_model.html#logistic-regression\n",
      "  n_iter_i = _check_optimize_result(\n",
      "/Library/Frameworks/Python.framework/Versions/3.10/lib/python3.10/site-packages/sklearn/linear_model/_logistic.py:458: ConvergenceWarning: lbfgs failed to converge (status=1):\n",
      "STOP: TOTAL NO. of ITERATIONS REACHED LIMIT.\n",
      "\n",
      "Increase the number of iterations (max_iter) or scale the data as shown in:\n",
      "    https://scikit-learn.org/stable/modules/preprocessing.html\n",
      "Please also refer to the documentation for alternative solver options:\n",
      "    https://scikit-learn.org/stable/modules/linear_model.html#logistic-regression\n",
      "  n_iter_i = _check_optimize_result(\n",
      "/Library/Frameworks/Python.framework/Versions/3.10/lib/python3.10/site-packages/sklearn/linear_model/_logistic.py:458: ConvergenceWarning: lbfgs failed to converge (status=1):\n",
      "STOP: TOTAL NO. of ITERATIONS REACHED LIMIT.\n",
      "\n",
      "Increase the number of iterations (max_iter) or scale the data as shown in:\n",
      "    https://scikit-learn.org/stable/modules/preprocessing.html\n",
      "Please also refer to the documentation for alternative solver options:\n",
      "    https://scikit-learn.org/stable/modules/linear_model.html#logistic-regression\n",
      "  n_iter_i = _check_optimize_result(\n"
     ]
    },
    {
     "name": "stdout",
     "output_type": "stream",
     "text": [
      "Cross-validated Classification Report:\n",
      "               precision    recall  f1-score   support\n",
      "\n",
      "           0       0.93      0.87      0.90        78\n",
      "           1       0.89      0.94      0.92        90\n",
      "\n",
      "    accuracy                           0.91       168\n",
      "   macro avg       0.91      0.91      0.91       168\n",
      "weighted avg       0.91      0.91      0.91       168\n",
      "\n",
      "Cross-validated Confusion Matrix:\n",
      " [[68 10]\n",
      " [ 5 85]]\n",
      "\n",
      "Test Data Classification Report:\n",
      "               precision    recall  f1-score   support\n",
      "\n",
      "           0       0.81      0.68      0.74        19\n",
      "           1       0.77      0.87      0.82        23\n",
      "\n",
      "    accuracy                           0.79        42\n",
      "   macro avg       0.79      0.78      0.78        42\n",
      "weighted avg       0.79      0.79      0.78        42\n",
      "\n",
      "Test Data Confusion Matrix:\n",
      " [[13  6]\n",
      " [ 3 20]]\n",
      "\n",
      "word2Vec-pretrained SVC(kernel='linear')\n",
      "Cross-validated Classification Report:\n",
      "               precision    recall  f1-score   support\n",
      "\n",
      "           0       0.93      0.82      0.87        78\n",
      "           1       0.86      0.94      0.90        90\n",
      "\n",
      "    accuracy                           0.89       168\n",
      "   macro avg       0.89      0.88      0.89       168\n",
      "weighted avg       0.89      0.89      0.89       168\n",
      "\n",
      "Cross-validated Confusion Matrix:\n",
      " [[64 14]\n",
      " [ 5 85]]\n",
      "\n",
      "Test Data Classification Report:\n",
      "               precision    recall  f1-score   support\n",
      "\n",
      "           0       0.87      0.68      0.76        19\n",
      "           1       0.78      0.91      0.84        23\n",
      "\n",
      "    accuracy                           0.81        42\n",
      "   macro avg       0.82      0.80      0.80        42\n",
      "weighted avg       0.82      0.81      0.81        42\n",
      "\n",
      "Test Data Confusion Matrix:\n",
      " [[13  6]\n",
      " [ 2 21]]\n",
      "\n",
      "word2Vec-pretrained SVC()\n",
      "Cross-validated Classification Report:\n",
      "               precision    recall  f1-score   support\n",
      "\n",
      "           0       0.90      0.67      0.76        78\n",
      "           1       0.76      0.93      0.84        90\n",
      "\n",
      "    accuracy                           0.81       168\n",
      "   macro avg       0.83      0.80      0.80       168\n",
      "weighted avg       0.83      0.81      0.81       168\n",
      "\n",
      "Cross-validated Confusion Matrix:\n",
      " [[52 26]\n",
      " [ 6 84]]\n",
      "\n",
      "Test Data Classification Report:\n",
      "               precision    recall  f1-score   support\n",
      "\n",
      "           0       0.81      0.68      0.74        19\n",
      "           1       0.77      0.87      0.82        23\n",
      "\n",
      "    accuracy                           0.79        42\n",
      "   macro avg       0.79      0.78      0.78        42\n",
      "weighted avg       0.79      0.79      0.78        42\n",
      "\n",
      "Test Data Confusion Matrix:\n",
      " [[13  6]\n",
      " [ 3 20]]\n",
      "\n"
     ]
    }
   ],
   "source": [
    "np.random.seed(7)\n",
    "\n",
    "# save the vectorizer function above into a format suitable for use in the clf pipeline ( in the classify function )\n",
    "vect_pretrained = FunctionTransformer(pretrained_vectorizer, validate=False)\n",
    "\n",
    "# fit the classification models \n",
    "for m in models:\n",
    "    print('word2Vec-pretrained', m)\n",
    "\n",
    "    if isinstance(m, MultinomialNB):\n",
    "        scaler = MinMaxScaler()\n",
    "    else:\n",
    "        scaler = None\n",
    "\n",
    "    classify(vect_pretrained, m, X_train, y_train.asd, X_test, y_test.asd, scaler=scaler)\n",
    "    print()"
   ]
  },
  {
   "cell_type": "markdown",
   "metadata": {},
   "source": [
    "With word2vec embedings, most models classified the Other category (0) with higher  precission - as was expected ( see above discussion ).\n",
    "\n",
    "Using a word embeding method method (word2Vec - google news corpus - from Gensim) resulted in an accuracy ranging from:\n",
    "\n",
    "0.81 - for KNN ( training data was 0.85 => not overfit)<br>\n",
    "0.76 - multinomial naive bayes (training data 0.80 => overfit)<br>\n",
    "0.74 - for Random Forest ( training data 0.87 => overfit)<br>\n",
    "0.79 - for Logistic regression ( training data 0.91 => overfit)<br>\n",
    "0.81 - SVM linear kernel (training data 0.89 => maybe overfit)<br>\n",
    "0.79 - SVM RBF kernel ( training data 0.81 => not overfit)<br>\n",
    "\n",
    "\n",
    "Same as GloVe, the performance of the models using word2vec embedings is lower than vectorization using count frequencies (see above - accuracy range (0.76 to 0.93 )). The same reasoning applies: the difference in type of text between the current data base and google news text ( on which the word2vec embedings were trained ) - CountVectorizer and TF-IDF create own specific word vectors for the current dataset, while word2vec model uses pretrained ones (we used out of the box, pretrained vectors ). \n"
   ]
  },
  {
   "cell_type": "markdown",
   "metadata": {},
   "source": [
    "##### Approach 3b. word2vec trained on the present corpus \n",
    "The dataset is small, and this approach is expected to result in poor performance"
   ]
  },
  {
   "cell_type": "code",
   "execution_count": 77,
   "metadata": {},
   "outputs": [],
   "source": [
    "from gensim.models import Word2Vec"
   ]
  },
  {
   "cell_type": "code",
   "execution_count": 78,
   "metadata": {},
   "outputs": [],
   "source": [
    "# https://rare-technologies.com/word2vec-tutorial/\n",
    "# initialise a word2vec model\n",
    "w2v_model = gensim.models.Word2Vec(\n",
    "    vector_size=300,\n",
    "    window=10,\n",
    "    min_count=5,     # some text descriptions are very short and we want to include all the information/data in the training\n",
    "    epochs=10       # default is 5\n",
    ") "
   ]
  },
  {
   "cell_type": "code",
   "execution_count": 79,
   "metadata": {},
   "outputs": [],
   "source": [
    "# build a vocab\n",
    "np.random.seed(7)\n",
    "w2v_model.build_vocab(X_train.tokenized_text)"
   ]
  },
  {
   "cell_type": "code",
   "execution_count": 80,
   "metadata": {},
   "outputs": [
    {
     "data": {
      "text/plain": [
       "168"
      ]
     },
     "execution_count": 80,
     "metadata": {},
     "output_type": "execute_result"
    }
   ],
   "source": [
    "w2v_model.corpus_count"
   ]
  },
  {
   "cell_type": "code",
   "execution_count": 81,
   "metadata": {},
   "outputs": [
    {
     "data": {
      "text/plain": [
       "(176328, 310770)"
      ]
     },
     "execution_count": 81,
     "metadata": {},
     "output_type": "execute_result"
    }
   ],
   "source": [
    "# train the model\n",
    "np.random.seed(7)\n",
    "w2v_model.train(\n",
    "    X_train.tokenized_text, \n",
    "    total_examples=w2v_model.corpus_count,\n",
    "    epochs=w2v_model.epochs,\n",
    ")"
   ]
  },
  {
   "cell_type": "code",
   "execution_count": 82,
   "metadata": {},
   "outputs": [],
   "source": [
    "w2v_model.save('models/w2v_subreddits.model')"
   ]
  },
  {
   "cell_type": "code",
   "execution_count": 83,
   "metadata": {},
   "outputs": [
    {
     "data": {
      "text/plain": [
       "[('spectrum', 0.9988039135932922),\n",
       " ('Asperger', 0.997205376625061),\n",
       " ('Autism', 0.9946227073669434),\n",
       " ('discuss', 0.9921412467956543),\n",
       " ('clinically', 0.991982102394104),\n",
       " ('diagnostic', 0.9908242225646973),\n",
       " ('community', 0.9899144172668457),\n",
       " ('people', 0.9887209534645081),\n",
       " ('autistic', 0.987491250038147),\n",
       " ('help', 0.9866023659706116)]"
      ]
     },
     "execution_count": 83,
     "metadata": {},
     "output_type": "execute_result"
    }
   ],
   "source": [
    "w2v_model.wv.most_similar('autism')"
   ]
  },
  {
   "cell_type": "code",
   "execution_count": 84,
   "metadata": {},
   "outputs": [],
   "source": [
    "# get word vectors\n",
    "words = set(w2v_model.wv.index_to_key )\n",
    "X_train_vect = np.array([np.array([w2v_model.wv[i] for i in ls if i in words])\n",
    "                         for ls in X_train.tokenized_text], dtype=object)\n",
    "X_test_vect = np.array([np.array([w2v_model.wv[i] for i in ls if i in words])\n",
    "                         for ls in X_test.tokenized_text], dtype=object)\n"
   ]
  },
  {
   "cell_type": "code",
   "execution_count": 85,
   "metadata": {},
   "outputs": [
    {
     "name": "stdout",
     "output_type": "stream",
     "text": [
      "15 12\n",
      "685 198\n",
      "14 13\n",
      "230 140\n",
      "12 11\n",
      "7 6\n",
      "40 30\n",
      "352 254\n",
      "177 121\n",
      "8 7\n",
      "844 622\n",
      "490 308\n",
      "4 4\n",
      "350 280\n",
      "315 205\n",
      "527 437\n",
      "69 59\n",
      "99 62\n",
      "166 132\n",
      "33 19\n",
      "36 23\n",
      "547 380\n",
      "12 9\n",
      "4 2\n",
      "152 102\n",
      "50 43\n",
      "72 46\n",
      "377 286\n",
      "4 3\n",
      "544 478\n",
      "492 344\n",
      "60 35\n",
      "465 359\n",
      "40 30\n",
      "4 2\n",
      "232 151\n",
      "4 2\n",
      "12 6\n",
      "10 7\n",
      "11 10\n",
      "853 635\n",
      "13 7\n",
      "453 309\n",
      "81 63\n",
      "122 75\n",
      "786 607\n",
      "153 112\n",
      "226 184\n",
      "376 281\n",
      "27 21\n",
      "35 31\n",
      "549 409\n",
      "79 42\n",
      "36 21\n",
      "60 54\n",
      "137 95\n",
      "10 10\n",
      "539 371\n",
      "28 18\n",
      "48 37\n",
      "23 17\n",
      "26 20\n",
      "47 41\n",
      "51 48\n",
      "141 124\n",
      "4 4\n",
      "114 62\n",
      "130 102\n",
      "166 132\n",
      "40 28\n",
      "480 414\n",
      "466 340\n",
      "28 20\n",
      "11 9\n",
      "660 510\n",
      "663 478\n",
      "338 235\n",
      "16 12\n",
      "31 21\n",
      "320 247\n",
      "12 4\n",
      "99 89\n",
      "234 152\n",
      "20 10\n",
      "87 57\n",
      "37 30\n",
      "113 76\n",
      "12 10\n",
      "42 26\n",
      "11 7\n",
      "162 116\n",
      "44 28\n",
      "631 516\n",
      "50 39\n",
      "270 207\n",
      "12 10\n",
      "73 41\n",
      "45 39\n",
      "12 11\n",
      "9 6\n",
      "14 14\n",
      "179 132\n",
      "269 205\n",
      "9 3\n",
      "521 386\n",
      "15 15\n",
      "674 519\n",
      "60 52\n",
      "595 456\n",
      "468 222\n",
      "386 281\n",
      "75 21\n",
      "4 0\n",
      "169 135\n",
      "38 26\n",
      "50 28\n",
      "35 27\n",
      "12 8\n",
      "18 7\n",
      "9 4\n",
      "418 298\n",
      "13 11\n",
      "21 12\n",
      "18 13\n",
      "330 228\n",
      "18 16\n",
      "459 363\n",
      "846 753\n",
      "656 455\n",
      "64 52\n",
      "295 229\n",
      "56 46\n",
      "13 12\n",
      "35 14\n",
      "9 8\n",
      "55 50\n",
      "8 4\n",
      "421 313\n",
      "35 24\n",
      "64 53\n",
      "305 232\n",
      "451 314\n",
      "464 274\n",
      "543 403\n",
      "10 6\n",
      "10 10\n",
      "77 61\n",
      "22 18\n",
      "215 180\n",
      "9 5\n",
      "12 10\n",
      "78 68\n",
      "604 407\n",
      "23 11\n",
      "26 16\n",
      "14 10\n",
      "60 54\n",
      "949 604\n",
      "148 105\n",
      "487 402\n",
      "9 4\n",
      "492 412\n",
      "67 46\n",
      "88 72\n",
      "56 20\n",
      "96 79\n",
      "350 272\n",
      "72 48\n"
     ]
    }
   ],
   "source": [
    "# the vectors obtained above are not of equal size for the whole corpus\n",
    "# we need to average the word vectors into a text vector of size 300 - each text will be represented as a vector of size 300 \n",
    "# size = 300 because this it the size we used so far for the other models and for consistenci reasons we kept the same for the current model\n",
    "for i, v in enumerate(X_train_vect):\n",
    "    print(len(X_train.tokenized_text.iloc[i]), len(v))"
   ]
  },
  {
   "cell_type": "code",
   "execution_count": null,
   "metadata": {},
   "outputs": [],
   "source": [
    "X_train_vect.shape, X_test_vect.shape"
   ]
  },
  {
   "cell_type": "code",
   "execution_count": 87,
   "metadata": {},
   "outputs": [],
   "source": [
    "# function to compute text vectors by averaging the word vectors for the words contained in the text\n",
    "# average word vector to get a singel text vector of size=300 ( see above discussion )\n",
    "def w2v_vectorizer(X, vector_size=300):\n",
    "    words = set(w2v_model.wv.index_to_key)\n",
    "    X_vect = np.array([np.array([w2v_model.wv[i] for i in ls if i in words])\n",
    "                      for ls in X], dtype=object)\n",
    "\n",
    "    X_vect_avg = []\n",
    "    for v in X_vect:\n",
    "        if v.size:\n",
    "            X_vect_avg.append(v.mean(axis=0))\n",
    "        else:\n",
    "            X_vect_avg.append(np.zeros(vector_size, dtype=float))\n",
    "\n",
    "    return np.array(X_vect_avg)\n"
   ]
  },
  {
   "cell_type": "code",
   "execution_count": 88,
   "metadata": {},
   "outputs": [
    {
     "name": "stdout",
     "output_type": "stream",
     "text": [
      "15 300\n",
      "685 300\n",
      "14 300\n",
      "230 300\n",
      "12 300\n",
      "7 300\n",
      "40 300\n",
      "352 300\n",
      "177 300\n",
      "8 300\n",
      "844 300\n",
      "490 300\n",
      "4 300\n",
      "350 300\n",
      "315 300\n",
      "527 300\n",
      "69 300\n",
      "99 300\n",
      "166 300\n",
      "33 300\n",
      "36 300\n",
      "547 300\n",
      "12 300\n",
      "4 300\n",
      "152 300\n",
      "50 300\n",
      "72 300\n",
      "377 300\n",
      "4 300\n",
      "544 300\n",
      "492 300\n",
      "60 300\n",
      "465 300\n",
      "40 300\n",
      "4 300\n",
      "232 300\n",
      "4 300\n",
      "12 300\n",
      "10 300\n",
      "11 300\n",
      "853 300\n",
      "13 300\n",
      "453 300\n",
      "81 300\n",
      "122 300\n",
      "786 300\n",
      "153 300\n",
      "226 300\n",
      "376 300\n",
      "27 300\n",
      "35 300\n",
      "549 300\n",
      "79 300\n",
      "36 300\n",
      "60 300\n",
      "137 300\n",
      "10 300\n",
      "539 300\n",
      "28 300\n",
      "48 300\n",
      "23 300\n",
      "26 300\n",
      "47 300\n",
      "51 300\n",
      "141 300\n",
      "4 300\n",
      "114 300\n",
      "130 300\n",
      "166 300\n",
      "40 300\n",
      "480 300\n",
      "466 300\n",
      "28 300\n",
      "11 300\n",
      "660 300\n",
      "663 300\n",
      "338 300\n",
      "16 300\n",
      "31 300\n",
      "320 300\n",
      "12 300\n",
      "99 300\n",
      "234 300\n",
      "20 300\n",
      "87 300\n",
      "37 300\n",
      "113 300\n",
      "12 300\n",
      "42 300\n",
      "11 300\n",
      "162 300\n",
      "44 300\n",
      "631 300\n",
      "50 300\n",
      "270 300\n",
      "12 300\n",
      "73 300\n",
      "45 300\n",
      "12 300\n",
      "9 300\n",
      "14 300\n",
      "179 300\n",
      "269 300\n",
      "9 300\n",
      "521 300\n",
      "15 300\n",
      "674 300\n",
      "60 300\n",
      "595 300\n",
      "468 300\n",
      "386 300\n",
      "75 300\n",
      "4 300\n",
      "169 300\n",
      "38 300\n",
      "50 300\n",
      "35 300\n",
      "12 300\n",
      "18 300\n",
      "9 300\n",
      "418 300\n",
      "13 300\n",
      "21 300\n",
      "18 300\n",
      "330 300\n",
      "18 300\n",
      "459 300\n",
      "846 300\n",
      "656 300\n",
      "64 300\n",
      "295 300\n",
      "56 300\n",
      "13 300\n",
      "35 300\n",
      "9 300\n",
      "55 300\n",
      "8 300\n",
      "421 300\n",
      "35 300\n",
      "64 300\n",
      "305 300\n",
      "451 300\n",
      "464 300\n",
      "543 300\n",
      "10 300\n",
      "10 300\n",
      "77 300\n",
      "22 300\n",
      "215 300\n",
      "9 300\n",
      "12 300\n",
      "78 300\n",
      "604 300\n",
      "23 300\n",
      "26 300\n",
      "14 300\n",
      "60 300\n",
      "949 300\n",
      "148 300\n",
      "487 300\n",
      "9 300\n",
      "492 300\n",
      "67 300\n",
      "88 300\n",
      "56 300\n",
      "96 300\n",
      "350 300\n",
      "72 300\n"
     ]
    }
   ],
   "source": [
    "X_train_vectorized = w2v_vectorizer(X_train.tokenized_text)\n",
    "# now all the text vectors are the same size\n",
    "for i, v in enumerate(X_train_vectorized):\n",
    "    print(len(X_train.tokenized_text.iloc[i]), len(v))"
   ]
  },
  {
   "cell_type": "code",
   "execution_count": 89,
   "metadata": {},
   "outputs": [
    {
     "data": {
      "text/plain": [
       "[KNeighborsClassifier(),\n",
       " MultinomialNB(),\n",
       " RandomForestClassifier(),\n",
       " LogisticRegression(),\n",
       " SVC(kernel='linear'),\n",
       " SVC()]"
      ]
     },
     "execution_count": 89,
     "metadata": {},
     "output_type": "execute_result"
    }
   ],
   "source": [
    "# fit a model for predictions - this also evaluates the performance of current word2vec model\n",
    "# (word2vec is an unsupervised model; thus it can only be evaluated when solving a specific task - here text classification)\n",
    "# classification models used ( to be consistent with the previous analysis )\n",
    "models"
   ]
  },
  {
   "cell_type": "code",
   "execution_count": 90,
   "metadata": {},
   "outputs": [
    {
     "name": "stdout",
     "output_type": "stream",
     "text": [
      "Custom trained word2Vec KNeighborsClassifier()\n",
      "Cross-validated Classification Report:\n",
      "               precision    recall  f1-score   support\n",
      "\n",
      "           0       0.85      0.88      0.87        78\n",
      "           1       0.90      0.87      0.88        90\n",
      "\n",
      "    accuracy                           0.88       168\n",
      "   macro avg       0.87      0.88      0.87       168\n",
      "weighted avg       0.88      0.88      0.88       168\n",
      "\n",
      "Cross-validated Confusion Matrix:\n",
      " [[69  9]\n",
      " [12 78]]\n",
      "\n",
      "Test Data Classification Report:\n",
      "               precision    recall  f1-score   support\n",
      "\n",
      "           0       0.89      0.84      0.86        19\n",
      "           1       0.88      0.91      0.89        23\n",
      "\n",
      "    accuracy                           0.88        42\n",
      "   macro avg       0.88      0.88      0.88        42\n",
      "weighted avg       0.88      0.88      0.88        42\n",
      "\n",
      "Test Data Confusion Matrix:\n",
      " [[16  3]\n",
      " [ 2 21]]\n",
      "\n",
      "Custom trained word2Vec MultinomialNB()\n"
     ]
    },
    {
     "name": "stdout",
     "output_type": "stream",
     "text": [
      "Cross-validated Classification Report:\n",
      "               precision    recall  f1-score   support\n",
      "\n",
      "           0       0.89      0.76      0.82        78\n",
      "           1       0.81      0.92      0.86        90\n",
      "\n",
      "    accuracy                           0.85       168\n",
      "   macro avg       0.85      0.84      0.84       168\n",
      "weighted avg       0.85      0.85      0.84       168\n",
      "\n",
      "Cross-validated Confusion Matrix:\n",
      " [[59 19]\n",
      " [ 7 83]]\n",
      "\n",
      "Test Data Classification Report:\n",
      "               precision    recall  f1-score   support\n",
      "\n",
      "           0       1.00      0.68      0.81        19\n",
      "           1       0.79      1.00      0.88        23\n",
      "\n",
      "    accuracy                           0.86        42\n",
      "   macro avg       0.90      0.84      0.85        42\n",
      "weighted avg       0.89      0.86      0.85        42\n",
      "\n",
      "Test Data Confusion Matrix:\n",
      " [[13  6]\n",
      " [ 0 23]]\n",
      "\n",
      "Custom trained word2Vec RandomForestClassifier()\n",
      "Cross-validated Classification Report:\n",
      "               precision    recall  f1-score   support\n",
      "\n",
      "           0       0.84      0.88      0.86        78\n",
      "           1       0.90      0.86      0.88        90\n",
      "\n",
      "    accuracy                           0.87       168\n",
      "   macro avg       0.87      0.87      0.87       168\n",
      "weighted avg       0.87      0.87      0.87       168\n",
      "\n",
      "Cross-validated Confusion Matrix:\n",
      " [[69  9]\n",
      " [13 77]]\n",
      "\n",
      "Test Data Classification Report:\n",
      "               precision    recall  f1-score   support\n",
      "\n",
      "           0       0.88      0.79      0.83        19\n",
      "           1       0.84      0.91      0.87        23\n",
      "\n",
      "    accuracy                           0.86        42\n",
      "   macro avg       0.86      0.85      0.85        42\n",
      "weighted avg       0.86      0.86      0.86        42\n",
      "\n",
      "Test Data Confusion Matrix:\n",
      " [[15  4]\n",
      " [ 2 21]]\n",
      "\n",
      "Custom trained word2Vec LogisticRegression()\n",
      "Cross-validated Classification Report:\n",
      "               precision    recall  f1-score   support\n",
      "\n",
      "           0       0.87      0.86      0.86        78\n",
      "           1       0.88      0.89      0.88        90\n",
      "\n",
      "    accuracy                           0.88       168\n",
      "   macro avg       0.87      0.87      0.87       168\n",
      "weighted avg       0.87      0.88      0.87       168\n",
      "\n",
      "Cross-validated Confusion Matrix:\n",
      " [[67 11]\n",
      " [10 80]]\n",
      "\n",
      "Test Data Classification Report:\n",
      "               precision    recall  f1-score   support\n",
      "\n",
      "           0       0.93      0.74      0.82        19\n",
      "           1       0.81      0.96      0.88        23\n",
      "\n",
      "    accuracy                           0.86        42\n",
      "   macro avg       0.87      0.85      0.85        42\n",
      "weighted avg       0.87      0.86      0.85        42\n",
      "\n",
      "Test Data Confusion Matrix:\n",
      " [[14  5]\n",
      " [ 1 22]]\n",
      "\n",
      "Custom trained word2Vec SVC(kernel='linear')\n",
      "Cross-validated Classification Report:\n",
      "               precision    recall  f1-score   support\n",
      "\n",
      "           0       0.87      0.91      0.89        78\n",
      "           1       0.92      0.88      0.90        90\n",
      "\n",
      "    accuracy                           0.89       168\n",
      "   macro avg       0.89      0.89      0.89       168\n",
      "weighted avg       0.89      0.89      0.89       168\n",
      "\n",
      "Cross-validated Confusion Matrix:\n",
      " [[71  7]\n",
      " [11 79]]\n",
      "\n",
      "Test Data Classification Report:\n",
      "               precision    recall  f1-score   support\n",
      "\n",
      "           0       1.00      0.74      0.85        19\n",
      "           1       0.82      1.00      0.90        23\n",
      "\n",
      "    accuracy                           0.88        42\n",
      "   macro avg       0.91      0.87      0.88        42\n",
      "weighted avg       0.90      0.88      0.88        42\n",
      "\n",
      "Test Data Confusion Matrix:\n",
      " [[14  5]\n",
      " [ 0 23]]\n",
      "\n",
      "Custom trained word2Vec SVC()\n",
      "Cross-validated Classification Report:\n",
      "               precision    recall  f1-score   support\n",
      "\n",
      "           0       0.86      0.82      0.84        78\n",
      "           1       0.85      0.89      0.87        90\n",
      "\n",
      "    accuracy                           0.86       168\n",
      "   macro avg       0.86      0.85      0.86       168\n",
      "weighted avg       0.86      0.86      0.86       168\n",
      "\n",
      "Cross-validated Confusion Matrix:\n",
      " [[64 14]\n",
      " [10 80]]\n",
      "\n",
      "Test Data Classification Report:\n",
      "               precision    recall  f1-score   support\n",
      "\n",
      "           0       1.00      0.68      0.81        19\n",
      "           1       0.79      1.00      0.88        23\n",
      "\n",
      "    accuracy                           0.86        42\n",
      "   macro avg       0.90      0.84      0.85        42\n",
      "weighted avg       0.89      0.86      0.85        42\n",
      "\n",
      "Test Data Confusion Matrix:\n",
      " [[13  6]\n",
      " [ 0 23]]\n",
      "\n"
     ]
    }
   ],
   "source": [
    "import warnings\n",
    "\n",
    "# dont show VisibleDeprecationWarning\n",
    "warnings.filterwarnings(\"ignore\")\n",
    "\n",
    "np.random.seed(7)\n",
    "\n",
    "# save the vectorizer function above into a format suitable for use in the clf pipeline ( in the classify function )\n",
    "vect = FunctionTransformer(w2v_vectorizer, validate=False)\n",
    "\n",
    "# fit the classification models \n",
    "for m in models:\n",
    "    print('Custom trained word2Vec', m)\n",
    "\n",
    "    if isinstance(m, MultinomialNB):\n",
    "        scaler = MinMaxScaler()\n",
    "    else:\n",
    "        scaler = None\n",
    "\n",
    "    classify(vect, m, X_train.tokenized_text, y_train.asd, X_test.tokenized_text, y_test.asd, scaler=scaler)\n",
    "    print()\n"
   ]
  },
  {
   "cell_type": "markdown",
   "metadata": {},
   "source": [
    "The word2vec embedings trained on the current dataset, performed better than the out of the box, pretrained model available in Gensim. Accuracy for the models:\n",
    "\n",
    "0.88 - for KNN ( training data was 0.88 => not overfit)<br>\n",
    "0.86 - multinomial naive bayes (training data 0.85 => not overfit)<br>\n",
    "0.86 - for Random Forest ( training data 0.87 => not overfit)<br>\n",
    "0.86 - for Logistic Regression ( training data 0.88 => not overfit)<br>\n",
    "0.88 - SVM linear kernel (training data 0.89 => not overfit)<br>\n",
    "0.86 - SVM RBF kernel ( training data 0.86 => not overfit)<br>\n",
    "\n",
    "Training a word2vec model on this current dataset did not improve performance when compared to previous frequency based vectorizers. This is a complex model, and for it to perform best it needs a much larger dataset than the one we currently have. This analysis indicates that perhaps for simple text classification tasks, with a small dataset, classical vectorization tehniques based on word counts might be more appropriate. \n",
    "\n",
    "However it is worth noting that the overall, performance on test sets was better than trainig, sugessting that the models trained with these vectors are less likely to be overfitted. Also we notice consistent, similar performance with all 4 classification models used - this is in line with the reasoning that in NLP the quality of text representations is more important that the actual machine learning algorithm used for classification or prediction (need citation). \n"
   ]
  },
  {
   "cell_type": "markdown",
   "metadata": {},
   "source": [
    "##### Approach 4. Vectorization using shallow neural nets (GloVe - pretrained on twitter data )\n",
    "\n",
    "To my knowledge there is no  pretrained model on Reddit data. But there are emebding models trained on social media data : for ex. glove-twitter-200 from the Gensim library. Will this result in a better performance?"
   ]
  },
  {
   "cell_type": "code",
   "execution_count": 91,
   "metadata": {},
   "outputs": [],
   "source": [
    "# load the glove-twitter-200 pretrained model - the vector size is 200\n",
    "embeding_model = api.load('glove-twitter-200')"
   ]
  },
  {
   "cell_type": "code",
   "execution_count": 92,
   "metadata": {},
   "outputs": [
    {
     "name": "stdout",
     "output_type": "stream",
     "text": [
      "15 200\n",
      "685 200\n",
      "14 200\n",
      "230 200\n",
      "12 200\n",
      "7 200\n",
      "40 200\n",
      "352 200\n",
      "177 200\n",
      "8 200\n",
      "844 200\n",
      "490 200\n",
      "4 200\n",
      "350 200\n",
      "315 200\n",
      "527 200\n",
      "69 200\n",
      "99 200\n",
      "166 200\n",
      "33 200\n",
      "36 200\n",
      "547 200\n",
      "12 200\n",
      "4 200\n",
      "152 200\n",
      "50 200\n",
      "72 200\n",
      "377 200\n",
      "4 200\n",
      "544 200\n",
      "492 200\n",
      "60 200\n",
      "465 200\n",
      "40 200\n",
      "4 200\n",
      "232 200\n",
      "4 200\n",
      "12 200\n",
      "10 200\n",
      "11 200\n",
      "853 200\n",
      "13 200\n",
      "453 200\n",
      "81 200\n",
      "122 200\n",
      "786 200\n",
      "153 200\n",
      "226 200\n",
      "376 200\n",
      "27 200\n",
      "35 200\n",
      "549 200\n",
      "79 200\n",
      "36 200\n",
      "60 200\n",
      "137 200\n",
      "10 200\n",
      "539 200\n",
      "28 200\n",
      "48 200\n",
      "23 200\n",
      "26 200\n",
      "47 200\n",
      "51 200\n",
      "141 200\n",
      "4 200\n",
      "114 200\n",
      "130 200\n",
      "166 200\n",
      "40 200\n",
      "480 200\n",
      "466 200\n",
      "28 200\n",
      "11 200\n",
      "660 200\n",
      "663 200\n",
      "338 200\n",
      "16 200\n",
      "31 200\n",
      "320 200\n",
      "12 200\n",
      "99 200\n",
      "234 200\n",
      "20 200\n",
      "87 200\n",
      "37 200\n",
      "113 200\n",
      "12 200\n",
      "42 200\n",
      "11 200\n",
      "162 200\n",
      "44 200\n",
      "631 200\n",
      "50 200\n",
      "270 200\n",
      "12 200\n",
      "73 200\n",
      "45 200\n",
      "12 200\n",
      "9 200\n",
      "14 200\n",
      "179 200\n",
      "269 200\n",
      "9 200\n",
      "521 200\n",
      "15 200\n",
      "674 200\n",
      "60 200\n",
      "595 200\n",
      "468 200\n",
      "386 200\n",
      "75 200\n",
      "4 200\n",
      "169 200\n",
      "38 200\n",
      "50 200\n",
      "35 200\n",
      "12 200\n",
      "18 200\n",
      "9 200\n",
      "418 200\n",
      "13 200\n",
      "21 200\n",
      "18 200\n",
      "330 200\n",
      "18 200\n",
      "459 200\n",
      "846 200\n",
      "656 200\n",
      "64 200\n",
      "295 200\n",
      "56 200\n",
      "13 200\n",
      "35 200\n",
      "9 200\n",
      "55 200\n",
      "8 200\n",
      "421 200\n",
      "35 200\n",
      "64 200\n",
      "305 200\n",
      "451 200\n",
      "464 200\n",
      "543 200\n",
      "10 200\n",
      "10 200\n",
      "77 200\n",
      "22 200\n",
      "215 200\n",
      "9 200\n",
      "12 200\n",
      "78 200\n",
      "604 200\n",
      "23 200\n",
      "26 200\n",
      "14 200\n",
      "60 200\n",
      "949 200\n",
      "148 200\n",
      "487 200\n",
      "9 200\n",
      "492 200\n",
      "67 200\n",
      "88 200\n",
      "56 200\n",
      "96 200\n",
      "350 200\n",
      "72 200\n"
     ]
    }
   ],
   "source": [
    "X_train_vectorized = pretrained_vectorizer(X_train,vector_size=200)\n",
    "# all the text vectors are the same size \n",
    "for i, v in enumerate(X_train_vectorized):\n",
    "    print(len(X_train.tokenized_text.iloc[i]), len(v))"
   ]
  },
  {
   "cell_type": "code",
   "execution_count": 93,
   "metadata": {},
   "outputs": [],
   "source": [
    "# vectorizer function for vector size=200\n",
    "def pretrained_vectorizer200(X):\n",
    "    return pretrained_vectorizer(X, 200)"
   ]
  },
  {
   "cell_type": "code",
   "execution_count": 94,
   "metadata": {},
   "outputs": [
    {
     "name": "stdout",
     "output_type": "stream",
     "text": [
      "GloVe Twitter KNeighborsClassifier()\n",
      "Cross-validated Classification Report:\n",
      "               precision    recall  f1-score   support\n",
      "\n",
      "           0       0.86      0.73      0.79        78\n",
      "           1       0.79      0.90      0.84        90\n",
      "\n",
      "    accuracy                           0.82       168\n",
      "   macro avg       0.83      0.82      0.82       168\n",
      "weighted avg       0.83      0.82      0.82       168\n",
      "\n",
      "Cross-validated Confusion Matrix:\n",
      " [[57 21]\n",
      " [ 9 81]]\n",
      "\n",
      "Test Data Classification Report:\n",
      "               precision    recall  f1-score   support\n",
      "\n",
      "           0       0.73      0.58      0.65        19\n",
      "           1       0.70      0.83      0.76        23\n",
      "\n",
      "    accuracy                           0.71        42\n",
      "   macro avg       0.72      0.70      0.70        42\n",
      "weighted avg       0.72      0.71      0.71        42\n",
      "\n",
      "Test Data Confusion Matrix:\n",
      " [[11  8]\n",
      " [ 4 19]]\n",
      "\n",
      "GloVe Twitter MultinomialNB()\n",
      "Cross-validated Classification Report:\n",
      "               precision    recall  f1-score   support\n",
      "\n",
      "           0       0.90      0.60      0.72        78\n",
      "           1       0.73      0.94      0.83        90\n",
      "\n",
      "    accuracy                           0.79       168\n",
      "   macro avg       0.82      0.77      0.77       168\n",
      "weighted avg       0.81      0.79      0.78       168\n",
      "\n",
      "Cross-validated Confusion Matrix:\n",
      " [[47 31]\n",
      " [ 5 85]]\n",
      "\n",
      "Test Data Classification Report:\n",
      "               precision    recall  f1-score   support\n",
      "\n",
      "           0       0.79      0.58      0.67        19\n",
      "           1       0.71      0.87      0.78        23\n",
      "\n",
      "    accuracy                           0.74        42\n",
      "   macro avg       0.75      0.72      0.73        42\n",
      "weighted avg       0.75      0.74      0.73        42\n",
      "\n",
      "Test Data Confusion Matrix:\n",
      " [[11  8]\n",
      " [ 3 20]]\n",
      "\n",
      "GloVe Twitter RandomForestClassifier()\n",
      "Cross-validated Classification Report:\n",
      "               precision    recall  f1-score   support\n",
      "\n",
      "           0       0.88      0.83      0.86        78\n",
      "           1       0.86      0.90      0.88        90\n",
      "\n",
      "    accuracy                           0.87       168\n",
      "   macro avg       0.87      0.87      0.87       168\n",
      "weighted avg       0.87      0.87      0.87       168\n",
      "\n",
      "Cross-validated Confusion Matrix:\n",
      " [[65 13]\n",
      " [ 9 81]]\n",
      "\n",
      "Test Data Classification Report:\n",
      "               precision    recall  f1-score   support\n",
      "\n",
      "           0       0.78      0.74      0.76        19\n",
      "           1       0.79      0.83      0.81        23\n",
      "\n",
      "    accuracy                           0.79        42\n",
      "   macro avg       0.78      0.78      0.78        42\n",
      "weighted avg       0.79      0.79      0.79        42\n",
      "\n",
      "Test Data Confusion Matrix:\n",
      " [[14  5]\n",
      " [ 4 19]]\n",
      "\n",
      "GloVe Twitter LogisticRegression()\n",
      "Cross-validated Classification Report:\n",
      "               precision    recall  f1-score   support\n",
      "\n",
      "           0       0.84      0.74      0.79        78\n",
      "           1       0.80      0.88      0.84        90\n",
      "\n",
      "    accuracy                           0.82       168\n",
      "   macro avg       0.82      0.81      0.81       168\n",
      "weighted avg       0.82      0.82      0.81       168\n",
      "\n",
      "Cross-validated Confusion Matrix:\n",
      " [[58 20]\n",
      " [11 79]]\n",
      "\n",
      "Test Data Classification Report:\n",
      "               precision    recall  f1-score   support\n",
      "\n",
      "           0       0.81      0.68      0.74        19\n",
      "           1       0.77      0.87      0.82        23\n",
      "\n",
      "    accuracy                           0.79        42\n",
      "   macro avg       0.79      0.78      0.78        42\n",
      "weighted avg       0.79      0.79      0.78        42\n",
      "\n",
      "Test Data Confusion Matrix:\n",
      " [[13  6]\n",
      " [ 3 20]]\n",
      "\n",
      "GloVe Twitter SVC(kernel='linear')\n",
      "Cross-validated Classification Report:\n",
      "               precision    recall  f1-score   support\n",
      "\n",
      "           0       0.78      0.74      0.76        78\n",
      "           1       0.79      0.82      0.80        90\n",
      "\n",
      "    accuracy                           0.79       168\n",
      "   macro avg       0.79      0.78      0.78       168\n",
      "weighted avg       0.79      0.79      0.79       168\n",
      "\n",
      "Cross-validated Confusion Matrix:\n",
      " [[58 20]\n",
      " [16 74]]\n",
      "\n",
      "Test Data Classification Report:\n",
      "               precision    recall  f1-score   support\n",
      "\n",
      "           0       0.81      0.68      0.74        19\n",
      "           1       0.77      0.87      0.82        23\n",
      "\n",
      "    accuracy                           0.79        42\n",
      "   macro avg       0.79      0.78      0.78        42\n",
      "weighted avg       0.79      0.79      0.78        42\n",
      "\n",
      "Test Data Confusion Matrix:\n",
      " [[13  6]\n",
      " [ 3 20]]\n",
      "\n",
      "GloVe Twitter SVC()\n",
      "Cross-validated Classification Report:\n",
      "               precision    recall  f1-score   support\n",
      "\n",
      "           0       0.88      0.68      0.77        78\n",
      "           1       0.77      0.92      0.84        90\n",
      "\n",
      "    accuracy                           0.81       168\n",
      "   macro avg       0.83      0.80      0.80       168\n",
      "weighted avg       0.82      0.81      0.81       168\n",
      "\n",
      "Cross-validated Confusion Matrix:\n",
      " [[53 25]\n",
      " [ 7 83]]\n",
      "\n",
      "Test Data Classification Report:\n",
      "               precision    recall  f1-score   support\n",
      "\n",
      "           0       0.80      0.63      0.71        19\n",
      "           1       0.74      0.87      0.80        23\n",
      "\n",
      "    accuracy                           0.76        42\n",
      "   macro avg       0.77      0.75      0.75        42\n",
      "weighted avg       0.77      0.76      0.76        42\n",
      "\n",
      "Test Data Confusion Matrix:\n",
      " [[12  7]\n",
      " [ 3 20]]\n",
      "\n"
     ]
    }
   ],
   "source": [
    "np.random.seed(7)\n",
    "\n",
    "# save the vectorizer function above into a format suitable for use in the clf pipeline ( in the classify function )\n",
    "vect_pretrained = FunctionTransformer(pretrained_vectorizer200, validate=False)\n",
    "\n",
    "# fit the classification models \n",
    "for m in models:\n",
    "    print('GloVe Twitter', m)\n",
    "\n",
    "    if isinstance(m, MultinomialNB):\n",
    "        scaler = MinMaxScaler()\n",
    "    else:\n",
    "        scaler = None\n",
    "\n",
    "    classify(vect_pretrained, m, X_train, y_train.asd, X_test, y_test.asd, scaler=scaler)\n",
    "    print()"
   ]
  },
  {
   "cell_type": "markdown",
   "metadata": {},
   "source": [
    "The GloVe model trained on twitter data did not improve perfomance. \n",
    "For the present dataset the frequency count vectorizers (TFIDF + SVM or Logistic regression) and the custom trained word2vec vectorizer seem to perform the best so far. "
   ]
  },
  {
   "cell_type": "markdown",
   "metadata": {},
   "source": [
    "##### Approach 5. Vectorization using shallow neural nets (FastText)\n",
    "\n",
    "https://fasttext.cc/<br>\n",
    "\n",
    "https://towardsdatascience.com/fasttext-under-the-hood-11efc57b2b3<br>\n",
    "\n",
    "why? Argued to result in better word representations and also deals with OOV problem + can be be easly trained to create vectors specific to the current dataset.\n",
    "\n",
    "“FastText is one of the most novel techniques, developed by Bojanowski et al. [35]. The main concern addressed by this method is the fact that its predecessors ignore the morphology of words by assigning a distinct vector to each word.” ([Gasparetto et al., 2022, p. 10](zotero://select/library/items/7QI33EDP)) ([pdf](zotero://open-pdf/library/items/GJM85X9Y?page=10&annotation=IZPGLGLF))\n",
    "\n",
    "“FastText is able to handle OOV words, as long as it has seen its composing n-grams during training. Both GloVe and Word2Vec are instead unable to handle the case of OOV words.” ([Gasparetto et al., 2022, p. 10](zotero://select/library/items/7QI33EDP)) ([pdf](zotero://open-pdf/library/items/GJM85X9Y?page=10&annotation=6H5SYFFG)) - FastText unit on which the neural net is trained is *character n-gram* \n"
   ]
  },
  {
   "cell_type": "code",
   "execution_count": 95,
   "metadata": {},
   "outputs": [],
   "source": [
    "%%capture\n",
    "%pip install fasttext"
   ]
  },
  {
   "cell_type": "code",
   "execution_count": 36,
   "metadata": {},
   "outputs": [
    {
     "data": {
      "text/html": [
       "<div>\n",
       "<style scoped>\n",
       "    .dataframe tbody tr th:only-of-type {\n",
       "        vertical-align: middle;\n",
       "    }\n",
       "\n",
       "    .dataframe tbody tr th {\n",
       "        vertical-align: top;\n",
       "    }\n",
       "\n",
       "    .dataframe thead th {\n",
       "        text-align: right;\n",
       "    }\n",
       "</style>\n",
       "<table border=\"1\" class=\"dataframe\">\n",
       "  <thead>\n",
       "    <tr style=\"text-align: right;\">\n",
       "      <th></th>\n",
       "      <th>text</th>\n",
       "      <th>new_text</th>\n",
       "      <th>tokenized_text</th>\n",
       "    </tr>\n",
       "  </thead>\n",
       "  <tbody>\n",
       "    <tr>\n",
       "      <th>116</th>\n",
       "      <td>womenonthespectrum womenonthespectrum A commun...</td>\n",
       "      <td>womenonthespectrum womenonthespectrum communit...</td>\n",
       "      <td>[womenonthespectrum, womenonthespectrum, commu...</td>\n",
       "    </tr>\n",
       "    <tr>\n",
       "      <th>293</th>\n",
       "      <td>The Owl House The Owl House A subreddit for th...</td>\n",
       "      <td>Owl House Owl House subreddit Disney fantasy c...</td>\n",
       "      <td>[Owl, House, Owl, House, subreddit, Disney, fa...</td>\n",
       "    </tr>\n",
       "    <tr>\n",
       "      <th>452</th>\n",
       "      <td>Autism Speaks Sucks Autism Speaks Sucks A comm...</td>\n",
       "      <td>autism speak Sucks autism speak suck community...</td>\n",
       "      <td>[autism, speak, Sucks, autism, speak, suck, co...</td>\n",
       "    </tr>\n",
       "  </tbody>\n",
       "</table>\n",
       "</div>"
      ],
      "text/plain": [
       "                                                  text  \\\n",
       "116  womenonthespectrum womenonthespectrum A commun...   \n",
       "293  The Owl House The Owl House A subreddit for th...   \n",
       "452  Autism Speaks Sucks Autism Speaks Sucks A comm...   \n",
       "\n",
       "                                              new_text  \\\n",
       "116  womenonthespectrum womenonthespectrum communit...   \n",
       "293  Owl House Owl House subreddit Disney fantasy c...   \n",
       "452  autism speak Sucks autism speak suck community...   \n",
       "\n",
       "                                        tokenized_text  \n",
       "116  [womenonthespectrum, womenonthespectrum, commu...  \n",
       "293  [Owl, House, Owl, House, subreddit, Disney, fa...  \n",
       "452  [autism, speak, Sucks, autism, speak, suck, co...  "
      ]
     },
     "execution_count": 36,
     "metadata": {},
     "output_type": "execute_result"
    }
   ],
   "source": [
    "X_train.head(3)"
   ]
  },
  {
   "cell_type": "code",
   "execution_count": 37,
   "metadata": {},
   "outputs": [
    {
     "data": {
      "text/plain": [
       "116    womenonthespectrum womenonthespectrum communit...\n",
       "293    Owl House Owl House subreddit Disney fantasy c...\n",
       "452    autism speak Sucks autism speak suck community...\n",
       "Name: new_text, dtype: object"
      ]
     },
     "execution_count": 37,
     "metadata": {},
     "output_type": "execute_result"
    }
   ],
   "source": [
    "# we will use the new_text (the clenaed/prerpocessed text)\n",
    "X_train.new_text.head(3)"
   ]
  },
  {
   "cell_type": "code",
   "execution_count": 38,
   "metadata": {},
   "outputs": [],
   "source": [
    "import fasttext"
   ]
  },
  {
   "cell_type": "markdown",
   "metadata": {},
   "source": [
    "<b>Approach 5a. Pretrained FastText vectors + classical classification algorithms</b>"
   ]
  },
  {
   "cell_type": "code",
   "execution_count": 99,
   "metadata": {},
   "outputs": [],
   "source": [
    "ft_model_path = r'models/fasttext_pretrained/crawl-300d-2M-subword/crawl-300d-2M-subword.bin'"
   ]
  },
  {
   "cell_type": "code",
   "execution_count": 100,
   "metadata": {},
   "outputs": [
    {
     "name": "stderr",
     "output_type": "stream",
     "text": [
      "Warning : `load_model` does not return WordVectorModel or SupervisedModel any more, but a `FastText` object which is very similar.\n"
     ]
    }
   ],
   "source": [
    "# load the pretrained english model fro fasttext - trained on Crawl dataset, vector size=300\n",
    "ft_en_model = fasttext.load_model(ft_model_path)"
   ]
  },
  {
   "cell_type": "code",
   "execution_count": 101,
   "metadata": {},
   "outputs": [
    {
     "data": {
      "text/plain": [
       "[(0.8590065836906433, 'Autism'),\n",
       " (0.8022950887680054, 'autistic'),\n",
       " (0.7881932854652405, 'autisms'),\n",
       " (0.7856281399726868, 'autism-'),\n",
       " (0.7737045288085938, 'autism-related'),\n",
       " (0.7696868777275085, 'austism'),\n",
       " (0.766737163066864, 'non-autism'),\n",
       " (0.7601718902587891, 'ASD'),\n",
       " (0.7600443959236145, 'autistics'),\n",
       " (0.7465263605117798, 'autism-spectrum')]"
      ]
     },
     "execution_count": 101,
     "metadata": {},
     "output_type": "execute_result"
    }
   ],
   "source": [
    "ft_en_model.get_nearest_neighbors('autism')"
   ]
  },
  {
   "cell_type": "code",
   "execution_count": 102,
   "metadata": {},
   "outputs": [],
   "source": [
    "# creates a fastText vecotrizer \n",
    "from sklearn.base import BaseEstimator, TransformerMixin\n",
    "\n",
    "class FastTextVectorizer(BaseEstimator, TransformerMixin):\n",
    "    def __init__(self, fasttext_model_path):\n",
    "        self.fasttext_model_path = fasttext_model_path\n",
    "        self.fasttext_model = None  # initialize the FastText model as None\n",
    "\n",
    "    def fit(self, X, y=None):\n",
    "        # load the FastText model only once during fitting\n",
    "        if self.fasttext_model is None:\n",
    "            self.fasttext_model = fasttext.load_model(self.fasttext_model_path)\n",
    "        return self\n",
    "\n",
    "\n",
    "    def transform(self, X):\n",
    "        # check model is loaded before transforming\n",
    "        if self.fasttext_model is None:\n",
    "            raise ValueError(\"FastText model is not loaded. Call fit() before transform().\")\n",
    "\n",
    "        vectors = [self.fasttext_model.get_sentence_vector(text) for text in X]\n",
    "        return np.array(vectors)\n"
   ]
  },
  {
   "cell_type": "code",
   "execution_count": 103,
   "metadata": {},
   "outputs": [],
   "source": [
    "# save the fasttext vectorizer function above into a format suitable for use in the clf pipeline ( in the classify function )\n",
    "ft_vectorizer = FastTextVectorizer(ft_model_path)"
   ]
  },
  {
   "cell_type": "code",
   "execution_count": 104,
   "metadata": {},
   "outputs": [
    {
     "name": "stdout",
     "output_type": "stream",
     "text": [
      "fastText en-pretrained KNeighborsClassifier()\n"
     ]
    },
    {
     "name": "stderr",
     "output_type": "stream",
     "text": [
      "Warning : `load_model` does not return WordVectorModel or SupervisedModel any more, but a `FastText` object which is very similar.\n",
      "Warning : `load_model` does not return WordVectorModel or SupervisedModel any more, but a `FastText` object which is very similar.\n",
      "Warning : `load_model` does not return WordVectorModel or SupervisedModel any more, but a `FastText` object which is very similar.\n",
      "Warning : `load_model` does not return WordVectorModel or SupervisedModel any more, but a `FastText` object which is very similar.\n",
      "Warning : `load_model` does not return WordVectorModel or SupervisedModel any more, but a `FastText` object which is very similar.\n",
      "Warning : `load_model` does not return WordVectorModel or SupervisedModel any more, but a `FastText` object which is very similar.\n"
     ]
    },
    {
     "name": "stdout",
     "output_type": "stream",
     "text": [
      "Cross-validated Classification Report:\n",
      "               precision    recall  f1-score   support\n",
      "\n",
      "           0       0.88      0.91      0.89        78\n",
      "           1       0.92      0.89      0.90        90\n",
      "\n",
      "    accuracy                           0.90       168\n",
      "   macro avg       0.90      0.90      0.90       168\n",
      "weighted avg       0.90      0.90      0.90       168\n",
      "\n",
      "Cross-validated Confusion Matrix:\n",
      " [[71  7]\n",
      " [10 80]]\n",
      "\n",
      "Test Data Classification Report:\n",
      "               precision    recall  f1-score   support\n",
      "\n",
      "           0       0.79      0.79      0.79        19\n",
      "           1       0.83      0.83      0.83        23\n",
      "\n",
      "    accuracy                           0.81        42\n",
      "   macro avg       0.81      0.81      0.81        42\n",
      "weighted avg       0.81      0.81      0.81        42\n",
      "\n",
      "Test Data Confusion Matrix:\n",
      " [[15  4]\n",
      " [ 4 19]]\n",
      "\n",
      "fastText en-pretrained MultinomialNB()\n"
     ]
    },
    {
     "name": "stderr",
     "output_type": "stream",
     "text": [
      "Warning : `load_model` does not return WordVectorModel or SupervisedModel any more, but a `FastText` object which is very similar.\n",
      "Warning : `load_model` does not return WordVectorModel or SupervisedModel any more, but a `FastText` object which is very similar.\n",
      "Warning : `load_model` does not return WordVectorModel or SupervisedModel any more, but a `FastText` object which is very similar.\n",
      "Warning : `load_model` does not return WordVectorModel or SupervisedModel any more, but a `FastText` object which is very similar.\n",
      "Warning : `load_model` does not return WordVectorModel or SupervisedModel any more, but a `FastText` object which is very similar.\n"
     ]
    },
    {
     "name": "stdout",
     "output_type": "stream",
     "text": [
      "Cross-validated Classification Report:\n",
      "               precision    recall  f1-score   support\n",
      "\n",
      "           0       0.80      0.95      0.87        78\n",
      "           1       0.95      0.80      0.87        90\n",
      "\n",
      "    accuracy                           0.87       168\n",
      "   macro avg       0.88      0.87      0.87       168\n",
      "weighted avg       0.88      0.87      0.87       168\n",
      "\n",
      "Cross-validated Confusion Matrix:\n",
      " [[74  4]\n",
      " [18 72]]\n",
      "\n",
      "Test Data Classification Report:\n",
      "               precision    recall  f1-score   support\n",
      "\n",
      "           0       0.73      0.84      0.78        19\n",
      "           1       0.85      0.74      0.79        23\n",
      "\n",
      "    accuracy                           0.79        42\n",
      "   macro avg       0.79      0.79      0.79        42\n",
      "weighted avg       0.79      0.79      0.79        42\n",
      "\n",
      "Test Data Confusion Matrix:\n",
      " [[16  3]\n",
      " [ 6 17]]\n",
      "\n",
      "fastText en-pretrained RandomForestClassifier()\n"
     ]
    },
    {
     "name": "stderr",
     "output_type": "stream",
     "text": [
      "Warning : `load_model` does not return WordVectorModel or SupervisedModel any more, but a `FastText` object which is very similar.\n",
      "Warning : `load_model` does not return WordVectorModel or SupervisedModel any more, but a `FastText` object which is very similar.\n",
      "Warning : `load_model` does not return WordVectorModel or SupervisedModel any more, but a `FastText` object which is very similar.\n",
      "Warning : `load_model` does not return WordVectorModel or SupervisedModel any more, but a `FastText` object which is very similar.\n",
      "Warning : `load_model` does not return WordVectorModel or SupervisedModel any more, but a `FastText` object which is very similar.\n"
     ]
    },
    {
     "name": "stdout",
     "output_type": "stream",
     "text": [
      "Cross-validated Classification Report:\n",
      "               precision    recall  f1-score   support\n",
      "\n",
      "           0       0.93      0.87      0.90        78\n",
      "           1       0.89      0.94      0.92        90\n",
      "\n",
      "    accuracy                           0.91       168\n",
      "   macro avg       0.91      0.91      0.91       168\n",
      "weighted avg       0.91      0.91      0.91       168\n",
      "\n",
      "Cross-validated Confusion Matrix:\n",
      " [[68 10]\n",
      " [ 5 85]]\n",
      "\n",
      "Test Data Classification Report:\n",
      "               precision    recall  f1-score   support\n",
      "\n",
      "           0       0.80      0.84      0.82        19\n",
      "           1       0.86      0.83      0.84        23\n",
      "\n",
      "    accuracy                           0.83        42\n",
      "   macro avg       0.83      0.83      0.83        42\n",
      "weighted avg       0.83      0.83      0.83        42\n",
      "\n",
      "Test Data Confusion Matrix:\n",
      " [[16  3]\n",
      " [ 4 19]]\n",
      "\n",
      "fastText en-pretrained LogisticRegression()\n"
     ]
    },
    {
     "name": "stderr",
     "output_type": "stream",
     "text": [
      "Warning : `load_model` does not return WordVectorModel or SupervisedModel any more, but a `FastText` object which is very similar.\n",
      "Warning : `load_model` does not return WordVectorModel or SupervisedModel any more, but a `FastText` object which is very similar.\n",
      "Warning : `load_model` does not return WordVectorModel or SupervisedModel any more, but a `FastText` object which is very similar.\n",
      "Warning : `load_model` does not return WordVectorModel or SupervisedModel any more, but a `FastText` object which is very similar.\n",
      "Warning : `load_model` does not return WordVectorModel or SupervisedModel any more, but a `FastText` object which is very similar.\n"
     ]
    },
    {
     "name": "stdout",
     "output_type": "stream",
     "text": [
      "Cross-validated Classification Report:\n",
      "               precision    recall  f1-score   support\n",
      "\n",
      "           0       0.92      0.88      0.90        78\n",
      "           1       0.90      0.93      0.92        90\n",
      "\n",
      "    accuracy                           0.91       168\n",
      "   macro avg       0.91      0.91      0.91       168\n",
      "weighted avg       0.91      0.91      0.91       168\n",
      "\n",
      "Cross-validated Confusion Matrix:\n",
      " [[69  9]\n",
      " [ 6 84]]\n",
      "\n",
      "Test Data Classification Report:\n",
      "               precision    recall  f1-score   support\n",
      "\n",
      "           0       0.89      0.84      0.86        19\n",
      "           1       0.88      0.91      0.89        23\n",
      "\n",
      "    accuracy                           0.88        42\n",
      "   macro avg       0.88      0.88      0.88        42\n",
      "weighted avg       0.88      0.88      0.88        42\n",
      "\n",
      "Test Data Confusion Matrix:\n",
      " [[16  3]\n",
      " [ 2 21]]\n",
      "\n",
      "fastText en-pretrained SVC(kernel='linear')\n"
     ]
    },
    {
     "name": "stderr",
     "output_type": "stream",
     "text": [
      "Warning : `load_model` does not return WordVectorModel or SupervisedModel any more, but a `FastText` object which is very similar.\n",
      "Warning : `load_model` does not return WordVectorModel or SupervisedModel any more, but a `FastText` object which is very similar.\n",
      "Warning : `load_model` does not return WordVectorModel or SupervisedModel any more, but a `FastText` object which is very similar.\n",
      "Warning : `load_model` does not return WordVectorModel or SupervisedModel any more, but a `FastText` object which is very similar.\n",
      "Warning : `load_model` does not return WordVectorModel or SupervisedModel any more, but a `FastText` object which is very similar.\n"
     ]
    },
    {
     "name": "stdout",
     "output_type": "stream",
     "text": [
      "Cross-validated Classification Report:\n",
      "               precision    recall  f1-score   support\n",
      "\n",
      "           0       0.88      0.90      0.89        78\n",
      "           1       0.91      0.89      0.90        90\n",
      "\n",
      "    accuracy                           0.89       168\n",
      "   macro avg       0.89      0.89      0.89       168\n",
      "weighted avg       0.89      0.89      0.89       168\n",
      "\n",
      "Cross-validated Confusion Matrix:\n",
      " [[70  8]\n",
      " [10 80]]\n",
      "\n",
      "Test Data Classification Report:\n",
      "               precision    recall  f1-score   support\n",
      "\n",
      "           0       0.80      0.84      0.82        19\n",
      "           1       0.86      0.83      0.84        23\n",
      "\n",
      "    accuracy                           0.83        42\n",
      "   macro avg       0.83      0.83      0.83        42\n",
      "weighted avg       0.83      0.83      0.83        42\n",
      "\n",
      "Test Data Confusion Matrix:\n",
      " [[16  3]\n",
      " [ 4 19]]\n",
      "\n",
      "fastText en-pretrained SVC()\n"
     ]
    },
    {
     "name": "stderr",
     "output_type": "stream",
     "text": [
      "Warning : `load_model` does not return WordVectorModel or SupervisedModel any more, but a `FastText` object which is very similar.\n",
      "Warning : `load_model` does not return WordVectorModel or SupervisedModel any more, but a `FastText` object which is very similar.\n",
      "Warning : `load_model` does not return WordVectorModel or SupervisedModel any more, but a `FastText` object which is very similar.\n",
      "Warning : `load_model` does not return WordVectorModel or SupervisedModel any more, but a `FastText` object which is very similar.\n",
      "Warning : `load_model` does not return WordVectorModel or SupervisedModel any more, but a `FastText` object which is very similar.\n"
     ]
    },
    {
     "name": "stdout",
     "output_type": "stream",
     "text": [
      "Cross-validated Classification Report:\n",
      "               precision    recall  f1-score   support\n",
      "\n",
      "           0       0.90      0.91      0.90        78\n",
      "           1       0.92      0.91      0.92        90\n",
      "\n",
      "    accuracy                           0.91       168\n",
      "   macro avg       0.91      0.91      0.91       168\n",
      "weighted avg       0.91      0.91      0.91       168\n",
      "\n",
      "Cross-validated Confusion Matrix:\n",
      " [[71  7]\n",
      " [ 8 82]]\n",
      "\n",
      "Test Data Classification Report:\n",
      "               precision    recall  f1-score   support\n",
      "\n",
      "           0       0.84      0.84      0.84        19\n",
      "           1       0.87      0.87      0.87        23\n",
      "\n",
      "    accuracy                           0.86        42\n",
      "   macro avg       0.86      0.86      0.86        42\n",
      "weighted avg       0.86      0.86      0.86        42\n",
      "\n",
      "Test Data Confusion Matrix:\n",
      " [[16  3]\n",
      " [ 3 20]]\n",
      "\n"
     ]
    }
   ],
   "source": [
    "np.random.seed(7)\n",
    "\n",
    "scaler = None\n",
    "# fit the classification models \n",
    "for m in models:\n",
    "    print('fastText en-pretrained', m)\n",
    "\n",
    "    if isinstance(m, MultinomialNB):\n",
    "        scaler = MinMaxScaler()\n",
    "    else:\n",
    "        scaler = None\n",
    "\n",
    "    classify(ft_vectorizer, m, X_train.new_text, y_train.asd, X_test.new_text, y_test.asd, scaler=scaler)\n",
    "    print()"
   ]
  },
  {
   "cell_type": "markdown",
   "metadata": {},
   "source": [
    "The word2vec embedings trained on the current dataset, performed better than the out of the box, pretrained model available in Gensim. Accuracy for the models:\n",
    "\n",
    "0.81 - for KNN ( training data was 0.90 => overfit)<br>\n",
    "0.79 - multinomial naive bayes (training data 0.87 => overfit)<br>\n",
    "0.83 - for Random Forest ( training data 0.91 => overfit)<br>\n",
    "0.88 - for Logistic regression ( training data 0.91 => not overfit)<br>\n",
    "0.83 - SVM linear kernel (training data 0.89 => overfit)<br>\n",
    "0.86 - SVM RBF kernel ( training data 0.91 =>maybe  overfit)<br>\n",
    "\n",
    "FastText Crawl pretrained english vectors resulted in low performance, with most model overfitting the training data. \n"
   ]
  },
  {
   "cell_type": "markdown",
   "metadata": {},
   "source": [
    "<b>Approach 5b. FastText model build on the current Reddit dataset</b>\n",
    "\n",
    "\n",
    "https://fasttext.cc/docs/en/supervised-tutorial.html\n",
    "\n",
    "FastText uses a simple neural network architecture for text classification. It consists of an input layer (for the text representation), a hidden layer, and an output layer. The output layer has as many neurons as there are categories, and it uses softmax activation to compute class probabilities (default).\n"
   ]
  },
  {
   "cell_type": "code",
   "execution_count": 39,
   "metadata": {},
   "outputs": [
    {
     "name": "stdout",
     "output_type": "stream",
     "text": [
      "Train labels: \n",
      "      asd   asd_label\n",
      "116    1  __label__1\n",
      "293    0  __label__0\n",
      "\n",
      "Test labels: \n",
      "      asd   asd_label\n",
      "231    0  __label__0\n",
      "243    1  __label__1\n"
     ]
    }
   ],
   "source": [
    "# fastText requries text data to be formated this way: \n",
    "# __label__category text\n",
    "y_train['asd_label'] = '__label__' + y_train.asd.astype(str)\n",
    "y_test['asd_label'] = '__label__' + y_test.asd.astype(str)\n",
    "print('Train labels: \\n', y_train.head(2))\n",
    "print('\\nTest labels: \\n', y_test.head(2))\n"
   ]
  },
  {
   "cell_type": "code",
   "execution_count": 40,
   "metadata": {},
   "outputs": [
    {
     "name": "stdout",
     "output_type": "stream",
     "text": [
      "Train labels: \n",
      " 116    __label__1 womenonthespectrum womenonthespectr...\n",
      "293    __label__0 Owl House Owl House subreddit Disne...\n",
      "452    __label__1 autism speak Sucks autism speak suc...\n",
      "dtype: object\n",
      "\n",
      "Test labels: \n",
      " 231    __label__0 Gamingcirclejerk gaming Circlejerk ...\n",
      "243    __label__1 ASDpeersupport ASD Peer support Pee...\n",
      "392    __label__0 selfharm Subreddit Self Harmers sub...\n",
      "dtype: object\n"
     ]
    }
   ],
   "source": [
    "# save data for fastText training in a single dataframe\n",
    "df_asd_newtext_train = y_train.asd_label + ' ' + X_train.new_text \n",
    "# save data for fastText test in a single dataframe\n",
    "df_asd_newtext_test = y_test.asd_label + ' ' + X_test.new_text \n",
    "\n",
    "print('Train labels: \\n', df_asd_newtext_train.head(3))\n",
    "print('\\nTest labels: \\n', df_asd_newtext_test.head(3))"
   ]
  },
  {
   "cell_type": "code",
   "execution_count": 41,
   "metadata": {},
   "outputs": [],
   "source": [
    "# write data to text file - fastText required format\n",
    "# this will be used later\n",
    "df_asd_newtext_train.to_csv('annotated_data/data_fastText/asd_newtext_train',index=False, header=False )\n",
    "df_asd_newtext_test.to_csv('annotated_data/data_fastText/asd_newtext_test',index=False, header=False )"
   ]
  },
  {
   "cell_type": "code",
   "execution_count": 42,
   "metadata": {},
   "outputs": [],
   "source": [
    "train_data_path = 'annotated_data/data_fastText/asd_newtext_train'\n",
    "test_data_path = 'annotated_data/data_fastText/asd_newtext_test'"
   ]
  },
  {
   "cell_type": "code",
   "execution_count": 43,
   "metadata": {},
   "outputs": [
    {
     "data": {
      "text/html": [
       "<div>\n",
       "<style scoped>\n",
       "    .dataframe tbody tr th:only-of-type {\n",
       "        vertical-align: middle;\n",
       "    }\n",
       "\n",
       "    .dataframe tbody tr th {\n",
       "        vertical-align: top;\n",
       "    }\n",
       "\n",
       "    .dataframe thead th {\n",
       "        text-align: right;\n",
       "    }\n",
       "</style>\n",
       "<table border=\"1\" class=\"dataframe\">\n",
       "  <thead>\n",
       "    <tr style=\"text-align: right;\">\n",
       "      <th></th>\n",
       "      <th>text</th>\n",
       "      <th>asd</th>\n",
       "    </tr>\n",
       "  </thead>\n",
       "  <tbody>\n",
       "    <tr>\n",
       "      <th>116</th>\n",
       "      <td>__label__1 womenonthespectrum womenonthespectr...</td>\n",
       "      <td>1</td>\n",
       "    </tr>\n",
       "    <tr>\n",
       "      <th>293</th>\n",
       "      <td>__label__0 Owl House Owl House subreddit Disne...</td>\n",
       "      <td>0</td>\n",
       "    </tr>\n",
       "    <tr>\n",
       "      <th>452</th>\n",
       "      <td>__label__1 autism speak Sucks autism speak suc...</td>\n",
       "      <td>1</td>\n",
       "    </tr>\n",
       "  </tbody>\n",
       "</table>\n",
       "</div>"
      ],
      "text/plain": [
       "                                                  text  asd\n",
       "116  __label__1 womenonthespectrum womenonthespectr...    1\n",
       "293  __label__0 Owl House Owl House subreddit Disne...    0\n",
       "452  __label__1 autism speak Sucks autism speak suc...    1"
      ]
     },
     "execution_count": 43,
     "metadata": {},
     "output_type": "execute_result"
    }
   ],
   "source": [
    "# get fastText ready labeled data - training\n",
    "ft_train_df = pd.concat([df_asd_newtext_train, y_train.asd], axis=1)\n",
    "ft_train_df = ft_train_df.rename(columns={0: 'text'})\n",
    "ft_train_df.head(3)"
   ]
  },
  {
   "cell_type": "code",
   "execution_count": 44,
   "metadata": {},
   "outputs": [
    {
     "data": {
      "text/html": [
       "<div>\n",
       "<style scoped>\n",
       "    .dataframe tbody tr th:only-of-type {\n",
       "        vertical-align: middle;\n",
       "    }\n",
       "\n",
       "    .dataframe tbody tr th {\n",
       "        vertical-align: top;\n",
       "    }\n",
       "\n",
       "    .dataframe thead th {\n",
       "        text-align: right;\n",
       "    }\n",
       "</style>\n",
       "<table border=\"1\" class=\"dataframe\">\n",
       "  <thead>\n",
       "    <tr style=\"text-align: right;\">\n",
       "      <th></th>\n",
       "      <th>text</th>\n",
       "      <th>asd</th>\n",
       "    </tr>\n",
       "  </thead>\n",
       "  <tbody>\n",
       "    <tr>\n",
       "      <th>231</th>\n",
       "      <td>__label__0 Gamingcirclejerk gaming Circlejerk ...</td>\n",
       "      <td>0</td>\n",
       "    </tr>\n",
       "    <tr>\n",
       "      <th>243</th>\n",
       "      <td>__label__1 ASDpeersupport ASD Peer support Pee...</td>\n",
       "      <td>1</td>\n",
       "    </tr>\n",
       "    <tr>\n",
       "      <th>392</th>\n",
       "      <td>__label__0 selfharm Subreddit Self Harmers sub...</td>\n",
       "      <td>0</td>\n",
       "    </tr>\n",
       "  </tbody>\n",
       "</table>\n",
       "</div>"
      ],
      "text/plain": [
       "                                                  text  asd\n",
       "231  __label__0 Gamingcirclejerk gaming Circlejerk ...    0\n",
       "243  __label__1 ASDpeersupport ASD Peer support Pee...    1\n",
       "392  __label__0 selfharm Subreddit Self Harmers sub...    0"
      ]
     },
     "execution_count": 44,
     "metadata": {},
     "output_type": "execute_result"
    }
   ],
   "source": [
    "# get fastText ready labeled data - testing\n",
    "ft_test_df = pd.concat([df_asd_newtext_test, y_test.asd], axis=1)\n",
    "ft_test_df = ft_test_df.rename(columns={0: 'text'})\n",
    "ft_test_df.head(3)"
   ]
  },
  {
   "cell_type": "code",
   "execution_count": 45,
   "metadata": {},
   "outputs": [],
   "source": [
    "from sklearn.model_selection import StratifiedKFold\n",
    "import tempfile\n",
    "import csv\n",
    "import os"
   ]
  },
  {
   "cell_type": "code",
   "execution_count": 48,
   "metadata": {},
   "outputs": [],
   "source": [
    "# function to train/tune a fasttext model\n",
    "def train_ft_model(hyperparams):\n",
    "    # Initialize StratifiedKFold for cross-validation\n",
    "    k_folds = 5\n",
    "    kf = StratifiedKFold(n_splits=k_folds, shuffle=True, random_state=7)\n",
    "\n",
    "    # lists to store evaluation metrics for each fold\n",
    "    number_samples = []\n",
    "    precision_scores = []\n",
    "    recall_scores = []\n",
    "\n",
    "    for train_index, val_index in kf.split(ft_train_df, ft_train_df.asd):\n",
    "        # split train data into train and validaton sets\n",
    "        train_data = ft_train_df.iloc[train_index]\n",
    "        val_data = ft_train_df.iloc[val_index]\n",
    "\n",
    "        # create temporary training and validation data files for this fold\n",
    "        with tempfile.NamedTemporaryFile(delete=False, mode='w') as train_file, \\\n",
    "            tempfile.NamedTemporaryFile(delete=False, mode='w') as val_file:\n",
    "\n",
    "            # Write the data to temporary files\n",
    "            train_data.text.to_csv(train_file, sep='\\t', header=False, index=False, quoting=csv.QUOTE_NONE, escapechar=' ')\n",
    "            val_data.text.to_csv(val_file, sep='\\t', header=False, index=False, quoting=csv.QUOTE_NONE, escapechar=' ')\n",
    "\n",
    "            # file paths of temporary files ( the str name of the path )\n",
    "            train_file_path = train_file.name\n",
    "            val_file_path = val_file.name\n",
    "\n",
    "        # Create and train a FastText model\n",
    "        model = fasttext.train_supervised(\n",
    "            input=train_file_path,  # Specify your training data file\n",
    "            **hyperparams  # Pass the parameters\n",
    "        )\n",
    "\n",
    "        # evaluate the model on the validation data\n",
    "        # The output are the number of samples, the precision at one and the recall at one (https://fasttext.cc/docs/en/supervised-tutorial.html)\n",
    "        result = model.test(val_file_path) \n",
    "        print(result)\n",
    "\n",
    "        # Collect evaluation metrics\n",
    "        number_samples.append(result[0])\n",
    "        precision_scores.append(result[1])\n",
    "        recall_scores.append(result[2])\n",
    "\n",
    "        # remove temporary files\n",
    "        os.remove(train_file_path)\n",
    "        os.remove(val_file_path)\n",
    "\n",
    "    # compute and print average evaluation metrics\n",
    "    avg_precision = np.mean(precision_scores)\n",
    "    avg_recall = np.mean(recall_scores)\n",
    "    # F2-measure puts more attention on minimizing false negatives \n",
    "    # https://machinelearningmastery.com/fbeta-measure-for-machine-learning/#:~:text=F1%2DMeasure%20(beta%3D1.0,precision%2C%20more%20weight%20on%20recall\n",
    "    F2 = (5 * avg_precision * avg_recall) / (4 * avg_precision + avg_recall) \n",
    "\n",
    "    print(f\"Samples in each fold: {[i for i in number_samples]}\")\n",
    "    print(f\"Average Precision: {avg_precision:.4f}\")\n",
    "    print(f\"Average Recall: {avg_recall:.4f}\")\n",
    "    print(f\"F2-Measure: {F2:.4f}\")\n",
    "\n",
    "    return (model, F2, avg_precision, avg_recall)\n",
    "\n"
   ]
  },
  {
   "cell_type": "code",
   "execution_count": 49,
   "metadata": {},
   "outputs": [
    {
     "name": "stdout",
     "output_type": "stream",
     "text": [
      "lr = 0.1 | epoch = 5\n"
     ]
    },
    {
     "name": "stderr",
     "output_type": "stream",
     "text": [
      "Read 0M words\n",
      "Number of words:  6017\n",
      "Number of labels: 2\n",
      "Progress: 100.0% words/sec/thread:  963916 lr:  0.000000 avg.loss:  0.693612 ETA:   0h 0m 0s\n",
      "Read 0M words\n",
      "Number of words:  5884\n",
      "Number of labels: 2\n"
     ]
    },
    {
     "name": "stdout",
     "output_type": "stream",
     "text": [
      "(34, 0.8823529411764706, 0.8823529411764706)\n"
     ]
    },
    {
     "name": "stderr",
     "output_type": "stream",
     "text": [
      "Progress: 100.0% words/sec/thread:  751533 lr:  0.000000 avg.loss:  0.693862 ETA:   0h 0m 0s\n",
      "Read 0M words\n",
      "Number of words:  6015\n",
      "Number of labels: 2\n"
     ]
    },
    {
     "name": "stdout",
     "output_type": "stream",
     "text": [
      "(34, 0.7941176470588235, 0.7941176470588235)\n"
     ]
    },
    {
     "name": "stderr",
     "output_type": "stream",
     "text": [
      "Progress: 100.0% words/sec/thread:  975575 lr:  0.000000 avg.loss:  0.693958 ETA:   0h 0m 0s\n",
      "Read 0M words\n",
      "Number of words:  5671\n",
      "Number of labels: 2\n"
     ]
    },
    {
     "name": "stdout",
     "output_type": "stream",
     "text": [
      "(34, 0.7647058823529411, 0.7647058823529411)\n"
     ]
    },
    {
     "name": "stderr",
     "output_type": "stream",
     "text": [
      "Progress: 100.0% words/sec/thread: 1076641 lr:  0.000000 avg.loss:  0.693708 ETA:   0h 0m 0s\n",
      "Read 0M words\n",
      "Number of words:  5598\n",
      "Number of labels: 2\n"
     ]
    },
    {
     "name": "stdout",
     "output_type": "stream",
     "text": [
      "(33, 0.8181818181818182, 0.8181818181818182)\n"
     ]
    },
    {
     "name": "stderr",
     "output_type": "stream",
     "text": [
      "Progress: 100.0% words/sec/thread:  966435 lr:  0.000000 avg.loss:  0.693770 ETA:   0h 0m 0s\n",
      "Read 0M words\n",
      "Number of words:  6017\n",
      "Number of labels: 2\n"
     ]
    },
    {
     "name": "stdout",
     "output_type": "stream",
     "text": [
      "(33, 0.8181818181818182, 0.8181818181818182)\n",
      "Samples in each fold: [34, 34, 34, 33, 33]\n",
      "Average Precision: 0.8155\n",
      "Average Recall: 0.8155\n",
      "F2-Measure: 0.8155\n",
      "\n",
      "lr = 0.1 | epoch = 10\n"
     ]
    },
    {
     "name": "stderr",
     "output_type": "stream",
     "text": [
      "Progress: 100.0% words/sec/thread: 1388803 lr:  0.000000 avg.loss:  0.693579 ETA:   0h 0m 0s\n",
      "Read 0M words\n",
      "Number of words:  5884\n",
      "Number of labels: 2\n"
     ]
    },
    {
     "name": "stdout",
     "output_type": "stream",
     "text": [
      "(34, 0.8529411764705882, 0.8529411764705882)\n"
     ]
    },
    {
     "name": "stderr",
     "output_type": "stream",
     "text": [
      "Progress: 100.0% words/sec/thread: 1206179 lr:  0.000000 avg.loss:  0.693777 ETA:   0h 0m 0s\n",
      "Read 0M words\n",
      "Number of words:  6015\n",
      "Number of labels: 2\n"
     ]
    },
    {
     "name": "stdout",
     "output_type": "stream",
     "text": [
      "(34, 0.7941176470588235, 0.7941176470588235)\n"
     ]
    },
    {
     "name": "stderr",
     "output_type": "stream",
     "text": [
      "Progress: 100.0% words/sec/thread: 1294969 lr:  0.000000 avg.loss:  0.693866 ETA:   0h 0m 0s\n",
      "Read 0M words\n",
      "Number of words:  5671\n",
      "Number of labels: 2\n"
     ]
    },
    {
     "name": "stdout",
     "output_type": "stream",
     "text": [
      "(34, 0.8823529411764706, 0.8823529411764706)\n"
     ]
    },
    {
     "name": "stderr",
     "output_type": "stream",
     "text": [
      "Progress: 100.0% words/sec/thread: 1336499 lr:  0.000000 avg.loss:  0.693664 ETA:   0h 0m 0s\n",
      "Read 0M words\n",
      "Number of words:  5598\n",
      "Number of labels: 2\n"
     ]
    },
    {
     "name": "stdout",
     "output_type": "stream",
     "text": [
      "(33, 0.8484848484848485, 0.8484848484848485)\n"
     ]
    },
    {
     "name": "stderr",
     "output_type": "stream",
     "text": [
      "Progress: 100.0% words/sec/thread:  957247 lr:  0.000000 avg.loss:  0.693732 ETA:   0h 0m 0s\n",
      "Read 0M words\n",
      "Number of words:  6017\n",
      "Number of labels: 2\n"
     ]
    },
    {
     "name": "stdout",
     "output_type": "stream",
     "text": [
      "(33, 0.8181818181818182, 0.8181818181818182)\n",
      "Samples in each fold: [34, 34, 34, 33, 33]\n",
      "Average Precision: 0.8392\n",
      "Average Recall: 0.8392\n",
      "F2-Measure: 0.8392\n",
      "\n",
      "lr = 0.1 | epoch = 15\n",
      "(34, 0.8529411764705882, 0.8529411764705882)\n"
     ]
    },
    {
     "name": "stderr",
     "output_type": "stream",
     "text": [
      "Progress: 100.0% words/sec/thread: 1645657 lr:  0.000000 avg.loss:  0.693573 ETA:   0h 0m 0s\n",
      "Read 0M words\n",
      "Number of words:  5884\n",
      "Number of labels: 2\n",
      "Progress: 100.0% words/sec/thread: 1681886 lr:  0.000000 avg.loss:  0.693714 ETA:   0h 0m 0s\n",
      "Read 0M words\n",
      "Number of words:  6015\n",
      "Number of labels: 2\n"
     ]
    },
    {
     "name": "stdout",
     "output_type": "stream",
     "text": [
      "(34, 0.8235294117647058, 0.8235294117647058)\n"
     ]
    },
    {
     "name": "stderr",
     "output_type": "stream",
     "text": [
      "Progress: 100.0% words/sec/thread: 1755540 lr:  0.000000 avg.loss:  0.693822 ETA:   0h 0m 0s\n",
      "Read 0M words\n",
      "Number of words:  5671\n",
      "Number of labels: 2\n"
     ]
    },
    {
     "name": "stdout",
     "output_type": "stream",
     "text": [
      "(34, 0.8823529411764706, 0.8823529411764706)\n"
     ]
    },
    {
     "name": "stderr",
     "output_type": "stream",
     "text": [
      "Progress: 100.0% words/sec/thread: 1656554 lr:  0.000000 avg.loss:  0.693604 ETA:   0h 0m 0s\n",
      "Read 0M words\n",
      "Number of words:  5598\n",
      "Number of labels: 2\n"
     ]
    },
    {
     "name": "stdout",
     "output_type": "stream",
     "text": [
      "(33, 0.8484848484848485, 0.8484848484848485)\n"
     ]
    },
    {
     "name": "stderr",
     "output_type": "stream",
     "text": [
      "Progress: 100.0% words/sec/thread: 1660531 lr:  0.000000 avg.loss:  0.693673 ETA:   0h 0m 0s\n",
      "Read 0M words\n",
      "Number of words:  6017\n",
      "Number of labels: 2\n"
     ]
    },
    {
     "name": "stdout",
     "output_type": "stream",
     "text": [
      "(33, 0.8484848484848485, 0.8484848484848485)\n",
      "Samples in each fold: [34, 34, 34, 33, 33]\n",
      "Average Precision: 0.8512\n",
      "Average Recall: 0.8512\n",
      "F2-Measure: 0.8512\n",
      "\n",
      "lr = 0.1 | epoch = 20\n",
      "(34, 0.8235294117647058, 0.8235294117647058)\n"
     ]
    },
    {
     "name": "stderr",
     "output_type": "stream",
     "text": [
      "Progress: 100.0% words/sec/thread: 1766210 lr:  0.000000 avg.loss:  0.693568 ETA:   0h 0m 0s\n",
      "Read 0M words\n",
      "Number of words:  5884\n",
      "Number of labels: 2\n",
      "Progress: 100.0% words/sec/thread: 1620225 lr:  0.000000 avg.loss:  0.693409 ETA:   0h 0m 0s\n",
      "Read 0M words\n",
      "Number of words:  6015\n",
      "Number of labels: 2\n"
     ]
    },
    {
     "name": "stdout",
     "output_type": "stream",
     "text": [
      "(34, 0.8235294117647058, 0.8235294117647058)\n"
     ]
    },
    {
     "name": "stderr",
     "output_type": "stream",
     "text": [
      "Progress: 100.0% words/sec/thread: 1700384 lr:  0.000000 avg.loss:  0.693673 ETA:   0h 0m 0s\n",
      "Read 0M words\n",
      "Number of words:  5671\n",
      "Number of labels: 2\n"
     ]
    },
    {
     "name": "stdout",
     "output_type": "stream",
     "text": [
      "(34, 0.9411764705882353, 0.9411764705882353)\n"
     ]
    },
    {
     "name": "stderr",
     "output_type": "stream",
     "text": [
      "Progress: 100.0% words/sec/thread: 1836997 lr:  0.000000 avg.loss:  0.693323 ETA:   0h 0m 0s\n",
      "Read 0M words\n",
      "Number of words:  5598\n",
      "Number of labels: 2\n"
     ]
    },
    {
     "name": "stdout",
     "output_type": "stream",
     "text": [
      "(33, 0.8484848484848485, 0.8484848484848485)\n"
     ]
    },
    {
     "name": "stderr",
     "output_type": "stream",
     "text": [
      "Progress: 100.0% words/sec/thread: 1813411 lr:  0.000000 avg.loss:  0.693416 ETA:   0h 0m 0s\n",
      "Read 0M words\n",
      "Number of words:  6017\n",
      "Number of labels: 2\n"
     ]
    },
    {
     "name": "stdout",
     "output_type": "stream",
     "text": [
      "(33, 0.8484848484848485, 0.8484848484848485)\n",
      "Samples in each fold: [34, 34, 34, 33, 33]\n",
      "Average Precision: 0.8570\n",
      "Average Recall: 0.8570\n",
      "F2-Measure: 0.8570\n",
      "\n",
      "lr = 0.5 | epoch = 5\n"
     ]
    },
    {
     "name": "stderr",
     "output_type": "stream",
     "text": [
      "Progress: 100.0% words/sec/thread: 1015704 lr:  0.000000 avg.loss:  0.693374 ETA:   0h 0m 0s\n",
      "Read 0M words\n",
      "Number of words:  5884\n",
      "Number of labels: 2\n"
     ]
    },
    {
     "name": "stdout",
     "output_type": "stream",
     "text": [
      "(34, 0.8235294117647058, 0.8235294117647058)\n"
     ]
    },
    {
     "name": "stderr",
     "output_type": "stream",
     "text": [
      "Progress: 100.0% words/sec/thread: 1015122 lr:  0.000000 avg.loss:  0.692119 ETA:   0h 0m 0s\n",
      "Read 0M words\n",
      "Number of words:  6015\n",
      "Number of labels: 2\n"
     ]
    },
    {
     "name": "stdout",
     "output_type": "stream",
     "text": [
      "(34, 0.8235294117647058, 0.8235294117647058)\n"
     ]
    },
    {
     "name": "stderr",
     "output_type": "stream",
     "text": [
      "Progress: 100.0% words/sec/thread: 1014629 lr:  0.000000 avg.loss:  0.692965 ETA:   0h 0m 0s\n",
      "Read 0M words\n",
      "Number of words:  5671\n",
      "Number of labels: 2\n"
     ]
    },
    {
     "name": "stdout",
     "output_type": "stream",
     "text": [
      "(34, 0.9411764705882353, 0.9411764705882353)\n"
     ]
    },
    {
     "name": "stderr",
     "output_type": "stream",
     "text": [
      "Progress: 100.0% words/sec/thread:  946338 lr:  0.000000 avg.loss:  0.691951 ETA:   0h 0m 0s\n",
      "Read 0M words\n",
      "Number of words:  5598\n",
      "Number of labels: 2\n"
     ]
    },
    {
     "name": "stdout",
     "output_type": "stream",
     "text": [
      "(33, 0.8484848484848485, 0.8484848484848485)\n"
     ]
    },
    {
     "name": "stderr",
     "output_type": "stream",
     "text": [
      "Progress: 100.0% words/sec/thread: 1055808 lr:  0.000000 avg.loss:  0.691961 ETA:   0h 0m 0s\n",
      "Read 0M words\n",
      "Number of words:  6017\n",
      "Number of labels: 2\n"
     ]
    },
    {
     "name": "stdout",
     "output_type": "stream",
     "text": [
      "(33, 0.8787878787878788, 0.8787878787878788)\n",
      "Samples in each fold: [34, 34, 34, 33, 33]\n",
      "Average Precision: 0.8631\n",
      "Average Recall: 0.8631\n",
      "F2-Measure: 0.8631\n",
      "\n",
      "lr = 0.5 | epoch = 10\n",
      "(34, 0.8529411764705882, 0.8529411764705882)\n"
     ]
    },
    {
     "name": "stderr",
     "output_type": "stream",
     "text": [
      "Progress: 100.0% words/sec/thread: 1446010 lr:  0.000000 avg.loss:  0.603386 ETA:   0h 0m 0s\n",
      "Read 0M words\n",
      "Number of words:  5884\n",
      "Number of labels: 2\n",
      "Progress: 100.0% words/sec/thread: 1413445 lr:  0.000000 avg.loss:  0.545399 ETA:   0h 0m 0s\n",
      "Read 0M words\n",
      "Number of words:  6015\n",
      "Number of labels: 2\n"
     ]
    },
    {
     "name": "stdout",
     "output_type": "stream",
     "text": [
      "(34, 0.8823529411764706, 0.8823529411764706)\n"
     ]
    },
    {
     "name": "stderr",
     "output_type": "stream",
     "text": [
      "Progress: 100.0% words/sec/thread: 1362220 lr:  0.000000 avg.loss:  0.573916 ETA:   0h 0m 0s\n",
      "Read 0M words\n",
      "Number of words:  5671\n",
      "Number of labels: 2\n"
     ]
    },
    {
     "name": "stdout",
     "output_type": "stream",
     "text": [
      "(34, 0.9705882352941176, 0.9705882352941176)\n"
     ]
    },
    {
     "name": "stderr",
     "output_type": "stream",
     "text": [
      "Progress: 100.0% words/sec/thread: 1338923 lr:  0.000000 avg.loss:  0.546289 ETA:   0h 0m 0s\n",
      "Read 0M words\n",
      "Number of words:  5598\n",
      "Number of labels: 2\n"
     ]
    },
    {
     "name": "stdout",
     "output_type": "stream",
     "text": [
      "(33, 0.8484848484848485, 0.8484848484848485)\n"
     ]
    },
    {
     "name": "stderr",
     "output_type": "stream",
     "text": [
      "Progress: 100.0% words/sec/thread: 1322356 lr:  0.000000 avg.loss:  0.538369 ETA:   0h 0m 0s\n",
      "Read 0M words\n",
      "Number of words:  6017\n",
      "Number of labels: 2\n"
     ]
    },
    {
     "name": "stdout",
     "output_type": "stream",
     "text": [
      "(33, 0.8484848484848485, 0.8484848484848485)\n",
      "Samples in each fold: [34, 34, 34, 33, 33]\n",
      "Average Precision: 0.8806\n",
      "Average Recall: 0.8806\n",
      "F2-Measure: 0.8806\n",
      "\n",
      "lr = 0.5 | epoch = 15\n"
     ]
    },
    {
     "name": "stderr",
     "output_type": "stream",
     "text": [
      "Progress: 100.0% words/sec/thread: 1700704 lr:  0.000000 avg.loss:  0.426825 ETA:   0h 0m 0s\n",
      "Read 0M words\n",
      "Number of words:  5884\n",
      "Number of labels: 2\n"
     ]
    },
    {
     "name": "stdout",
     "output_type": "stream",
     "text": [
      "(34, 0.9117647058823529, 0.9117647058823529)\n"
     ]
    },
    {
     "name": "stderr",
     "output_type": "stream",
     "text": [
      "Progress: 100.0% words/sec/thread: 1526663 lr:  0.000000 avg.loss:  0.372433 ETA:   0h 0m 0s\n",
      "Read 0M words\n",
      "Number of words:  6015\n",
      "Number of labels: 2\n"
     ]
    },
    {
     "name": "stdout",
     "output_type": "stream",
     "text": [
      "(34, 0.9117647058823529, 0.9117647058823529)\n"
     ]
    },
    {
     "name": "stderr",
     "output_type": "stream",
     "text": [
      "Progress: 100.0% words/sec/thread: 1729166 lr:  0.000000 avg.loss:  0.405152 ETA:   0h 0m 0s\n",
      "Read 0M words\n",
      "Number of words:  5671\n",
      "Number of labels: 2\n"
     ]
    },
    {
     "name": "stdout",
     "output_type": "stream",
     "text": [
      "(34, 0.9705882352941176, 0.9705882352941176)\n"
     ]
    },
    {
     "name": "stderr",
     "output_type": "stream",
     "text": [
      "Progress: 100.0% words/sec/thread: 1582048 lr:  0.000000 avg.loss:  0.377695 ETA:   0h 0m 0s\n",
      "Read 0M words\n",
      "Number of words:  5598\n",
      "Number of labels: 2\n"
     ]
    },
    {
     "name": "stdout",
     "output_type": "stream",
     "text": [
      "(33, 0.8787878787878788, 0.8787878787878788)\n"
     ]
    },
    {
     "name": "stderr",
     "output_type": "stream",
     "text": [
      "Progress: 100.0% words/sec/thread: 1583133 lr:  0.000000 avg.loss:  0.372659 ETA:   0h 0m 0s\n",
      "Read 0M words\n",
      "Number of words:  6017\n",
      "Number of labels: 2\n"
     ]
    },
    {
     "name": "stdout",
     "output_type": "stream",
     "text": [
      "(33, 0.8181818181818182, 0.8181818181818182)\n",
      "Samples in each fold: [34, 34, 34, 33, 33]\n",
      "Average Precision: 0.8982\n",
      "Average Recall: 0.8982\n",
      "F2-Measure: 0.8982\n",
      "\n",
      "lr = 0.5 | epoch = 20\n"
     ]
    },
    {
     "name": "stderr",
     "output_type": "stream",
     "text": [
      "Progress: 100.0% words/sec/thread: 1894714 lr:  0.000000 avg.loss:  0.322914 ETA:   0h 0m 0s\n",
      "Read 0M words\n",
      "Number of words:  5884\n",
      "Number of labels: 2\n"
     ]
    },
    {
     "name": "stdout",
     "output_type": "stream",
     "text": [
      "(34, 0.9411764705882353, 0.9411764705882353)\n"
     ]
    },
    {
     "name": "stderr",
     "output_type": "stream",
     "text": [
      "Progress: 100.0% words/sec/thread: 1712715 lr:  0.000000 avg.loss:  0.279866 ETA:   0h 0m 0s\n",
      "Read 0M words\n",
      "Number of words:  6015\n",
      "Number of labels: 2\n"
     ]
    },
    {
     "name": "stdout",
     "output_type": "stream",
     "text": [
      "(34, 0.9117647058823529, 0.9117647058823529)\n"
     ]
    },
    {
     "name": "stderr",
     "output_type": "stream",
     "text": [
      "Progress: 100.0% words/sec/thread: 1661311 lr:  0.000000 avg.loss:  0.304006 ETA:   0h 0m 0s\n",
      "Read 0M words\n",
      "Number of words:  5671\n",
      "Number of labels: 2\n"
     ]
    },
    {
     "name": "stdout",
     "output_type": "stream",
     "text": [
      "(34, 0.9705882352941176, 0.9705882352941176)\n"
     ]
    },
    {
     "name": "stderr",
     "output_type": "stream",
     "text": [
      "Progress: 100.0% words/sec/thread: 1790696 lr:  0.000000 avg.loss:  0.282044 ETA:   0h 0m 0s\n",
      "Read 0M words\n",
      "Number of words:  5598\n",
      "Number of labels: 2\n"
     ]
    },
    {
     "name": "stdout",
     "output_type": "stream",
     "text": [
      "(33, 0.8787878787878788, 0.8787878787878788)\n"
     ]
    },
    {
     "name": "stderr",
     "output_type": "stream",
     "text": [
      "Progress: 100.0% words/sec/thread: 1833836 lr:  0.000000 avg.loss:  0.281101 ETA:   0h 0m 0s\n",
      "Read 0M words\n",
      "Number of words:  6017\n",
      "Number of labels: 2\n"
     ]
    },
    {
     "name": "stdout",
     "output_type": "stream",
     "text": [
      "(33, 0.8484848484848485, 0.8484848484848485)\n",
      "Samples in each fold: [34, 34, 34, 33, 33]\n",
      "Average Precision: 0.9102\n",
      "Average Recall: 0.9102\n",
      "F2-Measure: 0.9102\n",
      "\n",
      "lr = 1.0 | epoch = 5\n",
      "(34, 0.8529411764705882, 0.8529411764705882)\n"
     ]
    },
    {
     "name": "stderr",
     "output_type": "stream",
     "text": [
      "Progress: 100.0% words/sec/thread: 1037913 lr:  0.000000 avg.loss:  0.615824 ETA:   0h 0m 0s\n",
      "Read 0M words\n",
      "Number of words:  5884\n",
      "Number of labels: 2\n",
      "Progress: 100.0% words/sec/thread:  858584 lr:  0.000000 avg.loss:  0.556863 ETA:   0h 0m 0s\n",
      "Read 0M words\n",
      "Number of words:  6015\n",
      "Number of labels: 2\n"
     ]
    },
    {
     "name": "stdout",
     "output_type": "stream",
     "text": [
      "(34, 0.8823529411764706, 0.8823529411764706)\n"
     ]
    },
    {
     "name": "stderr",
     "output_type": "stream",
     "text": [
      "Progress: 100.0% words/sec/thread:  988012 lr:  0.000000 avg.loss:  0.586175 ETA:   0h 0m 0s\n",
      "Read 0M words\n",
      "Number of words:  5671\n",
      "Number of labels: 2\n"
     ]
    },
    {
     "name": "stdout",
     "output_type": "stream",
     "text": [
      "(34, 0.9705882352941176, 0.9705882352941176)\n"
     ]
    },
    {
     "name": "stderr",
     "output_type": "stream",
     "text": [
      "Progress: 100.0% words/sec/thread:  971771 lr:  0.000000 avg.loss:  0.556981 ETA:   0h 0m 0s\n",
      "Read 0M words\n",
      "Number of words:  5598\n",
      "Number of labels: 2\n"
     ]
    },
    {
     "name": "stdout",
     "output_type": "stream",
     "text": [
      "(33, 0.8484848484848485, 0.8484848484848485)\n"
     ]
    },
    {
     "name": "stderr",
     "output_type": "stream",
     "text": [
      "Progress: 100.0% words/sec/thread: 1053607 lr:  0.000000 avg.loss:  0.545642 ETA:   0h 0m 0s\n",
      "Read 0M words\n",
      "Number of words:  6017\n",
      "Number of labels: 2\n"
     ]
    },
    {
     "name": "stdout",
     "output_type": "stream",
     "text": [
      "(33, 0.8484848484848485, 0.8484848484848485)\n",
      "Samples in each fold: [34, 34, 34, 33, 33]\n",
      "Average Precision: 0.8806\n",
      "Average Recall: 0.8806\n",
      "F2-Measure: 0.8806\n",
      "\n",
      "lr = 1.0 | epoch = 10\n"
     ]
    },
    {
     "name": "stderr",
     "output_type": "stream",
     "text": [
      "Progress: 100.0% words/sec/thread: 1254046 lr:  0.000000 avg.loss:  0.335237 ETA:   0h 0m 0s\n",
      "Read 0M words\n",
      "Number of words:  5884\n",
      "Number of labels: 2\n"
     ]
    },
    {
     "name": "stdout",
     "output_type": "stream",
     "text": [
      "(34, 0.9411764705882353, 0.9411764705882353)\n"
     ]
    },
    {
     "name": "stderr",
     "output_type": "stream",
     "text": [
      "Progress: 100.0% words/sec/thread: 1366522 lr:  0.000000 avg.loss:  0.288696 ETA:   0h 0m 0s\n",
      "Read 0M words\n",
      "Number of words:  6015\n",
      "Number of labels: 2\n"
     ]
    },
    {
     "name": "stdout",
     "output_type": "stream",
     "text": [
      "(34, 0.9117647058823529, 0.9117647058823529)\n"
     ]
    },
    {
     "name": "stderr",
     "output_type": "stream",
     "text": [
      "Progress: 100.0% words/sec/thread: 1232788 lr:  0.000000 avg.loss:  0.315629 ETA:   0h 0m 0s\n",
      "Read 0M words\n",
      "Number of words:  5671\n",
      "Number of labels: 2\n"
     ]
    },
    {
     "name": "stdout",
     "output_type": "stream",
     "text": [
      "(34, 0.9705882352941176, 0.9705882352941176)\n"
     ]
    },
    {
     "name": "stderr",
     "output_type": "stream",
     "text": [
      "Progress: 100.0% words/sec/thread: 1033400 lr:  0.000000 avg.loss:  0.292690 ETA:   0h 0m 0s\n",
      "Read 0M words\n",
      "Number of words:  5598\n",
      "Number of labels: 2\n"
     ]
    },
    {
     "name": "stdout",
     "output_type": "stream",
     "text": [
      "(33, 0.8787878787878788, 0.8787878787878788)\n"
     ]
    },
    {
     "name": "stderr",
     "output_type": "stream",
     "text": [
      "Progress: 100.0% words/sec/thread: 1354775 lr:  0.000000 avg.loss:  0.289310 ETA:   0h 0m 0s\n",
      "Read 0M words\n",
      "Number of words:  6017\n",
      "Number of labels: 2\n"
     ]
    },
    {
     "name": "stdout",
     "output_type": "stream",
     "text": [
      "(33, 0.8484848484848485, 0.8484848484848485)\n",
      "Samples in each fold: [34, 34, 34, 33, 33]\n",
      "Average Precision: 0.9102\n",
      "Average Recall: 0.9102\n",
      "F2-Measure: 0.9102\n",
      "\n",
      "lr = 1.0 | epoch = 15\n"
     ]
    },
    {
     "name": "stderr",
     "output_type": "stream",
     "text": [
      "Progress: 100.0% words/sec/thread: 1794952 lr:  0.000000 avg.loss:  0.218899 ETA:   0h 0m 0s\n",
      "Read 0M words\n",
      "Number of words:  5884\n",
      "Number of labels: 2\n"
     ]
    },
    {
     "name": "stdout",
     "output_type": "stream",
     "text": [
      "(34, 0.9411764705882353, 0.9411764705882353)\n"
     ]
    },
    {
     "name": "stderr",
     "output_type": "stream",
     "text": [
      "Progress: 100.0% words/sec/thread: 1603464 lr:  0.000000 avg.loss:  0.192149 ETA:   0h 0m 0s\n",
      "Read 0M words\n",
      "Number of words:  6015\n",
      "Number of labels: 2\n"
     ]
    },
    {
     "name": "stdout",
     "output_type": "stream",
     "text": [
      "(34, 0.9117647058823529, 0.9117647058823529)\n"
     ]
    },
    {
     "name": "stderr",
     "output_type": "stream",
     "text": [
      "Progress: 100.0% words/sec/thread: 1658576 lr:  0.000000 avg.loss:  0.205419 ETA:   0h 0m 0s\n",
      "Read 0M words\n",
      "Number of words:  5671\n",
      "Number of labels: 2\n"
     ]
    },
    {
     "name": "stdout",
     "output_type": "stream",
     "text": [
      "(34, 0.9705882352941176, 0.9705882352941176)\n"
     ]
    },
    {
     "name": "stderr",
     "output_type": "stream",
     "text": [
      "Progress: 100.0% words/sec/thread: 1667444 lr:  0.000000 avg.loss:  0.190057 ETA:   0h 0m 0s\n",
      "Read 0M words\n",
      "Number of words:  5598\n",
      "Number of labels: 2\n"
     ]
    },
    {
     "name": "stdout",
     "output_type": "stream",
     "text": [
      "(33, 0.9090909090909091, 0.9090909090909091)\n"
     ]
    },
    {
     "name": "stderr",
     "output_type": "stream",
     "text": [
      "Progress: 100.0% words/sec/thread: 1743943 lr:  0.000000 avg.loss:  0.189741 ETA:   0h 0m 0s\n",
      "Read 0M words\n",
      "Number of words:  6017\n",
      "Number of labels: 2\n"
     ]
    },
    {
     "name": "stdout",
     "output_type": "stream",
     "text": [
      "(33, 0.8787878787878788, 0.8787878787878788)\n",
      "Samples in each fold: [34, 34, 34, 33, 33]\n",
      "Average Precision: 0.9223\n",
      "Average Recall: 0.9223\n",
      "F2-Measure: 0.9223\n",
      "\n",
      "lr = 1.0 | epoch = 20\n",
      "(34, 0.9411764705882353, 0.9411764705882353)\n"
     ]
    },
    {
     "name": "stderr",
     "output_type": "stream",
     "text": [
      "Progress: 100.0% words/sec/thread: 1953882 lr:  0.000000 avg.loss:  0.160860 ETA:   0h 0m 0s\n",
      "Read 0M words\n",
      "Number of words:  5884\n",
      "Number of labels: 2\n",
      "Progress: 100.0% words/sec/thread: 1844315 lr:  0.000000 avg.loss:  0.142713 ETA:   0h 0m 0s\n",
      "Read 0M words\n",
      "Number of words:  6015\n",
      "Number of labels: 2\n"
     ]
    },
    {
     "name": "stdout",
     "output_type": "stream",
     "text": [
      "(34, 0.9117647058823529, 0.9117647058823529)\n"
     ]
    },
    {
     "name": "stderr",
     "output_type": "stream",
     "text": [
      "Progress: 100.0% words/sec/thread: 1836799 lr:  0.000000 avg.loss:  0.151227 ETA:   0h 0m 0s\n",
      "Read 0M words\n",
      "Number of words:  5671\n",
      "Number of labels: 2\n"
     ]
    },
    {
     "name": "stdout",
     "output_type": "stream",
     "text": [
      "(34, 0.9705882352941176, 0.9705882352941176)\n"
     ]
    },
    {
     "name": "stderr",
     "output_type": "stream",
     "text": [
      "Progress: 100.0% words/sec/thread: 1808839 lr:  0.000000 avg.loss:  0.140044 ETA:   0h 0m 0s\n",
      "Read 0M words\n",
      "Number of words:  5598\n",
      "Number of labels: 2\n"
     ]
    },
    {
     "name": "stdout",
     "output_type": "stream",
     "text": [
      "(33, 0.9090909090909091, 0.9090909090909091)\n",
      "(33, 0.8787878787878788, 0.8787878787878788)\n",
      "Samples in each fold: [34, 34, 34, 33, 33]\n",
      "Average Precision: 0.9223\n",
      "Average Recall: 0.9223\n",
      "F2-Measure: 0.9223\n",
      "\n"
     ]
    },
    {
     "name": "stderr",
     "output_type": "stream",
     "text": [
      "Progress: 100.0% words/sec/thread: 1907445 lr:  0.000000 avg.loss:  0.140175 ETA:   0h 0m 0s\n"
     ]
    }
   ],
   "source": [
    "lrs = [0.1, 0.5, 1.0]\n",
    "epochs = [5, 10, 15, 20]\n",
    "F2_max = float('-inf') # initialize the evaluation metric with a very low value\n",
    "best_model = None\n",
    "# fasttext builds upon the principles of Word2Vec\n",
    "# it uses a single hidden layer neural network\n",
    "# uses Continuous Bag of Words (CBOW) model (defaul for fastText)\n",
    "# employs a hierarchical softmax strategy: FastText uses a hierarchical tree structure to reduce the computational complexity of training and prediction\n",
    "# for text classification: FastText uses a linear classifier that takes the document vector representation as input and outputs the predicted class probabilities\n",
    "# for text classification: FastText trains the word vectors and the classification model simultaneously using a modified version of the skip-gram model (=it tries to predict both context words in a window and the class labels during training)\n",
    "for lr in lrs:\n",
    "    for epoch in epochs:\n",
    "        np.random.seed(7)\n",
    "        print(f'lr = {lr} | epoch = {epoch}')\n",
    "        # set FastText parameters\n",
    "        hyperparams = {\n",
    "            \"lr\": lr,          # learning rate\n",
    "            \"epoch\": epoch,    # number of epochs to train for\n",
    "            \"wordNgrams\": 2,   # in fasttext each word is represented as a bag of character n-grams in addition to the word itself\n",
    "                               # for example: the word \"apple\" can be represented as the n-grams [\"ap\", \"pp\", \"pl\", \"le\"]\n",
    "            'dim':300,         # the dimension of the hidden layer in training, and thus the dimension of the embeddings\n",
    "            'ws':3,            # window size \n",
    "            'thread':1         # control the CPU usage + improves the reproducibility \n",
    "        }\n",
    "        ffasttext_model = train_ft_model(hyperparams)\n",
    "        # update the best model to be current model if current model F2 is larger than previous max F2\n",
    "        if F2_max < ffasttext_model[1]:\n",
    "            F2_max = ffasttext_model[1]\n",
    "            best_model = ffasttext_model + (lr, epoch)\n",
    "        print()"
   ]
  },
  {
   "cell_type": "code",
   "execution_count": 50,
   "metadata": {},
   "outputs": [
    {
     "data": {
      "text/plain": [
       "(<fasttext.FastText._FastText at 0x3e25643a0>,\n",
       " 0.9222816399286987,\n",
       " 0.9222816399286987,\n",
       " 0.9222816399286987,\n",
       " 1.0,\n",
       " 15)"
      ]
     },
     "execution_count": 50,
     "metadata": {},
     "output_type": "execute_result"
    }
   ],
   "source": [
    "# the best model resulted from the above\n",
    "# F2, precission, recall = 0.92\n",
    "# learning rate = 1.0\n",
    "# epochs = 15\n",
    "best_model "
   ]
  },
  {
   "cell_type": "code",
   "execution_count": 71,
   "metadata": {},
   "outputs": [
    {
     "data": {
      "text/plain": [
       "5598"
      ]
     },
     "execution_count": 71,
     "metadata": {},
     "output_type": "execute_result"
    }
   ],
   "source": [
    "# vocabulary size\n",
    "len(best_model[0].words)"
   ]
  },
  {
   "cell_type": "code",
   "execution_count": 69,
   "metadata": {},
   "outputs": [],
   "source": [
    "def print_results(N, p, r):\n",
    "    print(\"N\\t\\t\" + str(N))\n",
    "    print(f\"Precision\\t{p:.3f}\")\n",
    "    print(f\"Recall\\t\\t{r:.3f}\")\n"
   ]
  },
  {
   "cell_type": "code",
   "execution_count": 70,
   "metadata": {},
   "outputs": [
    {
     "name": "stdout",
     "output_type": "stream",
     "text": [
      "Test data performance\n",
      "N\t\t42\n",
      "Precision\t0.881\n",
      "Recall\t\t0.881\n"
     ]
    }
   ],
   "source": [
    "# the output are the number of samples the precision and the recall \n",
    "# https://fasttext.cc/docs/en/supervised-tutorial.html\n",
    "# train data\n",
    "print('Test data performance')\n",
    "print_results(*best_model[0].test('annotated_data/data_fastText/asd_newtext_test'))"
   ]
  },
  {
   "cell_type": "markdown",
   "metadata": {},
   "source": [
    "Best model seems to be overfitted. \n",
    "Try different parameters -> reduce the number of epochs ( notice above for lr=0.1 and epochs=10, F2-Measure is still high on validation set - 0.9102).\n",
    "\n",
    "!!! this is wrong : if I change the parameters to increase performance on test set, the model will overfit the data . ONLY USE THE VALIDATION SET TO ASSESS PERFORMANCE AND WHATEVER THE PERFORMANCE ON THE TEST SET THAT IT IS!!!!"
   ]
  },
  {
   "cell_type": "code",
   "execution_count": 73,
   "metadata": {},
   "outputs": [
    {
     "name": "stderr",
     "output_type": "stream",
     "text": [
      "Read 0M words\n",
      "Number of words:  6017\n",
      "Number of labels: 2\n",
      "Progress: 100.0% words/sec/thread: 1252192 lr:  0.000000 avg.loss:  0.335237 ETA:   0h 0m 0s\n",
      "Read 0M words\n",
      "Number of words:  5884\n",
      "Number of labels: 2\n"
     ]
    },
    {
     "name": "stdout",
     "output_type": "stream",
     "text": [
      "(34, 0.9411764705882353, 0.9411764705882353)\n"
     ]
    },
    {
     "name": "stderr",
     "output_type": "stream",
     "text": [
      "Progress: 100.0% words/sec/thread: 1178096 lr:  0.000000 avg.loss:  0.288696 ETA:   0h 0m 0s\n",
      "Read 0M words\n",
      "Number of words:  6015\n",
      "Number of labels: 2\n"
     ]
    },
    {
     "name": "stdout",
     "output_type": "stream",
     "text": [
      "(34, 0.9117647058823529, 0.9117647058823529)\n"
     ]
    },
    {
     "name": "stderr",
     "output_type": "stream",
     "text": [
      "Progress: 100.0% words/sec/thread: 1453008 lr:  0.000000 avg.loss:  0.315629 ETA:   0h 0m 0s\n",
      "Read 0M words\n",
      "Number of words:  5671\n",
      "Number of labels: 2\n"
     ]
    },
    {
     "name": "stdout",
     "output_type": "stream",
     "text": [
      "(34, 0.9705882352941176, 0.9705882352941176)\n"
     ]
    },
    {
     "name": "stderr",
     "output_type": "stream",
     "text": [
      "Progress: 100.0% words/sec/thread: 1506249 lr:  0.000000 avg.loss:  0.292690 ETA:   0h 0m 0s\n",
      "Read 0M words\n",
      "Number of words:  5598\n",
      "Number of labels: 2\n"
     ]
    },
    {
     "name": "stdout",
     "output_type": "stream",
     "text": [
      "(33, 0.8787878787878788, 0.8787878787878788)\n",
      "(33, 0.8484848484848485, 0.8484848484848485)\n",
      "Samples in each fold: [34, 34, 34, 33, 33]\n",
      "Average Precision: 0.9102\n",
      "Average Recall: 0.9102\n",
      "F2-Measure: 0.9102\n"
     ]
    },
    {
     "name": "stderr",
     "output_type": "stream",
     "text": [
      "Progress: 100.0% words/sec/thread: 1314901 lr:  0.000000 avg.loss:  0.289310 ETA:   0h 0m 0s\n"
     ]
    }
   ],
   "source": [
    "lr = 1.0 # keep the same learning rate\n",
    "epoch = 10 # reduce the epochs\n",
    "hyperparams = {\n",
    "            \"lr\": lr,          # learning rate\n",
    "            \"epoch\": epoch,    # number of epochs to train for\n",
    "            \"wordNgrams\": 2,   # in fasttext each word is represented as a bag of character n-grams in addition to the word itself\n",
    "                               # for example: the word \"apple\" can be represented as the n-grams [\"ap\", \"pp\", \"pl\", \"le\"]\n",
    "            'dim':300,         # the dimension of the hidden layer in training, and thus the dimension of the embeddings\n",
    "            'ws':3,            # window size \n",
    "            'thread':1         # control the CPU usage + improves the reproducibility \n",
    "        }\n",
    "np.random.seed(7)\n",
    "ft_model = train_ft_model(hyperparams)"
   ]
  },
  {
   "cell_type": "code",
   "execution_count": 76,
   "metadata": {},
   "outputs": [
    {
     "data": {
      "text/plain": [
       "5598"
      ]
     },
     "execution_count": 76,
     "metadata": {},
     "output_type": "execute_result"
    }
   ],
   "source": [
    "# vocabulary size\n",
    "len(ft_model[0].words)"
   ]
  },
  {
   "cell_type": "code",
   "execution_count": 75,
   "metadata": {},
   "outputs": [
    {
     "name": "stdout",
     "output_type": "stream",
     "text": [
      "Test data performance\n",
      "N\t\t42\n",
      "Precision\t0.905\n",
      "Recall\t\t0.905\n"
     ]
    }
   ],
   "source": [
    "# texting data performance\n",
    "print('Test data performance')\n",
    "print_results(*ft_model[0].test('annotated_data/data_fastText/asd_newtext_test'))"
   ]
  },
  {
   "cell_type": "code",
   "execution_count": 86,
   "metadata": {},
   "outputs": [
    {
     "data": {
      "text/plain": [
       "0.923931623931624"
      ]
     },
     "execution_count": 86,
     "metadata": {},
     "output_type": "execute_result"
    }
   ],
   "source": [
    "# F2 for TFIDF and linear SVM on test dataset\n",
    "svm_avg_precision = 0.94\n",
    "svm_avg_recall = 0.92\n",
    "svm_F2 = (5 * svm_avg_precision * svm_avg_recall) / (4 * svm_avg_precision + svm_avg_recall)\n",
    "svm_F2"
   ]
  },
  {
   "cell_type": "markdown",
   "metadata": {},
   "source": [
    "The average performance for the FastText model - trained on current data:\n",
    "\n",
    "test precission = 0.90 (training set is 0.91 - not overfit)<br>\n",
    "test recall = 0.90 ( training set is 0.91 - not overfit )<br>\n",
    "\n",
    "FastText performed the best out of the word emebeding models (similar results with distilroberta). <br>\n",
    "The TFIDF vectorization + linear SVM model show the best metrics for the classification (F2 = 0.92).\n",
    "\n",
    "The advantage of fastText is that it deals with the OOV problem fairly well (it tokenizes based on characters, not just words), is fast (optimised to work fast on CPUs, thus can be run on any computer) and easy to train ( with the API and a simple python library)\n",
    "This model will be prefered to the count frequency ones.\n",
    "\n",
    "THIS IS WRONG AS IT FITS THE TEST DATA !!! ONLY VALIDATION SHOULD BE USED ( THIS WILL LIKELY OVERFIT THE TEST DATA AND NOT GENERALIZE WELL TO NEW DATA)\n",
    "\n",
    "ALSO THE DIMENSIONALITY IS HIGHER THAN THE NUMEBR OF ROWS => COMPLEX MODELS WILL OVERFIT , THUS FASTTEXT IS NOT A GOOD CHOICE DESPITE ITS ABILITY TO DEAL WITH OOV -> THIS MODEL IS COMPLEX SO MOST LIKELY IT WILL OVERFIT!!"
   ]
  },
  {
   "cell_type": "code",
   "execution_count": 81,
   "metadata": {},
   "outputs": [
    {
     "data": {
      "text/html": [
       "<div>\n",
       "<style scoped>\n",
       "    .dataframe tbody tr th:only-of-type {\n",
       "        vertical-align: middle;\n",
       "    }\n",
       "\n",
       "    .dataframe tbody tr th {\n",
       "        vertical-align: top;\n",
       "    }\n",
       "\n",
       "    .dataframe thead th {\n",
       "        text-align: right;\n",
       "    }\n",
       "</style>\n",
       "<table border=\"1\" class=\"dataframe\">\n",
       "  <thead>\n",
       "    <tr style=\"text-align: right;\">\n",
       "      <th></th>\n",
       "      <th>text</th>\n",
       "      <th>asd</th>\n",
       "    </tr>\n",
       "  </thead>\n",
       "  <tbody>\n",
       "    <tr>\n",
       "      <th>231</th>\n",
       "      <td>__label__0 Gamingcirclejerk gaming Circlejerk ...</td>\n",
       "      <td>0</td>\n",
       "    </tr>\n",
       "    <tr>\n",
       "      <th>243</th>\n",
       "      <td>__label__1 ASDpeersupport ASD Peer support Pee...</td>\n",
       "      <td>1</td>\n",
       "    </tr>\n",
       "  </tbody>\n",
       "</table>\n",
       "</div>"
      ],
      "text/plain": [
       "                                                  text  asd\n",
       "231  __label__0 Gamingcirclejerk gaming Circlejerk ...    0\n",
       "243  __label__1 ASDpeersupport ASD Peer support Pee...    1"
      ]
     },
     "execution_count": 81,
     "metadata": {},
     "output_type": "execute_result"
    }
   ],
   "source": [
    "ft_test_df.head(2)"
   ]
  },
  {
   "cell_type": "code",
   "execution_count": 82,
   "metadata": {},
   "outputs": [],
   "source": [
    "predictions = []\n",
    "for text in ft_test_df['text']:\n",
    "    prediction = ft_model[0].predict(text)[0][0]  \n",
    "    predictions.append(prediction)\n",
    "last_characters = [int(prediction[-1]) for prediction in predictions]\n",
    "# last_characters"
   ]
  },
  {
   "cell_type": "code",
   "execution_count": 84,
   "metadata": {},
   "outputs": [
    {
     "data": {
      "text/plain": [
       "['__label__0 cod AW Subreddit move Callof Duty subreddit move Callof Duty Subreddit move Callof Duty',\n",
       " '__label__0 ndwitches ndwitche subreddit neurodivergent practitioner witchcraft like witchesvspatriarchy ND people',\n",
       " '__label__0 downsyndrome downsyndrome community thing relate syndrome let s place positive hateful disrespectful submission comment remove community thing relate syndrome let s place positive hateful disrespectful submission comment remove subreddit find interesting autism autistic asperger disability 22q useful link National Syndrome Society http www ndss org',\n",
       " '__label__0 Neurodivergent Languag Neurodivergent Languag reddit dedicate discussion creation language easy people communication emotional issue use']"
      ]
     },
     "execution_count": 84,
     "metadata": {},
     "output_type": "execute_result"
    }
   ],
   "source": [
    "true_labels = ft_test_df.asd\n",
    "\n",
    "misclassified_texts = []\n",
    "\n",
    "# identify misclassified rows\n",
    "for predicted_label, true_label, text in zip(last_characters, true_labels, ft_test_df.text):\n",
    "    if predicted_label != true_label:\n",
    "        misclassified_texts.append(text) \n",
    "        \n",
    "misclassified_texts \n"
   ]
  },
  {
   "cell_type": "code",
   "execution_count": 85,
   "metadata": {},
   "outputs": [
    {
     "data": {
      "text/plain": [
       "[(0.9998973608016968, 'autistic'),\n",
       " (0.9998796582221985, 'Autism'),\n",
       " (0.9997924566268921, '</s>'),\n",
       " (0.9997183680534363, 'people'),\n",
       " (0.9996293783187866, 'Neurodivergent'),\n",
       " (0.999610424041748, 'spectrum'),\n",
       " (0.9995817542076111, 'Autistic'),\n",
       " (0.9993985295295715, 'ASD'),\n",
       " (0.9993218183517456, 'community'),\n",
       " (0.9991692304611206, 'Aspergers')]"
      ]
     },
     "execution_count": 85,
     "metadata": {},
     "output_type": "execute_result"
    }
   ],
   "source": [
    "# the model trained on current data set results in good similar words to 'autism'\n",
    "ft_model[0].get_nearest_neighbors('autism')"
   ]
  },
  {
   "cell_type": "code",
   "execution_count": null,
   "metadata": {},
   "outputs": [],
   "source": [
    "# save the model\n",
    "ft_model.save_model('models/fastText_subreddits.bin')"
   ]
  },
  {
   "cell_type": "markdown",
   "metadata": {},
   "source": [
    "# B. Deep learning "
   ]
  },
  {
   "cell_type": "markdown",
   "metadata": {},
   "source": [
    "## 3. 4. 5. 6. Preprocess, Tokenize, Vectorize, Apply Classifier and Evaluate the model - uses transformers and pytorch"
   ]
  },
  {
   "cell_type": "markdown",
   "metadata": {},
   "source": [
    "Data will be split into training and testing data sets that will be saved and imported in google Colab - this is done for consistency of the datasets (in google colab, when using a GPU, the random seed will not generate the same result as this notebook)."
   ]
  },
  {
   "cell_type": "code",
   "execution_count": null,
   "metadata": {},
   "outputs": [
    {
     "data": {
      "text/html": [
       "<div>\n",
       "<style scoped>\n",
       "    .dataframe tbody tr th:only-of-type {\n",
       "        vertical-align: middle;\n",
       "    }\n",
       "\n",
       "    .dataframe tbody tr th {\n",
       "        vertical-align: top;\n",
       "    }\n",
       "\n",
       "    .dataframe thead th {\n",
       "        text-align: right;\n",
       "    }\n",
       "</style>\n",
       "<table border=\"1\" class=\"dataframe\">\n",
       "  <thead>\n",
       "    <tr style=\"text-align: right;\">\n",
       "      <th></th>\n",
       "      <th>asd</th>\n",
       "      <th>text</th>\n",
       "    </tr>\n",
       "  </thead>\n",
       "  <tbody>\n",
       "    <tr>\n",
       "      <th>205</th>\n",
       "      <td>1</td>\n",
       "      <td>autismmemes autism memes Meme for people with ...</td>\n",
       "    </tr>\n",
       "    <tr>\n",
       "      <th>488</th>\n",
       "      <td>1</td>\n",
       "      <td>ASDcareers The Careers of People with ASD Livi...</td>\n",
       "    </tr>\n",
       "    <tr>\n",
       "      <th>231</th>\n",
       "      <td>0</td>\n",
       "      <td>Gamingcirclejerk Gaming Circlejerk Don Cheadle...</td>\n",
       "    </tr>\n",
       "    <tr>\n",
       "      <th>104</th>\n",
       "      <td>1</td>\n",
       "      <td>autisticpeople Autism Spectrum Disorder News l...</td>\n",
       "    </tr>\n",
       "    <tr>\n",
       "      <th>263</th>\n",
       "      <td>1</td>\n",
       "      <td>Autistic Pride2 Autistic Pride2</td>\n",
       "    </tr>\n",
       "  </tbody>\n",
       "</table>\n",
       "</div>"
      ],
      "text/plain": [
       "     asd                                               text\n",
       "205    1  autismmemes autism memes Meme for people with ...\n",
       "488    1  ASDcareers The Careers of People with ASD Livi...\n",
       "231    0  Gamingcirclejerk Gaming Circlejerk Don Cheadle...\n",
       "104    1  autisticpeople Autism Spectrum Disorder News l...\n",
       "263    1                    Autistic Pride2 Autistic Pride2"
      ]
     },
     "execution_count": 143,
     "metadata": {},
     "output_type": "execute_result"
    }
   ],
   "source": [
    "asd_subs_annotated_df_short.head()"
   ]
  },
  {
   "cell_type": "code",
   "execution_count": null,
   "metadata": {},
   "outputs": [
    {
     "data": {
      "text/html": [
       "<div>\n",
       "<style scoped>\n",
       "    .dataframe tbody tr th:only-of-type {\n",
       "        vertical-align: middle;\n",
       "    }\n",
       "\n",
       "    .dataframe tbody tr th {\n",
       "        vertical-align: top;\n",
       "    }\n",
       "\n",
       "    .dataframe thead th {\n",
       "        text-align: right;\n",
       "    }\n",
       "</style>\n",
       "<table border=\"1\" class=\"dataframe\">\n",
       "  <thead>\n",
       "    <tr style=\"text-align: right;\">\n",
       "      <th></th>\n",
       "      <th>Other</th>\n",
       "      <th>ASD</th>\n",
       "    </tr>\n",
       "  </thead>\n",
       "  <tbody>\n",
       "    <tr>\n",
       "      <th>205</th>\n",
       "      <td>0</td>\n",
       "      <td>1</td>\n",
       "    </tr>\n",
       "    <tr>\n",
       "      <th>488</th>\n",
       "      <td>0</td>\n",
       "      <td>1</td>\n",
       "    </tr>\n",
       "    <tr>\n",
       "      <th>231</th>\n",
       "      <td>1</td>\n",
       "      <td>0</td>\n",
       "    </tr>\n",
       "  </tbody>\n",
       "</table>\n",
       "</div>"
      ],
      "text/plain": [
       "     Other  ASD\n",
       "205      0    1\n",
       "488      0    1\n",
       "231      1    0"
      ]
     },
     "execution_count": 154,
     "metadata": {},
     "output_type": "execute_result"
    }
   ],
   "source": [
    "df_encoded = pd.get_dummies(asd_subs_annotated_df_short['asd'])\n",
    "# Rename columns\n",
    "col_names = {0: 'Other', 1: 'ASD'}\n",
    "df_encoded.rename(columns=col_names, inplace=True)\n",
    "df_encoded = df_encoded.astype(int)\n",
    "df_encoded.head(3)"
   ]
  },
  {
   "cell_type": "code",
   "execution_count": null,
   "metadata": {},
   "outputs": [
    {
     "data": {
      "text/html": [
       "<div>\n",
       "<style scoped>\n",
       "    .dataframe tbody tr th:only-of-type {\n",
       "        vertical-align: middle;\n",
       "    }\n",
       "\n",
       "    .dataframe tbody tr th {\n",
       "        vertical-align: top;\n",
       "    }\n",
       "\n",
       "    .dataframe thead th {\n",
       "        text-align: right;\n",
       "    }\n",
       "</style>\n",
       "<table border=\"1\" class=\"dataframe\">\n",
       "  <thead>\n",
       "    <tr style=\"text-align: right;\">\n",
       "      <th></th>\n",
       "      <th>text</th>\n",
       "      <th>Other</th>\n",
       "      <th>ASD</th>\n",
       "    </tr>\n",
       "  </thead>\n",
       "  <tbody>\n",
       "    <tr>\n",
       "      <th>205</th>\n",
       "      <td>autismmemes autism memes Meme for people with ...</td>\n",
       "      <td>0</td>\n",
       "      <td>1</td>\n",
       "    </tr>\n",
       "    <tr>\n",
       "      <th>488</th>\n",
       "      <td>ASDcareers The Careers of People with ASD Livi...</td>\n",
       "      <td>0</td>\n",
       "      <td>1</td>\n",
       "    </tr>\n",
       "    <tr>\n",
       "      <th>231</th>\n",
       "      <td>Gamingcirclejerk Gaming Circlejerk Don Cheadle...</td>\n",
       "      <td>1</td>\n",
       "      <td>0</td>\n",
       "    </tr>\n",
       "  </tbody>\n",
       "</table>\n",
       "</div>"
      ],
      "text/plain": [
       "                                                  text  Other  ASD\n",
       "205  autismmemes autism memes Meme for people with ...      0    1\n",
       "488  ASDcareers The Careers of People with ASD Livi...      0    1\n",
       "231  Gamingcirclejerk Gaming Circlejerk Don Cheadle...      1    0"
      ]
     },
     "execution_count": 159,
     "metadata": {},
     "output_type": "execute_result"
    }
   ],
   "source": [
    "df = pd.concat([asd_subs_annotated_df_short, df_encoded], axis=1)\n",
    "df.drop(['asd'], axis=1, inplace=True)\n",
    "df.head(3)"
   ]
  },
  {
   "cell_type": "code",
   "execution_count": null,
   "metadata": {},
   "outputs": [],
   "source": [
    "# split the data into train set ( 0.8 of the dataset ) and test set of (0.2 of the dataset)\n",
    "from sklearn.model_selection import train_test_split\n",
    "train_data, test_data = train_test_split(df, test_size=0.2, stratify=df['ASD'], random_state=7)"
   ]
  },
  {
   "cell_type": "code",
   "execution_count": null,
   "metadata": {},
   "outputs": [
    {
     "data": {
      "text/html": [
       "<div>\n",
       "<style scoped>\n",
       "    .dataframe tbody tr th:only-of-type {\n",
       "        vertical-align: middle;\n",
       "    }\n",
       "\n",
       "    .dataframe tbody tr th {\n",
       "        vertical-align: top;\n",
       "    }\n",
       "\n",
       "    .dataframe thead th {\n",
       "        text-align: right;\n",
       "    }\n",
       "</style>\n",
       "<table border=\"1\" class=\"dataframe\">\n",
       "  <thead>\n",
       "    <tr style=\"text-align: right;\">\n",
       "      <th></th>\n",
       "      <th>text</th>\n",
       "      <th>Other</th>\n",
       "      <th>ASD</th>\n",
       "    </tr>\n",
       "  </thead>\n",
       "  <tbody>\n",
       "    <tr>\n",
       "      <th>116</th>\n",
       "      <td>womenonthespectrum womenonthespectrum A commun...</td>\n",
       "      <td>0</td>\n",
       "      <td>1</td>\n",
       "    </tr>\n",
       "    <tr>\n",
       "      <th>293</th>\n",
       "      <td>The Owl House The Owl House A subreddit for th...</td>\n",
       "      <td>1</td>\n",
       "      <td>0</td>\n",
       "    </tr>\n",
       "    <tr>\n",
       "      <th>452</th>\n",
       "      <td>Autism Speaks Sucks Autism Speaks Sucks A comm...</td>\n",
       "      <td>0</td>\n",
       "      <td>1</td>\n",
       "    </tr>\n",
       "  </tbody>\n",
       "</table>\n",
       "</div>"
      ],
      "text/plain": [
       "                                                  text  Other  ASD\n",
       "116  womenonthespectrum womenonthespectrum A commun...      0    1\n",
       "293  The Owl House The Owl House A subreddit for th...      1    0\n",
       "452  Autism Speaks Sucks Autism Speaks Sucks A comm...      0    1"
      ]
     },
     "execution_count": 173,
     "metadata": {},
     "output_type": "execute_result"
    }
   ],
   "source": [
    "train_data.head(3)"
   ]
  },
  {
   "cell_type": "code",
   "execution_count": null,
   "metadata": {},
   "outputs": [
    {
     "data": {
      "text/html": [
       "<div>\n",
       "<style scoped>\n",
       "    .dataframe tbody tr th:only-of-type {\n",
       "        vertical-align: middle;\n",
       "    }\n",
       "\n",
       "    .dataframe tbody tr th {\n",
       "        vertical-align: top;\n",
       "    }\n",
       "\n",
       "    .dataframe thead th {\n",
       "        text-align: right;\n",
       "    }\n",
       "</style>\n",
       "<table border=\"1\" class=\"dataframe\">\n",
       "  <thead>\n",
       "    <tr style=\"text-align: right;\">\n",
       "      <th></th>\n",
       "      <th>text</th>\n",
       "      <th>Other</th>\n",
       "      <th>ASD</th>\n",
       "    </tr>\n",
       "  </thead>\n",
       "  <tbody>\n",
       "    <tr>\n",
       "      <th>231</th>\n",
       "      <td>Gamingcirclejerk Gaming Circlejerk Don Cheadle...</td>\n",
       "      <td>1</td>\n",
       "      <td>0</td>\n",
       "    </tr>\n",
       "    <tr>\n",
       "      <th>243</th>\n",
       "      <td>ASDpeersupport ASD Peer Support Peer based sup...</td>\n",
       "      <td>0</td>\n",
       "      <td>1</td>\n",
       "    </tr>\n",
       "    <tr>\n",
       "      <th>392</th>\n",
       "      <td>selfharm A Subreddit for Self Harmers A subred...</td>\n",
       "      <td>1</td>\n",
       "      <td>0</td>\n",
       "    </tr>\n",
       "  </tbody>\n",
       "</table>\n",
       "</div>"
      ],
      "text/plain": [
       "                                                  text  Other  ASD\n",
       "231  Gamingcirclejerk Gaming Circlejerk Don Cheadle...      1    0\n",
       "243  ASDpeersupport ASD Peer Support Peer based sup...      0    1\n",
       "392  selfharm A Subreddit for Self Harmers A subred...      1    0"
      ]
     },
     "execution_count": 174,
     "metadata": {},
     "output_type": "execute_result"
    }
   ],
   "source": [
    "test_data.head(3)"
   ]
  },
  {
   "cell_type": "code",
   "execution_count": null,
   "metadata": {},
   "outputs": [],
   "source": [
    "train_data.to_csv('annotated_data/asd_subs_roberta/train_data.csv')\n",
    "test_data.to_csv('annotated_data/asd_subs_roberta/test_data.csv')"
   ]
  },
  {
   "cell_type": "markdown",
   "metadata": {},
   "source": [
    "\n",
    "### Text classificatoin with RoBERTa - pytorch and transformers\n",
    "\n",
    "The RoBERTa model requires more computeational power and I have used google free GPU available via Colab. \n",
    "\n",
    "Due to the size of RoBERTa model and the GPU limitation for the free tier of Google Clolab, the distilled version of this model (distilroberta-base) was used for training: https://huggingface.co/distilroberta-base\n",
    "\n",
    "Notebook avaialble at:\n",
    "https://colab.research.google.com/drive/1kW2o_FW3R7cTpHidwvZDpAD_QtEfG4jQ#scrollTo=o8gtVVPhBKzk&uniqifier=1"
   ]
  },
  {
   "cell_type": "markdown",
   "metadata": {},
   "source": [
    "The distilroberta model resulted in similar result as the fasttext model. However, the distilroberta model is larger and more computationally expensive ( for faster performace it requiers a GPU ). Due to this reason , the lighter , easier to use fasttext model will be used in the final classificaiton ( when the models show similar results, a wise choice should be the simpler, easier to implement model) NO!\n",
    "\n",
    "The dimensionality of the data is high ( bigger than the numebr of entries/rows) , thus using a complex model is likely to overfit. Thus what is needed is  form of dimensionality reduction the applying a simple classification model (naive Bayes, logistic regression etc.)\n",
    "\n",
    "Howver after a discussion with Paul Yoo, the following was decided:\n",
    "1. either manually code the subreddits manually ( to remove the bias that might result in doing this automantically, and only have the bias that wouldresult from getting the submissions/comments)\n",
    "2. search all subreddits regardless of the name/description for submissions ( main posts) related to autism and aba ( using the words in the 2 wordbanks ), this way we only have bias once ( in the submissions ) ; we can then analyse these submissions(and the comments/children) to find out: sentiment, who posts it (and make a word bank related to parent/asd person/professional/other), topics disscussed ( for ex for Bert topic to get the most relevant words per topic ) - this is the new direction of the project - code in asd_aba_submissions_all_subreddits.ipynb\n",
    "\n"
   ]
  },
  {
   "cell_type": "code",
   "execution_count": null,
   "metadata": {},
   "outputs": [],
   "source": [
    "# after a discussion with dr. paul yo on 12/oct/2023, fast text model will be dropped:\n",
    "# 2 soultions: either code by hand all 500 subreddits and get the asd relevant subreddits\n",
    "# or query reddit api for 3 keywords : asd + aba + 'i am a parent'/'i am a person with asd'\n",
    "# (discuss how all the fitted model still have an error and would include irelevant threads anyway - best model give 93% accuracy , which means 7% error of irelevant threads)"
   ]
  },
  {
   "cell_type": "markdown",
   "metadata": {},
   "source": [
    "## Subreddits classification with fastText\n",
    "includes the whole dataset"
   ]
  },
  {
   "cell_type": "code",
   "execution_count": null,
   "metadata": {},
   "outputs": [
    {
     "data": {
      "text/html": [
       "<div>\n",
       "<style scoped>\n",
       "    .dataframe tbody tr th:only-of-type {\n",
       "        vertical-align: middle;\n",
       "    }\n",
       "\n",
       "    .dataframe tbody tr th {\n",
       "        vertical-align: top;\n",
       "    }\n",
       "\n",
       "    .dataframe thead th {\n",
       "        text-align: right;\n",
       "    }\n",
       "</style>\n",
       "<table border=\"1\" class=\"dataframe\">\n",
       "  <thead>\n",
       "    <tr style=\"text-align: right;\">\n",
       "      <th></th>\n",
       "      <th>id</th>\n",
       "      <th>display_name</th>\n",
       "      <th>text</th>\n",
       "      <th>lang</th>\n",
       "    </tr>\n",
       "  </thead>\n",
       "  <tbody>\n",
       "    <tr>\n",
       "      <th>0</th>\n",
       "      <td>28lhh2</td>\n",
       "      <td>AutismRepresentation</td>\n",
       "      <td>Autism Representation Autism Awareness A place...</td>\n",
       "      <td>en</td>\n",
       "    </tr>\n",
       "    <tr>\n",
       "      <th>1</th>\n",
       "      <td>3b4rh</td>\n",
       "      <td>AspiePositive</td>\n",
       "      <td>Aspie Positive Aspie Positive by aspies for as...</td>\n",
       "      <td>en</td>\n",
       "    </tr>\n",
       "    <tr>\n",
       "      <th>2</th>\n",
       "      <td>2nwjjb</td>\n",
       "      <td>TrumpAutism</td>\n",
       "      <td>Trump Autism Trump Autism Trump Autism Trump A...</td>\n",
       "      <td>lv</td>\n",
       "    </tr>\n",
       "  </tbody>\n",
       "</table>\n",
       "</div>"
      ],
      "text/plain": [
       "       id          display_name  \\\n",
       "0  28lhh2  AutismRepresentation   \n",
       "1   3b4rh         AspiePositive   \n",
       "2  2nwjjb           TrumpAutism   \n",
       "\n",
       "                                                text lang  \n",
       "0  Autism Representation Autism Awareness A place...   en  \n",
       "1  Aspie Positive Aspie Positive by aspies for as...   en  \n",
       "2  Trump Autism Trump Autism Trump Autism Trump A...   lv  "
      ]
     },
     "execution_count": 216,
     "metadata": {},
     "output_type": "execute_result"
    }
   ],
   "source": [
    "asd_subs_df.head(3)"
   ]
  },
  {
   "cell_type": "code",
   "execution_count": null,
   "metadata": {},
   "outputs": [
    {
     "name": "stdout",
     "output_type": "stream",
     "text": [
      "(('__label__1',), array([0.99910378])) AutismRepresentation\n",
      "(('__label__1',), array([0.55182385])) AspiePositive\n",
      "(('__label__1',), array([1.00000727])) TrumpAutism\n",
      "(('__label__0',), array([0.78413045])) nevergrewup\n",
      "(('__label__1',), array([0.97874802])) asperger\n",
      "(('__label__1',), array([0.7675482])) AutismTranslator\n",
      "(('__label__0',), array([0.70082128])) gutscience\n",
      "(('__label__1',), array([0.55717224])) artisticspectrum\n",
      "(('__label__1',), array([0.88951808])) AutisticVents\n",
      "(('__label__1',), array([0.9952963])) Autism___Parenting\n",
      "(('__label__0',), array([0.6394068])) martincabello\n",
      "(('__label__1',), array([0.69534355])) AutisticWorkersUnion\n",
      "(('__label__0',), array([0.97005862])) NonBinary\n",
      "(('__label__1',), array([0.8873623])) NTHusbandASWife\n",
      "(('__label__1',), array([0.79995632])) AspergersParents\n",
      "(('__label__1',), array([0.85324061])) asdparents\n",
      "(('__label__1',), array([0.99582934])) AspergersAfterDark\n",
      "(('__label__1',), array([0.75822228])) AskAnAutistic\n",
      "(('__label__0',), array([0.65962857])) PoliticalCompassMemes\n",
      "(('__label__1',), array([0.87769139])) cpunk\n",
      "(('__label__0',), array([0.66796821])) MechanicAdvice\n",
      "(('__label__1',), array([0.82436138])) AutasticJobs\n",
      "(('__label__1',), array([0.88613325])) NeurodivergentWomen\n",
      "(('__label__0',), array([0.98612314])) cogsci\n",
      "(('__label__0',), array([0.87808973])) aspergers\n",
      "(('__label__1',), array([0.90226787])) theNDfamily\n",
      "(('__label__0',), array([0.61625487])) TheNoiseFloorAV\n",
      "(('__label__0',), array([0.75466609])) schizophrenia\n",
      "(('__label__0',), array([0.72122228])) SampleSize\n",
      "(('__label__0',), array([0.65535259])) Explainlikeimscared\n",
      "(('__label__1',), array([0.91851646])) AUTZtoken\n",
      "(('__label__1',), array([0.95031768])) chessbergers\n",
      "(('__label__0',), array([0.67439538])) NMOdisease\n",
      "(('__label__0',), array([0.93045342])) antiwork\n",
      "(('__label__1',), array([0.71611029])) AreTheNTsOK\n",
      "(('__label__1',), array([0.86806774])) XenogendersAndMore\n",
      "(('__label__1',), array([0.83106309])) Asdhd\n",
      "(('__label__0',), array([0.7481342])) TrueUnpopularOpinion\n",
      "(('__label__1',), array([0.98063487])) another_autism_sub\n",
      "(('__label__1',), array([0.97998768])) AutisticswPDs\n",
      "(('__label__1',), array([0.99320859])) AutisticCoded\n",
      "(('__label__1',), array([0.99563414])) AutismIsCool\n",
      "(('__label__0',), array([0.6627745])) SuicidePreventionRes\n",
      "(('__label__0',), array([0.77641976])) SuicideWatch\n",
      "(('__label__1',), array([0.9355576])) AutismCrusade\n",
      "(('__label__0',), array([0.87777638])) Bad_Cop_No_Donut\n",
      "(('__label__1',), array([0.84790331])) aretheNTsokay\n",
      "(('__label__0',), array([0.87812519])) todayilearned\n",
      "(('__label__1',), array([0.97460896])) AutismTraumaSurvivors\n",
      "(('__label__1',), array([0.99979478])) AutismVentRant\n",
      "(('__label__1',), array([0.99478358])) aspieselfies\n",
      "(('__label__0',), array([0.93762827])) intj\n",
      "(('__label__1',), array([0.8164013])) ASDTrans\n",
      "(('__label__1',), array([0.95244753])) AutisticGuild\n",
      "(('__label__1',), array([0.92983073])) autismspectrum_memes\n",
      "(('__label__0',), array([0.52306199])) offmychest\n",
      "(('__label__0',), array([0.65492511])) aspergirls\n",
      "(('__label__0',), array([0.75711894])) CuratedTumblr\n",
      "(('__label__0',), array([0.73410851])) Health\n",
      "(('__label__0',), array([0.99794161])) mentalpod\n",
      "(('__label__0',), array([0.98245239])) exmormon\n",
      "(('__label__0',), array([0.84725064])) GBL\n",
      "(('__label__0',), array([0.70052093])) interstem\n",
      "(('__label__0',), array([0.74627405])) teenagers\n",
      "(('__label__1',), array([0.5214113])) RadicallyOpenDBT\n",
      "(('__label__1',), array([0.94303828])) NeurodivergentLGBTQ\n",
      "(('__label__1',), array([0.86698318])) neurodivergentyouth\n",
      "(('__label__0',), array([0.83116114])) SpaceXLounge\n",
      "(('__label__0',), array([0.62731779])) AvoidSuicide\n",
      "(('__label__0',), array([0.82346016])) Autistic\n",
      "(('__label__0',), array([0.62175876])) DontKillYourself\n",
      "(('__label__0',), array([0.95402259])) breakingmom\n",
      "(('__label__1',), array([0.7166757])) AutisticLadies\n",
      "(('__label__1',), array([0.99903834])) AutisticFurs\n",
      "(('__label__1',), array([0.55198449])) AutismAfterDark\n",
      "(('__label__1',), array([0.7007612])) autismcirclejerk\n",
      "(('__label__0',), array([0.9671582])) dogswithjobs\n",
      "(('__label__1',), array([0.55359381])) AnatolianShepherdDogs\n",
      "(('__label__0',), array([0.65409201])) lgbt\n",
      "(('__label__1',), array([0.94064623])) mildautism\n",
      "(('__label__1',), array([0.89115369])) AutismTranslated\n",
      "(('__label__0',), array([0.75174212])) SJSN\n",
      "(('__label__1',), array([0.75538331])) Neuropals\n",
      "(('__label__1',), array([1.00001001])) AutismScotland\n",
      "(('__label__1',), array([0.90670305])) AutiesWhoSurvived\n",
      "(('__label__1',), array([0.93958539])) autisticwitches\n",
      "(('__label__1',), array([0.97413236])) AutisticConversation\n",
      "(('__label__1',), array([1.00000656])) OnionsCauseAutism\n",
      "(('__label__1',), array([0.90946102])) WritteND\n",
      "(('__label__1',), array([0.99637169])) AutisticRainbow\n",
      "(('__label__1',), array([0.99974805])) VidarAutism\n",
      "(('__label__0',), array([0.50175446])) Shaqccinescauseautism\n",
      "(('__label__1',), array([0.73232967])) Autistic_ADHDwCPTSD\n",
      "(('__label__0',), array([0.87429011])) RoastMe\n",
      "(('__label__0',), array([0.91961569])) IAmA\n",
      "(('__label__0',), array([0.76821154])) AMA\n",
      "(('__label__1',), array([0.86188775])) AutisticReddit\n",
      "(('__label__1',), array([0.97097486])) Transpies\n",
      "(('__label__0',), array([0.8903746])) CPTSD\n",
      "(('__label__1',), array([0.99999702])) AutisticNationalism\n",
      "(('__label__1',), array([0.51028842])) HighFunctioningBP\n",
      "(('__label__1',), array([0.95965081])) autisticpeople\n",
      "(('__label__1',), array([0.63158309])) ADHD_NoHoldsBarred\n",
      "(('__label__0',), array([0.82028615])) chd\n",
      "(('__label__0',), array([0.78952569])) anchorage\n",
      "(('__label__0',), array([0.52942544])) AspieShowcase\n",
      "(('__label__0',), array([0.73691291])) CoronavirusUK\n",
      "(('__label__1',), array([0.98687857])) AutisticPride\n",
      "(('__label__1',), array([0.93469977])) Aspie\n",
      "(('__label__1',), array([0.91075104])) thyroidandaspergers\n",
      "(('__label__1',), array([0.92298394])) AutisticMercury\n",
      "(('__label__0',), array([0.91459358])) askscience\n",
      "(('__label__1',), array([0.99784595])) TheAspieWorld\n",
      "(('__label__1',), array([0.98054552])) womenonthespectrum\n",
      "(('__label__1',), array([0.9507556])) AutisticWithADHD\n",
      "(('__label__1',), array([0.95354462])) AutisticFTM\n",
      "(('__label__1',), array([0.86786848])) Autism_Pride\n",
      "(('__label__1',), array([0.99124342])) aspergersbooks\n",
      "(('__label__0',), array([0.93945533])) Nootropics\n",
      "(('__label__0',), array([0.71094811])) NoStupidQuestions\n",
      "(('__label__1',), array([0.92787856])) AutismAdult\n",
      "(('__label__0',), array([0.54183263])) AspieR4R\n",
      "(('__label__1',), array([0.89666688])) SkypeCallAutism\n",
      "(('__label__1',), array([0.95332354])) ASDADHD\n",
      "(('__label__1',), array([0.92490584])) ASD_Gaming\n",
      "(('__label__0',), array([0.88524264])) vaxxhappened\n",
      "(('__label__1',), array([0.65504795])) INTPAspBridge\n",
      "(('__label__0',), array([0.8831982])) Futurology\n",
      "(('__label__1',), array([0.98043108])) ArcticAutism\n",
      "(('__label__0',), array([0.76551956])) AskMeAnythingIAnswer\n",
      "(('__label__1',), array([0.88917589])) antineurodiversity\n",
      "(('__label__1',), array([0.82967317])) AspiesZoom\n",
      "(('__label__1',), array([0.66140223])) NDLifeProTips\n",
      "(('__label__0',), array([0.57937419])) PrequelMemes\n",
      "(('__label__1',), array([0.95063752])) AutismAustralia\n",
      "(('__label__1',), array([0.9953872])) AnythingButAutistic\n",
      "(('__label__0',), array([0.74895251])) 22q\n",
      "(('__label__0',), array([0.56874096])) mentalhealthmommies\n",
      "(('__label__0',), array([0.62224686])) MentalGold\n",
      "(('__label__1',), array([0.74078155])) Autistic_Metalheads\n",
      "(('__label__1',), array([0.99270755])) ASD_irl\n",
      "(('__label__0',), array([0.78573954])) RomanceBooks\n",
      "(('__label__1',), array([0.61231512])) AutismInWomen\n",
      "(('__label__1',), array([0.91570437])) AutismSiblings\n",
      "(('__label__1',), array([0.92935842])) Autistic_safe_space\n",
      "(('__label__1',), array([0.89255548])) AutismInTheWorkplace\n",
      "(('__label__0',), array([0.90082568])) socialskills\n",
      "(('__label__0',), array([0.75935245])) AmItheAsshole\n",
      "(('__label__1',), array([0.65047807])) NTsBeingBros\n",
      "(('__label__1',), array([0.70409667])) HighFunctioningStoner\n",
      "(('__label__1',), array([0.99998748])) ScienceOnAutism\n",
      "(('__label__1',), array([0.98073173])) AutisticGalsnPals\n",
      "(('__label__1',), array([0.99506992])) FuckAutismSpeaks\n",
      "(('__label__1',), array([0.99732488])) AutismPride\n",
      "(('__label__0',), array([0.85843492])) FanTheories\n",
      "(('__label__1',), array([0.89940494])) FriendsOnTheSpectrum\n",
      "(('__label__1',), array([0.50046313])) ndmarxism\n",
      "(('__label__1',), array([0.97459513])) AutismResearch\n",
      "(('__label__1',), array([0.993011])) autistic_irl\n",
      "(('__label__1',), array([0.9997676])) AutisticDarkWeb\n",
      "(('__label__1',), array([0.98534405])) NeurodivergentFitness\n",
      "(('__label__0',), array([0.83585775])) trees\n",
      "(('__label__1',), array([0.8182469])) RedditHasAutism\n",
      "(('__label__1',), array([0.91477728])) NeurodivergentMemes\n",
      "(('__label__0',), array([0.68971449])) memes\n",
      "(('__label__0',), array([0.75763643])) unpopularopinion\n",
      "(('__label__1',), array([0.98660117])) MyAutisticChild\n",
      "(('__label__1',), array([0.9988538])) BPDandAutism\n",
      "(('__label__0',), array([0.82570404])) SubredditDrama\n",
      "(('__label__0',), array([0.56302184])) HomeDepot\n",
      "(('__label__0',), array([0.93265986])) science\n",
      "(('__label__0',), array([0.64527601])) Prosopagnosia\n",
      "(('__label__0',), array([0.90549445])) lawschooladmissions\n",
      "(('__label__0',), array([0.53137928])) UnboxedNetwork\n",
      "(('__label__0',), array([0.88150287])) suggestmeabook\n",
      "(('__label__1',), array([0.67001092])) AutismCentral\n",
      "(('__label__0',), array([0.78980643])) INTP\n",
      "(('__label__0',), array([0.88611662])) slatestarcodex\n",
      "(('__label__1',), array([0.92010015])) AutisticMusicians\n",
      "(('__label__0',), array([0.96443146])) AskHistorians\n",
      "(('__label__0',), array([0.76586515])) MadeMeSmile\n",
      "(('__label__1',), array([0.50594628])) TypedHQ\n",
      "(('__label__0',), array([0.60916281])) BarryBeeBenson\n",
      "(('__label__1',), array([0.75626719])) ChristianAspies\n",
      "(('__label__0',), array([0.97293502])) reddit.com\n",
      "(('__label__1',), array([0.99852067])) SureFriendAutism\n",
      "(('__label__1',), array([0.8612231])) AutisticAdults\n",
      "(('__label__0',), array([0.8092193])) BPD\n",
      "(('__label__1',), array([0.98405838])) AutismImprovement\n",
      "(('__label__1',), array([0.77738786])) AttorneyWoo\n",
      "(('__label__1',), array([0.99865597])) autism_controversial\n",
      "(('__label__1',), array([0.93910474])) ReallyAutistic\n",
      "(('__label__1',), array([0.87247539])) pddnos\n",
      "(('__label__0',), array([0.83940339])) Scholar\n",
      "(('__label__1',), array([0.9318738])) ASD_republic\n",
      "(('__label__0',), array([0.99538404])) atheism\n",
      "(('__label__1',), array([0.7687788])) fasd\n",
      "(('__label__1',), array([0.75329298])) aspiechristian\n",
      "(('__label__1',), array([0.97726643])) QueerAspies\n",
      "(('__label__1',), array([0.88050872])) ASDrelationships\n",
      "(('__label__0',), array([0.76739144])) AskWomen\n",
      "(('__label__1',), array([0.74929732])) asptrees\n",
      "(('__label__1',), array([0.99986291])) autismmemes\n",
      "(('__label__0',), array([0.75268108])) LandmarkCollege\n",
      "(('__label__0',), array([0.99461466])) wallstreetbets\n",
      "(('__label__1',), array([0.50756633])) autism\n",
      "(('__label__1',), array([0.88664472])) NeurodivergentSaints\n",
      "(('__label__1',), array([0.99861568])) VaxxCauseAutism\n",
      "(('__label__1',), array([0.98824173])) ASD_Programmers\n",
      "(('__label__1',), array([0.89623028])) ASDirect\n",
      "(('__label__0',), array([0.58463156])) TeensWithAspergers\n",
      "(('__label__1',), array([0.99980599])) aspergerinterests\n",
      "(('__label__1',), array([0.99662346])) LGBTautism\n",
      "(('__label__1',), array([0.92525309])) gaspies\n",
      "(('__label__1',), array([0.75944644])) SingleParentsASDKids\n",
      "(('__label__1',), array([0.99932361])) AutisticComedy\n",
      "(('__label__1',), array([0.98724723])) CouncilOfAutism\n",
      "(('__label__1',), array([0.9995153])) autism_help\n",
      "(('__label__1',), array([0.65566063])) Au2gether\n",
      "(('__label__0',), array([0.60895699])) portymemesv2\n",
      "(('__label__0',), array([0.8678174])) pyroluria\n",
      "(('__label__0',), array([0.81178474])) relationships\n",
      "(('__label__1',), array([0.7897861])) AutisticDatingTips\n",
      "(('__label__1',), array([0.95543498])) AutisticMastery\n",
      "(('__label__1',), array([0.66981798])) AspieOppositeSex\n",
      "(('__label__0',), array([0.9144513])) spacex\n",
      "(('__label__0',), array([0.92578602])) ftm\n",
      "(('__label__0',), array([0.84328461])) Gamingcirclejerk\n",
      "(('__label__1',), array([0.99987102])) MadeOfAutism\n",
      "(('__label__0',), array([0.97116137])) CBD\n",
      "(('__label__1',), array([0.787184])) AspieGirls\n",
      "(('__label__1',), array([0.93486154])) evilautism\n",
      "(('__label__0',), array([0.69096404])) hypersensitivity\n",
      "(('__label__1',), array([0.9422518])) iamveryautistic\n",
      "(('__label__0',), array([0.80765867])) bipolar2\n",
      "(('__label__1',), array([0.90138495])) Autism_Parenting\n",
      "(('__label__0',), array([0.92763352])) TwoXChromosomes\n",
      "(('__label__1',), array([0.63344669])) AutisticAndTrans\n",
      "(('__label__1',), array([0.79601836])) rabiespride\n",
      "(('__label__1',), array([0.58686298])) ASDpeersupport\n",
      "(('__label__1',), array([0.80676919])) aspieconversations\n",
      "(('__label__1',), array([0.8720156])) TodaysHyperfocus\n",
      "(('__label__1',), array([0.71934044])) AspergersFriends\n",
      "(('__label__1',), array([0.74772519])) weedcuresautism\n",
      "(('__label__1',), array([0.89178246])) MNeurodivergent\n",
      "(('__label__1',), array([0.88788396])) asdmovieclub\n",
      "(('__label__1',), array([0.93611366])) AutisticTanks\n",
      "(('__label__1',), array([0.98986357])) Drama\n",
      "(('__label__1',), array([0.98775136])) UpvotedBecauseAutism\n",
      "(('__label__0',), array([0.87487346])) dating_advice\n",
      "(('__label__1',), array([0.86676478])) TheAutisticWomen\n",
      "(('__label__0',), array([0.60926247])) AspieAnimemes\n",
      "(('__label__0',), array([0.56996912])) lighttherapy\n",
      "(('__label__0',), array([0.70863974])) HF_BPD\n",
      "(('__label__0',), array([0.60492587])) AmITheAngel\n",
      "(('__label__1',), array([0.97009647])) autism_cr3w\n",
      "(('__label__1',), array([0.99889046])) AutismGals\n",
      "(('__label__1',), array([0.91741931])) AutismCPTSD\n",
      "(('__label__1',), array([0.59143978])) AutisticBets\n",
      "(('__label__1',), array([0.9999845])) AutisticPride2\n",
      "(('__label__1',), array([0.94039994])) Autism_Parents\n",
      "(('__label__1',), array([0.88641554])) NeurodivergentLesbian\n",
      "(('__label__1',), array([0.89861232])) SpicyAutism\n",
      "(('__label__0',), array([0.8920365])) AskEurope\n",
      "(('__label__1',), array([0.6977762])) neuroatypical\n",
      "(('__label__1',), array([0.67138672])) NeurodivergentQueers\n",
      "(('__label__0',), array([0.74559462])) AskMen\n",
      "(('__label__1',), array([0.95502597])) Neurodivergent\n",
      "(('__label__0',), array([0.94551319])) PurplePillDebate\n",
      "(('__label__1',), array([0.99912459])) AutismAndAddiction\n",
      "(('__label__1',), array([0.95780182])) rightwingauties\n",
      "(('__label__0',), array([0.85270709])) asexuality\n",
      "(('__label__1',), array([0.89939272])) AutismADHD\n",
      "(('__label__1',), array([0.99999094])) autisticlifehacks\n",
      "(('__label__0',), array([0.54144913])) DebateVaccines\n",
      "(('__label__1',), array([0.99998903])) autisticLosers\n",
      "(('__label__0',), array([0.65030223])) selectivemutism\n",
      "(('__label__1',), array([0.72584212])) HowAutismWorks\n",
      "(('__label__0',), array([0.74981081])) ForeverAlone\n",
      "(('__label__1',), array([1.00000155])) girl_parents_autism\n",
      "(('__label__0',), array([0.82605904])) SpecialNeeds\n",
      "(('__label__0',), array([0.61898702])) JJScalpers\n",
      "(('__label__0',), array([0.94927025])) 4chan\n",
      "(('__label__1',), array([0.95938557])) LateDiagnosedAutistic\n",
      "(('__label__1',), array([0.9988693])) Autism_Vent\n",
      "(('__label__0',), array([0.51212597])) SpaceXMasterrace\n",
      "(('__label__1',), array([0.98332095])) SpecialFixations\n",
      "(('__label__1',), array([1.00000215])) AutismArt\n",
      "(('__label__1',), array([0.99303859])) AutisticLiberation\n",
      "(('__label__0',), array([0.78121501])) TheOwlHouse\n",
      "(('__label__1',), array([0.99423742])) AutisticRants\n",
      "(('__label__0',), array([0.97389001])) askpsychology\n",
      "(('__label__1',), array([0.99390453])) ASDparenting\n",
      "(('__label__1',), array([0.69169259])) adhdmeme\n",
      "(('__label__1',), array([0.88482904])) autismgirls\n",
      "(('__label__1',), array([0.99601668])) ASDFriends\n",
      "(('__label__1',), array([1.00000799])) Autism_Gamers\n",
      "(('__label__0',), array([0.88830525])) specialed\n",
      "(('__label__1',), array([0.66977376])) EhlersDanlosMemes\n",
      "(('__label__1',), array([0.96469897])) AutisticPolitics\n",
      "(('__label__1',), array([0.76896805])) AuDHDWomen\n",
      "(('__label__0',), array([0.84667838])) NEET\n",
      "(('__label__1',), array([0.95274383])) AutisticPilking\n",
      "(('__label__0',), array([0.72980475])) writing\n",
      "(('__label__1',), array([0.99196333])) Parkourdude91\n",
      "(('__label__1',), array([0.75952339])) aspiememes\n",
      "(('__label__1',), array([0.95545191])) autism_central\n",
      "(('__label__0',), array([0.64477998])) adhdwomen\n",
      "(('__label__1',), array([0.99713928])) AutismPolitics\n",
      "(('__label__1',), array([0.94409066])) AutisticCompliance\n",
      "(('__label__1',), array([0.99904513])) radicalautism\n",
      "(('__label__1',), array([0.89886266])) autismlevel2and3\n",
      "(('__label__0',), array([0.60670829])) greentext\n",
      "(('__label__0',), array([0.83923078])) traaaaaaannnnnnnnnns\n",
      "(('__label__1',), array([0.99940979])) AutismParent\n",
      "(('__label__1',), array([0.9915328])) AutisticR4R\n",
      "(('__label__1',), array([0.70665616])) AspieZionism\n",
      "(('__label__1',), array([0.99979347])) AutisticCreatives\n",
      "(('__label__1',), array([0.70161939])) TruMentalcels\n",
      "(('__label__0',), array([0.9337666])) EverythingScience\n",
      "(('__label__1',), array([0.95912021])) AutisticLesbians\n",
      "(('__label__0',), array([0.76363742])) raisedbynarcissists\n",
      "(('__label__0',), array([0.56366074])) MemeMan1984\n",
      "(('__label__1',), array([0.99956852])) autism__friends\n",
      "(('__label__1',), array([0.84042299])) Aspergerswork\n",
      "(('__label__0',), array([0.97274333])) AcademicPsychology\n",
      "(('__label__1',), array([0.98423874])) Asperboys\n",
      "(('__label__0',), array([0.6884169])) psychologystudents\n",
      "(('__label__0',), array([0.80544418])) uniqueminds\n",
      "(('__label__1',), array([0.98009682])) aspiemusic\n",
      "(('__label__0',), array([0.72500783])) OccultConspiracy\n",
      "(('__label__1',), array([0.94721669])) AutisticPOC\n",
      "(('__label__1',), array([0.99321955])) VampireAutism\n",
      "(('__label__1',), array([0.95506763])) AspieMeetup\n",
      "(('__label__1',), array([0.99621797])) AutismPoetry\n",
      "(('__label__1',), array([0.77006316])) AspergersRiseUp\n",
      "(('__label__1',), array([0.76012433])) CodAW\n",
      "(('__label__1',), array([0.99426138])) LivingWithAutism\n",
      "(('__label__0',), array([0.91624606])) Mneumonese\n",
      "(('__label__1',), array([0.98790622])) AutisticMe\n",
      "(('__label__1',), array([0.68818581])) AutismBlogs\n",
      "(('__label__1',), array([1.00000966])) MaskedAutism\n",
      "(('__label__0',), array([0.91021961])) Showerthoughts\n",
      "(('__label__0',), array([0.58384281])) LightTherapies\n",
      "(('__label__1',), array([0.67324102])) ITCI\n",
      "(('__label__1',), array([0.67383993])) talesfromautism\n",
      "(('__label__1',), array([0.86605769])) Autism603\n",
      "(('__label__0',), array([0.76964182])) AskTeenGirls\n",
      "(('__label__0',), array([0.94040948])) HumanMicrobiome\n",
      "(('__label__0',), array([0.63904721])) bipolar\n",
      "(('__label__1',), array([0.97900665])) AutisticLBGTQ\n",
      "(('__label__1',), array([0.73492974])) AskAutism\n",
      "(('__label__1',), array([0.99901229])) TheAutismSpectrum\n",
      "(('__label__0',), array([0.69103539])) hyperlexia\n",
      "(('__label__1',), array([0.92052794])) DoYouHaveAutism\n",
      "(('__label__1',), array([0.94274056])) askpergers\n",
      "(('__label__0',), array([0.80969262])) executive_functioning\n",
      "(('__label__1',), array([0.80059111])) AutismVs2020\n",
      "(('__label__0',), array([0.6665253])) Specialism\n",
      "(('__label__0',), array([0.75643235])) antivax\n",
      "(('__label__1',), array([0.60081261])) SchizophreniaAlt\n",
      "(('__label__1',), array([0.96220219])) AutisticComrades\n",
      "(('__label__0',), array([0.88324505])) news\n",
      "(('__label__1',), array([0.63724709])) SpecialInterestEx\n",
      "(('__label__1',), array([0.99352854])) AutismFitness\n",
      "(('__label__1',), array([0.99786419])) livingwithaspergers\n",
      "(('__label__0',), array([0.96042889])) explainlikeimfive\n",
      "(('__label__1',), array([0.65441734])) EverythingAspergers\n",
      "(('__label__1',), array([0.8089897])) aspiekids\n",
      "(('__label__1',), array([0.74826556])) NeurodivergentPeace\n",
      "(('__label__1',), array([0.99918163])) LiteralAutism\n",
      "(('__label__1',), array([0.90726262])) AutismScreeches\n",
      "(('__label__0',), array([0.9114365])) dogecoin\n",
      "(('__label__0',), array([0.73089296])) TooAfraidToAsk\n",
      "(('__label__1',), array([0.9524439])) HelpWithAutism\n",
      "(('__label__0',), array([0.76121593])) depression\n",
      "(('__label__1',), array([0.60226649])) LGBTaspies\n",
      "(('__label__0',), array([0.7740593])) videos\n",
      "(('__label__1',), array([0.85171789])) NeurodivergentLondon\n",
      "(('__label__1',), array([0.99462903])) AgainstAutismSpeaks\n",
      "(('__label__1',), array([0.55519956])) PDAAutism\n",
      "(('__label__1',), array([0.99846196])) NatureIsAutistic\n",
      "(('__label__0',), array([0.95695484])) truscum\n",
      "(('__label__0',), array([0.59331185])) confession\n",
      "(('__label__1',), array([0.84163857])) Autistic_Women\n",
      "(('__label__1',), array([0.99865836])) AutisticADHD\n",
      "(('__label__1',), array([0.84978616])) AspieAsk\n",
      "(('__label__0',), array([0.79259557])) selfharm\n",
      "(('__label__1',), array([0.99973828])) ABarrelOfAutism\n",
      "(('__label__0',), array([0.88554102])) channelsofyoutube\n",
      "(('__label__0',), array([0.86677933])) genetics\n",
      "(('__label__1',), array([1.00001001])) WeaponizedAutism\n",
      "(('__label__0',), array([0.99211693])) 2021nflSuperBowl\n",
      "(('__label__0',), array([0.9178412])) ontario\n",
      "(('__label__1',), array([0.91949421])) AutisticPsychedelic\n",
      "(('__label__1',), array([0.9998709])) AutisticWorldbuilders\n",
      "(('__label__0',), array([0.87988627])) neuroscience\n",
      "(('__label__1',), array([0.9990744])) AutismIreland\n",
      "(('__label__0',), array([0.77600795])) ShitRedditSays\n",
      "(('__label__1',), array([1.00000787])) AutismUnited\n",
      "(('__label__0',), array([0.61497247])) TeenAspies\n",
      "(('__label__1',), array([0.98680443])) CripplingAutism\n",
      "(('__label__1',), array([0.97692478])) Autism_lgbt\n",
      "(('__label__1',), array([0.96171075])) Fidget_Spinner_Autism\n",
      "(('__label__1',), array([0.82697177])) AutisticIndians\n",
      "(('__label__1',), array([0.84886122])) NeurodivergentLanguag\n",
      "(('__label__1',), array([0.99820834])) NeurodivergentChat\n",
      "(('__label__1',), array([0.94624376])) bestof4chan\n",
      "(('__label__0',), array([0.87967277])) environment\n",
      "(('__label__0',), array([0.56126273])) aspergers_irl\n",
      "(('__label__1',), array([0.95901662])) NDWomen\n",
      "(('__label__1',), array([0.9545995])) AspiesUnite\n",
      "(('__label__1',), array([0.97511119])) TrueEvilAutism\n",
      "(('__label__0',), array([0.5013845])) TraumaAndPolitics\n",
      "(('__label__1',), array([0.77283686])) GamingWithAutism\n",
      "(('__label__0',), array([0.86265773])) WitchesVsPatriarchy\n",
      "(('__label__1',), array([0.8691535])) TheJesterOfAutism\n",
      "(('__label__1',), array([0.81333816])) TheSpectrumAsks\n",
      "(('__label__0',), array([0.8820864])) neurodiversity\n",
      "(('__label__1',), array([0.9696728])) athiests\n",
      "(('__label__0',), array([0.54543489])) ndrelationships\n",
      "(('__label__1',), array([0.75091988])) SpectrumwithAttitude\n",
      "(('__label__1',), array([0.95373499])) AspiePolitics\n",
      "(('__label__1',), array([0.81918788])) aspergers_dating\n",
      "(('__label__0',), array([0.85310632])) conspiracy\n",
      "(('__label__0',), array([0.86171168])) australia\n",
      "(('__label__0',), array([0.62897819])) casualiama\n",
      "(('__label__1',), array([0.97564864])) AutismGamingMemes\n",
      "(('__label__0',), array([0.67288291])) Ohio\n",
      "(('__label__1',), array([0.86228263])) AskNT\n",
      "(('__label__0',), array([0.6081121])) FCMemes\n",
      "(('__label__0',), array([0.63740134])) worldnew\n",
      "(('__label__0',), array([0.83142865])) actuallesbians\n",
      "(('__label__0',), array([0.94905686])) redscarepod\n",
      "(('__label__0',), array([0.88672936])) ADHD\n",
      "(('__label__0',), array([0.65753025])) AGPInAction\n",
      "(('__label__1',), array([0.72499925])) undiagnosedADHDandASD\n",
      "(('__label__0',), array([0.8521744])) TrueOffMyChest\n",
      "(('__label__1',), array([0.76066244])) downsyndrome\n",
      "(('__label__0',), array([0.9133606])) disability\n",
      "(('__label__1',), array([0.54774797])) Hypophosphatasia\n",
      "(('__label__1',), array([0.94886816])) AutismSwears\n",
      "(('__label__0',), array([0.73641092])) AspieGaming\n",
      "(('__label__0',), array([0.79274011])) aspergers_Beta\n",
      "(('__label__1',), array([0.9980157])) Autism_Advice\n",
      "(('__label__0',), array([0.74289447])) CMH\n",
      "(('__label__1',), array([0.99815261])) AutismSpeaksSucks\n",
      "(('__label__1',), array([0.54406208])) strandedonsol3\n",
      "(('__label__0',), array([0.72871417])) relationship_advice\n",
      "(('__label__0',), array([0.79373276])) Atypical\n",
      "(('__label__0',), array([0.89450169])) Advice\n",
      "(('__label__0',), array([0.87442338])) asktransgender\n",
      "(('__label__1',), array([0.87980944])) AmIAutistic\n",
      "(('__label__0',), array([0.83152956])) gaming\n",
      "(('__label__1',), array([0.96607333])) ndwitches\n",
      "(('__label__1',), array([0.55828702])) AutismCertified\n",
      "(('__label__0',), array([0.74562323])) OSDD\n",
      "(('__label__0',), array([0.5218693])) NAMItalk\n",
      "(('__label__0',), array([0.60468763])) insanepeoplefacebook\n",
      "(('__label__0',), array([0.54881328])) voidpunk\n",
      "(('__label__0',), array([0.75809026])) Hamilton\n",
      "(('__label__1',), array([0.90197307])) AutisticQueers\n",
      "(('__label__0',), array([0.65346771])) mentalillness\n",
      "(('__label__1',), array([0.91050661])) AuTeens\n",
      "(('__label__0',), array([0.6789071])) aromantic\n",
      "(('__label__0',), array([0.82351679])) DrugNerds\n",
      "(('__label__1',), array([0.98194379])) Aspergians\n",
      "(('__label__1',), array([0.94735479])) Aspergers_Elders\n",
      "(('__label__0',), array([0.66162956])) toastme\n",
      "(('__label__1',), array([0.99766356])) MomsWithAutism\n",
      "(('__label__1',), array([0.72032875])) LoveOnTheSpectrumShow\n",
      "(('__label__1',), array([0.79021889])) AspieMoms\n",
      "(('__label__0',), array([0.7369647])) Parenting\n",
      "(('__label__1',), array([0.93104082])) Cookingforautistics\n",
      "(('__label__1',), array([0.5679059])) GirlGuidetoAutism\n",
      "(('__label__0',), array([0.79831803])) skeptic\n",
      "(('__label__0',), array([0.98850399])) mentalhealth\n",
      "(('__label__0',), array([0.86939609])) aweism\n",
      "(('__label__0',), array([0.54447573])) fakedisordercringe\n",
      "(('__label__0',), array([0.92354554])) worldnews\n",
      "(('__label__1',), array([0.99555093])) AutisticParents\n",
      "(('__label__1',), array([0.74636424])) ASDcareers\n",
      "(('__label__1',), array([0.50649339])) YoungEntrepreneurs\n",
      "(('__label__0',), array([0.83822531])) PostHardcore\n",
      "(('__label__0',), array([0.89944649])) circlejerk\n",
      "(('__label__0',), array([0.93560839])) BabyBumps\n",
      "(('__label__1',), array([0.9355042])) The_Autism_Dad_Pod\n",
      "(('__label__0',), array([0.90423858])) slp\n",
      "(('__label__0',), array([0.76596332])) Microbiome\n",
      "(('__label__0',), array([0.59665138])) Aspergers_Dating_\n",
      "(('__label__0',), array([0.99408084])) ketoscience\n",
      "(('__label__1',), array([0.65338045])) aspergersnetwork\n",
      "(('__label__1',), array([0.99302024])) AutisticBirders\n",
      "(('__label__0',), array([0.6787951])) Teachers\n",
      "(('__label__1',), array([0.98332578])) AutisticPerspective\n",
      "(('__label__1',), array([0.6709826])) ASD_Advice\n",
      "(('__label__1',), array([0.99999905])) AutismWithADHD\n",
      "(('__label__1',), array([0.99999356])) ASDr4r\n",
      "(('__label__0',), array([0.71782386])) 196\n",
      "(('__label__1',), array([0.66661322])) aplusguide\n",
      "(('__label__1',), array([0.94069624])) lowfunctioning\n",
      "(('__label__1',), array([0.85468096])) AutismWithinWomen\n",
      "(('__label__1',), array([0.99941945])) ProAutism\n",
      "(('__label__0',), array([0.97659886])) Schizoid\n",
      "(('__label__0',), array([0.83872968])) Epilepsy\n",
      "(('__label__0',), array([0.74545383])) peercoin\n",
      "(('__label__1',), array([1.00000942])) Autism_india\n",
      "(('__label__1',), array([0.99832761])) AutisticTherapist\n",
      "(('__label__0',), array([0.5314793])) EGBOKfreeform\n",
      "(('__label__1',), array([0.96739674])) InsaneVegans\n",
      "(('__label__0',), array([0.96545929])) psychology\n",
      "(('__label__1',), array([1.00000989])) weaponize_autism\n",
      "(('__label__0',), array([0.83586067])) NDIS\n",
      "(('__label__0',), array([0.79244775])) Mycobiome\n",
      "(('__label__0',), array([0.70413876])) CompulsiveSkinPicking\n",
      "(('__label__1',), array([0.9848485])) Autistic_Gamers\n",
      "(('__label__0',), array([0.65809512])) psychobiotics\n",
      "(('__label__1',), array([0.56789088])) NeurotypicalStudies\n",
      "(('__label__0',), array([0.65636206])) autismUK\n",
      "(('__label__1',), array([0.74976933])) raisedbyautistics\n",
      "(('__label__0',), array([0.58775556])) toddlers\n",
      "(('__label__0',), array([0.80230641])) Savant\n",
      "(('__label__0',), array([0.69256282])) askgaybros\n",
      "(('__label__0',), array([0.79507405])) polls\n",
      "(('__label__1',), array([0.99921745])) AutisticMemes\n",
      "(('__label__1',), array([0.99794686])) AutisticAces\n"
     ]
    }
   ],
   "source": [
    "# classify all subreddits\n",
    "for index, row in asd_subs_df.iterrows():\n",
    "    print(ft_model.predict(row.text), row.display_name)\n",
    "    \n",
    "    prediction = ft_model.predict(row.text)\n",
    "    # get the predicted label\n",
    "    pred_label = prediction[0][0] if prediction[0][0].startswith(\"__label__\") else prediction[0][0]\n",
    "    # insert the predicted label into the df\n",
    "    asd_subs_df.at[index, 'predicted_label'] = pred_label"
   ]
  },
  {
   "cell_type": "code",
   "execution_count": null,
   "metadata": {},
   "outputs": [
    {
     "name": "stdout",
     "output_type": "stream",
     "text": [
      "<class 'pandas.core.frame.DataFrame'>\n",
      "Index: 526 entries, 0 to 533\n",
      "Data columns (total 5 columns):\n",
      " #   Column           Non-Null Count  Dtype \n",
      "---  ------           --------------  ----- \n",
      " 0   id               526 non-null    object\n",
      " 1   display_name     526 non-null    object\n",
      " 2   text             526 non-null    object\n",
      " 3   lang             526 non-null    object\n",
      " 4   predicted_label  526 non-null    object\n",
      "dtypes: object(5)\n",
      "memory usage: 40.8+ KB\n"
     ]
    }
   ],
   "source": [
    "asd_subs_df.info()"
   ]
  },
  {
   "cell_type": "code",
   "execution_count": null,
   "metadata": {},
   "outputs": [
    {
     "data": {
      "text/html": [
       "<div>\n",
       "<style scoped>\n",
       "    .dataframe tbody tr th:only-of-type {\n",
       "        vertical-align: middle;\n",
       "    }\n",
       "\n",
       "    .dataframe tbody tr th {\n",
       "        vertical-align: top;\n",
       "    }\n",
       "\n",
       "    .dataframe thead th {\n",
       "        text-align: right;\n",
       "    }\n",
       "</style>\n",
       "<table border=\"1\" class=\"dataframe\">\n",
       "  <thead>\n",
       "    <tr style=\"text-align: right;\">\n",
       "      <th></th>\n",
       "      <th>id</th>\n",
       "      <th>display_name</th>\n",
       "      <th>text</th>\n",
       "      <th>lang</th>\n",
       "      <th>predicted_label</th>\n",
       "    </tr>\n",
       "  </thead>\n",
       "  <tbody>\n",
       "    <tr>\n",
       "      <th>0</th>\n",
       "      <td>28lhh2</td>\n",
       "      <td>AutismRepresentation</td>\n",
       "      <td>Autism Representation Autism Awareness A place...</td>\n",
       "      <td>en</td>\n",
       "      <td>__label__1</td>\n",
       "    </tr>\n",
       "    <tr>\n",
       "      <th>1</th>\n",
       "      <td>3b4rh</td>\n",
       "      <td>AspiePositive</td>\n",
       "      <td>Aspie Positive Aspie Positive by aspies for as...</td>\n",
       "      <td>en</td>\n",
       "      <td>__label__1</td>\n",
       "    </tr>\n",
       "    <tr>\n",
       "      <th>2</th>\n",
       "      <td>2nwjjb</td>\n",
       "      <td>TrumpAutism</td>\n",
       "      <td>Trump Autism Trump Autism Trump Autism Trump A...</td>\n",
       "      <td>lv</td>\n",
       "      <td>__label__1</td>\n",
       "    </tr>\n",
       "    <tr>\n",
       "      <th>3</th>\n",
       "      <td>3ltpt</td>\n",
       "      <td>nevergrewup</td>\n",
       "      <td>nevergrewup When the body got older but the mi...</td>\n",
       "      <td>en</td>\n",
       "      <td>__label__0</td>\n",
       "    </tr>\n",
       "    <tr>\n",
       "      <th>4</th>\n",
       "      <td>2s6ou</td>\n",
       "      <td>asperger</td>\n",
       "      <td>asperger Asperger Subreddit Unlike other autis...</td>\n",
       "      <td>en</td>\n",
       "      <td>__label__1</td>\n",
       "    </tr>\n",
       "  </tbody>\n",
       "</table>\n",
       "</div>"
      ],
      "text/plain": [
       "       id          display_name  \\\n",
       "0  28lhh2  AutismRepresentation   \n",
       "1   3b4rh         AspiePositive   \n",
       "2  2nwjjb           TrumpAutism   \n",
       "3   3ltpt           nevergrewup   \n",
       "4   2s6ou              asperger   \n",
       "\n",
       "                                                text lang predicted_label  \n",
       "0  Autism Representation Autism Awareness A place...   en      __label__1  \n",
       "1  Aspie Positive Aspie Positive by aspies for as...   en      __label__1  \n",
       "2  Trump Autism Trump Autism Trump Autism Trump A...   lv      __label__1  \n",
       "3  nevergrewup When the body got older but the mi...   en      __label__0  \n",
       "4  asperger Asperger Subreddit Unlike other autis...   en      __label__1  "
      ]
     },
     "execution_count": 244,
     "metadata": {},
     "output_type": "execute_result"
    }
   ],
   "source": [
    "asd_subs_df.head()"
   ]
  },
  {
   "cell_type": "code",
   "execution_count": null,
   "metadata": {},
   "outputs": [
    {
     "data": {
      "text/plain": [
       "predicted_label\n",
       "ASD      311\n",
       "Other    215\n",
       "Name: count, dtype: int64"
      ]
     },
     "execution_count": 245,
     "metadata": {},
     "output_type": "execute_result"
    }
   ],
   "source": [
    "# change the label to the category name\n",
    "label_map = {'__label__1': 'ASD', '__label__0': 'Other'}\n",
    "asd_subs_df['predicted_label'] = asd_subs_df['predicted_label'].map(label_map)\n",
    "label_counts = asd_subs_df['predicted_label'].value_counts()\n",
    "label_counts"
   ]
  },
  {
   "cell_type": "code",
   "execution_count": null,
   "metadata": {},
   "outputs": [
    {
     "data": {
      "text/html": [
       "<div>\n",
       "<style scoped>\n",
       "    .dataframe tbody tr th:only-of-type {\n",
       "        vertical-align: middle;\n",
       "    }\n",
       "\n",
       "    .dataframe tbody tr th {\n",
       "        vertical-align: top;\n",
       "    }\n",
       "\n",
       "    .dataframe thead th {\n",
       "        text-align: right;\n",
       "    }\n",
       "</style>\n",
       "<table border=\"1\" class=\"dataframe\">\n",
       "  <thead>\n",
       "    <tr style=\"text-align: right;\">\n",
       "      <th></th>\n",
       "      <th>id</th>\n",
       "      <th>display_name</th>\n",
       "      <th>text</th>\n",
       "      <th>lang</th>\n",
       "      <th>predicted_label</th>\n",
       "    </tr>\n",
       "  </thead>\n",
       "  <tbody>\n",
       "    <tr>\n",
       "      <th>0</th>\n",
       "      <td>28lhh2</td>\n",
       "      <td>AutismRepresentation</td>\n",
       "      <td>Autism Representation Autism Awareness A place...</td>\n",
       "      <td>en</td>\n",
       "      <td>ASD</td>\n",
       "    </tr>\n",
       "    <tr>\n",
       "      <th>1</th>\n",
       "      <td>3b4rh</td>\n",
       "      <td>AspiePositive</td>\n",
       "      <td>Aspie Positive Aspie Positive by aspies for as...</td>\n",
       "      <td>en</td>\n",
       "      <td>ASD</td>\n",
       "    </tr>\n",
       "    <tr>\n",
       "      <th>2</th>\n",
       "      <td>2nwjjb</td>\n",
       "      <td>TrumpAutism</td>\n",
       "      <td>Trump Autism Trump Autism Trump Autism Trump A...</td>\n",
       "      <td>lv</td>\n",
       "      <td>ASD</td>\n",
       "    </tr>\n",
       "    <tr>\n",
       "      <th>3</th>\n",
       "      <td>3ltpt</td>\n",
       "      <td>nevergrewup</td>\n",
       "      <td>nevergrewup When the body got older but the mi...</td>\n",
       "      <td>en</td>\n",
       "      <td>Other</td>\n",
       "    </tr>\n",
       "    <tr>\n",
       "      <th>4</th>\n",
       "      <td>2s6ou</td>\n",
       "      <td>asperger</td>\n",
       "      <td>asperger Asperger Subreddit Unlike other autis...</td>\n",
       "      <td>en</td>\n",
       "      <td>ASD</td>\n",
       "    </tr>\n",
       "  </tbody>\n",
       "</table>\n",
       "</div>"
      ],
      "text/plain": [
       "       id          display_name  \\\n",
       "0  28lhh2  AutismRepresentation   \n",
       "1   3b4rh         AspiePositive   \n",
       "2  2nwjjb           TrumpAutism   \n",
       "3   3ltpt           nevergrewup   \n",
       "4   2s6ou              asperger   \n",
       "\n",
       "                                                text lang predicted_label  \n",
       "0  Autism Representation Autism Awareness A place...   en             ASD  \n",
       "1  Aspie Positive Aspie Positive by aspies for as...   en             ASD  \n",
       "2  Trump Autism Trump Autism Trump Autism Trump A...   lv             ASD  \n",
       "3  nevergrewup When the body got older but the mi...   en           Other  \n",
       "4  asperger Asperger Subreddit Unlike other autis...   en             ASD  "
      ]
     },
     "execution_count": 248,
     "metadata": {},
     "output_type": "execute_result"
    }
   ],
   "source": [
    "asd_subs_df.head(5)"
   ]
  },
  {
   "cell_type": "code",
   "execution_count": null,
   "metadata": {},
   "outputs": [
    {
     "data": {
      "image/png": "[encoded data removed]",
      "text/plain": [
       "<Figure size 432x288 with 1 Axes>"
      ]
     },
     "metadata": {
      "needs_background": "light"
     },
     "output_type": "display_data"
    }
   ],
   "source": [
    "# plot \n",
    "plt.bar(label_counts.index, label_counts.values)\n",
    "plt.xlabel('Predicted Labels')\n",
    "plt.ylabel('Frequency')\n",
    "plt.title('Frequency of Predicted Labels')\n",
    "plt.show()"
   ]
  },
  {
   "cell_type": "code",
   "execution_count": null,
   "metadata": {},
   "outputs": [
    {
     "name": "stdout",
     "output_type": "stream",
     "text": [
      "<class 'pandas.core.frame.DataFrame'>\n",
      "Index: 311 entries, 0 to 533\n",
      "Data columns (total 5 columns):\n",
      " #   Column           Non-Null Count  Dtype \n",
      "---  ------           --------------  ----- \n",
      " 0   id               311 non-null    object\n",
      " 1   display_name     311 non-null    object\n",
      " 2   text             311 non-null    object\n",
      " 3   lang             311 non-null    object\n",
      " 4   predicted_label  311 non-null    object\n",
      "dtypes: object(5)\n",
      "memory usage: 14.6+ KB\n"
     ]
    }
   ],
   "source": [
    "# the model predictied 311 subreddit as being in the class ASD\n",
    "# dorp the irelevant subreddits ( in the Other category )\n",
    "asd_subs_df_final = asd_subs_df[asd_subs_df['predicted_label'] != 'Other']\n",
    "asd_subs_df_final.info()"
   ]
  },
  {
   "cell_type": "code",
   "execution_count": null,
   "metadata": {},
   "outputs": [],
   "source": [
    "# save the final dataset\n",
    "file_path = 'data/final_asd_subreddits_list.csv'\n",
    "asd_subs_df_final.to_csv(file_path, index=False)"
   ]
  },
  {
   "cell_type": "markdown",
   "metadata": {},
   "source": [
    "to do : add pseudo code ( if-then ) for the code/model used\n",
    "to do : add a flow chart for the model architercutre ( how the data will be processed )"
   ]
  },
  {
   "cell_type": "markdown",
   "metadata": {},
   "source": [
    "THE NEW APPROCH WILL INVOLVE GET ALL SUBMISSIONS FROM ALL SUBREDDITS : USING 2 KEY WORDS FROM THE WORBANKS , ONE RELATED TO AUTISM AND THE OTHER RELATED TO ABA\n",
    "\n",
    "CODE IN : asd_aba_submissions_all_subreddits.ipynb"
   ]
  }
 ],
 "metadata": {
  "kernelspec": {
   "display_name": "base",
   "language": "python",
   "name": "python3"
  },
  "language_info": {
   "codemirror_mode": {
    "name": "ipython",
    "version": 3
   },
   "file_extension": ".py",
   "mimetype": "text/x-python",
   "name": "python",
   "nbconvert_exporter": "python",
   "pygments_lexer": "ipython3",
   "version": "3.10.7"
  },
  "orig_nbformat": 4
 },
 "nbformat": 4,
 "nbformat_minor": 2
}
