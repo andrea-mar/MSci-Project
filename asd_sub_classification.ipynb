{
 "cells": [
  {
   "cell_type": "markdown",
   "metadata": {},
   "source": [
    "NLP for Text Classfication to select only the ASD relevant subreddits - see discussion in *reddit_data.ipynb* : \n",
    "\n",
    "'From the above analysis we can see that the first 10 subreddits , by number of subscribers, do not seem to be related to ASD. \n",
    "\n",
    "=> Use NLP to filter out the ASD relavant subreddits : display_name + title + public_description + header_title + description (Text classification task - target categories: ASD vs Other. ) - Manually annotate 40% out of 534 subreddits -> train different models -> choose the best one to classify the rest 60% and get the final subreddits list.\n",
    "\n",
    "As the private subreddits' data can't be accessed, these will be excluded from the analisys. The subreddits dataset will only inlcude those that are listed as 'public' or 'restricted' (= everyone can read the data but only certain people can post).\n",
    "\n",
    "Features used: display_name + title + public_description + header_title + description"
   ]
  },
  {
   "cell_type": "markdown",
   "metadata": {},
   "source": [
    "Pipeline for NLP:\n",
    "\n",
    "1. get data (40% asd_final_rows_list.csv) and annotate it \n",
    "2. text extraction and cleanup - merge relevant information into one text column, remove punctuation/spelling mistakes etc. \n",
    "3. pre-processing:\n",
    "    3.1 split text into tokens/words (=sentence segmentation/ tokanisation NLTK or Spcy or AutoTokenizer if using transformers)\n",
    "    3.3 stemming (=remove prefixes and sufixes) and lemmatization (=get the base word - ext ate becomes (to)eat)\n",
    "4. feature engineering (= convert text / document into vector)\n",
    "    count-vector\n",
    "    tf-idf\n",
    "    one-hot encode - not really used due to size and sparcity problems\n",
    "    word/token-emebeding\n",
    "5. apply classifier ( any machine learning model classifier ) - use gridSearchCV to see which is the best performing classifier ?\n",
    "6. evaluate  model: Accuracy, Precision, Recall, F1 score ( if not good , go back to preprocessing step )\n",
    "7. Deploy\n",
    "8. Monitor and update"
   ]
  },
  {
   "cell_type": "code",
   "execution_count": 1,
   "metadata": {},
   "outputs": [],
   "source": [
    "import pandas as pd\n",
    "import numpy as np\n",
    "import matplotlib.pyplot as plt\n",
    "import seaborn as sns"
   ]
  },
  {
   "cell_type": "markdown",
   "metadata": {},
   "source": [
    "## 1.1 Get data  - whole dataset"
   ]
  },
  {
   "cell_type": "code",
   "execution_count": 73,
   "metadata": {},
   "outputs": [
    {
     "name": "stdout",
     "output_type": "stream",
     "text": [
      "<class 'pandas.core.frame.DataFrame'>\n",
      "RangeIndex: 534 entries, 0 to 533\n",
      "Data columns (total 19 columns):\n",
      " #   Column                 Non-Null Count  Dtype  \n",
      "---  ------                 --------------  -----  \n",
      " 0   Unnamed: 0             534 non-null    int64  \n",
      " 1   restrict_posting       534 non-null    bool   \n",
      " 2   display_name           534 non-null    object \n",
      " 3   title                  534 non-null    object \n",
      " 4   display_name_prefixed  534 non-null    object \n",
      " 5   subscribers            534 non-null    int64  \n",
      " 6   name                   534 non-null    object \n",
      " 7   public_description     506 non-null    object \n",
      " 8   community_reviewed     534 non-null    bool   \n",
      " 9   created                534 non-null    float64\n",
      " 10  subreddit_type         534 non-null    object \n",
      " 11  id                     534 non-null    object \n",
      " 12  over18                 534 non-null    bool   \n",
      " 13  header_title           81 non-null     object \n",
      " 14  description            393 non-null    object \n",
      " 15  url                    534 non-null    object \n",
      " 16  created_utc            534 non-null    float64\n",
      " 17  _path                  534 non-null    object \n",
      " 18  lang                   534 non-null    object \n",
      "dtypes: bool(3), float64(2), int64(2), object(12)\n",
      "memory usage: 68.4+ KB\n"
     ]
    }
   ],
   "source": [
    "asd_subs_df = pd.read_csv('asd_final_rows_list.csv')\n",
    "asd_subs_df.info()"
   ]
  },
  {
   "cell_type": "code",
   "execution_count": 74,
   "metadata": {},
   "outputs": [
    {
     "name": "stdout",
     "output_type": "stream",
     "text": [
      "<class 'pandas.core.frame.DataFrame'>\n",
      "RangeIndex: 534 entries, 0 to 533\n",
      "Data columns (total 6 columns):\n",
      " #   Column              Non-Null Count  Dtype \n",
      "---  ------              --------------  ----- \n",
      " 0   id                  534 non-null    object\n",
      " 1   display_name        534 non-null    object\n",
      " 2   title               534 non-null    object\n",
      " 3   public_description  506 non-null    object\n",
      " 4   header_title        81 non-null     object\n",
      " 5   description         393 non-null    object\n",
      "dtypes: object(6)\n",
      "memory usage: 25.2+ KB\n"
     ]
    }
   ],
   "source": [
    "# select from the dataset only the text features neccesary for topic modeling + id \n",
    "# Features: display_name + title + public_description + header_title + description \n",
    "asd_subs_df = asd_subs_df[['id','display_name', 'title', 'public_description', 'header_title', 'description']]\n",
    "asd_subs_df.info()"
   ]
  },
  {
   "cell_type": "code",
   "execution_count": 75,
   "metadata": {},
   "outputs": [
    {
     "data": {
      "text/html": [
       "<div>\n",
       "<style scoped>\n",
       "    .dataframe tbody tr th:only-of-type {\n",
       "        vertical-align: middle;\n",
       "    }\n",
       "\n",
       "    .dataframe tbody tr th {\n",
       "        vertical-align: top;\n",
       "    }\n",
       "\n",
       "    .dataframe thead th {\n",
       "        text-align: right;\n",
       "    }\n",
       "</style>\n",
       "<table border=\"1\" class=\"dataframe\">\n",
       "  <thead>\n",
       "    <tr style=\"text-align: right;\">\n",
       "      <th></th>\n",
       "      <th>id</th>\n",
       "      <th>display_name</th>\n",
       "      <th>title</th>\n",
       "      <th>public_description</th>\n",
       "      <th>header_title</th>\n",
       "      <th>description</th>\n",
       "    </tr>\n",
       "  </thead>\n",
       "  <tbody>\n",
       "    <tr>\n",
       "      <th>0</th>\n",
       "      <td>28lhh2</td>\n",
       "      <td>AutismRepresentation</td>\n",
       "      <td>Autism Awareness</td>\n",
       "      <td>A place for kind people who want to spread awa...</td>\n",
       "      <td>NaN</td>\n",
       "      <td>NaN</td>\n",
       "    </tr>\n",
       "    <tr>\n",
       "      <th>1</th>\n",
       "      <td>3b4rh</td>\n",
       "      <td>AspiePositive</td>\n",
       "      <td>AspiePositive: by aspies, for aspies | no hate...</td>\n",
       "      <td>If you have Asperger's, you are welcome. If yo...</td>\n",
       "      <td>NaN</td>\n",
       "      <td>**The Golden Rule: Be excellent to each other....</td>\n",
       "    </tr>\n",
       "    <tr>\n",
       "      <th>2</th>\n",
       "      <td>2nwjjb</td>\n",
       "      <td>TrumpAutism</td>\n",
       "      <td>Trump Autism</td>\n",
       "      <td>Trump Autism</td>\n",
       "      <td>NaN</td>\n",
       "      <td>Trump Autism</td>\n",
       "    </tr>\n",
       "  </tbody>\n",
       "</table>\n",
       "</div>"
      ],
      "text/plain": [
       "       id          display_name  \\\n",
       "0  28lhh2  AutismRepresentation   \n",
       "1   3b4rh         AspiePositive   \n",
       "2  2nwjjb           TrumpAutism   \n",
       "\n",
       "                                               title  \\\n",
       "0                                   Autism Awareness   \n",
       "1  AspiePositive: by aspies, for aspies | no hate...   \n",
       "2                                       Trump Autism   \n",
       "\n",
       "                                  public_description header_title  \\\n",
       "0  A place for kind people who want to spread awa...          NaN   \n",
       "1  If you have Asperger's, you are welcome. If yo...          NaN   \n",
       "2                                       Trump Autism          NaN   \n",
       "\n",
       "                                         description  \n",
       "0                                                NaN  \n",
       "1  **The Golden Rule: Be excellent to each other....  \n",
       "2                                       Trump Autism  "
      ]
     },
     "execution_count": 75,
     "metadata": {},
     "output_type": "execute_result"
    }
   ],
   "source": [
    "# public_description, header_title, description have missing data\n",
    "# in the reddit_data.ipynb the missing data appears as an empty string, meaning the subreddit does not have any text added to these sections\n",
    "# all NaN values will be replaced with an empty string \n",
    "# the text in each column will be agregated into one single text document as to include as much relevant words as possible for each subreddit\n",
    "asd_subs_df.head(3)"
   ]
  },
  {
   "cell_type": "code",
   "execution_count": 76,
   "metadata": {},
   "outputs": [
    {
     "data": {
      "text/plain": [
       "id                      0\n",
       "display_name            0\n",
       "title                   0\n",
       "public_description     28\n",
       "header_title          453\n",
       "description           141\n",
       "dtype: int64"
      ]
     },
     "execution_count": 76,
     "metadata": {},
     "output_type": "execute_result"
    }
   ],
   "source": [
    "# check missing data\n",
    "asd_subs_df.isnull().sum()"
   ]
  },
  {
   "cell_type": "markdown",
   "metadata": {},
   "source": [
    "The dataset contains 534 entries, of which 28 are missing 'public_description' and 141 are missing 'description' and 453 are missing 'header_title'.\n",
    "\n",
    "display_name and title have no missing data.\n",
    "\n",
    "All text columns will be aggregated into one large text document ( to include all relevant words available for each subreddit)."
   ]
  },
  {
   "cell_type": "markdown",
   "metadata": {},
   "source": [
    "## 1.2. Clean up and text extraction - whole data set"
   ]
  },
  {
   "cell_type": "code",
   "execution_count": 77,
   "metadata": {},
   "outputs": [
    {
     "data": {
      "text/html": [
       "<div>\n",
       "<style scoped>\n",
       "    .dataframe tbody tr th:only-of-type {\n",
       "        vertical-align: middle;\n",
       "    }\n",
       "\n",
       "    .dataframe tbody tr th {\n",
       "        vertical-align: top;\n",
       "    }\n",
       "\n",
       "    .dataframe thead th {\n",
       "        text-align: right;\n",
       "    }\n",
       "</style>\n",
       "<table border=\"1\" class=\"dataframe\">\n",
       "  <thead>\n",
       "    <tr style=\"text-align: right;\">\n",
       "      <th></th>\n",
       "      <th>id</th>\n",
       "      <th>display_name</th>\n",
       "      <th>title</th>\n",
       "      <th>public_description</th>\n",
       "      <th>header_title</th>\n",
       "      <th>description</th>\n",
       "    </tr>\n",
       "  </thead>\n",
       "  <tbody>\n",
       "    <tr>\n",
       "      <th>0</th>\n",
       "      <td>28lhh2</td>\n",
       "      <td>AutismRepresentation</td>\n",
       "      <td>Autism Awareness</td>\n",
       "      <td>A place for kind people who want to spread awa...</td>\n",
       "      <td></td>\n",
       "      <td></td>\n",
       "    </tr>\n",
       "    <tr>\n",
       "      <th>1</th>\n",
       "      <td>3b4rh</td>\n",
       "      <td>AspiePositive</td>\n",
       "      <td>AspiePositive: by aspies, for aspies | no hate...</td>\n",
       "      <td>If you have Asperger's, you are welcome. If yo...</td>\n",
       "      <td></td>\n",
       "      <td>**The Golden Rule: Be excellent to each other....</td>\n",
       "    </tr>\n",
       "    <tr>\n",
       "      <th>2</th>\n",
       "      <td>2nwjjb</td>\n",
       "      <td>TrumpAutism</td>\n",
       "      <td>Trump Autism</td>\n",
       "      <td>Trump Autism</td>\n",
       "      <td></td>\n",
       "      <td>Trump Autism</td>\n",
       "    </tr>\n",
       "  </tbody>\n",
       "</table>\n",
       "</div>"
      ],
      "text/plain": [
       "       id          display_name  \\\n",
       "0  28lhh2  AutismRepresentation   \n",
       "1   3b4rh         AspiePositive   \n",
       "2  2nwjjb           TrumpAutism   \n",
       "\n",
       "                                               title  \\\n",
       "0                                   Autism Awareness   \n",
       "1  AspiePositive: by aspies, for aspies | no hate...   \n",
       "2                                       Trump Autism   \n",
       "\n",
       "                                  public_description header_title  \\\n",
       "0  A place for kind people who want to spread awa...                \n",
       "1  If you have Asperger's, you are welcome. If yo...                \n",
       "2                                       Trump Autism                \n",
       "\n",
       "                                         description  \n",
       "0                                                     \n",
       "1  **The Golden Rule: Be excellent to each other....  \n",
       "2                                       Trump Autism  "
      ]
     },
     "execution_count": 77,
     "metadata": {},
     "output_type": "execute_result"
    }
   ],
   "source": [
    "# replace NaN values with empty string ''\n",
    "# NaN valuse are only observed for text columns: public_description, header_title, description\n",
    "asd_subs_df = asd_subs_df.fillna('')\n",
    "asd_subs_df.head(3)"
   ]
  },
  {
   "cell_type": "code",
   "execution_count": 78,
   "metadata": {},
   "outputs": [
    {
     "name": "stdout",
     "output_type": "stream",
     "text": [
      "<class 'pandas.core.frame.DataFrame'>\n",
      "RangeIndex: 534 entries, 0 to 533\n",
      "Data columns (total 6 columns):\n",
      " #   Column              Non-Null Count  Dtype \n",
      "---  ------              --------------  ----- \n",
      " 0   id                  534 non-null    object\n",
      " 1   display_name        534 non-null    object\n",
      " 2   title               534 non-null    object\n",
      " 3   public_description  534 non-null    object\n",
      " 4   header_title        534 non-null    object\n",
      " 5   description         534 non-null    object\n",
      "dtypes: object(6)\n",
      "memory usage: 25.2+ KB\n"
     ]
    }
   ],
   "source": [
    "# no more null values \n",
    "asd_subs_df.info()"
   ]
  },
  {
   "cell_type": "code",
   "execution_count": 79,
   "metadata": {},
   "outputs": [
    {
     "data": {
      "text/html": [
       "<div>\n",
       "<style scoped>\n",
       "    .dataframe tbody tr th:only-of-type {\n",
       "        vertical-align: middle;\n",
       "    }\n",
       "\n",
       "    .dataframe tbody tr th {\n",
       "        vertical-align: top;\n",
       "    }\n",
       "\n",
       "    .dataframe thead th {\n",
       "        text-align: right;\n",
       "    }\n",
       "</style>\n",
       "<table border=\"1\" class=\"dataframe\">\n",
       "  <thead>\n",
       "    <tr style=\"text-align: right;\">\n",
       "      <th></th>\n",
       "      <th>id</th>\n",
       "      <th>display_name</th>\n",
       "      <th>title</th>\n",
       "      <th>public_description</th>\n",
       "      <th>header_title</th>\n",
       "      <th>description</th>\n",
       "      <th>text</th>\n",
       "    </tr>\n",
       "  </thead>\n",
       "  <tbody>\n",
       "    <tr>\n",
       "      <th>0</th>\n",
       "      <td>28lhh2</td>\n",
       "      <td>AutismRepresentation</td>\n",
       "      <td>Autism Awareness</td>\n",
       "      <td>A place for kind people who want to spread awa...</td>\n",
       "      <td></td>\n",
       "      <td></td>\n",
       "      <td>AutismRepresentation Autism Awareness A place ...</td>\n",
       "    </tr>\n",
       "    <tr>\n",
       "      <th>1</th>\n",
       "      <td>3b4rh</td>\n",
       "      <td>AspiePositive</td>\n",
       "      <td>AspiePositive: by aspies, for aspies | no hate...</td>\n",
       "      <td>If you have Asperger's, you are welcome. If yo...</td>\n",
       "      <td></td>\n",
       "      <td>**The Golden Rule: Be excellent to each other....</td>\n",
       "      <td>AspiePositive AspiePositive: by aspies, for as...</td>\n",
       "    </tr>\n",
       "    <tr>\n",
       "      <th>2</th>\n",
       "      <td>2nwjjb</td>\n",
       "      <td>TrumpAutism</td>\n",
       "      <td>Trump Autism</td>\n",
       "      <td>Trump Autism</td>\n",
       "      <td></td>\n",
       "      <td>Trump Autism</td>\n",
       "      <td>TrumpAutism Trump Autism Trump Autism  Trump A...</td>\n",
       "    </tr>\n",
       "  </tbody>\n",
       "</table>\n",
       "</div>"
      ],
      "text/plain": [
       "       id          display_name  \\\n",
       "0  28lhh2  AutismRepresentation   \n",
       "1   3b4rh         AspiePositive   \n",
       "2  2nwjjb           TrumpAutism   \n",
       "\n",
       "                                               title  \\\n",
       "0                                   Autism Awareness   \n",
       "1  AspiePositive: by aspies, for aspies | no hate...   \n",
       "2                                       Trump Autism   \n",
       "\n",
       "                                  public_description header_title  \\\n",
       "0  A place for kind people who want to spread awa...                \n",
       "1  If you have Asperger's, you are welcome. If yo...                \n",
       "2                                       Trump Autism                \n",
       "\n",
       "                                         description  \\\n",
       "0                                                      \n",
       "1  **The Golden Rule: Be excellent to each other....   \n",
       "2                                       Trump Autism   \n",
       "\n",
       "                                                text  \n",
       "0  AutismRepresentation Autism Awareness A place ...  \n",
       "1  AspiePositive AspiePositive: by aspies, for as...  \n",
       "2  TrumpAutism Trump Autism Trump Autism  Trump A...  "
      ]
     },
     "execution_count": 79,
     "metadata": {},
     "output_type": "execute_result"
    }
   ],
   "source": [
    "# join text columns\n",
    "asd_subs_df[\"text\"] = asd_subs_df[[\"display_name\", \"title\", 'public_description', 'header_title', 'description']].apply(\" \".join, axis='columns')\n",
    "asd_subs_df.head(3)"
   ]
  },
  {
   "cell_type": "code",
   "execution_count": 80,
   "metadata": {},
   "outputs": [
    {
     "name": "stdout",
     "output_type": "stream",
     "text": [
      "<class 'pandas.core.frame.DataFrame'>\n",
      "RangeIndex: 534 entries, 0 to 533\n",
      "Data columns (total 7 columns):\n",
      " #   Column              Non-Null Count  Dtype \n",
      "---  ------              --------------  ----- \n",
      " 0   id                  534 non-null    object\n",
      " 1   display_name        534 non-null    object\n",
      " 2   title               534 non-null    object\n",
      " 3   public_description  534 non-null    object\n",
      " 4   header_title        534 non-null    object\n",
      " 5   description         534 non-null    object\n",
      " 6   text                534 non-null    object\n",
      "dtypes: object(7)\n",
      "memory usage: 29.3+ KB\n"
     ]
    }
   ],
   "source": [
    "asd_subs_df.info()"
   ]
  },
  {
   "cell_type": "code",
   "execution_count": 81,
   "metadata": {},
   "outputs": [
    {
     "data": {
      "text/html": [
       "<div>\n",
       "<style scoped>\n",
       "    .dataframe tbody tr th:only-of-type {\n",
       "        vertical-align: middle;\n",
       "    }\n",
       "\n",
       "    .dataframe tbody tr th {\n",
       "        vertical-align: top;\n",
       "    }\n",
       "\n",
       "    .dataframe thead th {\n",
       "        text-align: right;\n",
       "    }\n",
       "</style>\n",
       "<table border=\"1\" class=\"dataframe\">\n",
       "  <thead>\n",
       "    <tr style=\"text-align: right;\">\n",
       "      <th></th>\n",
       "      <th>id</th>\n",
       "      <th>display_name</th>\n",
       "      <th>text</th>\n",
       "    </tr>\n",
       "  </thead>\n",
       "  <tbody>\n",
       "    <tr>\n",
       "      <th>0</th>\n",
       "      <td>28lhh2</td>\n",
       "      <td>AutismRepresentation</td>\n",
       "      <td>AutismRepresentation Autism Awareness A place ...</td>\n",
       "    </tr>\n",
       "    <tr>\n",
       "      <th>1</th>\n",
       "      <td>3b4rh</td>\n",
       "      <td>AspiePositive</td>\n",
       "      <td>AspiePositive AspiePositive: by aspies, for as...</td>\n",
       "    </tr>\n",
       "    <tr>\n",
       "      <th>2</th>\n",
       "      <td>2nwjjb</td>\n",
       "      <td>TrumpAutism</td>\n",
       "      <td>TrumpAutism Trump Autism Trump Autism  Trump A...</td>\n",
       "    </tr>\n",
       "  </tbody>\n",
       "</table>\n",
       "</div>"
      ],
      "text/plain": [
       "       id          display_name  \\\n",
       "0  28lhh2  AutismRepresentation   \n",
       "1   3b4rh         AspiePositive   \n",
       "2  2nwjjb           TrumpAutism   \n",
       "\n",
       "                                                text  \n",
       "0  AutismRepresentation Autism Awareness A place ...  \n",
       "1  AspiePositive AspiePositive: by aspies, for as...  \n",
       "2  TrumpAutism Trump Autism Trump Autism  Trump A...  "
      ]
     },
     "execution_count": 81,
     "metadata": {},
     "output_type": "execute_result"
    }
   ],
   "source": [
    "# drop the individual text columns for easier visualisation\n",
    "# only the text column will be used for the analysis\n",
    "# keep id and display_name - to identify subreddits\n",
    "asd_subs_df.drop(['title', 'public_description', 'header_title', 'description'], axis=1, inplace=True)\n",
    "asd_subs_df.head(3)"
   ]
  },
  {
   "cell_type": "code",
   "execution_count": 82,
   "metadata": {},
   "outputs": [
    {
     "data": {
      "text/plain": [
       "327    autism__friends autism__friends a safe place f...\n",
       "381    videos /r/videos Reddit's main subreddit for v...\n",
       "482    mentalhealth Mental Health The Mental Health s...\n",
       "55     offmychest Off My Chest | A Safe Community for...\n",
       "273    AutismAndAddiction AutismAndAddiction A place ...\n",
       "3      nevergrewup When the body got older but the mi...\n",
       "97     IAmA IAmA I Am A, where the mundane becomes fa...\n",
       "90     WritteND WritteND A space for Neurodivergent w...\n",
       "204    asptrees asptrees the community for discussing...\n",
       "70     Autisme_France Autisme_France Groupe qui conce...\n",
       "478    Parenting Reddit Parenting - For those with ki...\n",
       "395    genetics Genetics, genes, and genomes For disc...\n",
       "472    Aspergians Aspergians A subreddit by and for s...\n",
       "50     aspieselfies aspieselfies a place for people w...\n",
       "306    AutisticPilking AutisticPilking Neco Arc is yo...\n",
       "115    TheAspieWorld The Aspie World - Aspergers & Au...\n",
       "109    CoronavirusUK CoronavirusUK Spreading news, ad...\n",
       "132    AskMeAnythingIAnswer We will try to answer any...\n",
       "351    AskTeenGirls r/AskTeenGirls: Ask girls questio...\n",
       "227    CasaAutistic CasaAutistic la casa autistic es ...\n",
       "Name: text, dtype: object"
      ]
     },
     "execution_count": 82,
     "metadata": {},
     "output_type": "execute_result"
    }
   ],
   "source": [
    "# invesitgate data further ( check text patterns that could be cleaned further )\n",
    "asd_subs_df['text'].sample(n=20, random_state=7) "
   ]
  },
  {
   "cell_type": "markdown",
   "metadata": {},
   "source": [
    "Some terms appear in cammelCase - words capitalized and joined together - ex. *AutismAndAddiction*; Some terms are separated by _ : ex. *autism__friends*. We can separate these words by white spaces using regular expressions. However, some words are joined together with no clear delimitation (ex. *nevergrewup* ). In this situation we can't separate the words, but the deep leaning approach should be able to tokenize this text in a relevant way as these models split the text into single characters or groups of characters, or use bytes instead of characters/words ( see : Unigrams (Gasparetto et al., 2022)). To clean the data in this section cammelCase, dashes and underscores will be replaced by white spaces in the dataset. Concatenated strings of words with no clear delimitation will be left unchanged in the dataset. "
   ]
  },
  {
   "cell_type": "code",
   "execution_count": 84,
   "metadata": {},
   "outputs": [],
   "source": [
    "# function to find and replace all cammelCase, dash and undreline joined words\n",
    "import re\n",
    "def split_words_by_space(text):\n",
    "    # split camelCase\n",
    "    text = re.sub(r'([a-z])([A-Z])', r'\\1 \\2', text) \n",
    "    # replace underscores and dashes with spaces\n",
    "    text = re.sub(r'[_-]+', ' ', text)  \n",
    "\n",
    "    return text"
   ]
  },
  {
   "cell_type": "code",
   "execution_count": 85,
   "metadata": {},
   "outputs": [],
   "source": [
    "# split text words by spaces\n",
    "asd_subs_df['text'] = asd_subs_df['text'].apply(split_words_by_space)"
   ]
  },
  {
   "cell_type": "code",
   "execution_count": 86,
   "metadata": {},
   "outputs": [
    {
     "data": {
      "text/plain": [
       "327    autism friends autism friends a safe place for...\n",
       "381    videos /r/videos Reddit's main subreddit for v...\n",
       "482    mentalhealth Mental Health The Mental Health s...\n",
       "55     offmychest Off My Chest | A Safe Community for...\n",
       "273    Autism And Addiction Autism And Addiction A pl...\n",
       "3      nevergrewup When the body got older but the mi...\n",
       "97     IAm A IAm A I Am A, where the mundane becomes ...\n",
       "90     Writte ND Writte ND A space for Neurodivergent...\n",
       "204    asptrees asptrees the community for discussing...\n",
       "70     Autisme France Autisme France Groupe qui conce...\n",
       "478    Parenting Reddit Parenting   For those with ki...\n",
       "395    genetics Genetics, genes, and genomes For disc...\n",
       "472    Aspergians Aspergians A subreddit by and for s...\n",
       "50     aspieselfies aspieselfies a place for people w...\n",
       "306    Autistic Pilking Autistic Pilking Neco Arc is ...\n",
       "115    The Aspie World The Aspie World   Aspergers & ...\n",
       "109    Coronavirus UK Coronavirus UK Spreading news, ...\n",
       "132    Ask Me Anything IAnswer We will try to answer ...\n",
       "351    Ask Teen Girls r/Ask Teen Girls: Ask girls que...\n",
       "227    Casa Autistic Casa Autistic la casa autistic e...\n",
       "Name: text, dtype: object"
      ]
     },
     "execution_count": 86,
     "metadata": {},
     "output_type": "execute_result"
    }
   ],
   "source": [
    "asd_subs_df['text'].sample(n=20, random_state=7) "
   ]
  },
  {
   "cell_type": "markdown",
   "metadata": {},
   "source": [
    "Notice above that some of the subreddis are not in english (227-CasaAutistic, 70-Autisme_France)\n",
    "\n",
    "Use langdetect to identify the language of the subreddits\n",
    "(https://pypi.org/project/langdetect/)"
   ]
  },
  {
   "cell_type": "code",
   "execution_count": 87,
   "metadata": {},
   "outputs": [],
   "source": [
    "%%capture\n",
    "%pip install langdetect"
   ]
  },
  {
   "cell_type": "code",
   "execution_count": 88,
   "metadata": {},
   "outputs": [],
   "source": [
    "# detect langage of subreddits text and save it in a 'lang' column\n",
    "from langdetect import detect\n",
    "asd_subs_df['lang'] = asd_subs_df['text'].apply(detect)"
   ]
  },
  {
   "cell_type": "code",
   "execution_count": 89,
   "metadata": {},
   "outputs": [
    {
     "data": {
      "text/plain": [
       "18"
      ]
     },
     "execution_count": 89,
     "metadata": {},
     "output_type": "execute_result"
    }
   ],
   "source": [
    "# 18 rows are identified as not being english\n",
    "len(asd_subs_df[asd_subs_df['lang'] != 'en'])\n"
   ]
  },
  {
   "cell_type": "code",
   "execution_count": 90,
   "metadata": {},
   "outputs": [
    {
     "data": {
      "text/html": [
       "<div>\n",
       "<style scoped>\n",
       "    .dataframe tbody tr th:only-of-type {\n",
       "        vertical-align: middle;\n",
       "    }\n",
       "\n",
       "    .dataframe tbody tr th {\n",
       "        vertical-align: top;\n",
       "    }\n",
       "\n",
       "    .dataframe thead th {\n",
       "        text-align: right;\n",
       "    }\n",
       "</style>\n",
       "<table border=\"1\" class=\"dataframe\">\n",
       "  <thead>\n",
       "    <tr style=\"text-align: right;\">\n",
       "      <th></th>\n",
       "      <th>text</th>\n",
       "      <th>lang</th>\n",
       "    </tr>\n",
       "  </thead>\n",
       "  <tbody>\n",
       "    <tr>\n",
       "      <th>2</th>\n",
       "      <td>Trump Autism Trump Autism Trump Autism  Trump ...</td>\n",
       "      <td>lv</td>\n",
       "    </tr>\n",
       "    <tr>\n",
       "      <th>16</th>\n",
       "      <td>Aspergers After Dark Aspergers After Dark Migr...</td>\n",
       "      <td>da</td>\n",
       "    </tr>\n",
       "    <tr>\n",
       "      <th>56</th>\n",
       "      <td>autismogang  autismogang</td>\n",
       "      <td>tl</td>\n",
       "    </tr>\n",
       "    <tr>\n",
       "      <th>70</th>\n",
       "      <td>Autisme France Autisme France Groupe qui conce...</td>\n",
       "      <td>fr</td>\n",
       "    </tr>\n",
       "    <tr>\n",
       "      <th>89</th>\n",
       "      <td>Onions Cause Autism Onions Cause Autism Onions...</td>\n",
       "      <td>fr</td>\n",
       "    </tr>\n",
       "    <tr>\n",
       "      <th>91</th>\n",
       "      <td>Asperger En Espanol Asperger En Espanol</td>\n",
       "      <td>es</td>\n",
       "    </tr>\n",
       "    <tr>\n",
       "      <th>93</th>\n",
       "      <td>Vidar Autism Vidar Autism Autistic Vidar minec...</td>\n",
       "      <td>de</td>\n",
       "    </tr>\n",
       "    <tr>\n",
       "      <th>214</th>\n",
       "      <td>aspergerinterests Asperger Interests</td>\n",
       "      <td>no</td>\n",
       "    </tr>\n",
       "    <tr>\n",
       "      <th>227</th>\n",
       "      <td>Casa Autistic Casa Autistic la casa autistic e...</td>\n",
       "      <td>ca</td>\n",
       "    </tr>\n",
       "    <tr>\n",
       "      <th>263</th>\n",
       "      <td>Autistic Pride2 Autistic Pride2</td>\n",
       "      <td>ro</td>\n",
       "    </tr>\n",
       "    <tr>\n",
       "      <th>283</th>\n",
       "      <td>girl parents autism girl parents autism</td>\n",
       "      <td>fr</td>\n",
       "    </tr>\n",
       "    <tr>\n",
       "      <th>291</th>\n",
       "      <td>Autism Art Autism Art welcome!</td>\n",
       "      <td>de</td>\n",
       "    </tr>\n",
       "    <tr>\n",
       "      <th>300</th>\n",
       "      <td>Autism Gamers Autism Gamers</td>\n",
       "      <td>de</td>\n",
       "    </tr>\n",
       "    <tr>\n",
       "      <th>345</th>\n",
       "      <td>Masked Autism Masked Autism</td>\n",
       "      <td>et</td>\n",
       "    </tr>\n",
       "    <tr>\n",
       "      <th>388</th>\n",
       "      <td>Real Autists Romania Real Autists Romania Salu...</td>\n",
       "      <td>ro</td>\n",
       "    </tr>\n",
       "    <tr>\n",
       "      <th>430</th>\n",
       "      <td>Asperger Latam Asperger Latam Una comunidad en...</td>\n",
       "      <td>es</td>\n",
       "    </tr>\n",
       "    <tr>\n",
       "      <th>487</th>\n",
       "      <td>Asper Minismo Asper Minismo El Asperminismo es...</td>\n",
       "      <td>es</td>\n",
       "    </tr>\n",
       "    <tr>\n",
       "      <th>512</th>\n",
       "      <td>Aspergers BR Aspergers BR Uma comunidade volta...</td>\n",
       "      <td>pt</td>\n",
       "    </tr>\n",
       "  </tbody>\n",
       "</table>\n",
       "</div>"
      ],
      "text/plain": [
       "                                                  text lang\n",
       "2    Trump Autism Trump Autism Trump Autism  Trump ...   lv\n",
       "16   Aspergers After Dark Aspergers After Dark Migr...   da\n",
       "56                        autismogang  autismogang       tl\n",
       "70   Autisme France Autisme France Groupe qui conce...   fr\n",
       "89   Onions Cause Autism Onions Cause Autism Onions...   fr\n",
       "91          Asperger En Espanol Asperger En Espanol      es\n",
       "93   Vidar Autism Vidar Autism Autistic Vidar minec...   de\n",
       "214           aspergerinterests Asperger Interests       no\n",
       "227  Casa Autistic Casa Autistic la casa autistic e...   ca\n",
       "263                 Autistic Pride2 Autistic Pride2      ro\n",
       "283         girl parents autism girl parents autism      fr\n",
       "291                  Autism Art Autism Art welcome!      de\n",
       "300                     Autism Gamers Autism Gamers      de\n",
       "345                     Masked Autism Masked Autism      et\n",
       "388  Real Autists Romania Real Autists Romania Salu...   ro\n",
       "430  Asperger Latam Asperger Latam Una comunidad en...   es\n",
       "487  Asper Minismo Asper Minismo El Asperminismo es...   es\n",
       "512  Aspergers BR Aspergers BR Uma comunidade volta...   pt"
      ]
     },
     "execution_count": 90,
     "metadata": {},
     "output_type": "execute_result"
    }
   ],
   "source": [
    "# inspect rows manually to confirm language\n",
    "# set the maximum column width to display all content\n",
    "# pd.set_option('display.max_colwidth', 1)\n",
    "asd_subs_df[asd_subs_df['lang'] != 'en'][['text', 'lang']]\n"
   ]
  },
  {
   "cell_type": "markdown",
   "metadata": {},
   "source": [
    "Inspecting the rows above, the following row are confirmed as not being in English: \n",
    "56, 70, 91, 227, 388, 430, 487, 512\n",
    "\n"
   ]
  },
  {
   "cell_type": "code",
   "execution_count": 91,
   "metadata": {},
   "outputs": [
    {
     "name": "stdout",
     "output_type": "stream",
     "text": [
      "<class 'pandas.core.frame.DataFrame'>\n",
      "Index: 526 entries, 0 to 533\n",
      "Data columns (total 4 columns):\n",
      " #   Column        Non-Null Count  Dtype \n",
      "---  ------        --------------  ----- \n",
      " 0   id            526 non-null    object\n",
      " 1   display_name  526 non-null    object\n",
      " 2   text          526 non-null    object\n",
      " 3   lang          526 non-null    object\n",
      "dtypes: object(4)\n",
      "memory usage: 20.5+ KB\n"
     ]
    }
   ],
   "source": [
    "# drop the non-english rows\n",
    "# 526 subreddits left in the dataset\n",
    "non_en_rows_indices = [56, 70, 91, 227, 388, 430, 487, 512]\n",
    "asd_subs_df = asd_subs_df.drop(non_en_rows_indices)\n",
    "asd_subs_df.info()\n"
   ]
  },
  {
   "cell_type": "code",
   "execution_count": 92,
   "metadata": {},
   "outputs": [
    {
     "data": {
      "text/plain": [
       "205    autismmemes autism memes Meme for people with\\...\n",
       "488    ASDcareers The Careers of People with ASD Livi...\n",
       "231    Gamingcirclejerk Gaming Circlejerk   Don Chead...\n",
       "104    autisticpeople Autism Spectrum Disorder News, ...\n",
       "263                   Autistic Pride2 Autistic Pride2   \n",
       "492    Baby Bumps Baby Bumps A place for pregnant red...\n",
       "236    hypersensitivity Hypersensitivity A place for ...\n",
       "3      nevergrewup When the body got older but the mi...\n",
       "323    Everything Science Everything Science /r/Every...\n",
       "506    aplusguide A+ Guide A+ Guide is a place for po...\n",
       "66     Neurodivergent LGBTQ Neurodivergent LGBTQ Neur...\n",
       "293    The Owl House The Owl House A subreddit for th...\n",
       "317    traaaaaaannnnnnnnnns If youre memes and im mem...\n",
       "529    Savant Savant This subreddit is dedicated to t...\n",
       "278    Debate Vaccines Debate Vaccines Debate and dis...\n",
       "51     intj analytical, conceptual and objective For ...\n",
       "216    gaspies A place for gay aspies For the aspies ...\n",
       "219    Council Of Autism Council Of Autism This is no...\n",
       "190    BPD Borderline Personality Disorder r/BPD is a...\n",
       "207    wallstreetbets wallstreetbets Like 4chan found...\n",
       "Name: text, dtype: object"
      ]
     },
     "execution_count": 92,
     "metadata": {},
     "output_type": "execute_result"
    }
   ],
   "source": [
    "asd_subs_df['text'].sample(n=20, random_state=7) "
   ]
  },
  {
   "cell_type": "code",
   "execution_count": 93,
   "metadata": {},
   "outputs": [
    {
     "data": {
      "text/plain": [
       "205    autismmemes autism memes Meme for people with ...\n",
       "488    ASDcareers The Careers of People with ASD Livi...\n",
       "231    Gamingcirclejerk Gaming Circlejerk   Don Chead...\n",
       "104    autisticpeople Autism Spectrum Disorder News, ...\n",
       "263                   Autistic Pride2 Autistic Pride2   \n",
       "492    Baby Bumps Baby Bumps A place for pregnant red...\n",
       "236    hypersensitivity Hypersensitivity A place for ...\n",
       "3      nevergrewup When the body got older but the mi...\n",
       "323    Everything Science Everything Science  Everyth...\n",
       "506    aplusguide A+ Guide A+ Guide is a place for po...\n",
       "66     Neurodivergent LGBTQ Neurodivergent LGBTQ Neur...\n",
       "293    The Owl House The Owl House A subreddit for th...\n",
       "317    traaaaaaannnnnnnnnns If youre memes and im mem...\n",
       "529    Savant Savant This subreddit is dedicated to t...\n",
       "278    Debate Vaccines Debate Vaccines Debate and dis...\n",
       "51     intj analytical, conceptual and objective For ...\n",
       "216    gaspies A place for gay aspies For the aspies ...\n",
       "219    Council Of Autism Council Of Autism This is no...\n",
       "190    BPD Borderline Personality Disorder  BPD is a ...\n",
       "207    wallstreetbets wallstreetbets Like 4chan found...\n",
       "Name: text, dtype: object"
      ]
     },
     "execution_count": 93,
     "metadata": {},
     "output_type": "execute_result"
    }
   ],
   "source": [
    "# remove \\n, /r/, r/, \\r  - these characters are not relevant\n",
    "asd_subs_df['text'] = asd_subs_df['text'].str.replace('\\n', ' ').str.replace('/r/', ' ').str.replace('r/', ' ').str.replace('\\r ', ' ')\n",
    "asd_subs_df['text'].sample(n=20, random_state=7) \n"
   ]
  },
  {
   "cell_type": "code",
   "execution_count": 94,
   "metadata": {},
   "outputs": [],
   "source": [
    "# use regex to replace non-word characters with space - these chars are not relevant to the text analysis\n",
    "def remove_non_word_chars(text):\n",
    "    cleaned_text = re.sub(r'[^A-Za-z0-9\\s]', ' ', text)\n",
    "    return cleaned_text"
   ]
  },
  {
   "cell_type": "code",
   "execution_count": 95,
   "metadata": {},
   "outputs": [
    {
     "data": {
      "text/plain": [
       "205    autismmemes autism memes Meme for people with ...\n",
       "488    ASDcareers The Careers of People with ASD Livi...\n",
       "231    Gamingcirclejerk Gaming Circlejerk   Don Chead...\n",
       "104    autisticpeople Autism Spectrum Disorder News  ...\n",
       "263                   Autistic Pride2 Autistic Pride2   \n",
       "492    Baby Bumps Baby Bumps A place for pregnant red...\n",
       "236    hypersensitivity Hypersensitivity A place for ...\n",
       "3      nevergrewup When the body got older but the mi...\n",
       "323    Everything Science Everything Science  Everyth...\n",
       "506    aplusguide A  Guide A  Guide is a place for po...\n",
       "66     Neurodivergent LGBTQ Neurodivergent LGBTQ Neur...\n",
       "293    The Owl House The Owl House A subreddit for th...\n",
       "317    traaaaaaannnnnnnnnns If youre memes and im mem...\n",
       "529    Savant Savant This subreddit is dedicated to t...\n",
       "278    Debate Vaccines Debate Vaccines Debate and dis...\n",
       "51     intj analytical  conceptual and objective For ...\n",
       "216    gaspies A place for gay aspies For the aspies ...\n",
       "219    Council Of Autism Council Of Autism This is no...\n",
       "190    BPD Borderline Personality Disorder  BPD is a ...\n",
       "207    wallstreetbets wallstreetbets Like 4chan found...\n",
       "Name: text, dtype: object"
      ]
     },
     "execution_count": 95,
     "metadata": {},
     "output_type": "execute_result"
    }
   ],
   "source": [
    "# replace non-word characters with space\n",
    "asd_subs_df['text'] = asd_subs_df['text'].apply(remove_non_word_chars)\n",
    "asd_subs_df['text'].sample(n=20, random_state=7) "
   ]
  },
  {
   "cell_type": "code",
   "execution_count": 96,
   "metadata": {},
   "outputs": [
    {
     "name": "stdout",
     "output_type": "stream",
     "text": [
      "<class 'pandas.core.frame.DataFrame'>\n",
      "Index: 526 entries, 0 to 533\n",
      "Data columns (total 4 columns):\n",
      " #   Column        Non-Null Count  Dtype \n",
      "---  ------        --------------  ----- \n",
      " 0   id            526 non-null    object\n",
      " 1   display_name  526 non-null    object\n",
      " 2   text          526 non-null    object\n",
      " 3   lang          526 non-null    object\n",
      "dtypes: object(4)\n",
      "memory usage: 20.5+ KB\n"
     ]
    }
   ],
   "source": [
    "asd_subs_df.info()"
   ]
  },
  {
   "cell_type": "markdown",
   "metadata": {},
   "source": [
    "## 1.3. Get dataset for model selection -  anotated data\n",
    "40% of 526 = 210.4 -> split train-test 80%-20%( use cross validation as the dataset is small)"
   ]
  },
  {
   "cell_type": "code",
   "execution_count": 97,
   "metadata": {},
   "outputs": [
    {
     "data": {
      "text/html": [
       "<div>\n",
       "<style scoped>\n",
       "    .dataframe tbody tr th:only-of-type {\n",
       "        vertical-align: middle;\n",
       "    }\n",
       "\n",
       "    .dataframe tbody tr th {\n",
       "        vertical-align: top;\n",
       "    }\n",
       "\n",
       "    .dataframe thead th {\n",
       "        text-align: right;\n",
       "    }\n",
       "</style>\n",
       "<table border=\"1\" class=\"dataframe\">\n",
       "  <thead>\n",
       "    <tr style=\"text-align: right;\">\n",
       "      <th></th>\n",
       "      <th>text</th>\n",
       "    </tr>\n",
       "  </thead>\n",
       "  <tbody>\n",
       "    <tr>\n",
       "      <th>0</th>\n",
       "      <td>Autism Representation Autism Awareness A place...</td>\n",
       "    </tr>\n",
       "    <tr>\n",
       "      <th>1</th>\n",
       "      <td>Aspie Positive Aspie Positive  by aspies  for ...</td>\n",
       "    </tr>\n",
       "    <tr>\n",
       "      <th>2</th>\n",
       "      <td>Trump Autism Trump Autism Trump Autism  Trump ...</td>\n",
       "    </tr>\n",
       "  </tbody>\n",
       "</table>\n",
       "</div>"
      ],
      "text/plain": [
       "                                                text\n",
       "0  Autism Representation Autism Awareness A place...\n",
       "1  Aspie Positive Aspie Positive  by aspies  for ...\n",
       "2  Trump Autism Trump Autism Trump Autism  Trump ..."
      ]
     },
     "execution_count": 97,
     "metadata": {},
     "output_type": "execute_result"
    }
   ],
   "source": [
    "asd_subs_annotated_df = asd_subs_df[['text']]\n",
    "asd_subs_annotated_df.head(3)"
   ]
  },
  {
   "cell_type": "code",
   "execution_count": 98,
   "metadata": {},
   "outputs": [
    {
     "name": "stdout",
     "output_type": "stream",
     "text": [
      "<class 'pandas.core.frame.DataFrame'>\n",
      "Index: 210 entries, 205 to 282\n",
      "Data columns (total 1 columns):\n",
      " #   Column  Non-Null Count  Dtype \n",
      "---  ------  --------------  ----- \n",
      " 0   text    210 non-null    object\n",
      "dtypes: object(1)\n",
      "memory usage: 3.3+ KB\n"
     ]
    }
   ],
   "source": [
    "# select at random 40% of rows in the dataset to be manually annotated into 2 categories: asd and other\n",
    "# 40% out of 542 = 210 - > text clasiffication needs a large number of documents to train : at least 100 , ideally 1000 ( http://benschmidt.org/medhist16/index.html%3Fp=16.html#:~:text=Topic%20modeling%20can%20work%20on,short%20as%20a%20paragraph%20apiece.)\\\n",
    "# it can be done with this dataset but it very close to the minumm limit ( limitation )\n",
    "np.random.seed(7)\n",
    "asd_subs_annotated_df = asd_subs_annotated_df.sample(frac=0.4)\n",
    "asd_subs_annotated_df.info()"
   ]
  },
  {
   "cell_type": "code",
   "execution_count": 99,
   "metadata": {},
   "outputs": [],
   "source": [
    "# save the data in a csv file to be annotated\n",
    "asd_subs_annotated_df.to_csv('annotated_data/asd_subs_to_annotate.csv')"
   ]
  },
  {
   "cell_type": "code",
   "execution_count": 100,
   "metadata": {},
   "outputs": [
    {
     "name": "stdout",
     "output_type": "stream",
     "text": [
      "<class 'pandas.core.frame.DataFrame'>\n",
      "RangeIndex: 210 entries, 0 to 209\n",
      "Data columns (total 3 columns):\n",
      " #   Column      Non-Null Count  Dtype \n",
      "---  ------      --------------  ----- \n",
      " 0   Unnamed: 0  210 non-null    int64 \n",
      " 1   text        210 non-null    object\n",
      " 2   Category    210 non-null    object\n",
      "dtypes: int64(1), object(2)\n",
      "memory usage: 5.0+ KB\n"
     ]
    }
   ],
   "source": [
    "# load annotated dataset\n",
    "data_path = 'annotated_data/asd_subs_annotated.csv'\n",
    "asd_subs_annotated_df = pd.read_csv(data_path)\n",
    "asd_subs_annotated_df.info()"
   ]
  },
  {
   "cell_type": "code",
   "execution_count": 101,
   "metadata": {},
   "outputs": [
    {
     "data": {
      "text/html": [
       "<div>\n",
       "<style scoped>\n",
       "    .dataframe tbody tr th:only-of-type {\n",
       "        vertical-align: middle;\n",
       "    }\n",
       "\n",
       "    .dataframe tbody tr th {\n",
       "        vertical-align: top;\n",
       "    }\n",
       "\n",
       "    .dataframe thead th {\n",
       "        text-align: right;\n",
       "    }\n",
       "</style>\n",
       "<table border=\"1\" class=\"dataframe\">\n",
       "  <thead>\n",
       "    <tr style=\"text-align: right;\">\n",
       "      <th></th>\n",
       "      <th>Unnamed: 0</th>\n",
       "      <th>text</th>\n",
       "      <th>Category</th>\n",
       "    </tr>\n",
       "  </thead>\n",
       "  <tbody>\n",
       "    <tr>\n",
       "      <th>0</th>\n",
       "      <td>205</td>\n",
       "      <td>autismmemes autism memes Meme for people with ...</td>\n",
       "      <td>asd</td>\n",
       "    </tr>\n",
       "    <tr>\n",
       "      <th>1</th>\n",
       "      <td>488</td>\n",
       "      <td>ASDcareers The Careers of People with ASD Livi...</td>\n",
       "      <td>asd</td>\n",
       "    </tr>\n",
       "    <tr>\n",
       "      <th>2</th>\n",
       "      <td>231</td>\n",
       "      <td>Gamingcirclejerk Gaming Circlejerk   Don Chead...</td>\n",
       "      <td>other</td>\n",
       "    </tr>\n",
       "  </tbody>\n",
       "</table>\n",
       "</div>"
      ],
      "text/plain": [
       "   Unnamed: 0                                               text Category\n",
       "0         205  autismmemes autism memes Meme for people with ...      asd\n",
       "1         488  ASDcareers The Careers of People with ASD Livi...      asd\n",
       "2         231  Gamingcirclejerk Gaming Circlejerk   Don Chead...    other"
      ]
     },
     "execution_count": 101,
     "metadata": {},
     "output_type": "execute_result"
    }
   ],
   "source": [
    "asd_subs_annotated_df.head(3)"
   ]
  },
  {
   "cell_type": "code",
   "execution_count": 102,
   "metadata": {},
   "outputs": [
    {
     "data": {
      "text/html": [
       "<div>\n",
       "<style scoped>\n",
       "    .dataframe tbody tr th:only-of-type {\n",
       "        vertical-align: middle;\n",
       "    }\n",
       "\n",
       "    .dataframe tbody tr th {\n",
       "        vertical-align: top;\n",
       "    }\n",
       "\n",
       "    .dataframe thead th {\n",
       "        text-align: right;\n",
       "    }\n",
       "</style>\n",
       "<table border=\"1\" class=\"dataframe\">\n",
       "  <thead>\n",
       "    <tr style=\"text-align: right;\">\n",
       "      <th></th>\n",
       "      <th>text</th>\n",
       "      <th>Category</th>\n",
       "    </tr>\n",
       "    <tr>\n",
       "      <th>Unnamed: 0</th>\n",
       "      <th></th>\n",
       "      <th></th>\n",
       "    </tr>\n",
       "  </thead>\n",
       "  <tbody>\n",
       "    <tr>\n",
       "      <th>205</th>\n",
       "      <td>autismmemes autism memes Meme for people with ...</td>\n",
       "      <td>asd</td>\n",
       "    </tr>\n",
       "    <tr>\n",
       "      <th>488</th>\n",
       "      <td>ASDcareers The Careers of People with ASD Livi...</td>\n",
       "      <td>asd</td>\n",
       "    </tr>\n",
       "    <tr>\n",
       "      <th>231</th>\n",
       "      <td>Gamingcirclejerk Gaming Circlejerk   Don Chead...</td>\n",
       "      <td>other</td>\n",
       "    </tr>\n",
       "  </tbody>\n",
       "</table>\n",
       "</div>"
      ],
      "text/plain": [
       "                                                         text Category\n",
       "Unnamed: 0                                                            \n",
       "205         autismmemes autism memes Meme for people with ...      asd\n",
       "488         ASDcareers The Careers of People with ASD Livi...      asd\n",
       "231         Gamingcirclejerk Gaming Circlejerk   Don Chead...    other"
      ]
     },
     "execution_count": 102,
     "metadata": {},
     "output_type": "execute_result"
    }
   ],
   "source": [
    "# Unnamed: 0 is the index in the original dataset\n",
    "# this column was changed by apple's Numbers program when the file was annotated\n",
    "# set it as the index ( to keep the original indexes of the subreddits )\n",
    "asd_subs_annotated_df.set_index('Unnamed: 0', inplace=True)\n",
    "asd_subs_annotated_df.head(3)"
   ]
  },
  {
   "cell_type": "code",
   "execution_count": 103,
   "metadata": {},
   "outputs": [
    {
     "data": {
      "text/html": [
       "<div>\n",
       "<style scoped>\n",
       "    .dataframe tbody tr th:only-of-type {\n",
       "        vertical-align: middle;\n",
       "    }\n",
       "\n",
       "    .dataframe tbody tr th {\n",
       "        vertical-align: top;\n",
       "    }\n",
       "\n",
       "    .dataframe thead th {\n",
       "        text-align: right;\n",
       "    }\n",
       "</style>\n",
       "<table border=\"1\" class=\"dataframe\">\n",
       "  <thead>\n",
       "    <tr style=\"text-align: right;\">\n",
       "      <th></th>\n",
       "      <th>text</th>\n",
       "      <th>Category</th>\n",
       "    </tr>\n",
       "  </thead>\n",
       "  <tbody>\n",
       "    <tr>\n",
       "      <th>205</th>\n",
       "      <td>autismmemes autism memes Meme for people with ...</td>\n",
       "      <td>asd</td>\n",
       "    </tr>\n",
       "    <tr>\n",
       "      <th>488</th>\n",
       "      <td>ASDcareers The Careers of People with ASD Livi...</td>\n",
       "      <td>asd</td>\n",
       "    </tr>\n",
       "    <tr>\n",
       "      <th>231</th>\n",
       "      <td>Gamingcirclejerk Gaming Circlejerk   Don Chead...</td>\n",
       "      <td>other</td>\n",
       "    </tr>\n",
       "  </tbody>\n",
       "</table>\n",
       "</div>"
      ],
      "text/plain": [
       "                                                  text Category\n",
       "205  autismmemes autism memes Meme for people with ...      asd\n",
       "488  ASDcareers The Careers of People with ASD Livi...      asd\n",
       "231  Gamingcirclejerk Gaming Circlejerk   Don Chead...    other"
      ]
     },
     "execution_count": 103,
     "metadata": {},
     "output_type": "execute_result"
    }
   ],
   "source": [
    "# remove the index column name\n",
    "asd_subs_annotated_df.index.names = [None]\n",
    "# category contains 2 classes : asd (=autism related) and other (= not autism ralated)\n",
    "# the annotations were made by the author alone\n",
    "asd_subs_annotated_df.head(3)"
   ]
  },
  {
   "cell_type": "code",
   "execution_count": 104,
   "metadata": {},
   "outputs": [
    {
     "data": {
      "text/html": [
       "<div>\n",
       "<style scoped>\n",
       "    .dataframe tbody tr th:only-of-type {\n",
       "        vertical-align: middle;\n",
       "    }\n",
       "\n",
       "    .dataframe tbody tr th {\n",
       "        vertical-align: top;\n",
       "    }\n",
       "\n",
       "    .dataframe thead th {\n",
       "        text-align: right;\n",
       "    }\n",
       "</style>\n",
       "<table border=\"1\" class=\"dataframe\">\n",
       "  <thead>\n",
       "    <tr style=\"text-align: right;\">\n",
       "      <th></th>\n",
       "      <th>text</th>\n",
       "      <th>Category</th>\n",
       "    </tr>\n",
       "  </thead>\n",
       "  <tbody>\n",
       "    <tr>\n",
       "      <th>205</th>\n",
       "      <td>autismmemes autism memes Meme for people with ...</td>\n",
       "      <td>asd</td>\n",
       "    </tr>\n",
       "    <tr>\n",
       "      <th>488</th>\n",
       "      <td>ASDcareers The Careers of People with ASD Livi...</td>\n",
       "      <td>asd</td>\n",
       "    </tr>\n",
       "    <tr>\n",
       "      <th>231</th>\n",
       "      <td>Gamingcirclejerk Gaming Circlejerk   Don Chead...</td>\n",
       "      <td>other</td>\n",
       "    </tr>\n",
       "  </tbody>\n",
       "</table>\n",
       "</div>"
      ],
      "text/plain": [
       "                                                  text Category\n",
       "205  autismmemes autism memes Meme for people with ...      asd\n",
       "488  ASDcareers The Careers of People with ASD Livi...      asd\n",
       "231  Gamingcirclejerk Gaming Circlejerk   Don Chead...    other"
      ]
     },
     "execution_count": 104,
     "metadata": {},
     "output_type": "execute_result"
    }
   ],
   "source": [
    "# category contains 2 classes : asd (=autism related) and other (= not autism ralated)\n",
    "# the annotations were made by the author alone\n",
    "asd_subs_annotated_df.head(3)"
   ]
  },
  {
   "cell_type": "code",
   "execution_count": 105,
   "metadata": {},
   "outputs": [
    {
     "data": {
      "text/html": [
       "<div>\n",
       "<style scoped>\n",
       "    .dataframe tbody tr th:only-of-type {\n",
       "        vertical-align: middle;\n",
       "    }\n",
       "\n",
       "    .dataframe tbody tr th {\n",
       "        vertical-align: top;\n",
       "    }\n",
       "\n",
       "    .dataframe thead tr th {\n",
       "        text-align: left;\n",
       "    }\n",
       "\n",
       "    .dataframe thead tr:last-of-type th {\n",
       "        text-align: right;\n",
       "    }\n",
       "</style>\n",
       "<table border=\"1\" class=\"dataframe\">\n",
       "  <thead>\n",
       "    <tr>\n",
       "      <th></th>\n",
       "      <th colspan=\"4\" halign=\"left\">text</th>\n",
       "    </tr>\n",
       "    <tr>\n",
       "      <th></th>\n",
       "      <th>count</th>\n",
       "      <th>unique</th>\n",
       "      <th>top</th>\n",
       "      <th>freq</th>\n",
       "    </tr>\n",
       "    <tr>\n",
       "      <th>Category</th>\n",
       "      <th></th>\n",
       "      <th></th>\n",
       "      <th></th>\n",
       "      <th></th>\n",
       "    </tr>\n",
       "  </thead>\n",
       "  <tbody>\n",
       "    <tr>\n",
       "      <th>Asd</th>\n",
       "      <td>6</td>\n",
       "      <td>6</td>\n",
       "      <td>gaspies A place for gay aspies For the aspies ...</td>\n",
       "      <td>1</td>\n",
       "    </tr>\n",
       "    <tr>\n",
       "      <th>Other</th>\n",
       "      <td>4</td>\n",
       "      <td>4</td>\n",
       "      <td>Baby Bumps Baby Bumps A place for pregnant red...</td>\n",
       "      <td>1</td>\n",
       "    </tr>\n",
       "    <tr>\n",
       "      <th>asd</th>\n",
       "      <td>107</td>\n",
       "      <td>107</td>\n",
       "      <td>autismmemes autism memes Meme for people with ...</td>\n",
       "      <td>1</td>\n",
       "    </tr>\n",
       "    <tr>\n",
       "      <th>ohter</th>\n",
       "      <td>1</td>\n",
       "      <td>1</td>\n",
       "      <td>Ask Me Anything IAnswer We will try to answer ...</td>\n",
       "      <td>1</td>\n",
       "    </tr>\n",
       "    <tr>\n",
       "      <th>other</th>\n",
       "      <td>92</td>\n",
       "      <td>92</td>\n",
       "      <td>Gamingcirclejerk Gaming Circlejerk   Don Chead...</td>\n",
       "      <td>1</td>\n",
       "    </tr>\n",
       "  </tbody>\n",
       "</table>\n",
       "</div>"
      ],
      "text/plain": [
       "          text                                                               \n",
       "         count unique                                                top freq\n",
       "Category                                                                     \n",
       "Asd          6      6  gaspies A place for gay aspies For the aspies ...    1\n",
       "Other        4      4  Baby Bumps Baby Bumps A place for pregnant red...    1\n",
       "asd        107    107  autismmemes autism memes Meme for people with ...    1\n",
       "ohter        1      1  Ask Me Anything IAnswer We will try to answer ...    1\n",
       "other       92     92  Gamingcirclejerk Gaming Circlejerk   Don Chead...    1"
      ]
     },
     "execution_count": 105,
     "metadata": {},
     "output_type": "execute_result"
    }
   ],
   "source": [
    "# descriptive statistics\n",
    "asd_subs_annotated_df.groupby('Category').describe()"
   ]
  },
  {
   "cell_type": "code",
   "execution_count": 106,
   "metadata": {},
   "outputs": [
    {
     "data": {
      "text/html": [
       "<div>\n",
       "<style scoped>\n",
       "    .dataframe tbody tr th:only-of-type {\n",
       "        vertical-align: middle;\n",
       "    }\n",
       "\n",
       "    .dataframe tbody tr th {\n",
       "        vertical-align: top;\n",
       "    }\n",
       "\n",
       "    .dataframe thead tr th {\n",
       "        text-align: left;\n",
       "    }\n",
       "\n",
       "    .dataframe thead tr:last-of-type th {\n",
       "        text-align: right;\n",
       "    }\n",
       "</style>\n",
       "<table border=\"1\" class=\"dataframe\">\n",
       "  <thead>\n",
       "    <tr>\n",
       "      <th></th>\n",
       "      <th colspan=\"4\" halign=\"left\">text</th>\n",
       "    </tr>\n",
       "    <tr>\n",
       "      <th></th>\n",
       "      <th>count</th>\n",
       "      <th>unique</th>\n",
       "      <th>top</th>\n",
       "      <th>freq</th>\n",
       "    </tr>\n",
       "    <tr>\n",
       "      <th>Category</th>\n",
       "      <th></th>\n",
       "      <th></th>\n",
       "      <th></th>\n",
       "      <th></th>\n",
       "    </tr>\n",
       "  </thead>\n",
       "  <tbody>\n",
       "    <tr>\n",
       "      <th>asd</th>\n",
       "      <td>113</td>\n",
       "      <td>113</td>\n",
       "      <td>autismmemes autism memes Meme for people with ...</td>\n",
       "      <td>1</td>\n",
       "    </tr>\n",
       "    <tr>\n",
       "      <th>ohter</th>\n",
       "      <td>1</td>\n",
       "      <td>1</td>\n",
       "      <td>Ask Me Anything IAnswer We will try to answer ...</td>\n",
       "      <td>1</td>\n",
       "    </tr>\n",
       "    <tr>\n",
       "      <th>other</th>\n",
       "      <td>96</td>\n",
       "      <td>96</td>\n",
       "      <td>Gamingcirclejerk Gaming Circlejerk   Don Chead...</td>\n",
       "      <td>1</td>\n",
       "    </tr>\n",
       "  </tbody>\n",
       "</table>\n",
       "</div>"
      ],
      "text/plain": [
       "          text                                                               \n",
       "         count unique                                                top freq\n",
       "Category                                                                     \n",
       "asd        113    113  autismmemes autism memes Meme for people with ...    1\n",
       "ohter        1      1  Ask Me Anything IAnswer We will try to answer ...    1\n",
       "other       96     96  Gamingcirclejerk Gaming Circlejerk   Don Chead...    1"
      ]
     },
     "execution_count": 106,
     "metadata": {},
     "output_type": "execute_result"
    }
   ],
   "source": [
    "# lower case all entries in category column\n",
    "asd_subs_annotated_df['Category'] = asd_subs_annotated_df['Category'].str.lower()\n",
    "asd_subs_annotated_df.groupby('Category').describe()"
   ]
  },
  {
   "cell_type": "code",
   "execution_count": 107,
   "metadata": {},
   "outputs": [
    {
     "data": {
      "text/html": [
       "<div>\n",
       "<style scoped>\n",
       "    .dataframe tbody tr th:only-of-type {\n",
       "        vertical-align: middle;\n",
       "    }\n",
       "\n",
       "    .dataframe tbody tr th {\n",
       "        vertical-align: top;\n",
       "    }\n",
       "\n",
       "    .dataframe thead tr th {\n",
       "        text-align: left;\n",
       "    }\n",
       "\n",
       "    .dataframe thead tr:last-of-type th {\n",
       "        text-align: right;\n",
       "    }\n",
       "</style>\n",
       "<table border=\"1\" class=\"dataframe\">\n",
       "  <thead>\n",
       "    <tr>\n",
       "      <th></th>\n",
       "      <th colspan=\"4\" halign=\"left\">text</th>\n",
       "    </tr>\n",
       "    <tr>\n",
       "      <th></th>\n",
       "      <th>count</th>\n",
       "      <th>unique</th>\n",
       "      <th>top</th>\n",
       "      <th>freq</th>\n",
       "    </tr>\n",
       "    <tr>\n",
       "      <th>Category</th>\n",
       "      <th></th>\n",
       "      <th></th>\n",
       "      <th></th>\n",
       "      <th></th>\n",
       "    </tr>\n",
       "  </thead>\n",
       "  <tbody>\n",
       "    <tr>\n",
       "      <th>asd</th>\n",
       "      <td>113</td>\n",
       "      <td>113</td>\n",
       "      <td>autismmemes autism memes Meme for people with ...</td>\n",
       "      <td>1</td>\n",
       "    </tr>\n",
       "    <tr>\n",
       "      <th>other</th>\n",
       "      <td>97</td>\n",
       "      <td>97</td>\n",
       "      <td>Gamingcirclejerk Gaming Circlejerk   Don Chead...</td>\n",
       "      <td>1</td>\n",
       "    </tr>\n",
       "  </tbody>\n",
       "</table>\n",
       "</div>"
      ],
      "text/plain": [
       "          text                                                               \n",
       "         count unique                                                top freq\n",
       "Category                                                                     \n",
       "asd        113    113  autismmemes autism memes Meme for people with ...    1\n",
       "other       97     97  Gamingcirclejerk Gaming Circlejerk   Don Chead...    1"
      ]
     },
     "execution_count": 107,
     "metadata": {},
     "output_type": "execute_result"
    }
   ],
   "source": [
    "# one entry is miss spelled \n",
    "# replace 'ohter' for 'other' in Category\n",
    "asd_subs_annotated_df['Category'] = asd_subs_annotated_df['Category'].replace('ohter', 'other')\n",
    "asd_subs_annotated_df.groupby('Category').describe()"
   ]
  },
  {
   "cell_type": "markdown",
   "metadata": {},
   "source": [
    "The dataset is relatively ballanced, with 113 subreddits in the ASD category and 97 in the other (non-ASD) category. \n",
    "\n",
    "In balanced datasets accuracy can be a reasonable measure for assessing the performance of a model. However , other metrics will be used in addition to accuracy, to evaluate the performance of the model: precission, recall and F1-score."
   ]
  },
  {
   "cell_type": "code",
   "execution_count": 108,
   "metadata": {},
   "outputs": [
    {
     "data": {
      "text/html": [
       "<div>\n",
       "<style scoped>\n",
       "    .dataframe tbody tr th:only-of-type {\n",
       "        vertical-align: middle;\n",
       "    }\n",
       "\n",
       "    .dataframe tbody tr th {\n",
       "        vertical-align: top;\n",
       "    }\n",
       "\n",
       "    .dataframe thead th {\n",
       "        text-align: right;\n",
       "    }\n",
       "</style>\n",
       "<table border=\"1\" class=\"dataframe\">\n",
       "  <thead>\n",
       "    <tr style=\"text-align: right;\">\n",
       "      <th></th>\n",
       "      <th>text</th>\n",
       "      <th>Category</th>\n",
       "      <th>text_length</th>\n",
       "    </tr>\n",
       "  </thead>\n",
       "  <tbody>\n",
       "    <tr>\n",
       "      <th>205</th>\n",
       "      <td>autismmemes autism memes Meme for people with ...</td>\n",
       "      <td>asd</td>\n",
       "      <td>72</td>\n",
       "    </tr>\n",
       "    <tr>\n",
       "      <th>488</th>\n",
       "      <td>ASDcareers The Careers of People with ASD Livi...</td>\n",
       "      <td>asd</td>\n",
       "      <td>1140</td>\n",
       "    </tr>\n",
       "    <tr>\n",
       "      <th>231</th>\n",
       "      <td>Gamingcirclejerk Gaming Circlejerk   Don Chead...</td>\n",
       "      <td>other</td>\n",
       "      <td>2279</td>\n",
       "    </tr>\n",
       "  </tbody>\n",
       "</table>\n",
       "</div>"
      ],
      "text/plain": [
       "                                                  text Category  text_length\n",
       "205  autismmemes autism memes Meme for people with ...      asd           72\n",
       "488  ASDcareers The Careers of People with ASD Livi...      asd         1140\n",
       "231  Gamingcirclejerk Gaming Circlejerk   Don Chead...    other         2279"
      ]
     },
     "execution_count": 108,
     "metadata": {},
     "output_type": "execute_result"
    }
   ],
   "source": [
    "# save the length of text in a new column 'text_tength' \n",
    "asd_subs_annotated_df['text_length'] = asd_subs_annotated_df['text'].apply(lambda x: len(x))\n",
    "asd_subs_annotated_df.head(3)"
   ]
  },
  {
   "cell_type": "code",
   "execution_count": 109,
   "metadata": {},
   "outputs": [
    {
     "name": "stdout",
     "output_type": "stream",
     "text": [
      "count      210.000000\n",
      "mean      1892.104762\n",
      "std       2271.259118\n",
      "min         22.000000\n",
      "25%        204.500000\n",
      "50%        663.500000\n",
      "75%       3184.000000\n",
      "max      10227.000000\n",
      "Name: text_length, dtype: float64\n"
     ]
    }
   ],
   "source": [
    "# text length statisitic for the whole dataset\n",
    "print(asd_subs_annotated_df['text_length'].describe())"
   ]
  },
  {
   "cell_type": "code",
   "execution_count": 110,
   "metadata": {},
   "outputs": [
    {
     "data": {
      "image/png": "[encoded data removed]",
      "text/plain": [
       "<Figure size 432x288 with 1 Axes>"
      ]
     },
     "metadata": {
      "needs_background": "light"
     },
     "output_type": "display_data"
    }
   ],
   "source": [
    "# plot a histogram for 'text_length' values\n",
    "plt.hist(asd_subs_annotated_df['text_length'], bins=10, edgecolor='k')\n",
    "\n",
    "# labels and title\n",
    "plt.xlabel('Text Length')\n",
    "plt.ylabel('Frequency')\n",
    "plt.title('Histogram of Text Lengths Whole Dataset')\n",
    "\n",
    "plt.show()"
   ]
  },
  {
   "cell_type": "code",
   "execution_count": 111,
   "metadata": {},
   "outputs": [
    {
     "name": "stdout",
     "output_type": "stream",
     "text": [
      "text lenght statistics for Category=other\n",
      "count       97.000000\n",
      "mean      3345.484536\n",
      "std       2478.789818\n",
      "min         22.000000\n",
      "25%       1078.000000\n",
      "50%       3005.000000\n",
      "75%       5186.000000\n",
      "max      10227.000000\n",
      "Name: text_length, dtype: float64\n",
      "\n",
      "text lenght statistics for Category=asd\n",
      "count     113.000000\n",
      "mean      644.513274\n",
      "std       979.758390\n",
      "min        28.000000\n",
      "25%       122.000000\n",
      "50%       324.000000\n",
      "75%       623.000000\n",
      "max      4892.000000\n",
      "Name: text_length, dtype: float64\n"
     ]
    }
   ],
   "source": [
    "# show text length for each of the 2 categories\n",
    "# filter rows where 'Category' = 'other'\n",
    "other_df = asd_subs_annotated_df[asd_subs_annotated_df['Category'] == 'other']\n",
    "# filter rows where 'Category' = 'asd'\n",
    "asd_df = asd_subs_annotated_df[asd_subs_annotated_df['Category'] == 'asd']\n",
    "\n",
    "# text lenght statistics for 'Category' = 'other'\n",
    "print('text lenght statistics for Category=other')\n",
    "print(other_df['text_length'].describe())\n",
    "# text lenght statistics for 'Category' = 'asd'\n",
    "print()\n",
    "print('text lenght statistics for Category=asd')\n",
    "print(asd_df['text_length'].describe())\n"
   ]
  },
  {
   "cell_type": "code",
   "execution_count": 112,
   "metadata": {},
   "outputs": [
    {
     "data": {
      "image/png": "[encoded data removed]",
      "text/plain": [
       "<Figure size 432x288 with 1 Axes>"
      ]
     },
     "metadata": {
      "needs_background": "light"
     },
     "output_type": "display_data"
    }
   ],
   "source": [
    "# plot a histogram for 'text_length' values of other category\n",
    "plt.hist(other_df['text_length'], bins=10, edgecolor='k')\n",
    "\n",
    "# labels and title\n",
    "plt.xlabel('Text Length')\n",
    "plt.ylabel('Frequency')\n",
    "plt.title('Histogram of Text Lengths for Other Category')\n",
    "\n",
    "plt.show()"
   ]
  },
  {
   "cell_type": "code",
   "execution_count": 113,
   "metadata": {},
   "outputs": [
    {
     "data": {
      "image/png": "[encoded data removed]",
      "text/plain": [
       "<Figure size 432x288 with 1 Axes>"
      ]
     },
     "metadata": {
      "needs_background": "light"
     },
     "output_type": "display_data"
    }
   ],
   "source": [
    "# plot a histogram for 'text_length' values of asd category\n",
    "plt.hist(asd_df['text_length'], bins=10, edgecolor='k')\n",
    "\n",
    "# labels and title\n",
    "plt.xlabel('Text Length')\n",
    "plt.ylabel('Frequency')\n",
    "plt.title('Histogram of Text Lengths for ASD Category')\n",
    "\n",
    "plt.show()"
   ]
  },
  {
   "cell_type": "markdown",
   "metadata": {},
   "source": [
    "The average text length for the whole data set is 1892 characters. Text descriptions vary between a minumum of 22 characters to a maximum of 10227 characters. \n",
    "\n",
    "The mean (1892) is almost triple the median value (663). This indicates that the distribution is positively skewed - the tail on the right side (higher values) is longer compared to the left side (lower values), as seen in the histogram above. This indicates that there are some very high values (outliers) pulling the mean upward. \n",
    "\n",
    "https://www.analyticsvidhya.com/blog/2020/07/what-is-skewness-statistics/:\n",
    "Since our data is positively skewed here, it means that it has a higher number of data points having low values (shorter text descriptions). So when we train our model on this data, it will perform better at predicting the category of subreddtis with shorter descriptions as compared to those with longer horsepower. (?)\n",
    "\n",
    "This statistics represent text_lenght in terms of characters (inlcuding white-space). Skewed data is typical in NLP tasks. The text will need to be transformed (tokenisation) and projected into a feature space. \n",
    "All lenght text will be included in the analysis, in order to develop the largest vocabulary possible. \n",
    "As most text descriptions are under 1000 characters, i will expect models to perform best on short text.\n",
    "Also, the 'other' category text data seems to be more balancend, while the 'asd' category seems to containt mostly short text (under 500 chars). Thus i would expect the models to perform better at classifing the other category ( True  negavies). (?)"
   ]
  },
  {
   "cell_type": "code",
   "execution_count": 114,
   "metadata": {},
   "outputs": [
    {
     "data": {
      "text/html": [
       "<div>\n",
       "<style scoped>\n",
       "    .dataframe tbody tr th:only-of-type {\n",
       "        vertical-align: middle;\n",
       "    }\n",
       "\n",
       "    .dataframe tbody tr th {\n",
       "        vertical-align: top;\n",
       "    }\n",
       "\n",
       "    .dataframe thead th {\n",
       "        text-align: right;\n",
       "    }\n",
       "</style>\n",
       "<table border=\"1\" class=\"dataframe\">\n",
       "  <thead>\n",
       "    <tr style=\"text-align: right;\">\n",
       "      <th></th>\n",
       "      <th>text</th>\n",
       "      <th>Category</th>\n",
       "      <th>text_length</th>\n",
       "      <th>asd</th>\n",
       "    </tr>\n",
       "  </thead>\n",
       "  <tbody>\n",
       "    <tr>\n",
       "      <th>205</th>\n",
       "      <td>autismmemes autism memes Meme for people with ...</td>\n",
       "      <td>asd</td>\n",
       "      <td>72</td>\n",
       "      <td>1</td>\n",
       "    </tr>\n",
       "    <tr>\n",
       "      <th>488</th>\n",
       "      <td>ASDcareers The Careers of People with ASD Livi...</td>\n",
       "      <td>asd</td>\n",
       "      <td>1140</td>\n",
       "      <td>1</td>\n",
       "    </tr>\n",
       "    <tr>\n",
       "      <th>231</th>\n",
       "      <td>Gamingcirclejerk Gaming Circlejerk   Don Chead...</td>\n",
       "      <td>other</td>\n",
       "      <td>2279</td>\n",
       "      <td>0</td>\n",
       "    </tr>\n",
       "  </tbody>\n",
       "</table>\n",
       "</div>"
      ],
      "text/plain": [
       "                                                  text Category  text_length  \\\n",
       "205  autismmemes autism memes Meme for people with ...      asd           72   \n",
       "488  ASDcareers The Careers of People with ASD Livi...      asd         1140   \n",
       "231  Gamingcirclejerk Gaming Circlejerk   Don Chead...    other         2279   \n",
       "\n",
       "     asd  \n",
       "205    1  \n",
       "488    1  \n",
       "231    0  "
      ]
     },
     "execution_count": 114,
     "metadata": {},
     "output_type": "execute_result"
    }
   ],
   "source": [
    "# Category is a categorical variable\n",
    "# needs to be turned into a numerical type for the analysis\n",
    "# create a new column 'Asd' for the numerical values of Category: 0 = Other, 1 = Asd\n",
    "asd_subs_annotated_df['asd']= asd_subs_annotated_df['Category'].apply(lambda x: 1 if x=='asd' else 0)\n",
    "asd_subs_annotated_df.head(3)"
   ]
  },
  {
   "cell_type": "code",
   "execution_count": 115,
   "metadata": {},
   "outputs": [
    {
     "name": "stdout",
     "output_type": "stream",
     "text": [
      "<class 'pandas.core.frame.DataFrame'>\n",
      "Index: 210 entries, 205 to 282\n",
      "Data columns (total 4 columns):\n",
      " #   Column       Non-Null Count  Dtype \n",
      "---  ------       --------------  ----- \n",
      " 0   text         210 non-null    object\n",
      " 1   Category     210 non-null    object\n",
      " 2   text_length  210 non-null    int64 \n",
      " 3   asd          210 non-null    int64 \n",
      "dtypes: int64(2), object(2)\n",
      "memory usage: 8.2+ KB\n"
     ]
    }
   ],
   "source": [
    "asd_subs_annotated_df.info()"
   ]
  },
  {
   "cell_type": "code",
   "execution_count": 221,
   "metadata": {},
   "outputs": [
    {
     "data": {
      "text/html": [
       "<div>\n",
       "<style scoped>\n",
       "    .dataframe tbody tr th:only-of-type {\n",
       "        vertical-align: middle;\n",
       "    }\n",
       "\n",
       "    .dataframe tbody tr th {\n",
       "        vertical-align: top;\n",
       "    }\n",
       "\n",
       "    .dataframe thead th {\n",
       "        text-align: right;\n",
       "    }\n",
       "</style>\n",
       "<table border=\"1\" class=\"dataframe\">\n",
       "  <thead>\n",
       "    <tr style=\"text-align: right;\">\n",
       "      <th></th>\n",
       "      <th>asd</th>\n",
       "      <th>text</th>\n",
       "    </tr>\n",
       "  </thead>\n",
       "  <tbody>\n",
       "    <tr>\n",
       "      <th>205</th>\n",
       "      <td>1</td>\n",
       "      <td>autismmemes autism memes Meme for people with ...</td>\n",
       "    </tr>\n",
       "    <tr>\n",
       "      <th>488</th>\n",
       "      <td>1</td>\n",
       "      <td>ASDcareers The Careers of People with ASD Livi...</td>\n",
       "    </tr>\n",
       "    <tr>\n",
       "      <th>231</th>\n",
       "      <td>0</td>\n",
       "      <td>Gamingcirclejerk Gaming Circlejerk   Don Chead...</td>\n",
       "    </tr>\n",
       "  </tbody>\n",
       "</table>\n",
       "</div>"
      ],
      "text/plain": [
       "     asd                                               text\n",
       "205    1  autismmemes autism memes Meme for people with ...\n",
       "488    1  ASDcareers The Careers of People with ASD Livi...\n",
       "231    0  Gamingcirclejerk Gaming Circlejerk   Don Chead..."
      ]
     },
     "execution_count": 221,
     "metadata": {},
     "output_type": "execute_result"
    }
   ],
   "source": [
    "# we will only use in the following analysis columns text and asd\n",
    "asd_subs_annotated_df_short = asd_subs_annotated_df[['asd', 'text']]\n",
    "asd_subs_annotated_df_short.head(3)"
   ]
  },
  {
   "cell_type": "code",
   "execution_count": 222,
   "metadata": {},
   "outputs": [],
   "source": [
    "# split the data into train set ( 0.8 of the dataset ) and test set of (0.2 of the dataset)\n",
    "from sklearn.model_selection import train_test_split\n",
    "X = asd_subs_annotated_df_short[['text']]\n",
    "y = asd_subs_annotated_df_short[['asd']]\n",
    "X_train, X_test, y_train, y_test = train_test_split(X, y, test_size=0.2, stratify=y, random_state=7)\n"
   ]
  },
  {
   "cell_type": "code",
   "execution_count": 223,
   "metadata": {},
   "outputs": [
    {
     "name": "stdout",
     "output_type": "stream",
     "text": [
      "Training Dataset\n",
      "<class 'pandas.core.frame.DataFrame'>\n",
      "Index: 168 entries, 116 to 441\n",
      "Data columns (total 1 columns):\n",
      " #   Column  Non-Null Count  Dtype \n",
      "---  ------  --------------  ----- \n",
      " 0   text    168 non-null    object\n",
      "dtypes: object(1)\n",
      "memory usage: 2.6+ KB\n",
      "\n",
      "<class 'pandas.core.frame.DataFrame'>\n",
      "Index: 168 entries, 116 to 441\n",
      "Data columns (total 1 columns):\n",
      " #   Column  Non-Null Count  Dtype\n",
      "---  ------  --------------  -----\n",
      " 0   asd     168 non-null    int64\n",
      "dtypes: int64(1)\n",
      "memory usage: 2.6 KB\n",
      "\n",
      "Asd-Other distribution\n",
      "asd\n",
      "1      90\n",
      "0      78\n",
      "Name: count, dtype: int64\n"
     ]
    }
   ],
   "source": [
    "print('Training Dataset')\n",
    "X_train.info()\n",
    "print()\n",
    "y_train.info()\n",
    "print()\n",
    "print('Asd-Other distribution')\n",
    "print(y_train.value_counts())"
   ]
  },
  {
   "cell_type": "markdown",
   "metadata": {},
   "source": [
    "Training data contains 168 non-null values, and is relatively ballanced (90 subreddits are in the asd category and 78 are in the other category)."
   ]
  },
  {
   "cell_type": "code",
   "execution_count": 224,
   "metadata": {},
   "outputs": [
    {
     "name": "stdout",
     "output_type": "stream",
     "text": [
      "Test Dataset\n",
      "<class 'pandas.core.frame.DataFrame'>\n",
      "Index: 42 entries, 231 to 426\n",
      "Data columns (total 1 columns):\n",
      " #   Column  Non-Null Count  Dtype \n",
      "---  ------  --------------  ----- \n",
      " 0   text    42 non-null     object\n",
      "dtypes: object(1)\n",
      "memory usage: 672.0+ bytes\n",
      "\n",
      "<class 'pandas.core.frame.DataFrame'>\n",
      "Index: 42 entries, 231 to 426\n",
      "Data columns (total 1 columns):\n",
      " #   Column  Non-Null Count  Dtype\n",
      "---  ------  --------------  -----\n",
      " 0   asd     42 non-null     int64\n",
      "dtypes: int64(1)\n",
      "memory usage: 672.0 bytes\n",
      "\n",
      "Asd-Other distribution\n",
      "asd\n",
      "1      23\n",
      "0      19\n",
      "Name: count, dtype: int64\n"
     ]
    }
   ],
   "source": [
    "print('Test Dataset')\n",
    "X_test.info()\n",
    "print()\n",
    "y_test.info()\n",
    "print()\n",
    "print('Asd-Other distribution')\n",
    "print(y_test.value_counts())\n"
   ]
  },
  {
   "cell_type": "markdown",
   "metadata": {},
   "source": [
    "Training data contains 42 non-null values, and is relatively ballanced (23 subreddits are in the asd category and 19 are in the other category)."
   ]
  },
  {
   "cell_type": "markdown",
   "metadata": {},
   "source": [
    "Both training and testing datasets are cleaned and ready for analysis.\n",
    "Cross validation will be used , instead of a stand alone validation set, due to the small training set size.\n",
    "\n",
    "I will apply different models used for supervised text classification. The best perfomant model will be used further to select the relevant asd(=autism) subreddits from the entire original dataset. \n",
    "\n",
    "List of models used:\n",
    "- text classification with Naive Bayes \n",
    "- text classification with KNeighborsClassifier\n",
    "- text classification with Random Forest\n",
    "- text classification with SVM (lienar = assumes the shape of the decision boundary is linear;  and RBF = for when you don't have prior knowledge about the shape of the decision boundary)"
   ]
  },
  {
   "cell_type": "markdown",
   "metadata": {},
   "source": [
    "## 3. Pre-processing:\n",
    "Text data is unstructured data. Preprocessing this data is a first step to give this data some form of structure. \n",
    "\n",
    "    3.1 split text into tokens/words (=sentence segmentation/ tokanisation NLTK or Spcy or AutoTokenizer if using transformers)\n",
    "\n",
    "    3.3 stemming (=remove prefixes and sufixes) and lemmatization (=get the base word - ext ate becomes (to)eat) - in this project lemmatization will be used as it can more accurately find the base word ( it has more complex rules than stemming -  see https://www.analyticsvidhya.com/blog/2022/06/stemming-vs-lemmatization-in-nlp-must-know-differences/#:~:text=Stemming%20is%20a%20process%20that,form%2C%20which%20is%20called%20Lemma.) "
   ]
  },
  {
   "cell_type": "markdown",
   "metadata": {},
   "source": [
    "#### Tokenize with spaCy"
   ]
  },
  {
   "cell_type": "code",
   "execution_count": 225,
   "metadata": {},
   "outputs": [],
   "source": [
    "%%capture\n",
    "%pip install -U spacy"
   ]
  },
  {
   "cell_type": "code",
   "execution_count": 226,
   "metadata": {},
   "outputs": [],
   "source": [
    "import spacy"
   ]
  },
  {
   "cell_type": "code",
   "execution_count": 227,
   "metadata": {},
   "outputs": [],
   "source": [
    "%%capture\n",
    "!python -m spacy download en_core_web_lg"
   ]
  },
  {
   "cell_type": "code",
   "execution_count": 228,
   "metadata": {},
   "outputs": [],
   "source": [
    "nlp = spacy.load('en_core_web_lg')"
   ]
  },
  {
   "cell_type": "code",
   "execution_count": 229,
   "metadata": {},
   "outputs": [
    {
     "data": {
      "text/html": [
       "<div>\n",
       "<style scoped>\n",
       "    .dataframe tbody tr th:only-of-type {\n",
       "        vertical-align: middle;\n",
       "    }\n",
       "\n",
       "    .dataframe tbody tr th {\n",
       "        vertical-align: top;\n",
       "    }\n",
       "\n",
       "    .dataframe thead th {\n",
       "        text-align: right;\n",
       "    }\n",
       "</style>\n",
       "<table border=\"1\" class=\"dataframe\">\n",
       "  <thead>\n",
       "    <tr style=\"text-align: right;\">\n",
       "      <th></th>\n",
       "      <th>text</th>\n",
       "    </tr>\n",
       "  </thead>\n",
       "  <tbody>\n",
       "    <tr>\n",
       "      <th>116</th>\n",
       "      <td>womenonthespectrum womenonthespectrum A commun...</td>\n",
       "    </tr>\n",
       "    <tr>\n",
       "      <th>293</th>\n",
       "      <td>The Owl House The Owl House A subreddit for th...</td>\n",
       "    </tr>\n",
       "    <tr>\n",
       "      <th>452</th>\n",
       "      <td>Autism Speaks Sucks Autism Speaks Sucks A comm...</td>\n",
       "    </tr>\n",
       "  </tbody>\n",
       "</table>\n",
       "</div>"
      ],
      "text/plain": [
       "                                                  text\n",
       "116  womenonthespectrum womenonthespectrum A commun...\n",
       "293  The Owl House The Owl House A subreddit for th...\n",
       "452  Autism Speaks Sucks Autism Speaks Sucks A comm..."
      ]
     },
     "execution_count": 229,
     "metadata": {},
     "output_type": "execute_result"
    }
   ],
   "source": [
    "X_train.head(3)"
   ]
  },
  {
   "cell_type": "code",
   "execution_count": 230,
   "metadata": {},
   "outputs": [],
   "source": [
    "# remove any stop words ( that were potentially missed by regex above) - > not relevant to the classification task\n",
    "# remove punctuation - not relevant to classification (?maybe)\n",
    "# lemmatize tokens\n",
    "def preprocess(text):\n",
    "    doc= nlp(text)\n",
    "    new_text = []\n",
    "    for t in doc:\n",
    "        if t.is_stop or t.is_punct:\n",
    "            continue\n",
    "        new_text.append(t.lemma_)\n",
    "    return ' '.join(new_text)"
   ]
  },
  {
   "cell_type": "code",
   "execution_count": 231,
   "metadata": {},
   "outputs": [
    {
     "data": {
      "text/html": [
       "<div>\n",
       "<style scoped>\n",
       "    .dataframe tbody tr th:only-of-type {\n",
       "        vertical-align: middle;\n",
       "    }\n",
       "\n",
       "    .dataframe tbody tr th {\n",
       "        vertical-align: top;\n",
       "    }\n",
       "\n",
       "    .dataframe thead th {\n",
       "        text-align: right;\n",
       "    }\n",
       "</style>\n",
       "<table border=\"1\" class=\"dataframe\">\n",
       "  <thead>\n",
       "    <tr style=\"text-align: right;\">\n",
       "      <th></th>\n",
       "      <th>text</th>\n",
       "      <th>new_text</th>\n",
       "    </tr>\n",
       "  </thead>\n",
       "  <tbody>\n",
       "    <tr>\n",
       "      <th>116</th>\n",
       "      <td>womenonthespectrum womenonthespectrum A commun...</td>\n",
       "      <td>womenonthespectrum womenonthespectrum communit...</td>\n",
       "    </tr>\n",
       "    <tr>\n",
       "      <th>293</th>\n",
       "      <td>The Owl House The Owl House A subreddit for th...</td>\n",
       "      <td>Owl House Owl House subreddit Disney fantasy c...</td>\n",
       "    </tr>\n",
       "    <tr>\n",
       "      <th>452</th>\n",
       "      <td>Autism Speaks Sucks Autism Speaks Sucks A comm...</td>\n",
       "      <td>autism speak Sucks autism speak suck community...</td>\n",
       "    </tr>\n",
       "  </tbody>\n",
       "</table>\n",
       "</div>"
      ],
      "text/plain": [
       "                                                  text  \\\n",
       "116  womenonthespectrum womenonthespectrum A commun...   \n",
       "293  The Owl House The Owl House A subreddit for th...   \n",
       "452  Autism Speaks Sucks Autism Speaks Sucks A comm...   \n",
       "\n",
       "                                              new_text  \n",
       "116  womenonthespectrum womenonthespectrum communit...  \n",
       "293  Owl House Owl House subreddit Disney fantasy c...  \n",
       "452  autism speak Sucks autism speak suck community...  "
      ]
     },
     "execution_count": 231,
     "metadata": {},
     "output_type": "execute_result"
    }
   ],
   "source": [
    "# pre-process traning set \n",
    "X_train.loc[:, 'new_text'] = X_train['text'].apply(preprocess)\n",
    "X_train.head(3)"
   ]
  },
  {
   "cell_type": "code",
   "execution_count": 232,
   "metadata": {},
   "outputs": [
    {
     "name": "stdout",
     "output_type": "stream",
     "text": [
      "['womenonthespectrum', 'womenonthespectrum', 'A', 'community', 'specifically', 'for', 'women', ' ', 'nonbinary', ' ', 'and', 'afab', 'people', 'on', 'the', 'spectrum', 'to', 'vent', ' ', 'discuss', 'topics', 'related', 'to', 'autism', ' ', 'and', 'support', 'each', 'other', '  ']\n",
      "['womenonthespectrum', 'womenonthespectrum', 'community', 'specifically', 'woman', '  ', 'nonbinary', '  ', 'afab', 'people', 'spectrum', 'vent', '  ', 'discuss', 'topic', 'relate', 'autism', '  ', 'support', '  ']\n"
     ]
    }
   ],
   "source": [
    "# difference in text before and after preprocessing\n",
    "doc_text = nlp(X_train.text[116])\n",
    "doc_new_text = nlp(X_train.new_text[116])\n",
    "print([t.text for t in doc_text])\n",
    "print([t.text for t in doc_new_text])"
   ]
  },
  {
   "cell_type": "code",
   "execution_count": 233,
   "metadata": {},
   "outputs": [
    {
     "data": {
      "text/html": [
       "<div>\n",
       "<style scoped>\n",
       "    .dataframe tbody tr th:only-of-type {\n",
       "        vertical-align: middle;\n",
       "    }\n",
       "\n",
       "    .dataframe tbody tr th {\n",
       "        vertical-align: top;\n",
       "    }\n",
       "\n",
       "    .dataframe thead th {\n",
       "        text-align: right;\n",
       "    }\n",
       "</style>\n",
       "<table border=\"1\" class=\"dataframe\">\n",
       "  <thead>\n",
       "    <tr style=\"text-align: right;\">\n",
       "      <th></th>\n",
       "      <th>text</th>\n",
       "      <th>new_text</th>\n",
       "    </tr>\n",
       "  </thead>\n",
       "  <tbody>\n",
       "    <tr>\n",
       "      <th>231</th>\n",
       "      <td>Gamingcirclejerk Gaming Circlejerk   Don Chead...</td>\n",
       "      <td>Gamingcirclejerk Gaming Circlejerk    Don Chea...</td>\n",
       "    </tr>\n",
       "    <tr>\n",
       "      <th>243</th>\n",
       "      <td>ASDpeersupport ASD Peer Support   Peer based s...</td>\n",
       "      <td>ASDpeersupport ASD Peer support    Peer base s...</td>\n",
       "    </tr>\n",
       "    <tr>\n",
       "      <th>392</th>\n",
       "      <td>selfharm A Subreddit for Self Harmers A subred...</td>\n",
       "      <td>selfharm Subreddit Self Harmers subreddit self...</td>\n",
       "    </tr>\n",
       "  </tbody>\n",
       "</table>\n",
       "</div>"
      ],
      "text/plain": [
       "                                                  text  \\\n",
       "231  Gamingcirclejerk Gaming Circlejerk   Don Chead...   \n",
       "243  ASDpeersupport ASD Peer Support   Peer based s...   \n",
       "392  selfharm A Subreddit for Self Harmers A subred...   \n",
       "\n",
       "                                              new_text  \n",
       "231  Gamingcirclejerk Gaming Circlejerk    Don Chea...  \n",
       "243  ASDpeersupport ASD Peer support    Peer base s...  \n",
       "392  selfharm Subreddit Self Harmers subreddit self...  "
      ]
     },
     "execution_count": 233,
     "metadata": {},
     "output_type": "execute_result"
    }
   ],
   "source": [
    "# pre-process testinf set \n",
    "X_test.loc[:, 'new_text'] = X_test['text'].apply(preprocess)\n",
    "X_test.head(3)"
   ]
  },
  {
   "cell_type": "markdown",
   "metadata": {},
   "source": [
    "## 4. 5. 6. Vectorize, Apply Classifier and Evaluate the model - uses sklearn.pipeline"
   ]
  },
  {
   "cell_type": "markdown",
   "metadata": {},
   "source": [
    "\n",
    "4. feature engineering (= convert text / document into vector)\n",
    "    count-vector\n",
    "    tf-idf\n",
    "    one-hot encode - not really used due to size and sparcity problems\n",
    "    word/token-emebeding\n",
    "5. apply classifier ( any machine learning model classifier ) - use gridSearchCV to see which is the best performing classifier ?\n",
    "6. evaluate  model: Accuracy, Precision, Recall, F1 score ( if not good , go back to preprocessing step )"
   ]
  },
  {
   "cell_type": "code",
   "execution_count": 270,
   "metadata": {},
   "outputs": [],
   "source": [
    "from sklearn.feature_extraction.text import TfidfVectorizer, CountVectorizer\n",
    "\n",
    "from sklearn.neighbors import KNeighborsClassifier\n",
    "from sklearn.naive_bayes import MultinomialNB\n",
    "from sklearn.ensemble import RandomForestClassifier\n",
    "from sklearn.svm import SVC\n",
    "from sklearn.pipeline import Pipeline\n",
    "\n",
    "from sklearn.model_selection import StratifiedKFold, cross_val_predict\n",
    "\n",
    "from sklearn.metrics import classification_report, confusion_matrix\n",
    "\n",
    "def classify(vectorizer, model, x_train, y_train, x_test, y_test, k_folds=5):\n",
    "    # create the pipeline\n",
    "    clf = Pipeline([\n",
    "        ('vectorizer', vectorizer),\n",
    "        ('model', model)\n",
    "    ])\n",
    "    # initialize StratifiedKFold for cross-validation\n",
    "    kf = StratifiedKFold(n_splits=k_folds, shuffle=True, random_state=42)\n",
    "    \n",
    "    # perform k-fold (k=5) cross-validation \n",
    "    y_pred_cv = cross_val_predict(clf, x_train, y_train, cv=kf)\n",
    "    \n",
    "    # fit the model on the training data\n",
    "    clf.fit(x_train, y_train)\n",
    "    # make prediction using test data\n",
    "    y_pred = clf.predict(x_test)\n",
    "\n",
    "    # classification report and confusion matrix for cross-validated predictions\n",
    "    print(\"Cross-validated Classification Report:\\n\", classification_report(y_train, y_pred_cv))\n",
    "    print(\"Cross-validated Confusion Matrix:\\n\", confusion_matrix(y_train, y_pred_cv))\n",
    "    \n",
    "    # classification report and confusion matrix for test data \n",
    "    print(\"\\nTest Data Classification Report:\\n\", classification_report(y_test, y_pred))\n",
    "    print(\"Test Data Confusion Matrix:\\n\", confusion_matrix(y_test, y_pred))"
   ]
  },
  {
   "cell_type": "code",
   "execution_count": 268,
   "metadata": {},
   "outputs": [
    {
     "data": {
      "text/plain": [
       "((168,), (168,))"
      ]
     },
     "execution_count": 268,
     "metadata": {},
     "output_type": "execute_result"
    }
   ],
   "source": [
    "y_train.asd.shape, X_train.new_text.shape\n"
   ]
  },
  {
   "cell_type": "code",
   "execution_count": 269,
   "metadata": {},
   "outputs": [
    {
     "name": "stdout",
     "output_type": "stream",
     "text": [
      "CountVectorizer()\n",
      "CountVectorizer() KNeighborsClassifier()\n",
      "Cross-validated Classification Report:\n",
      "               precision    recall  f1-score   support\n",
      "\n",
      "           0       0.95      0.53      0.68        78\n",
      "           1       0.70      0.98      0.82        90\n",
      "\n",
      "    accuracy                           0.77       168\n",
      "   macro avg       0.83      0.75      0.75       168\n",
      "weighted avg       0.82      0.77      0.75       168\n",
      "\n",
      "Cross-validated Confusion Matrix:\n",
      " [[41 37]\n",
      " [ 2 88]]\n",
      "\n",
      "Test Data Classification Report:\n",
      "               precision    recall  f1-score   support\n",
      "\n",
      "           0       1.00      0.53      0.69        19\n",
      "           1       0.72      1.00      0.84        23\n",
      "\n",
      "    accuracy                           0.79        42\n",
      "   macro avg       0.86      0.76      0.76        42\n",
      "weighted avg       0.85      0.79      0.77        42\n",
      "\n",
      "Test Data Confusion Matrix:\n",
      " [[10  9]\n",
      " [ 0 23]]\n",
      "CountVectorizer() MultinomialNB()\n",
      "Cross-validated Classification Report:\n",
      "               precision    recall  f1-score   support\n",
      "\n",
      "           0       0.94      0.87      0.91        78\n",
      "           1       0.90      0.96      0.92        90\n",
      "\n",
      "    accuracy                           0.92       168\n",
      "   macro avg       0.92      0.91      0.92       168\n",
      "weighted avg       0.92      0.92      0.92       168\n",
      "\n",
      "Cross-validated Confusion Matrix:\n",
      " [[68 10]\n",
      " [ 4 86]]\n",
      "\n",
      "Test Data Classification Report:\n",
      "               precision    recall  f1-score   support\n",
      "\n",
      "           0       0.94      0.79      0.86        19\n",
      "           1       0.85      0.96      0.90        23\n",
      "\n",
      "    accuracy                           0.88        42\n",
      "   macro avg       0.89      0.87      0.88        42\n",
      "weighted avg       0.89      0.88      0.88        42\n",
      "\n",
      "Test Data Confusion Matrix:\n",
      " [[15  4]\n",
      " [ 1 22]]\n",
      "CountVectorizer() RandomForestClassifier()\n",
      "Cross-validated Classification Report:\n",
      "               precision    recall  f1-score   support\n",
      "\n",
      "           0       0.91      0.77      0.83        78\n",
      "           1       0.82      0.93      0.87        90\n",
      "\n",
      "    accuracy                           0.86       168\n",
      "   macro avg       0.87      0.85      0.85       168\n",
      "weighted avg       0.86      0.86      0.86       168\n",
      "\n",
      "Cross-validated Confusion Matrix:\n",
      " [[60 18]\n",
      " [ 6 84]]\n",
      "\n",
      "Test Data Classification Report:\n",
      "               precision    recall  f1-score   support\n",
      "\n",
      "           0       0.87      0.68      0.76        19\n",
      "           1       0.78      0.91      0.84        23\n",
      "\n",
      "    accuracy                           0.81        42\n",
      "   macro avg       0.82      0.80      0.80        42\n",
      "weighted avg       0.82      0.81      0.81        42\n",
      "\n",
      "Test Data Confusion Matrix:\n",
      " [[13  6]\n",
      " [ 2 21]]\n",
      "CountVectorizer() SVC(kernel='linear')\n",
      "Cross-validated Classification Report:\n",
      "               precision    recall  f1-score   support\n",
      "\n",
      "           0       0.91      0.79      0.85        78\n",
      "           1       0.84      0.93      0.88        90\n",
      "\n",
      "    accuracy                           0.87       168\n",
      "   macro avg       0.88      0.86      0.87       168\n",
      "weighted avg       0.87      0.87      0.87       168\n",
      "\n",
      "Cross-validated Confusion Matrix:\n",
      " [[62 16]\n",
      " [ 6 84]]\n",
      "\n",
      "Test Data Classification Report:\n",
      "               precision    recall  f1-score   support\n",
      "\n",
      "           0       1.00      0.63      0.77        19\n",
      "           1       0.77      1.00      0.87        23\n",
      "\n",
      "    accuracy                           0.83        42\n",
      "   macro avg       0.88      0.82      0.82        42\n",
      "weighted avg       0.87      0.83      0.83        42\n",
      "\n",
      "Test Data Confusion Matrix:\n",
      " [[12  7]\n",
      " [ 0 23]]\n",
      "CountVectorizer() SVC()\n",
      "Cross-validated Classification Report:\n",
      "               precision    recall  f1-score   support\n",
      "\n",
      "           0       0.93      0.67      0.78        78\n",
      "           1       0.77      0.96      0.85        90\n",
      "\n",
      "    accuracy                           0.82       168\n",
      "   macro avg       0.85      0.81      0.81       168\n",
      "weighted avg       0.84      0.82      0.82       168\n",
      "\n",
      "Cross-validated Confusion Matrix:\n",
      " [[52 26]\n",
      " [ 4 86]]\n",
      "\n",
      "Test Data Classification Report:\n",
      "               precision    recall  f1-score   support\n",
      "\n",
      "           0       0.92      0.63      0.75        19\n",
      "           1       0.76      0.96      0.85        23\n",
      "\n",
      "    accuracy                           0.81        42\n",
      "   macro avg       0.84      0.79      0.80        42\n",
      "weighted avg       0.83      0.81      0.80        42\n",
      "\n",
      "Test Data Confusion Matrix:\n",
      " [[12  7]\n",
      " [ 1 22]]\n",
      "\n",
      "TfidfVectorizer()\n",
      "TfidfVectorizer() KNeighborsClassifier()\n",
      "Cross-validated Classification Report:\n",
      "               precision    recall  f1-score   support\n",
      "\n",
      "           0       0.96      0.82      0.88        78\n",
      "           1       0.86      0.97      0.91        90\n",
      "\n",
      "    accuracy                           0.90       168\n",
      "   macro avg       0.91      0.89      0.90       168\n",
      "weighted avg       0.90      0.90      0.90       168\n",
      "\n",
      "Cross-validated Confusion Matrix:\n",
      " [[64 14]\n",
      " [ 3 87]]\n",
      "\n",
      "Test Data Classification Report:\n",
      "               precision    recall  f1-score   support\n",
      "\n",
      "           0       0.94      0.79      0.86        19\n",
      "           1       0.85      0.96      0.90        23\n",
      "\n",
      "    accuracy                           0.88        42\n",
      "   macro avg       0.89      0.87      0.88        42\n",
      "weighted avg       0.89      0.88      0.88        42\n",
      "\n",
      "Test Data Confusion Matrix:\n",
      " [[15  4]\n",
      " [ 1 22]]\n",
      "TfidfVectorizer() MultinomialNB()\n",
      "Cross-validated Classification Report:\n",
      "               precision    recall  f1-score   support\n",
      "\n",
      "           0       0.96      0.87      0.91        78\n",
      "           1       0.90      0.97      0.93        90\n",
      "\n",
      "    accuracy                           0.92       168\n",
      "   macro avg       0.93      0.92      0.92       168\n",
      "weighted avg       0.93      0.92      0.92       168\n",
      "\n",
      "Cross-validated Confusion Matrix:\n",
      " [[68 10]\n",
      " [ 3 87]]\n",
      "\n",
      "Test Data Classification Report:\n",
      "               precision    recall  f1-score   support\n",
      "\n",
      "           0       0.94      0.79      0.86        19\n",
      "           1       0.85      0.96      0.90        23\n",
      "\n",
      "    accuracy                           0.88        42\n",
      "   macro avg       0.89      0.87      0.88        42\n",
      "weighted avg       0.89      0.88      0.88        42\n",
      "\n",
      "Test Data Confusion Matrix:\n",
      " [[15  4]\n",
      " [ 1 22]]\n",
      "TfidfVectorizer() RandomForestClassifier()\n",
      "Cross-validated Classification Report:\n",
      "               precision    recall  f1-score   support\n",
      "\n",
      "           0       0.89      0.76      0.82        78\n",
      "           1       0.81      0.92      0.86        90\n",
      "\n",
      "    accuracy                           0.85       168\n",
      "   macro avg       0.85      0.84      0.84       168\n",
      "weighted avg       0.85      0.85      0.84       168\n",
      "\n",
      "Cross-validated Confusion Matrix:\n",
      " [[59 19]\n",
      " [ 7 83]]\n",
      "\n",
      "Test Data Classification Report:\n",
      "               precision    recall  f1-score   support\n",
      "\n",
      "           0       0.86      0.63      0.73        19\n",
      "           1       0.75      0.91      0.82        23\n",
      "\n",
      "    accuracy                           0.79        42\n",
      "   macro avg       0.80      0.77      0.78        42\n",
      "weighted avg       0.80      0.79      0.78        42\n",
      "\n",
      "Test Data Confusion Matrix:\n",
      " [[12  7]\n",
      " [ 2 21]]\n",
      "TfidfVectorizer() SVC(kernel='linear')\n",
      "Cross-validated Classification Report:\n",
      "               precision    recall  f1-score   support\n",
      "\n",
      "           0       0.96      0.92      0.94        78\n",
      "           1       0.94      0.97      0.95        90\n",
      "\n",
      "    accuracy                           0.95       168\n",
      "   macro avg       0.95      0.94      0.95       168\n",
      "weighted avg       0.95      0.95      0.95       168\n",
      "\n",
      "Cross-validated Confusion Matrix:\n",
      " [[72  6]\n",
      " [ 3 87]]\n",
      "\n",
      "Test Data Classification Report:\n",
      "               precision    recall  f1-score   support\n",
      "\n",
      "           0       1.00      0.84      0.91        19\n",
      "           1       0.88      1.00      0.94        23\n",
      "\n",
      "    accuracy                           0.93        42\n",
      "   macro avg       0.94      0.92      0.93        42\n",
      "weighted avg       0.94      0.93      0.93        42\n",
      "\n",
      "Test Data Confusion Matrix:\n",
      " [[16  3]\n",
      " [ 0 23]]\n",
      "TfidfVectorizer() SVC()\n",
      "Cross-validated Classification Report:\n",
      "               precision    recall  f1-score   support\n",
      "\n",
      "           0       0.96      0.87      0.91        78\n",
      "           1       0.90      0.97      0.93        90\n",
      "\n",
      "    accuracy                           0.92       168\n",
      "   macro avg       0.93      0.92      0.92       168\n",
      "weighted avg       0.93      0.92      0.92       168\n",
      "\n",
      "Cross-validated Confusion Matrix:\n",
      " [[68 10]\n",
      " [ 3 87]]\n",
      "\n",
      "Test Data Classification Report:\n",
      "               precision    recall  f1-score   support\n",
      "\n",
      "           0       1.00      0.79      0.88        19\n",
      "           1       0.85      1.00      0.92        23\n",
      "\n",
      "    accuracy                           0.90        42\n",
      "   macro avg       0.93      0.89      0.90        42\n",
      "weighted avg       0.92      0.90      0.90        42\n",
      "\n",
      "Test Data Confusion Matrix:\n",
      " [[15  4]\n",
      " [ 0 23]]\n",
      "\n"
     ]
    }
   ],
   "source": [
    "np.random.seed(7)\n",
    "vectorizers = [CountVectorizer(), TfidfVectorizer()]\n",
    "models = [KNeighborsClassifier(), MultinomialNB(), RandomForestClassifier(), SVC(kernel='linear'), SVC(kernel='rbf')]\n",
    "\n",
    "for v in vectorizers:\n",
    "    print(v)\n",
    "    for m in models:\n",
    "        print(v, m)\n",
    "        classify(v, m, X_train.new_text, y_train.asd, X_test.new_text, y_test.asd)\n",
    "    print()\n",
    "        "
   ]
  },
  {
   "cell_type": "markdown",
   "metadata": {},
   "source": [
    "Using a simple frequency word count vectorisation method (CountVectorizer) resulted in an accuracy ranging from 0.79 for the Random Forest and KNN models, to a maximum of 0.88 for the Multinomial Naive Bayse model. The predictions were improved, as expected, when using TF-IDF to vectorize the tokens ( this way frequent words, common to all the documents are given lower importance, and less common words are given more weight): the accuracy of the predictions ranges from 0.79 for the Random Forest model to  0.93 for the SVM with a linear kernel ( the rbf kernel gives a similar accuracy - 0.90 ... ) - how to tell which less likely to ovefit????"
   ]
  },
  {
   "cell_type": "code",
   "execution_count": null,
   "metadata": {},
   "outputs": [],
   "source": [
    "\n",
    "# to do : use fast text or word2vec + the classification models\n",
    "# to do : text classificatoin with RoBERTa - pytorch and transformers"
   ]
  }
 ],
 "metadata": {
  "kernelspec": {
   "display_name": "base",
   "language": "python",
   "name": "python3"
  },
  "language_info": {
   "codemirror_mode": {
    "name": "ipython",
    "version": 3
   },
   "file_extension": ".py",
   "mimetype": "text/x-python",
   "name": "python",
   "nbconvert_exporter": "python",
   "pygments_lexer": "ipython3",
   "version": "3.8.8"
  },
  "orig_nbformat": 4
 },
 "nbformat": 4,
 "nbformat_minor": 2
}
