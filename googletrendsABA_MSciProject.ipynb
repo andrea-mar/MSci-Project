{
  "cells": [
    {
      "cell_type": "code",
      "execution_count": 1,
      "metadata": {
        "colab": {
          "base_uri": "https://localhost:8080/"
        },
        "id": "0q2efgCk3pV2",
        "outputId": "ed1d517a-2471-4a24-e0f4-28905f203879"
      },
      "outputs": [
        {
          "name": "stdout",
          "output_type": "stream",
          "text": [
            "Collecting pytrends\n",
            "  Using cached pytrends-4.9.2-py3-none-any.whl (15 kB)\n",
            "Requirement already satisfied: lxml in /Users/andreeanistor/opt/anaconda3/lib/python3.8/site-packages (from pytrends) (4.6.3)\n",
            "Requirement already satisfied: pandas>=0.25 in /Users/andreeanistor/opt/anaconda3/lib/python3.8/site-packages (from pytrends) (1.2.5)\n",
            "Requirement already satisfied: requests>=2.0 in /Users/andreeanistor/opt/anaconda3/lib/python3.8/site-packages (from pytrends) (2.25.1)\n",
            "Requirement already satisfied: python-dateutil>=2.7.3 in /Users/andreeanistor/opt/anaconda3/lib/python3.8/site-packages (from pandas>=0.25->pytrends) (2.8.2)\n",
            "Requirement already satisfied: pytz>=2017.3 in /Users/andreeanistor/opt/anaconda3/lib/python3.8/site-packages (from pandas>=0.25->pytrends) (2021.1)\n",
            "Requirement already satisfied: numpy>=1.16.5 in /Users/andreeanistor/opt/anaconda3/lib/python3.8/site-packages (from pandas>=0.25->pytrends) (1.20.3)\n",
            "Requirement already satisfied: six>=1.5 in /Users/andreeanistor/opt/anaconda3/lib/python3.8/site-packages (from python-dateutil>=2.7.3->pandas>=0.25->pytrends) (1.16.0)\n",
            "Requirement already satisfied: chardet<5,>=3.0.2 in /Users/andreeanistor/opt/anaconda3/lib/python3.8/site-packages (from requests>=2.0->pytrends) (4.0.0)\n",
            "Requirement already satisfied: certifi>=2017.4.17 in /Users/andreeanistor/opt/anaconda3/lib/python3.8/site-packages (from requests>=2.0->pytrends) (2022.12.7)\n",
            "Requirement already satisfied: urllib3<1.27,>=1.21.1 in /Users/andreeanistor/opt/anaconda3/lib/python3.8/site-packages (from requests>=2.0->pytrends) (1.26.6)\n",
            "Requirement already satisfied: idna<3,>=2.5 in /Users/andreeanistor/opt/anaconda3/lib/python3.8/site-packages (from requests>=2.0->pytrends) (2.10)\n",
            "Installing collected packages: pytrends\n",
            "Successfully installed pytrends-4.9.2\n"
          ]
        }
      ],
      "source": [
        "!pip install pytrends"
      ]
    },
    {
      "cell_type": "code",
      "execution_count": 2,
      "metadata": {},
      "outputs": [
        {
          "name": "stdout",
          "output_type": "stream",
          "text": [
            "Requirement already satisfied: wheel in /Users/andreeanistor/opt/anaconda3/lib/python3.8/site-packages (0.36.2)\n"
          ]
        }
      ],
      "source": [
        "!pip3 install wheel"
      ]
    },
    {
      "cell_type": "code",
      "execution_count": 3,
      "metadata": {},
      "outputs": [
        {
          "name": "stdout",
          "output_type": "stream",
          "text": [
            "Requirement already satisfied: pandas in /Users/andreeanistor/opt/anaconda3/lib/python3.8/site-packages (1.2.5)\n",
            "Collecting pandas\n",
            "  Downloading pandas-2.0.3-cp38-cp38-macosx_10_9_x86_64.whl (11.7 MB)\n",
            "\u001b[K     |████████████████████████████████| 11.7 MB 5.2 MB/s eta 0:00:01\n",
            "\u001b[?25hRequirement already satisfied: numpy>=1.20.3 in /Users/andreeanistor/opt/anaconda3/lib/python3.8/site-packages (from pandas) (1.20.3)\n",
            "Requirement already satisfied: pytz>=2020.1 in /Users/andreeanistor/opt/anaconda3/lib/python3.8/site-packages (from pandas) (2021.1)\n",
            "Collecting tzdata>=2022.1\n",
            "  Using cached tzdata-2023.3-py2.py3-none-any.whl (341 kB)\n",
            "Requirement already satisfied: python-dateutil>=2.8.2 in /Users/andreeanistor/opt/anaconda3/lib/python3.8/site-packages (from pandas) (2.8.2)\n",
            "Requirement already satisfied: six>=1.5 in /Users/andreeanistor/opt/anaconda3/lib/python3.8/site-packages (from python-dateutil>=2.8.2->pandas) (1.16.0)\n",
            "Installing collected packages: tzdata, pandas\n",
            "  Attempting uninstall: pandas\n",
            "    Found existing installation: pandas 1.2.5\n",
            "    Uninstalling pandas-1.2.5:\n",
            "      Successfully uninstalled pandas-1.2.5\n",
            "Successfully installed pandas-2.0.3 tzdata-2023.3\n"
          ]
        }
      ],
      "source": [
        "!pip3 install pandas --upgrade"
      ]
    },
    {
      "cell_type": "code",
      "execution_count": 4,
      "metadata": {
        "colab": {
          "base_uri": "https://localhost:8080/"
        },
        "id": "mTNIYj7vpnob",
        "outputId": "5877e3b3-3098-4fa5-c4bb-73f6c70c83b8"
      },
      "outputs": [
        {
          "name": "stdout",
          "output_type": "stream",
          "text": [
            "Collecting git+https://github.com/GeneralMills/pytrends\n",
            "  Cloning https://github.com/GeneralMills/pytrends to /private/var/folders/tf/50mx1bq91j7gsfdlgc40j37r0000gn/T/pip-req-build-tsvkjme8\n",
            "  Running command git clone -q https://github.com/GeneralMills/pytrends /private/var/folders/tf/50mx1bq91j7gsfdlgc40j37r0000gn/T/pip-req-build-tsvkjme8\n",
            "  Installing build dependencies ... \u001b[?25ldone\n",
            "\u001b[?25h  Getting requirements to build wheel ... \u001b[?25ldone\n",
            "\u001b[?25h  Installing backend dependencies ... \u001b[?25ldone\n",
            "\u001b[?25h    Preparing wheel metadata ... \u001b[?25ldone\n",
            "\u001b[?25hRequirement already satisfied: pandas>=0.25 in /Users/andreeanistor/opt/anaconda3/lib/python3.8/site-packages (from pytrends==4.9.2) (2.0.3)\n",
            "Requirement already satisfied: requests>=2.0 in /Users/andreeanistor/opt/anaconda3/lib/python3.8/site-packages (from pytrends==4.9.2) (2.25.1)\n",
            "Requirement already satisfied: lxml in /Users/andreeanistor/opt/anaconda3/lib/python3.8/site-packages (from pytrends==4.9.2) (4.6.3)\n",
            "Requirement already satisfied: python-dateutil>=2.8.2 in /Users/andreeanistor/opt/anaconda3/lib/python3.8/site-packages (from pandas>=0.25->pytrends==4.9.2) (2.8.2)\n",
            "Requirement already satisfied: numpy>=1.20.3 in /Users/andreeanistor/opt/anaconda3/lib/python3.8/site-packages (from pandas>=0.25->pytrends==4.9.2) (1.20.3)\n",
            "Requirement already satisfied: tzdata>=2022.1 in /Users/andreeanistor/opt/anaconda3/lib/python3.8/site-packages (from pandas>=0.25->pytrends==4.9.2) (2023.3)\n",
            "Requirement already satisfied: pytz>=2020.1 in /Users/andreeanistor/opt/anaconda3/lib/python3.8/site-packages (from pandas>=0.25->pytrends==4.9.2) (2021.1)\n",
            "Requirement already satisfied: six>=1.5 in /Users/andreeanistor/opt/anaconda3/lib/python3.8/site-packages (from python-dateutil>=2.8.2->pandas>=0.25->pytrends==4.9.2) (1.16.0)\n",
            "Requirement already satisfied: urllib3<1.27,>=1.21.1 in /Users/andreeanistor/opt/anaconda3/lib/python3.8/site-packages (from requests>=2.0->pytrends==4.9.2) (1.26.6)\n",
            "Requirement already satisfied: chardet<5,>=3.0.2 in /Users/andreeanistor/opt/anaconda3/lib/python3.8/site-packages (from requests>=2.0->pytrends==4.9.2) (4.0.0)\n",
            "Requirement already satisfied: certifi>=2017.4.17 in /Users/andreeanistor/opt/anaconda3/lib/python3.8/site-packages (from requests>=2.0->pytrends==4.9.2) (2022.12.7)\n",
            "Requirement already satisfied: idna<3,>=2.5 in /Users/andreeanistor/opt/anaconda3/lib/python3.8/site-packages (from requests>=2.0->pytrends==4.9.2) (2.10)\n",
            "Building wheels for collected packages: pytrends\n",
            "  Building wheel for pytrends (PEP 517) ... \u001b[?25ldone\n",
            "\u001b[?25h  Created wheel for pytrends: filename=pytrends-4.9.2-py3-none-any.whl size=15499 sha256=2ca6024c9d1f16122b7a678fe111a719d269071cff9ca358c6929d4a61dae7fe\n",
            "  Stored in directory: /private/var/folders/tf/50mx1bq91j7gsfdlgc40j37r0000gn/T/pip-ephem-wheel-cache-a3u4mbmy/wheels/16/ff/41/df76076b615c3bc8c806e9f375bbccba902b4c66f0472d99b1\n",
            "Successfully built pytrends\n",
            "Installing collected packages: pytrends\n",
            "Successfully installed pytrends-4.9.2\n"
          ]
        }
      ],
      "source": [
        "!pip install --upgrade --user git+https://github.com/GeneralMills/pytrends"
      ]
    },
    {
      "cell_type": "code",
      "execution_count": 5,
      "metadata": {
        "id": "kKcLRkEDovCL"
      },
      "outputs": [],
      "source": [
        "import pandas as pd\n",
        "from pytrends.request import TrendReq\n",
        "import time\n",
        "import datetime\n",
        "from datetime import datetime, date, time"
      ]
    },
    {
      "cell_type": "markdown",
      "metadata": {
        "id": "dBzmXGJOFx8D"
      },
      "source": [
        "### Use pytrends to scrape google trends data - topic interests over the past 5 years\n",
        "\n",
        "Pytrends documentation: https://pypi.org/project/pytrends/#interest-over-time\n",
        "\n",
        "According to the Google Trends website <b>Interest over time (IOT)</b> = numbers represent search interest relative to the highest point on the chart for the given region and time. A value of 100 is the peak popularity of the term. A vlaue of 50 means that the term is half as popular. A score of 0 means there was not engouh data for this term. This 0 to 100 scale will be refered further as the trends index.\n",
        "\n",
        "Each point represents the interest over time for a given week.\n",
        "\n",
        "The region selected for the analysis is 'worldwide'.\n",
        "\n",
        "Topic queried: 'Applied behaviour analysis'.\n",
        "Date of query : 28/07/2023\n"
      ]
    },
    {
      "cell_type": "code",
      "execution_count": 6,
      "metadata": {
        "colab": {
          "base_uri": "https://localhost:8080/"
        },
        "id": "oTyZmM2jp2dI",
        "outputId": "78c0dc9f-6e3a-4fbd-b75d-b14475a0fab4"
      },
      "outputs": [
        {
          "name": "stderr",
          "output_type": "stream",
          "text": [
            "/Users/andreeanistor/opt/anaconda3/lib/python3.8/site-packages/urllib3/connectionpool.py:1013: InsecureRequestWarning: Unverified HTTPS request is being made to host 'trends.google.com'. Adding certificate verification is strongly advised. See: https://urllib3.readthedocs.io/en/1.26.x/advanced-usage.html#ssl-warnings\n",
            "  warnings.warn(\n"
          ]
        }
      ],
      "source": [
        "# pytrend = TrendReq()\n",
        "# time zone codes can be found: https://forbrains.co.uk/international_tools/earth_timezones\n",
        "# setting the timezone to BST does not change the results\n",
        "pytrend = TrendReq(hl='en-US', tz=60, retries=2, requests_args={'verify':False})"
      ]
    },
    {
      "cell_type": "code",
      "execution_count": 7,
      "metadata": {
        "colab": {
          "base_uri": "https://localhost:8080/"
        },
        "id": "BUJkk3F0p8LX",
        "outputId": "dc054fe5-ad0d-491c-d792-46ec558d5b4a"
      },
      "outputs": [
        {
          "name": "stderr",
          "output_type": "stream",
          "text": [
            "/Users/andreeanistor/opt/anaconda3/lib/python3.8/site-packages/urllib3/connectionpool.py:1013: InsecureRequestWarning: Unverified HTTPS request is being made to host 'trends.google.com'. Adding certificate verification is strongly advised. See: https://urllib3.readthedocs.io/en/1.26.x/advanced-usage.html#ssl-warnings\n",
            "  warnings.warn(\n"
          ]
        }
      ],
      "source": [
        "# # this will return different results from the the website because:\n",
        "# # https://stackoverflow.com/questions/59901790/why-is-data-downloaded-via-pytrends-drastically-different-from-using-the-google\n",
        "# pytrend.build_payload(kw_list=['Applied behavior analysis'], timeframe='today 5-y', geo='')\n",
        "\n",
        "# google trends uses FREEBASE ID for topic related searches. Applied Behavior Analysis FREEBAE ID = /m/05wf1w (https://www.wikidata.org/wiki/Q621607)\n",
        "# geo='' means the region is set to 'worldwide' (see pytrends documentation cited above)\n",
        "pytrend.build_payload(kw_list=['/m/05wf1w'], timeframe='today 5-y' , geo ='')"
      ]
    },
    {
      "cell_type": "code",
      "execution_count": 8,
      "metadata": {
        "colab": {
          "base_uri": "https://localhost:8080/"
        },
        "id": "0mlMiaROqGBk",
        "outputId": "43aa23be-6807-4918-8174-de95da188d26"
      },
      "outputs": [
        {
          "name": "stderr",
          "output_type": "stream",
          "text": [
            "/Users/andreeanistor/opt/anaconda3/lib/python3.8/site-packages/urllib3/connectionpool.py:1013: InsecureRequestWarning: Unverified HTTPS request is being made to host 'trends.google.com'. Adding certificate verification is strongly advised. See: https://urllib3.readthedocs.io/en/1.26.x/advanced-usage.html#ssl-warnings\n",
            "  warnings.warn(\n"
          ]
        },
        {
          "name": "stdout",
          "output_type": "stream",
          "text": [
            "<class 'pandas.core.frame.DataFrame'>\n",
            "DatetimeIndex: 260 entries, 2018-08-05 to 2023-07-23\n",
            "Data columns (total 2 columns):\n",
            " #   Column     Non-Null Count  Dtype\n",
            "---  ------     --------------  -----\n",
            " 0   /m/05wf1w  260 non-null    int64\n",
            " 1   isPartial  260 non-null    bool \n",
            "dtypes: bool(1), int64(1)\n",
            "memory usage: 4.3 KB\n"
          ]
        }
      ],
      "source": [
        "pytrends_iot_df = pytrend.interest_over_time()\n",
        "pytrends_iot_df.info()"
      ]
    },
    {
      "cell_type": "code",
      "execution_count": 9,
      "metadata": {
        "id": "Mtg5PM3cK1mR"
      },
      "outputs": [],
      "source": [
        "pytrends_iot_df = pytrends_iot_df.rename(columns={\"/m/05wf1w\": \"Applied behavior analysis\"})"
      ]
    },
    {
      "cell_type": "code",
      "execution_count": 10,
      "metadata": {
        "colab": {
          "base_uri": "https://localhost:8080/",
          "height": 237
        },
        "id": "xus1cbihq3aQ",
        "outputId": "c57d0b42-994f-4c00-cd8e-6dc9747f6594"
      },
      "outputs": [
        {
          "data": {
            "text/html": [
              "<div>\n",
              "<style scoped>\n",
              "    .dataframe tbody tr th:only-of-type {\n",
              "        vertical-align: middle;\n",
              "    }\n",
              "\n",
              "    .dataframe tbody tr th {\n",
              "        vertical-align: top;\n",
              "    }\n",
              "\n",
              "    .dataframe thead th {\n",
              "        text-align: right;\n",
              "    }\n",
              "</style>\n",
              "<table border=\"1\" class=\"dataframe\">\n",
              "  <thead>\n",
              "    <tr style=\"text-align: right;\">\n",
              "      <th></th>\n",
              "      <th>Applied behavior analysis</th>\n",
              "      <th>isPartial</th>\n",
              "    </tr>\n",
              "    <tr>\n",
              "      <th>date</th>\n",
              "      <th></th>\n",
              "      <th></th>\n",
              "    </tr>\n",
              "  </thead>\n",
              "  <tbody>\n",
              "    <tr>\n",
              "      <th>2018-08-05</th>\n",
              "      <td>55</td>\n",
              "      <td>False</td>\n",
              "    </tr>\n",
              "    <tr>\n",
              "      <th>2018-08-12</th>\n",
              "      <td>52</td>\n",
              "      <td>False</td>\n",
              "    </tr>\n",
              "    <tr>\n",
              "      <th>2018-08-19</th>\n",
              "      <td>54</td>\n",
              "      <td>False</td>\n",
              "    </tr>\n",
              "    <tr>\n",
              "      <th>2018-08-26</th>\n",
              "      <td>61</td>\n",
              "      <td>False</td>\n",
              "    </tr>\n",
              "    <tr>\n",
              "      <th>2018-09-02</th>\n",
              "      <td>57</td>\n",
              "      <td>False</td>\n",
              "    </tr>\n",
              "  </tbody>\n",
              "</table>\n",
              "</div>"
            ],
            "text/plain": [
              "            Applied behavior analysis  isPartial\n",
              "date                                            \n",
              "2018-08-05                         55      False\n",
              "2018-08-12                         52      False\n",
              "2018-08-19                         54      False\n",
              "2018-08-26                         61      False\n",
              "2018-09-02                         57      False"
            ]
          },
          "execution_count": 10,
          "metadata": {},
          "output_type": "execute_result"
        }
      ],
      "source": [
        "pytrends_iot_df.head()"
      ]
    },
    {
      "cell_type": "code",
      "execution_count": 77,
      "metadata": {
        "colab": {
          "base_uri": "https://localhost:8080/",
          "height": 249
        },
        "id": "3vumU4kz0DRh",
        "outputId": "23c19c9b-9f1f-4f37-9881-3e27b3721973"
      },
      "outputs": [
        {
          "data": {
            "text/plain": [
              "(0.0, 120.0)"
            ]
          },
          "execution_count": 77,
          "metadata": {},
          "output_type": "execute_result"
        },
        {
          "data": {
            "image/png": "[encoded data removed]",
            "text/plain": [
              "<Figure size 2160x432 with 1 Axes>"
            ]
          },
          "metadata": {},
          "output_type": "display_data"
        }
      ],
      "source": [
        "# visualise IOT\n",
        "import matplotlib.pyplot as plt\n",
        "import seaborn as sns\n",
        "\n",
        "sns.set(color_codes='true')\n",
        "dx = pytrends_iot_df.plot.line(figsize= (30,6), title=(\"Interest Over Time\"))\n",
        "dx.set_xlabel('Date')\n",
        "dx.set_ylabel('Trends Index')\n",
        "# set the max y limit to 120 for better visualisation\n",
        "plt.ylim(0, 120) "
      ]
    },
    {
      "cell_type": "markdown",
      "metadata": {
        "id": "471Gwv4WL3QH"
      },
      "source": [
        "### Use Google Trends website data - topic interest over the past 5 years\n",
        "The following represents the same analysis as above except the data has been manually downloaded from Google's website (https://trends.google.com/trends/explore?date=today%205-y&q=%2Fm%2F05wf1w&hl=en)\n",
        "\n",
        "Date of query : 28/07/2023\n",
        "\n",
        "\n",
        "\n"
      ]
    },
    {
      "cell_type": "code",
      "execution_count": 13,
      "metadata": {
        "colab": {
          "base_uri": "https://localhost:8080/",
          "height": 206
        },
        "id": "9Fx47Vz5AFyd",
        "outputId": "4db6e835-fef1-45b8-d695-0620b189dcd7"
      },
      "outputs": [
        {
          "data": {
            "text/html": [
              "<div>\n",
              "<style scoped>\n",
              "    .dataframe tbody tr th:only-of-type {\n",
              "        vertical-align: middle;\n",
              "    }\n",
              "\n",
              "    .dataframe tbody tr th {\n",
              "        vertical-align: top;\n",
              "    }\n",
              "\n",
              "    .dataframe thead th {\n",
              "        text-align: right;\n",
              "    }\n",
              "</style>\n",
              "<table border=\"1\" class=\"dataframe\">\n",
              "  <thead>\n",
              "    <tr style=\"text-align: right;\">\n",
              "      <th></th>\n",
              "      <th>Category: All categories</th>\n",
              "      <th>Unnamed: 1</th>\n",
              "    </tr>\n",
              "  </thead>\n",
              "  <tbody>\n",
              "    <tr>\n",
              "      <th>0</th>\n",
              "      <td>NaN</td>\n",
              "      <td>NaN</td>\n",
              "    </tr>\n",
              "    <tr>\n",
              "      <th>1</th>\n",
              "      <td>Week</td>\n",
              "      <td>Applied behavior analysis: (Worldwide)</td>\n",
              "    </tr>\n",
              "    <tr>\n",
              "      <th>2</th>\n",
              "      <td>2018-07-29</td>\n",
              "      <td>56</td>\n",
              "    </tr>\n",
              "    <tr>\n",
              "      <th>3</th>\n",
              "      <td>2018-08-05</td>\n",
              "      <td>54</td>\n",
              "    </tr>\n",
              "    <tr>\n",
              "      <th>4</th>\n",
              "      <td>2018-08-12</td>\n",
              "      <td>52</td>\n",
              "    </tr>\n",
              "  </tbody>\n",
              "</table>\n",
              "</div>"
            ],
            "text/plain": [
              "  Category: All categories                              Unnamed: 1\n",
              "0                      NaN                                     NaN\n",
              "1                     Week  Applied behavior analysis: (Worldwide)\n",
              "2               2018-07-29                                      56\n",
              "3               2018-08-05                                      54\n",
              "4               2018-08-12                                      52"
            ]
          },
          "execution_count": 13,
          "metadata": {},
          "output_type": "execute_result"
        }
      ],
      "source": [
        "# read the data\n",
        "site_df = pd.read_csv('ABA google trends/global/GTweb_iot_worldwide.csv')\n",
        "site_df.head()"
      ]
    },
    {
      "cell_type": "code",
      "execution_count": 14,
      "metadata": {
        "colab": {
          "base_uri": "https://localhost:8080/",
          "height": 206
        },
        "id": "r7NhKJ8GBBr2",
        "outputId": "476a17bc-8342-4784-e528-c9309f8e673f"
      },
      "outputs": [
        {
          "data": {
            "text/html": [
              "<div>\n",
              "<style scoped>\n",
              "    .dataframe tbody tr th:only-of-type {\n",
              "        vertical-align: middle;\n",
              "    }\n",
              "\n",
              "    .dataframe tbody tr th {\n",
              "        vertical-align: top;\n",
              "    }\n",
              "\n",
              "    .dataframe thead th {\n",
              "        text-align: right;\n",
              "    }\n",
              "</style>\n",
              "<table border=\"1\" class=\"dataframe\">\n",
              "  <thead>\n",
              "    <tr style=\"text-align: right;\">\n",
              "      <th>1</th>\n",
              "      <th>Week</th>\n",
              "      <th>Applied behavior analysis: (Worldwide)</th>\n",
              "    </tr>\n",
              "  </thead>\n",
              "  <tbody>\n",
              "    <tr>\n",
              "      <th>0</th>\n",
              "      <td>NaN</td>\n",
              "      <td>NaN</td>\n",
              "    </tr>\n",
              "    <tr>\n",
              "      <th>1</th>\n",
              "      <td>Week</td>\n",
              "      <td>Applied behavior analysis: (Worldwide)</td>\n",
              "    </tr>\n",
              "    <tr>\n",
              "      <th>2</th>\n",
              "      <td>2018-07-29</td>\n",
              "      <td>56</td>\n",
              "    </tr>\n",
              "    <tr>\n",
              "      <th>3</th>\n",
              "      <td>2018-08-05</td>\n",
              "      <td>54</td>\n",
              "    </tr>\n",
              "    <tr>\n",
              "      <th>4</th>\n",
              "      <td>2018-08-12</td>\n",
              "      <td>52</td>\n",
              "    </tr>\n",
              "  </tbody>\n",
              "</table>\n",
              "</div>"
            ],
            "text/plain": [
              "1        Week  Applied behavior analysis: (Worldwide)\n",
              "0         NaN                                     NaN\n",
              "1        Week  Applied behavior analysis: (Worldwide)\n",
              "2  2018-07-29                                      56\n",
              "3  2018-08-05                                      54\n",
              "4  2018-08-12                                      52"
            ]
          },
          "execution_count": 14,
          "metadata": {},
          "output_type": "execute_result"
        }
      ],
      "source": [
        "# rename the columns with the correct lables\n",
        "site_df.columns = site_df.iloc[1]\n",
        "site_df.head()"
      ]
    },
    {
      "cell_type": "code",
      "execution_count": 15,
      "metadata": {
        "colab": {
          "base_uri": "https://localhost:8080/",
          "height": 206
        },
        "id": "74LiRj-fAqXo",
        "outputId": "2b2d1661-ef89-4b1a-b757-719046df7ebd"
      },
      "outputs": [
        {
          "data": {
            "text/html": [
              "<div>\n",
              "<style scoped>\n",
              "    .dataframe tbody tr th:only-of-type {\n",
              "        vertical-align: middle;\n",
              "    }\n",
              "\n",
              "    .dataframe tbody tr th {\n",
              "        vertical-align: top;\n",
              "    }\n",
              "\n",
              "    .dataframe thead th {\n",
              "        text-align: right;\n",
              "    }\n",
              "</style>\n",
              "<table border=\"1\" class=\"dataframe\">\n",
              "  <thead>\n",
              "    <tr style=\"text-align: right;\">\n",
              "      <th>1</th>\n",
              "      <th>Week</th>\n",
              "      <th>Applied behavior analysis: (Worldwide)</th>\n",
              "    </tr>\n",
              "  </thead>\n",
              "  <tbody>\n",
              "    <tr>\n",
              "      <th>2</th>\n",
              "      <td>2018-07-29</td>\n",
              "      <td>56</td>\n",
              "    </tr>\n",
              "    <tr>\n",
              "      <th>3</th>\n",
              "      <td>2018-08-05</td>\n",
              "      <td>54</td>\n",
              "    </tr>\n",
              "    <tr>\n",
              "      <th>4</th>\n",
              "      <td>2018-08-12</td>\n",
              "      <td>52</td>\n",
              "    </tr>\n",
              "    <tr>\n",
              "      <th>5</th>\n",
              "      <td>2018-08-19</td>\n",
              "      <td>54</td>\n",
              "    </tr>\n",
              "    <tr>\n",
              "      <th>6</th>\n",
              "      <td>2018-08-26</td>\n",
              "      <td>60</td>\n",
              "    </tr>\n",
              "  </tbody>\n",
              "</table>\n",
              "</div>"
            ],
            "text/plain": [
              "1        Week Applied behavior analysis: (Worldwide)\n",
              "2  2018-07-29                                     56\n",
              "3  2018-08-05                                     54\n",
              "4  2018-08-12                                     52\n",
              "5  2018-08-19                                     54\n",
              "6  2018-08-26                                     60"
            ]
          },
          "execution_count": 15,
          "metadata": {},
          "output_type": "execute_result"
        }
      ],
      "source": [
        "# remove the first 2 rows on the data set - first row was an empty row and the second row contained the columns lables\n",
        "site_df = site_df.tail(-2)\n",
        "site_df.head()"
      ]
    },
    {
      "cell_type": "code",
      "execution_count": 16,
      "metadata": {
        "colab": {
          "base_uri": "https://localhost:8080/"
        },
        "id": "EXt07wA3Bo39",
        "outputId": "6dc3d1bb-a56a-4c3e-ad05-bc9ad4c9a675"
      },
      "outputs": [
        {
          "name": "stdout",
          "output_type": "stream",
          "text": [
            "<class 'pandas.core.frame.DataFrame'>\n",
            "RangeIndex: 261 entries, 2 to 262\n",
            "Data columns (total 2 columns):\n",
            " #   Column                                  Non-Null Count  Dtype \n",
            "---  ------                                  --------------  ----- \n",
            " 0   Week                                    261 non-null    object\n",
            " 1   Applied behavior analysis: (Worldwide)  261 non-null    object\n",
            "dtypes: object(2)\n",
            "memory usage: 4.2+ KB\n"
          ]
        }
      ],
      "source": [
        "# trends index for Applied behavior analysis is stored as a string/object value\n",
        "# week date is stored as a string/object value\n",
        "site_df.info()"
      ]
    },
    {
      "cell_type": "code",
      "execution_count": 17,
      "metadata": {
        "id": "RQ0YM-caB5YI"
      },
      "outputs": [],
      "source": [
        "# change type of Trends index for Applied behavior analysis from object to int\n",
        "site_df = site_df.astype({'Applied behavior analysis: (Worldwide)':'int'})\n",
        "# change the type of week date data from object to datetime\n",
        "site_df['Week'] = pd.to_datetime(site_df['Week'])"
      ]
    },
    {
      "cell_type": "code",
      "execution_count": 18,
      "metadata": {
        "colab": {
          "base_uri": "https://localhost:8080/"
        },
        "id": "5KkbyxgECAAF",
        "outputId": "8aea2421-556a-48d0-9c2d-457ac0a04233"
      },
      "outputs": [
        {
          "name": "stdout",
          "output_type": "stream",
          "text": [
            "<class 'pandas.core.frame.DataFrame'>\n",
            "RangeIndex: 261 entries, 2 to 262\n",
            "Data columns (total 2 columns):\n",
            " #   Column                                  Non-Null Count  Dtype         \n",
            "---  ------                                  --------------  -----         \n",
            " 0   Week                                    261 non-null    datetime64[ns]\n",
            " 1   Applied behavior analysis: (Worldwide)  261 non-null    int64         \n",
            "dtypes: datetime64[ns](1), int64(1)\n",
            "memory usage: 4.2 KB\n"
          ]
        }
      ],
      "source": [
        "site_df.info()"
      ]
    },
    {
      "cell_type": "code",
      "execution_count": 123,
      "metadata": {
        "colab": {
          "base_uri": "https://localhost:8080/",
          "height": 249
        },
        "id": "37vDNJuOBcQD",
        "outputId": "8c3ee572-6e4f-4049-fe1f-efd1f902a887"
      },
      "outputs": [
        {
          "data": {
            "text/plain": [
              "(0.0, 120.0)"
            ]
          },
          "execution_count": 123,
          "metadata": {},
          "output_type": "execute_result"
        },
        {
          "data": {
            "image/png": "[encoded data removed]",
            "text/plain": [
              "<Figure size 2160x432 with 1 Axes>"
            ]
          },
          "metadata": {},
          "output_type": "display_data"
        }
      ],
      "source": [
        "# visualize IOT\n",
        "site_df = site_df.set_index(site_df['Week'])\n",
        "dx = site_df['Applied behavior analysis: (Worldwide)'].plot.line(figsize=(30,6), title=(\"ABA Interest Over Time Global\"))\n",
        "dx.set_xlabel('Date')\n",
        "dx.set_ylabel('Trends Index')\n",
        "plt.ylim(0, 120) "
      ]
    },
    {
      "cell_type": "markdown",
      "metadata": {
        "id": "YLLtsMlZCjqK"
      },
      "source": [
        "The above code shows discrepancies between the data obtained via pytrends vs. via google's official website. I have failed to find the explanation for why this is the case - apparently the data proivded when making calls as legit-user vs scraper is different (https://stackoverflow.com/questions/73988220/why-google-retrieves-different-info-to-scrapers). Google Trends does not have an official API and thus reliability on 3rd party scraping tools can result in questionalble data. I have thus decided to manually download the data from google'e website direclty - the amount of data sets is small and thus this process is faster than to try to figure out a reliable and efficient method of scraping google trends data (this is out of the scope of the current project)."
      ]
    },
    {
      "cell_type": "markdown",
      "metadata": {
        "id": "b4qo9vmOVnCK"
      },
      "source": [
        "## Google trends data for queries related to the topic: Applied Behaviour Analysis\n",
        "\n",
        "Date of query : 28/07/2023\n",
        "Time frame: past 5 years\n",
        "\n",
        "Data sets obtained:\n",
        "1. IOT worldwide - analysis provided above\n",
        "2. Interest by region (Country) worldwide\n",
        "3. Related topics - worldwide\n",
        "4. Related queries - worldwide\n",
        "\n",
        "5. IOT - UK\n",
        "6. Interest by region (Country) UK\n",
        "7. Related topics - UK\n",
        "8. Related queries - UK"
      ]
    },
    {
      "cell_type": "markdown",
      "metadata": {
        "id": "xMekRY7VX4or"
      },
      "source": [
        "### Interest by region (Country) worldwide\n"
      ]
    },
    {
      "cell_type": "code",
      "execution_count": 24,
      "metadata": {
        "colab": {
          "base_uri": "https://localhost:8080/",
          "height": 206
        },
        "id": "V7EXkRtEYp0N",
        "outputId": "0c1060b3-55ec-4130-f4d5-4ed936c20bd9"
      },
      "outputs": [
        {
          "data": {
            "text/html": [
              "<div>\n",
              "<style scoped>\n",
              "    .dataframe tbody tr th:only-of-type {\n",
              "        vertical-align: middle;\n",
              "    }\n",
              "\n",
              "    .dataframe tbody tr th {\n",
              "        vertical-align: top;\n",
              "    }\n",
              "\n",
              "    .dataframe thead th {\n",
              "        text-align: right;\n",
              "    }\n",
              "</style>\n",
              "<table border=\"1\" class=\"dataframe\">\n",
              "  <thead>\n",
              "    <tr style=\"text-align: right;\">\n",
              "      <th></th>\n",
              "      <th>Category: All categories</th>\n",
              "    </tr>\n",
              "  </thead>\n",
              "  <tbody>\n",
              "    <tr>\n",
              "      <th>Country</th>\n",
              "      <td>Applied behavior analysis: (7/28/18 - 7/28/23)</td>\n",
              "    </tr>\n",
              "    <tr>\n",
              "      <th>Uganda</th>\n",
              "      <td>100</td>\n",
              "    </tr>\n",
              "    <tr>\n",
              "      <th>Cambodia</th>\n",
              "      <td>63</td>\n",
              "    </tr>\n",
              "    <tr>\n",
              "      <th>Nigeria</th>\n",
              "      <td>32</td>\n",
              "    </tr>\n",
              "    <tr>\n",
              "      <th>Cayman Islands</th>\n",
              "      <td>NaN</td>\n",
              "    </tr>\n",
              "  </tbody>\n",
              "</table>\n",
              "</div>"
            ],
            "text/plain": [
              "                                      Category: All categories\n",
              "Country         Applied behavior analysis: (7/28/18 - 7/28/23)\n",
              "Uganda                                                     100\n",
              "Cambodia                                                    63\n",
              "Nigeria                                                     32\n",
              "Cayman Islands                                             NaN"
            ]
          },
          "execution_count": 24,
          "metadata": {},
          "output_type": "execute_result"
        }
      ],
      "source": [
        "# read file -> we observe there is missing data\n",
        "ibr_world_df = pd.read_csv('ABA google trends/global/geoMap_global.csv')\n",
        "ibr_world_df.head()"
      ]
    },
    {
      "cell_type": "code",
      "execution_count": 25,
      "metadata": {
        "colab": {
          "base_uri": "https://localhost:8080/",
          "height": 206
        },
        "id": "CmjAztklFao8",
        "outputId": "43844b1a-80ac-4c99-c498-1529d699e8f9"
      },
      "outputs": [
        {
          "data": {
            "text/html": [
              "<div>\n",
              "<style scoped>\n",
              "    .dataframe tbody tr th:only-of-type {\n",
              "        vertical-align: middle;\n",
              "    }\n",
              "\n",
              "    .dataframe tbody tr th {\n",
              "        vertical-align: top;\n",
              "    }\n",
              "\n",
              "    .dataframe thead th {\n",
              "        text-align: right;\n",
              "    }\n",
              "</style>\n",
              "<table border=\"1\" class=\"dataframe\">\n",
              "  <thead>\n",
              "    <tr style=\"text-align: right;\">\n",
              "      <th>Country</th>\n",
              "      <th>Applied behavior analysis: (7/28/18 - 7/28/23)</th>\n",
              "    </tr>\n",
              "  </thead>\n",
              "  <tbody>\n",
              "    <tr>\n",
              "      <th>Country</th>\n",
              "      <td>Applied behavior analysis: (7/28/18 - 7/28/23)</td>\n",
              "    </tr>\n",
              "    <tr>\n",
              "      <th>Uganda</th>\n",
              "      <td>100</td>\n",
              "    </tr>\n",
              "    <tr>\n",
              "      <th>Cambodia</th>\n",
              "      <td>63</td>\n",
              "    </tr>\n",
              "    <tr>\n",
              "      <th>Nigeria</th>\n",
              "      <td>32</td>\n",
              "    </tr>\n",
              "    <tr>\n",
              "      <th>Cayman Islands</th>\n",
              "      <td>NaN</td>\n",
              "    </tr>\n",
              "  </tbody>\n",
              "</table>\n",
              "</div>"
            ],
            "text/plain": [
              "Country         Applied behavior analysis: (7/28/18 - 7/28/23)\n",
              "Country         Applied behavior analysis: (7/28/18 - 7/28/23)\n",
              "Uganda                                                     100\n",
              "Cambodia                                                    63\n",
              "Nigeria                                                     32\n",
              "Cayman Islands                                             NaN"
            ]
          },
          "execution_count": 25,
          "metadata": {},
          "output_type": "execute_result"
        }
      ],
      "source": [
        "# rename the columns with the correct lables\n",
        "ibr_world_df.columns = ibr_world_df.iloc[0]\n",
        "ibr_world_df.head()"
      ]
    },
    {
      "cell_type": "code",
      "execution_count": 26,
      "metadata": {
        "colab": {
          "base_uri": "https://localhost:8080/",
          "height": 206
        },
        "id": "DfO7rNy1GhhI",
        "outputId": "e77c246d-4ef9-42f4-a1d3-dfe6fd790b1d"
      },
      "outputs": [
        {
          "data": {
            "text/html": [
              "<div>\n",
              "<style scoped>\n",
              "    .dataframe tbody tr th:only-of-type {\n",
              "        vertical-align: middle;\n",
              "    }\n",
              "\n",
              "    .dataframe tbody tr th {\n",
              "        vertical-align: top;\n",
              "    }\n",
              "\n",
              "    .dataframe thead th {\n",
              "        text-align: right;\n",
              "    }\n",
              "</style>\n",
              "<table border=\"1\" class=\"dataframe\">\n",
              "  <thead>\n",
              "    <tr style=\"text-align: right;\">\n",
              "      <th>Country</th>\n",
              "      <th>Applied behavior analysis: (7/28/18 - 7/28/23)</th>\n",
              "    </tr>\n",
              "  </thead>\n",
              "  <tbody>\n",
              "    <tr>\n",
              "      <th>Uganda</th>\n",
              "      <td>100</td>\n",
              "    </tr>\n",
              "    <tr>\n",
              "      <th>Cambodia</th>\n",
              "      <td>63</td>\n",
              "    </tr>\n",
              "    <tr>\n",
              "      <th>Nigeria</th>\n",
              "      <td>32</td>\n",
              "    </tr>\n",
              "    <tr>\n",
              "      <th>Cayman Islands</th>\n",
              "      <td>NaN</td>\n",
              "    </tr>\n",
              "    <tr>\n",
              "      <th>United States</th>\n",
              "      <td>26</td>\n",
              "    </tr>\n",
              "  </tbody>\n",
              "</table>\n",
              "</div>"
            ],
            "text/plain": [
              "Country        Applied behavior analysis: (7/28/18 - 7/28/23)\n",
              "Uganda                                                    100\n",
              "Cambodia                                                   63\n",
              "Nigeria                                                    32\n",
              "Cayman Islands                                            NaN\n",
              "United States                                              26"
            ]
          },
          "execution_count": 26,
          "metadata": {},
          "output_type": "execute_result"
        }
      ],
      "source": [
        "# remove first row\n",
        "ibr_world_df = ibr_world_df.tail(-1)\n",
        "ibr_world_df.head()"
      ]
    },
    {
      "cell_type": "code",
      "execution_count": 27,
      "metadata": {
        "colab": {
          "base_uri": "https://localhost:8080/",
          "height": 206
        },
        "id": "xXS_0PBzHUiy",
        "outputId": "3cfee3f4-2c0c-4c3d-efb0-e35f503ccb9b"
      },
      "outputs": [
        {
          "data": {
            "text/html": [
              "<div>\n",
              "<style scoped>\n",
              "    .dataframe tbody tr th:only-of-type {\n",
              "        vertical-align: middle;\n",
              "    }\n",
              "\n",
              "    .dataframe tbody tr th {\n",
              "        vertical-align: top;\n",
              "    }\n",
              "\n",
              "    .dataframe thead th {\n",
              "        text-align: right;\n",
              "    }\n",
              "</style>\n",
              "<table border=\"1\" class=\"dataframe\">\n",
              "  <thead>\n",
              "    <tr style=\"text-align: right;\">\n",
              "      <th>Country</th>\n",
              "      <th>Applied behavior analysis: (7/28/18 - 7/28/23)</th>\n",
              "    </tr>\n",
              "  </thead>\n",
              "  <tbody>\n",
              "    <tr>\n",
              "      <th>Uganda</th>\n",
              "      <td>100</td>\n",
              "    </tr>\n",
              "    <tr>\n",
              "      <th>Cambodia</th>\n",
              "      <td>63</td>\n",
              "    </tr>\n",
              "    <tr>\n",
              "      <th>Nigeria</th>\n",
              "      <td>32</td>\n",
              "    </tr>\n",
              "    <tr>\n",
              "      <th>Cayman Islands</th>\n",
              "      <td>0</td>\n",
              "    </tr>\n",
              "    <tr>\n",
              "      <th>United States</th>\n",
              "      <td>26</td>\n",
              "    </tr>\n",
              "  </tbody>\n",
              "</table>\n",
              "</div>"
            ],
            "text/plain": [
              "Country        Applied behavior analysis: (7/28/18 - 7/28/23)\n",
              "Uganda                                                    100\n",
              "Cambodia                                                   63\n",
              "Nigeria                                                    32\n",
              "Cayman Islands                                              0\n",
              "United States                                              26"
            ]
          },
          "execution_count": 27,
          "metadata": {},
          "output_type": "execute_result"
        }
      ],
      "source": [
        "# set all NaN values to 0 (= no google trends data for that entry)\n",
        "ibr_world_df['Applied behavior analysis: (7/28/18 - 7/28/23)'] = ibr_world_df['Applied behavior analysis: (7/28/18 - 7/28/23)'].fillna(0)\n",
        "ibr_world_df.head()"
      ]
    },
    {
      "cell_type": "code",
      "execution_count": 28,
      "metadata": {
        "colab": {
          "base_uri": "https://localhost:8080/"
        },
        "id": "i2jTF1SlGpCa",
        "outputId": "3219e9df-8ea9-48e9-ec06-a39ee750e488"
      },
      "outputs": [
        {
          "name": "stdout",
          "output_type": "stream",
          "text": [
            "<class 'pandas.core.frame.DataFrame'>\n",
            "Index: 250 entries, Uganda to Samoa\n",
            "Data columns (total 1 columns):\n",
            " #   Column                                          Non-Null Count  Dtype \n",
            "---  ------                                          --------------  ----- \n",
            " 0   Applied behavior analysis: (7/28/18 - 7/28/23)  250 non-null    object\n",
            "dtypes: object(1)\n",
            "memory usage: 3.9+ KB\n"
          ]
        }
      ],
      "source": [
        "ibr_world_df.info()"
      ]
    },
    {
      "cell_type": "code",
      "execution_count": 29,
      "metadata": {
        "colab": {
          "base_uri": "https://localhost:8080/"
        },
        "id": "koeu4Yo7G5BU",
        "outputId": "8b83c409-fc46-4ec6-e922-3e1ba6e097a9"
      },
      "outputs": [
        {
          "name": "stdout",
          "output_type": "stream",
          "text": [
            "<class 'pandas.core.frame.DataFrame'>\n",
            "Index: 250 entries, Uganda to Samoa\n",
            "Data columns (total 1 columns):\n",
            " #   Column                                          Non-Null Count  Dtype\n",
            "---  ------                                          --------------  -----\n",
            " 0   Applied behavior analysis: (7/28/18 - 7/28/23)  250 non-null    int64\n",
            "dtypes: int64(1)\n",
            "memory usage: 3.9+ KB\n"
          ]
        }
      ],
      "source": [
        "# change type of Trends index for Applied behavior analysis from object to int\n",
        "ibr_world_df = ibr_world_df.astype({'Applied behavior analysis: (7/28/18 - 7/28/23)':'int'})\n",
        "ibr_world_df.info()"
      ]
    },
    {
      "cell_type": "code",
      "execution_count": 30,
      "metadata": {
        "colab": {
          "base_uri": "https://localhost:8080/",
          "height": 362
        },
        "id": "TPKLaBdqH-eq",
        "outputId": "5bc53b15-9a2a-4785-d043-d417e675bb4c"
      },
      "outputs": [
        {
          "data": {
            "text/html": [
              "<div>\n",
              "<style scoped>\n",
              "    .dataframe tbody tr th:only-of-type {\n",
              "        vertical-align: middle;\n",
              "    }\n",
              "\n",
              "    .dataframe tbody tr th {\n",
              "        vertical-align: top;\n",
              "    }\n",
              "\n",
              "    .dataframe thead th {\n",
              "        text-align: right;\n",
              "    }\n",
              "</style>\n",
              "<table border=\"1\" class=\"dataframe\">\n",
              "  <thead>\n",
              "    <tr style=\"text-align: right;\">\n",
              "      <th>Country</th>\n",
              "      <th>Applied behavior analysis: (7/28/18 - 7/28/23)</th>\n",
              "    </tr>\n",
              "  </thead>\n",
              "  <tbody>\n",
              "    <tr>\n",
              "      <th>Uganda</th>\n",
              "      <td>100</td>\n",
              "    </tr>\n",
              "    <tr>\n",
              "      <th>Cambodia</th>\n",
              "      <td>63</td>\n",
              "    </tr>\n",
              "    <tr>\n",
              "      <th>Nigeria</th>\n",
              "      <td>32</td>\n",
              "    </tr>\n",
              "    <tr>\n",
              "      <th>United States</th>\n",
              "      <td>26</td>\n",
              "    </tr>\n",
              "    <tr>\n",
              "      <th>Ethiopia</th>\n",
              "      <td>22</td>\n",
              "    </tr>\n",
              "    <tr>\n",
              "      <th>Italy</th>\n",
              "      <td>13</td>\n",
              "    </tr>\n",
              "    <tr>\n",
              "      <th>Israel</th>\n",
              "      <td>12</td>\n",
              "    </tr>\n",
              "    <tr>\n",
              "      <th>Brazil</th>\n",
              "      <td>12</td>\n",
              "    </tr>\n",
              "    <tr>\n",
              "      <th>Canada</th>\n",
              "      <td>11</td>\n",
              "    </tr>\n",
              "    <tr>\n",
              "      <th>United Arab Emirates</th>\n",
              "      <td>10</td>\n",
              "    </tr>\n",
              "  </tbody>\n",
              "</table>\n",
              "</div>"
            ],
            "text/plain": [
              "Country               Applied behavior analysis: (7/28/18 - 7/28/23)\n",
              "Uganda                                                           100\n",
              "Cambodia                                                          63\n",
              "Nigeria                                                           32\n",
              "United States                                                     26\n",
              "Ethiopia                                                          22\n",
              "Italy                                                             13\n",
              "Israel                                                            12\n",
              "Brazil                                                            12\n",
              "Canada                                                            11\n",
              "United Arab Emirates                                              10"
            ]
          },
          "execution_count": 30,
          "metadata": {},
          "output_type": "execute_result"
        }
      ],
      "source": [
        "# sort countries/regions by trending index\n",
        "ibr_world_df = ibr_world_df.sort_values(by=['Applied behavior analysis: (7/28/18 - 7/28/23)'], ascending=False)\n",
        "ibr_world_df.head(10)"
      ]
    },
    {
      "cell_type": "markdown",
      "metadata": {
        "id": "5SEydWAUcq5X"
      },
      "source": [
        "Applied behavior analysis seems to be very popular in Uganda and many African countries.However, the data reflects queries related to the topic, not the term, of Applied behavior analysis.\n",
        "This means data reflects all possible related words, inculding misspellings and acronims. A brief investigation revealed that 2 popular companies in Uganda - one sports betting agency and one ofering financial services - have ABA in their name. This could be acounting for the incresed number of searches using the keyword 'aba' in Uganda.\n",
        "\n",
        "Uganda 'ABA' companies: https://www.google.com/search?q=aba+uganda&oq=aba+uganda&aqs=chrome.0.69i59j46i175i199i512j0i22i30l2j0i10i22i30j0i22i30l2j69i60.3892j0j4&sourceid=chrome&ie=UTF-8\n",
        "\n",
        "When a search in Google Trends was made for the search term 'Applied behavior analysis' (this shows just the exact match queries), USA appears to be the region where Applied behavior analysis trends the highest.\n",
        "\n",
        "Google Trends data for 'Applied behavior analysis' as a search word:\n",
        "https://trends.google.com/trends/explore?date=today%205-y&q=Applied%20behavior%20analysis&hl=en\n",
        "\n",
        "\n",
        "Applied behavior analysis' popularity worldwide is not the topic of the current project so this issue will not be investigated further. Google trends data is used in the current project in order to find related key words to 'Applied behavior analysis' - > these are available in the *related queries dataset*. The related words are used to form a word bank of keywords for searching the relevant social media posts from the  Reddit platform.\n"
      ]
    },
    {
      "cell_type": "markdown",
      "metadata": {
        "id": "SU3Pithct5bL"
      },
      "source": [
        "### Related topics - worldwide\n",
        "\n",
        "Accodring to Google Trends website Related topics means:\n",
        "\n",
        "Users searching for your term also searched for these topics. You can view by the following metrics:\n",
        "* Top - The most popular topics. Scoring is on a relative scale where a value of 100 is the most commonly searched topic and a value of 50 is a topic searched half as often as the most popular term, and so on.\n",
        "\n",
        "* Rising - Related topics with the biggest increase in search frequency since the last time period. Results marked \"Breakout\" had a tremendous increase, probably because these topics are new and had few (if any) prior searches."
      ]
    },
    {
      "cell_type": "code",
      "execution_count": 173,
      "metadata": {
        "colab": {
          "base_uri": "https://localhost:8080/",
          "height": 1000
        },
        "id": "5USSuoNbZJX5",
        "outputId": "a1a9f545-cf86-4d62-ebb7-87cb4a2b8959"
      },
      "outputs": [
        {
          "data": {
            "text/html": [
              "<div>\n",
              "<style scoped>\n",
              "    .dataframe tbody tr th:only-of-type {\n",
              "        vertical-align: middle;\n",
              "    }\n",
              "\n",
              "    .dataframe tbody tr th {\n",
              "        vertical-align: top;\n",
              "    }\n",
              "\n",
              "    .dataframe thead th {\n",
              "        text-align: right;\n",
              "    }\n",
              "</style>\n",
              "<table border=\"1\" class=\"dataframe\">\n",
              "  <thead>\n",
              "    <tr style=\"text-align: right;\">\n",
              "      <th></th>\n",
              "      <th>TOP</th>\n",
              "    </tr>\n",
              "  </thead>\n",
              "  <tbody>\n",
              "    <tr>\n",
              "      <th>Therapy</th>\n",
              "      <td>100</td>\n",
              "    </tr>\n",
              "    <tr>\n",
              "      <th>Behavior</th>\n",
              "      <td>89</td>\n",
              "    </tr>\n",
              "    <tr>\n",
              "      <th>Analysis</th>\n",
              "      <td>55</td>\n",
              "    </tr>\n",
              "    <tr>\n",
              "      <th>Autistic Spectrum Disorders</th>\n",
              "      <td>24</td>\n",
              "    </tr>\n",
              "    <tr>\n",
              "      <th>Licensed behavior analyst</th>\n",
              "      <td>10</td>\n",
              "    </tr>\n",
              "    <tr>\n",
              "      <th>Master's Degree</th>\n",
              "      <td>10</td>\n",
              "    </tr>\n",
              "    <tr>\n",
              "      <th>Training</th>\n",
              "      <td>9</td>\n",
              "    </tr>\n",
              "    <tr>\n",
              "      <th>Salary</th>\n",
              "      <td>9</td>\n",
              "    </tr>\n",
              "    <tr>\n",
              "      <th>Psychology</th>\n",
              "      <td>9</td>\n",
              "    </tr>\n",
              "    <tr>\n",
              "      <th>Course</th>\n",
              "      <td>9</td>\n",
              "    </tr>\n",
              "    <tr>\n",
              "      <th>Applied science</th>\n",
              "      <td>6</td>\n",
              "    </tr>\n",
              "    <tr>\n",
              "      <th>Reinforcement</th>\n",
              "      <td>6</td>\n",
              "    </tr>\n",
              "    <tr>\n",
              "      <th>Certification</th>\n",
              "      <td>5</td>\n",
              "    </tr>\n",
              "    <tr>\n",
              "      <th>Behavior therapy</th>\n",
              "      <td>5</td>\n",
              "    </tr>\n",
              "    <tr>\n",
              "      <th>Methodology</th>\n",
              "      <td>5</td>\n",
              "    </tr>\n",
              "    <tr>\n",
              "      <th>Educational assessment</th>\n",
              "      <td>5</td>\n",
              "    </tr>\n",
              "    <tr>\n",
              "      <th>Professional certification</th>\n",
              "      <td>4</td>\n",
              "    </tr>\n",
              "    <tr>\n",
              "      <th>Skill</th>\n",
              "      <td>4</td>\n",
              "    </tr>\n",
              "    <tr>\n",
              "      <th>Therapist</th>\n",
              "      <td>4</td>\n",
              "    </tr>\n",
              "    <tr>\n",
              "      <th>Autism</th>\n",
              "      <td>3</td>\n",
              "    </tr>\n",
              "    <tr>\n",
              "      <th>Behavioral analytics</th>\n",
              "      <td>3</td>\n",
              "    </tr>\n",
              "    <tr>\n",
              "      <th>Stimulus</th>\n",
              "      <td>3</td>\n",
              "    </tr>\n",
              "    <tr>\n",
              "      <th>Undergraduate education</th>\n",
              "      <td>1</td>\n",
              "    </tr>\n",
              "    <tr>\n",
              "      <th>Postgraduate education</th>\n",
              "      <td>1</td>\n",
              "    </tr>\n",
              "    <tr>\n",
              "      <th>Extinction</th>\n",
              "      <td>1</td>\n",
              "    </tr>\n",
              "    <tr>\n",
              "      <th>RISING</th>\n",
              "      <td>NaN</td>\n",
              "    </tr>\n",
              "    <tr>\n",
              "      <th>Autism</th>\n",
              "      <td>Breakout</td>\n",
              "    </tr>\n",
              "    <tr>\n",
              "      <th>Functional behavior assessment</th>\n",
              "      <td>Breakout</td>\n",
              "    </tr>\n",
              "    <tr>\n",
              "      <th>Applied science</th>\n",
              "      <td>+2,450%</td>\n",
              "    </tr>\n",
              "    <tr>\n",
              "      <th>Postgraduate education</th>\n",
              "      <td>+200%</td>\n",
              "    </tr>\n",
              "    <tr>\n",
              "      <th>Therapist</th>\n",
              "      <td>+180%</td>\n",
              "    </tr>\n",
              "    <tr>\n",
              "      <th>Continuous function</th>\n",
              "      <td>+180%</td>\n",
              "    </tr>\n",
              "    <tr>\n",
              "      <th>Differential reinforcement</th>\n",
              "      <td>+170%</td>\n",
              "    </tr>\n",
              "    <tr>\n",
              "      <th>Undergraduate education</th>\n",
              "      <td>+160%</td>\n",
              "    </tr>\n",
              "    <tr>\n",
              "      <th>Stimulus</th>\n",
              "      <td>+150%</td>\n",
              "    </tr>\n",
              "    <tr>\n",
              "      <th>Extinction</th>\n",
              "      <td>+150%</td>\n",
              "    </tr>\n",
              "    <tr>\n",
              "      <th>Stimulus control</th>\n",
              "      <td>+150%</td>\n",
              "    </tr>\n",
              "    <tr>\n",
              "      <th>Behavioral analytics</th>\n",
              "      <td>+130%</td>\n",
              "    </tr>\n",
              "    <tr>\n",
              "      <th>Preference</th>\n",
              "      <td>+130%</td>\n",
              "    </tr>\n",
              "    <tr>\n",
              "      <th>Reinforcement</th>\n",
              "      <td>+90%</td>\n",
              "    </tr>\n",
              "    <tr>\n",
              "      <th>Educational assessment</th>\n",
              "      <td>+70%</td>\n",
              "    </tr>\n",
              "    <tr>\n",
              "      <th>Therapy</th>\n",
              "      <td>+60%</td>\n",
              "    </tr>\n",
              "    <tr>\n",
              "      <th>Skill</th>\n",
              "      <td>+60%</td>\n",
              "    </tr>\n",
              "  </tbody>\n",
              "</table>\n",
              "</div>"
            ],
            "text/plain": [
              "                                     TOP\n",
              "Therapy                              100\n",
              "Behavior                              89\n",
              "Analysis                              55\n",
              "Autistic Spectrum Disorders           24\n",
              "Licensed behavior analyst             10\n",
              "Master's Degree                       10\n",
              "Training                               9\n",
              "Salary                                 9\n",
              "Psychology                             9\n",
              "Course                                 9\n",
              "Applied science                        6\n",
              "Reinforcement                          6\n",
              "Certification                          5\n",
              "Behavior therapy                       5\n",
              "Methodology                            5\n",
              "Educational assessment                 5\n",
              "Professional certification             4\n",
              "Skill                                  4\n",
              "Therapist                              4\n",
              "Autism                                 3\n",
              "Behavioral analytics                   3\n",
              "Stimulus                               3\n",
              "Undergraduate education                1\n",
              "Postgraduate education                 1\n",
              "Extinction                             1\n",
              "RISING                               NaN\n",
              "Autism                          Breakout\n",
              "Functional behavior assessment  Breakout\n",
              "Applied science                  +2,450%\n",
              "Postgraduate education             +200%\n",
              "Therapist                          +180%\n",
              "Continuous function                +180%\n",
              "Differential reinforcement         +170%\n",
              "Undergraduate education            +160%\n",
              "Stimulus                           +150%\n",
              "Extinction                         +150%\n",
              "Stimulus control                   +150%\n",
              "Behavioral analytics               +130%\n",
              "Preference                         +130%\n",
              "Reinforcement                       +90%\n",
              "Educational assessment              +70%\n",
              "Therapy                             +60%\n",
              "Skill                               +60%"
            ]
          },
          "execution_count": 173,
          "metadata": {},
          "output_type": "execute_result"
        }
      ],
      "source": [
        "# upload data\n",
        "# data is formated strangely -> see possible sollutions at https://stackoverflow.com/questions/18039057/python-pandas-error-tokenizing-data\n",
        "rt_world_df = pd.read_csv('ABA google trends/global/relatedEntities_topics_global.csv', skiprows=2)\n",
        "rt_world_df"
      ]
    },
    {
      "cell_type": "code",
      "execution_count": 174,
      "metadata": {
        "colab": {
          "base_uri": "https://localhost:8080/",
          "height": 206
        },
        "id": "mIiyV0DYyJcU",
        "outputId": "48e26021-99a0-46f3-d4b8-151382d3330a"
      },
      "outputs": [
        {
          "data": {
            "text/html": [
              "<div>\n",
              "<style scoped>\n",
              "    .dataframe tbody tr th:only-of-type {\n",
              "        vertical-align: middle;\n",
              "    }\n",
              "\n",
              "    .dataframe tbody tr th {\n",
              "        vertical-align: top;\n",
              "    }\n",
              "\n",
              "    .dataframe thead th {\n",
              "        text-align: right;\n",
              "    }\n",
              "</style>\n",
              "<table border=\"1\" class=\"dataframe\">\n",
              "  <thead>\n",
              "    <tr style=\"text-align: right;\">\n",
              "      <th></th>\n",
              "      <th>Top related topic World</th>\n",
              "      <th>Trend index</th>\n",
              "    </tr>\n",
              "  </thead>\n",
              "  <tbody>\n",
              "    <tr>\n",
              "      <th>0</th>\n",
              "      <td>Therapy</td>\n",
              "      <td>100</td>\n",
              "    </tr>\n",
              "    <tr>\n",
              "      <th>1</th>\n",
              "      <td>Behavior</td>\n",
              "      <td>89</td>\n",
              "    </tr>\n",
              "    <tr>\n",
              "      <th>2</th>\n",
              "      <td>Analysis</td>\n",
              "      <td>55</td>\n",
              "    </tr>\n",
              "    <tr>\n",
              "      <th>3</th>\n",
              "      <td>Autistic Spectrum Disorders</td>\n",
              "      <td>24</td>\n",
              "    </tr>\n",
              "    <tr>\n",
              "      <th>4</th>\n",
              "      <td>Licensed behavior analyst</td>\n",
              "      <td>10</td>\n",
              "    </tr>\n",
              "  </tbody>\n",
              "</table>\n",
              "</div>"
            ],
            "text/plain": [
              "       Top related topic World Trend index\n",
              "0                      Therapy         100\n",
              "1                     Behavior          89\n",
              "2                     Analysis          55\n",
              "3  Autistic Spectrum Disorders          24\n",
              "4    Licensed behavior analyst          10"
            ]
          },
          "execution_count": 174,
          "metadata": {},
          "output_type": "execute_result"
        }
      ],
      "source": [
        "# select top 25 related topics (maximum Google Trends provided)\n",
        "rt_world_df_top = rt_world_df.iloc[:25]\n",
        "rt_world_df_top = rt_world_df_top.reset_index()\n",
        "rt_world_df_top = rt_world_df_top.rename(columns={\"index\": \"Top related topic World\", \"TOP\": \"Trend index\"})\n",
        "rt_world_df_top.head()"
      ]
    },
    {
      "cell_type": "code",
      "execution_count": 175,
      "metadata": {
        "colab": {
          "base_uri": "https://localhost:8080/",
          "height": 206
        },
        "id": "PjOBO1oPydqC",
        "outputId": "797a06ba-8c46-48dd-be28-67f35f8b1762"
      },
      "outputs": [
        {
          "data": {
            "text/html": [
              "<div>\n",
              "<style scoped>\n",
              "    .dataframe tbody tr th:only-of-type {\n",
              "        vertical-align: middle;\n",
              "    }\n",
              "\n",
              "    .dataframe tbody tr th {\n",
              "        vertical-align: top;\n",
              "    }\n",
              "\n",
              "    .dataframe thead th {\n",
              "        text-align: right;\n",
              "    }\n",
              "</style>\n",
              "<table border=\"1\" class=\"dataframe\">\n",
              "  <thead>\n",
              "    <tr style=\"text-align: right;\">\n",
              "      <th></th>\n",
              "      <th>Rising related topic World</th>\n",
              "      <th>Trend index</th>\n",
              "    </tr>\n",
              "  </thead>\n",
              "  <tbody>\n",
              "    <tr>\n",
              "      <th>1</th>\n",
              "      <td>Autism</td>\n",
              "      <td>Breakout</td>\n",
              "    </tr>\n",
              "    <tr>\n",
              "      <th>2</th>\n",
              "      <td>Functional behavior assessment</td>\n",
              "      <td>Breakout</td>\n",
              "    </tr>\n",
              "    <tr>\n",
              "      <th>3</th>\n",
              "      <td>Applied science</td>\n",
              "      <td>+2,450%</td>\n",
              "    </tr>\n",
              "    <tr>\n",
              "      <th>4</th>\n",
              "      <td>Postgraduate education</td>\n",
              "      <td>+200%</td>\n",
              "    </tr>\n",
              "    <tr>\n",
              "      <th>5</th>\n",
              "      <td>Therapist</td>\n",
              "      <td>+180%</td>\n",
              "    </tr>\n",
              "  </tbody>\n",
              "</table>\n",
              "</div>"
            ],
            "text/plain": [
              "       Rising related topic World Trend index\n",
              "1                          Autism    Breakout\n",
              "2  Functional behavior assessment    Breakout\n",
              "3                 Applied science     +2,450%\n",
              "4          Postgraduate education       +200%\n",
              "5                       Therapist       +180%"
            ]
          },
          "execution_count": 175,
          "metadata": {},
          "output_type": "execute_result"
        }
      ],
      "source": [
        "# select rising related topics\n",
        "rt_world_df_rising = rt_world_df.iloc[25:]\n",
        "rt_world_df_rising = rt_world_df_rising.reset_index()\n",
        "rt_world_df_rising = rt_world_df_rising.rename(columns={\"index\": \"Rising related topic World\", \"TOP\": \"Trend index\"})\n",
        "rt_world_df_rising = rt_world_df_rising.tail(-1)\n",
        "rt_world_df_rising.head()"
      ]
    },
    {
      "cell_type": "markdown",
      "metadata": {
        "id": "IIuy0DQzy0BV"
      },
      "source": [
        "The data above shows Applied behaviour analysis is commonly related to Therapy and Autistic Spectrum Disorders (see TOP: rt_world_df_top).\n",
        "\n",
        "It seems that recently there has been a high increase in queries on Autism and Applied behaviour analysis (see RISING: rt_world_df_rising)"
      ]
    },
    {
      "cell_type": "markdown",
      "metadata": {
        "id": "_i_XAMFOwo0a"
      },
      "source": [
        "### Related queries - worldwide\n",
        "\n",
        "Accodring to Google Trends website Related queries means:\n",
        "\n",
        "Users searching for your term also searched for these queries. You can sort by the following metrics:\n",
        "* Top - The most popular search queries. Scoring is on a relative scale where a value of 100 is the most commonly searched query, 50 is a query searched half as often as the most popular query, and so on.\n",
        "\n",
        "* Rising - Queries with the biggest increase in search frequency since the last time period. Results marked \"Breakout\" had a tremendous increase, probably because these queries are new and had few (if any) prior searches.\n",
        "\n"
      ]
    },
    {
      "cell_type": "code",
      "execution_count": 176,
      "metadata": {
        "colab": {
          "base_uri": "https://localhost:8080/",
          "height": 206
        },
        "id": "W8pWC58owqbQ",
        "outputId": "567cf305-2353-48b7-a43d-841835b4d0af"
      },
      "outputs": [
        {
          "data": {
            "text/html": [
              "<div>\n",
              "<style scoped>\n",
              "    .dataframe tbody tr th:only-of-type {\n",
              "        vertical-align: middle;\n",
              "    }\n",
              "\n",
              "    .dataframe tbody tr th {\n",
              "        vertical-align: top;\n",
              "    }\n",
              "\n",
              "    .dataframe thead th {\n",
              "        text-align: right;\n",
              "    }\n",
              "</style>\n",
              "<table border=\"1\" class=\"dataframe\">\n",
              "  <thead>\n",
              "    <tr style=\"text-align: right;\">\n",
              "      <th></th>\n",
              "      <th>index</th>\n",
              "      <th>TOP</th>\n",
              "    </tr>\n",
              "  </thead>\n",
              "  <tbody>\n",
              "    <tr>\n",
              "      <th>0</th>\n",
              "      <td>aba</td>\n",
              "      <td>100</td>\n",
              "    </tr>\n",
              "    <tr>\n",
              "      <th>1</th>\n",
              "      <td>aba therapy</td>\n",
              "      <td>22</td>\n",
              "    </tr>\n",
              "    <tr>\n",
              "      <th>2</th>\n",
              "      <td>behavior analysis</td>\n",
              "      <td>10</td>\n",
              "    </tr>\n",
              "    <tr>\n",
              "      <th>3</th>\n",
              "      <td>autism</td>\n",
              "      <td>6</td>\n",
              "    </tr>\n",
              "    <tr>\n",
              "      <th>4</th>\n",
              "      <td>what is aba</td>\n",
              "      <td>6</td>\n",
              "    </tr>\n",
              "  </tbody>\n",
              "</table>\n",
              "</div>"
            ],
            "text/plain": [
              "               index  TOP\n",
              "0                aba  100\n",
              "1        aba therapy   22\n",
              "2  behavior analysis   10\n",
              "3             autism    6\n",
              "4        what is aba    6"
            ]
          },
          "execution_count": 176,
          "metadata": {},
          "output_type": "execute_result"
        }
      ],
      "source": [
        "# read data\n",
        "rq_world_df = pd.read_csv('ABA google trends/global/relatedQueries_search_global.csv', skiprows=2)\n",
        "# select top 25 related queries/words ( this is the maximum Google Trends provided)\n",
        "rq_world_df_top = rq_world_df.iloc[:25]\n",
        "rq_world_df_top = rq_world_df_top.reset_index()\n",
        "rq_world_df_top.head()"
      ]
    },
    {
      "cell_type": "code",
      "execution_count": 177,
      "metadata": {
        "colab": {
          "base_uri": "https://localhost:8080/",
          "height": 206
        },
        "id": "ujIiR8qxl3gN",
        "outputId": "40809081-cd06-4b8b-c40f-67e7bcbc0ac8"
      },
      "outputs": [
        {
          "data": {
            "text/html": [
              "<div>\n",
              "<style scoped>\n",
              "    .dataframe tbody tr th:only-of-type {\n",
              "        vertical-align: middle;\n",
              "    }\n",
              "\n",
              "    .dataframe tbody tr th {\n",
              "        vertical-align: top;\n",
              "    }\n",
              "\n",
              "    .dataframe thead th {\n",
              "        text-align: right;\n",
              "    }\n",
              "</style>\n",
              "<table border=\"1\" class=\"dataframe\">\n",
              "  <thead>\n",
              "    <tr style=\"text-align: right;\">\n",
              "      <th></th>\n",
              "      <th>World Top related query word</th>\n",
              "      <th>Trend index</th>\n",
              "    </tr>\n",
              "  </thead>\n",
              "  <tbody>\n",
              "    <tr>\n",
              "      <th>0</th>\n",
              "      <td>aba</td>\n",
              "      <td>100</td>\n",
              "    </tr>\n",
              "    <tr>\n",
              "      <th>1</th>\n",
              "      <td>aba therapy</td>\n",
              "      <td>22</td>\n",
              "    </tr>\n",
              "    <tr>\n",
              "      <th>2</th>\n",
              "      <td>behavior analysis</td>\n",
              "      <td>10</td>\n",
              "    </tr>\n",
              "    <tr>\n",
              "      <th>3</th>\n",
              "      <td>autism</td>\n",
              "      <td>6</td>\n",
              "    </tr>\n",
              "    <tr>\n",
              "      <th>4</th>\n",
              "      <td>what is aba</td>\n",
              "      <td>6</td>\n",
              "    </tr>\n",
              "  </tbody>\n",
              "</table>\n",
              "</div>"
            ],
            "text/plain": [
              "  World Top related query word Trend index\n",
              "0                          aba         100\n",
              "1                  aba therapy          22\n",
              "2            behavior analysis          10\n",
              "3                       autism           6\n",
              "4                  what is aba           6"
            ]
          },
          "execution_count": 177,
          "metadata": {},
          "output_type": "execute_result"
        }
      ],
      "source": [
        "# rename the columns appropriately\n",
        "rq_world_df_top = rq_world_df_top.rename(columns={\"index\": \"World Top related query word\", \"TOP\": \"Trend index\"})\n",
        "rq_world_df_top.head()"
      ]
    },
    {
      "cell_type": "code",
      "execution_count": 178,
      "metadata": {
        "colab": {
          "base_uri": "https://localhost:8080/",
          "height": 206
        },
        "id": "I6KncaWVjsjz",
        "outputId": "77ad8fc8-060e-43ad-b712-524d4309aa7a"
      },
      "outputs": [
        {
          "data": {
            "text/html": [
              "<div>\n",
              "<style scoped>\n",
              "    .dataframe tbody tr th:only-of-type {\n",
              "        vertical-align: middle;\n",
              "    }\n",
              "\n",
              "    .dataframe tbody tr th {\n",
              "        vertical-align: top;\n",
              "    }\n",
              "\n",
              "    .dataframe thead th {\n",
              "        text-align: right;\n",
              "    }\n",
              "</style>\n",
              "<table border=\"1\" class=\"dataframe\">\n",
              "  <thead>\n",
              "    <tr style=\"text-align: right;\">\n",
              "      <th></th>\n",
              "      <th>index</th>\n",
              "      <th>TOP</th>\n",
              "    </tr>\n",
              "  </thead>\n",
              "  <tbody>\n",
              "    <tr>\n",
              "      <th>0</th>\n",
              "      <td>RISING</td>\n",
              "      <td>NaN</td>\n",
              "    </tr>\n",
              "    <tr>\n",
              "      <th>1</th>\n",
              "      <td>golden steps aba</td>\n",
              "      <td>Breakout</td>\n",
              "    </tr>\n",
              "    <tr>\n",
              "      <th>2</th>\n",
              "      <td>ababet ug</td>\n",
              "      <td>Breakout</td>\n",
              "    </tr>\n",
              "    <tr>\n",
              "      <th>3</th>\n",
              "      <td>ababet</td>\n",
              "      <td>+4,750%</td>\n",
              "    </tr>\n",
              "    <tr>\n",
              "      <th>4</th>\n",
              "      <td>aba desk login</td>\n",
              "      <td>+4,100%</td>\n",
              "    </tr>\n",
              "  </tbody>\n",
              "</table>\n",
              "</div>"
            ],
            "text/plain": [
              "              index       TOP\n",
              "0            RISING       NaN\n",
              "1  golden steps aba  Breakout\n",
              "2         ababet ug  Breakout\n",
              "3            ababet   +4,750%\n",
              "4    aba desk login   +4,100%"
            ]
          },
          "execution_count": 178,
          "metadata": {},
          "output_type": "execute_result"
        }
      ],
      "source": [
        "# select the rising related queries/words\n",
        "rq_world_df_rising = rq_world_df.iloc[25:]\n",
        "rq_world_df_rising = rq_world_df_rising.reset_index()\n",
        "rq_world_df_rising.head()"
      ]
    },
    {
      "cell_type": "code",
      "execution_count": 179,
      "metadata": {
        "colab": {
          "base_uri": "https://localhost:8080/",
          "height": 206
        },
        "id": "xdDAV932nMQt",
        "outputId": "2672e150-676d-4720-e0e8-1fe933d988ae"
      },
      "outputs": [
        {
          "data": {
            "text/html": [
              "<div>\n",
              "<style scoped>\n",
              "    .dataframe tbody tr th:only-of-type {\n",
              "        vertical-align: middle;\n",
              "    }\n",
              "\n",
              "    .dataframe tbody tr th {\n",
              "        vertical-align: top;\n",
              "    }\n",
              "\n",
              "    .dataframe thead th {\n",
              "        text-align: right;\n",
              "    }\n",
              "</style>\n",
              "<table border=\"1\" class=\"dataframe\">\n",
              "  <thead>\n",
              "    <tr style=\"text-align: right;\">\n",
              "      <th></th>\n",
              "      <th>World Rising related query word</th>\n",
              "      <th>search increase</th>\n",
              "    </tr>\n",
              "  </thead>\n",
              "  <tbody>\n",
              "    <tr>\n",
              "      <th>1</th>\n",
              "      <td>golden steps aba</td>\n",
              "      <td>Breakout</td>\n",
              "    </tr>\n",
              "    <tr>\n",
              "      <th>2</th>\n",
              "      <td>ababet ug</td>\n",
              "      <td>Breakout</td>\n",
              "    </tr>\n",
              "    <tr>\n",
              "      <th>3</th>\n",
              "      <td>ababet</td>\n",
              "      <td>+4,750%</td>\n",
              "    </tr>\n",
              "    <tr>\n",
              "      <th>4</th>\n",
              "      <td>aba desk login</td>\n",
              "      <td>+4,100%</td>\n",
              "    </tr>\n",
              "    <tr>\n",
              "      <th>5</th>\n",
              "      <td>the three branches of the science of behavior ...</td>\n",
              "      <td>+3,350%</td>\n",
              "    </tr>\n",
              "  </tbody>\n",
              "</table>\n",
              "</div>"
            ],
            "text/plain": [
              "                     World Rising related query word search increase\n",
              "1                                   golden steps aba        Breakout\n",
              "2                                          ababet ug        Breakout\n",
              "3                                             ababet         +4,750%\n",
              "4                                     aba desk login         +4,100%\n",
              "5  the three branches of the science of behavior ...         +3,350%"
            ]
          },
          "execution_count": 179,
          "metadata": {},
          "output_type": "execute_result"
        }
      ],
      "source": [
        "# rename the columns appropriately\n",
        "rq_world_df_rising = rq_world_df_rising.rename(columns={\"index\": \"World Rising related query word\", \"TOP\": \"search increase\"})\n",
        "# drop the first row (this is a column lables row; the columns have already been renamed above)\n",
        "rq_world_df_rising = rq_world_df_rising.tail(-1)\n",
        "rq_world_df_rising.head()"
      ]
    },
    {
      "cell_type": "markdown",
      "metadata": {
        "id": "DHiHuttFooIZ"
      },
      "source": [
        "The 2 data frames created above will be used as a word bank for related query words related to the topic of 'Applied behavior anlysis'.\n",
        "\n",
        "The 2 data bases representig global data:\n",
        "- rq_world_df_rising\n",
        "- rq_world_df_top"
      ]
    },
    {
      "cell_type": "markdown",
      "metadata": {
        "id": "kYwrK3t-xnl2"
      },
      "source": [
        "### IOT - UK"
      ]
    },
    {
      "cell_type": "code",
      "execution_count": 180,
      "metadata": {
        "id": "hfnTqhz4xsqe"
      },
      "outputs": [
        {
          "data": {
            "text/html": [
              "<div>\n",
              "<style scoped>\n",
              "    .dataframe tbody tr th:only-of-type {\n",
              "        vertical-align: middle;\n",
              "    }\n",
              "\n",
              "    .dataframe tbody tr th {\n",
              "        vertical-align: top;\n",
              "    }\n",
              "\n",
              "    .dataframe thead th {\n",
              "        text-align: right;\n",
              "    }\n",
              "</style>\n",
              "<table border=\"1\" class=\"dataframe\">\n",
              "  <thead>\n",
              "    <tr style=\"text-align: right;\">\n",
              "      <th></th>\n",
              "      <th>Category: All categories</th>\n",
              "    </tr>\n",
              "  </thead>\n",
              "  <tbody>\n",
              "    <tr>\n",
              "      <th>Week</th>\n",
              "      <td>Applied behavior analysis: (United Kingdom)</td>\n",
              "    </tr>\n",
              "    <tr>\n",
              "      <th>2018-07-29</th>\n",
              "      <td>42</td>\n",
              "    </tr>\n",
              "    <tr>\n",
              "      <th>2018-08-05</th>\n",
              "      <td>39</td>\n",
              "    </tr>\n",
              "    <tr>\n",
              "      <th>2018-08-12</th>\n",
              "      <td>50</td>\n",
              "    </tr>\n",
              "    <tr>\n",
              "      <th>2018-08-19</th>\n",
              "      <td>36</td>\n",
              "    </tr>\n",
              "  </tbody>\n",
              "</table>\n",
              "</div>"
            ],
            "text/plain": [
              "                               Category: All categories\n",
              "Week        Applied behavior analysis: (United Kingdom)\n",
              "2018-07-29                                           42\n",
              "2018-08-05                                           39\n",
              "2018-08-12                                           50\n",
              "2018-08-19                                           36"
            ]
          },
          "execution_count": 180,
          "metadata": {},
          "output_type": "execute_result"
        }
      ],
      "source": [
        "# read uk data\n",
        "iot_uk_df = pd.read_csv('ABA google trends/uk/GTweb_iot_UK.csv')\n",
        "iot_uk_df.head()"
      ]
    },
    {
      "cell_type": "code",
      "execution_count": 181,
      "metadata": {},
      "outputs": [
        {
          "data": {
            "text/html": [
              "<div>\n",
              "<style scoped>\n",
              "    .dataframe tbody tr th:only-of-type {\n",
              "        vertical-align: middle;\n",
              "    }\n",
              "\n",
              "    .dataframe tbody tr th {\n",
              "        vertical-align: top;\n",
              "    }\n",
              "\n",
              "    .dataframe thead th {\n",
              "        text-align: right;\n",
              "    }\n",
              "</style>\n",
              "<table border=\"1\" class=\"dataframe\">\n",
              "  <thead>\n",
              "    <tr style=\"text-align: right;\">\n",
              "      <th></th>\n",
              "      <th>Week</th>\n",
              "      <th>Applied behavior analysis: (United Kingdom)</th>\n",
              "    </tr>\n",
              "  </thead>\n",
              "  <tbody>\n",
              "    <tr>\n",
              "      <th>1</th>\n",
              "      <td>2018-07-29</td>\n",
              "      <td>42</td>\n",
              "    </tr>\n",
              "    <tr>\n",
              "      <th>2</th>\n",
              "      <td>2018-08-05</td>\n",
              "      <td>39</td>\n",
              "    </tr>\n",
              "    <tr>\n",
              "      <th>3</th>\n",
              "      <td>2018-08-12</td>\n",
              "      <td>50</td>\n",
              "    </tr>\n",
              "    <tr>\n",
              "      <th>4</th>\n",
              "      <td>2018-08-19</td>\n",
              "      <td>36</td>\n",
              "    </tr>\n",
              "    <tr>\n",
              "      <th>5</th>\n",
              "      <td>2018-08-26</td>\n",
              "      <td>37</td>\n",
              "    </tr>\n",
              "  </tbody>\n",
              "</table>\n",
              "</div>"
            ],
            "text/plain": [
              "0        Week Applied behavior analysis: (United Kingdom)\n",
              "1  2018-07-29                                          42\n",
              "2  2018-08-05                                          39\n",
              "3  2018-08-12                                          50\n",
              "4  2018-08-19                                          36\n",
              "5  2018-08-26                                          37"
            ]
          },
          "execution_count": 181,
          "metadata": {},
          "output_type": "execute_result"
        }
      ],
      "source": [
        "# reset index\n",
        "iot_uk_df = iot_uk_df.reset_index()\n",
        "# rename the columns with the correct lables\n",
        "iot_uk_df.columns = iot_uk_df.iloc[0]\n",
        "# remove row containing lables\n",
        "iot_uk_df = iot_uk_df.tail(-1)\n",
        "iot_uk_df.head()"
      ]
    },
    {
      "cell_type": "code",
      "execution_count": 182,
      "metadata": {},
      "outputs": [
        {
          "name": "stdout",
          "output_type": "stream",
          "text": [
            "<class 'pandas.core.frame.DataFrame'>\n",
            "RangeIndex: 261 entries, 1 to 261\n",
            "Data columns (total 2 columns):\n",
            " #   Column                                       Non-Null Count  Dtype \n",
            "---  ------                                       --------------  ----- \n",
            " 0   Week                                         261 non-null    object\n",
            " 1   Applied behavior analysis: (United Kingdom)  261 non-null    object\n",
            "dtypes: object(2)\n",
            "memory usage: 4.2+ KB\n"
          ]
        }
      ],
      "source": [
        "iot_uk_df.info()"
      ]
    },
    {
      "cell_type": "code",
      "execution_count": 183,
      "metadata": {},
      "outputs": [
        {
          "name": "stdout",
          "output_type": "stream",
          "text": [
            "<class 'pandas.core.frame.DataFrame'>\n",
            "RangeIndex: 261 entries, 1 to 261\n",
            "Data columns (total 2 columns):\n",
            " #   Column                                       Non-Null Count  Dtype         \n",
            "---  ------                                       --------------  -----         \n",
            " 0   Week                                         261 non-null    datetime64[ns]\n",
            " 1   Applied behavior analysis: (United Kingdom)  261 non-null    int64         \n",
            "dtypes: datetime64[ns](1), int64(1)\n",
            "memory usage: 4.2 KB\n"
          ]
        }
      ],
      "source": [
        "# change Applied behavior analysis: (United Kingdom) type from object to int\n",
        "iot_uk_df['Applied behavior analysis: (United Kingdom)'] = pd.to_numeric(iot_uk_df['Applied behavior analysis: (United Kingdom)'])\n",
        "# change week type to datetime\n",
        "iot_uk_df['Week'] = pd.to_datetime(iot_uk_df['Week'])\n",
        "iot_uk_df.info()"
      ]
    },
    {
      "cell_type": "code",
      "execution_count": 184,
      "metadata": {},
      "outputs": [
        {
          "data": {
            "text/plain": [
              "(0.0, 120.0)"
            ]
          },
          "execution_count": 184,
          "metadata": {},
          "output_type": "execute_result"
        },
        {
          "data": {
            "image/png": "[encoded data removed]",
            "text/plain": [
              "<Figure size 2160x432 with 1 Axes>"
            ]
          },
          "metadata": {},
          "output_type": "display_data"
        }
      ],
      "source": [
        "# visualize IOT\n",
        "iot_uk_df = iot_uk_df.set_index(iot_uk_df['Week'])\n",
        "dx = iot_uk_df['Applied behavior analysis: (United Kingdom)'].plot.line(figsize=(30,6), title=(\"ABA Interest Over Time UK\"))\n",
        "dx.set_xlabel('Date')\n",
        "dx.set_ylabel('Trends Index')\n",
        "plt.ylim(0, 120) "
      ]
    },
    {
      "cell_type": "markdown",
      "metadata": {
        "id": "9eK6iVmPzWHi"
      },
      "source": [
        "### Interest by region (Country) UK"
      ]
    },
    {
      "cell_type": "code",
      "execution_count": 185,
      "metadata": {
        "id": "dpUcrYXGzc0-"
      },
      "outputs": [
        {
          "data": {
            "text/html": [
              "<div>\n",
              "<style scoped>\n",
              "    .dataframe tbody tr th:only-of-type {\n",
              "        vertical-align: middle;\n",
              "    }\n",
              "\n",
              "    .dataframe tbody tr th {\n",
              "        vertical-align: top;\n",
              "    }\n",
              "\n",
              "    .dataframe thead th {\n",
              "        text-align: right;\n",
              "    }\n",
              "</style>\n",
              "<table border=\"1\" class=\"dataframe\">\n",
              "  <thead>\n",
              "    <tr style=\"text-align: right;\">\n",
              "      <th>Region</th>\n",
              "      <th>Applied behavior analysis: (7/28/18 - 7/28/23)</th>\n",
              "    </tr>\n",
              "  </thead>\n",
              "  <tbody>\n",
              "    <tr>\n",
              "      <th>Wales</th>\n",
              "      <td>100</td>\n",
              "    </tr>\n",
              "    <tr>\n",
              "      <th>Northern Ireland</th>\n",
              "      <td>89</td>\n",
              "    </tr>\n",
              "    <tr>\n",
              "      <th>England</th>\n",
              "      <td>70</td>\n",
              "    </tr>\n",
              "    <tr>\n",
              "      <th>Scotland</th>\n",
              "      <td>52</td>\n",
              "    </tr>\n",
              "  </tbody>\n",
              "</table>\n",
              "</div>"
            ],
            "text/plain": [
              "Region           Applied behavior analysis: (7/28/18 - 7/28/23)\n",
              "Wales                                                       100\n",
              "Northern Ireland                                             89\n",
              "England                                                      70\n",
              "Scotland                                                     52"
            ]
          },
          "execution_count": 185,
          "metadata": {},
          "output_type": "execute_result"
        }
      ],
      "source": [
        "ibr_uk_df = pd.read_csv('ABA google trends/uk/geoMap_UK.csv')\n",
        "# rename the columns with the correct lables\n",
        "ibr_uk_df.columns = ibr_uk_df.iloc[0]\n",
        "# remove row containing lables\n",
        "ibr_uk_df = ibr_uk_df.tail(-1)\n",
        "ibr_uk_df.head()"
      ]
    },
    {
      "cell_type": "markdown",
      "metadata": {},
      "source": [
        "In UK, applied behavior analysis seems to be most popular in Wales, and less so in Scotland."
      ]
    },
    {
      "cell_type": "markdown",
      "metadata": {
        "id": "Q8_b8xoBypDb"
      },
      "source": [
        "### Related topics - UK"
      ]
    },
    {
      "cell_type": "code",
      "execution_count": 186,
      "metadata": {
        "id": "0Wc1LKy6yqio"
      },
      "outputs": [
        {
          "data": {
            "text/html": [
              "<div>\n",
              "<style scoped>\n",
              "    .dataframe tbody tr th:only-of-type {\n",
              "        vertical-align: middle;\n",
              "    }\n",
              "\n",
              "    .dataframe tbody tr th {\n",
              "        vertical-align: top;\n",
              "    }\n",
              "\n",
              "    .dataframe thead th {\n",
              "        text-align: right;\n",
              "    }\n",
              "</style>\n",
              "<table border=\"1\" class=\"dataframe\">\n",
              "  <thead>\n",
              "    <tr style=\"text-align: right;\">\n",
              "      <th></th>\n",
              "      <th>TOP</th>\n",
              "    </tr>\n",
              "  </thead>\n",
              "  <tbody>\n",
              "    <tr>\n",
              "      <th>Therapy</th>\n",
              "      <td>100</td>\n",
              "    </tr>\n",
              "    <tr>\n",
              "      <th>Behavior</th>\n",
              "      <td>97</td>\n",
              "    </tr>\n",
              "    <tr>\n",
              "      <th>Analysis</th>\n",
              "      <td>71</td>\n",
              "    </tr>\n",
              "    <tr>\n",
              "      <th>Autistic Spectrum Disorders</th>\n",
              "      <td>35</td>\n",
              "    </tr>\n",
              "    <tr>\n",
              "      <th>coach</th>\n",
              "      <td>18</td>\n",
              "    </tr>\n",
              "    <tr>\n",
              "      <th>Training</th>\n",
              "      <td>13</td>\n",
              "    </tr>\n",
              "    <tr>\n",
              "      <th>Course</th>\n",
              "      <td>10</td>\n",
              "    </tr>\n",
              "    <tr>\n",
              "      <th>Applied science</th>\n",
              "      <td>10</td>\n",
              "    </tr>\n",
              "    <tr>\n",
              "      <th>Master's Degree</th>\n",
              "      <td>8</td>\n",
              "    </tr>\n",
              "    <tr>\n",
              "      <th>Licensed behavior analyst</th>\n",
              "      <td>7</td>\n",
              "    </tr>\n",
              "    <tr>\n",
              "      <th>Psychology</th>\n",
              "      <td>7</td>\n",
              "    </tr>\n",
              "    <tr>\n",
              "      <th>Research</th>\n",
              "      <td>6</td>\n",
              "    </tr>\n",
              "    <tr>\n",
              "      <th>Behavior therapy</th>\n",
              "      <td>4</td>\n",
              "    </tr>\n",
              "    <tr>\n",
              "      <th>Professional certification</th>\n",
              "      <td>4</td>\n",
              "    </tr>\n",
              "    <tr>\n",
              "      <th>Educational assessment</th>\n",
              "      <td>4</td>\n",
              "    </tr>\n",
              "    <tr>\n",
              "      <th>ABBA</th>\n",
              "      <td>4</td>\n",
              "    </tr>\n",
              "    <tr>\n",
              "      <th>Speech</th>\n",
              "      <td>4</td>\n",
              "    </tr>\n",
              "    <tr>\n",
              "      <th>Autism</th>\n",
              "      <td>3</td>\n",
              "    </tr>\n",
              "    <tr>\n",
              "      <th>Certification</th>\n",
              "      <td>3</td>\n",
              "    </tr>\n",
              "    <tr>\n",
              "      <th>Therapist</th>\n",
              "      <td>3</td>\n",
              "    </tr>\n",
              "    <tr>\n",
              "      <th>PBS</th>\n",
              "      <td>2</td>\n",
              "    </tr>\n",
              "    <tr>\n",
              "      <th>harmful</th>\n",
              "      <td>1</td>\n",
              "    </tr>\n",
              "    <tr>\n",
              "      <th>Online degree</th>\n",
              "      <td>1</td>\n",
              "    </tr>\n",
              "    <tr>\n",
              "      <th>Autistic child</th>\n",
              "      <td>1</td>\n",
              "    </tr>\n",
              "    <tr>\n",
              "      <th>Technique</th>\n",
              "      <td>1</td>\n",
              "    </tr>\n",
              "    <tr>\n",
              "      <th>RISING</th>\n",
              "      <td>NaN</td>\n",
              "    </tr>\n",
              "    <tr>\n",
              "      <th>Applied science</th>\n",
              "      <td>Breakout</td>\n",
              "    </tr>\n",
              "    <tr>\n",
              "      <th>Autism</th>\n",
              "      <td>Breakout</td>\n",
              "    </tr>\n",
              "    <tr>\n",
              "      <th>Autistic child</th>\n",
              "      <td>Breakout</td>\n",
              "    </tr>\n",
              "    <tr>\n",
              "      <th>harmful</th>\n",
              "      <td>+950%</td>\n",
              "    </tr>\n",
              "    <tr>\n",
              "      <th>Technique</th>\n",
              "      <td>+850%</td>\n",
              "    </tr>\n",
              "    <tr>\n",
              "      <th>Therapist</th>\n",
              "      <td>+400%</td>\n",
              "    </tr>\n",
              "    <tr>\n",
              "      <th>Certification</th>\n",
              "      <td>+350%</td>\n",
              "    </tr>\n",
              "    <tr>\n",
              "      <th>Online degree</th>\n",
              "      <td>+300%</td>\n",
              "    </tr>\n",
              "    <tr>\n",
              "      <th>Stimulus</th>\n",
              "      <td>+200%</td>\n",
              "    </tr>\n",
              "    <tr>\n",
              "      <th>PBS</th>\n",
              "      <td>+200%</td>\n",
              "    </tr>\n",
              "    <tr>\n",
              "      <th>Graduate certificate</th>\n",
              "      <td>+200%</td>\n",
              "    </tr>\n",
              "    <tr>\n",
              "      <th>Stimming</th>\n",
              "      <td>+90%</td>\n",
              "    </tr>\n",
              "    <tr>\n",
              "      <th>Therapy</th>\n",
              "      <td>+70%</td>\n",
              "    </tr>\n",
              "    <tr>\n",
              "      <th>Professional certification</th>\n",
              "      <td>+50%</td>\n",
              "    </tr>\n",
              "    <tr>\n",
              "      <th>Educational assessment</th>\n",
              "      <td>+50%</td>\n",
              "    </tr>\n",
              "    <tr>\n",
              "      <th>ABBA</th>\n",
              "      <td>+50%</td>\n",
              "    </tr>\n",
              "  </tbody>\n",
              "</table>\n",
              "</div>"
            ],
            "text/plain": [
              "                                  TOP\n",
              "Therapy                           100\n",
              "Behavior                           97\n",
              "Analysis                           71\n",
              "Autistic Spectrum Disorders        35\n",
              "coach                              18\n",
              "Training                           13\n",
              "Course                             10\n",
              "Applied science                    10\n",
              "Master's Degree                     8\n",
              "Licensed behavior analyst           7\n",
              "Psychology                          7\n",
              "Research                            6\n",
              "Behavior therapy                    4\n",
              "Professional certification          4\n",
              "Educational assessment              4\n",
              "ABBA                                4\n",
              "Speech                              4\n",
              "Autism                              3\n",
              "Certification                       3\n",
              "Therapist                           3\n",
              "PBS                                 2\n",
              "harmful                             1\n",
              "Online degree                       1\n",
              "Autistic child                      1\n",
              "Technique                           1\n",
              "RISING                            NaN\n",
              "Applied science              Breakout\n",
              "Autism                       Breakout\n",
              "Autistic child               Breakout\n",
              "harmful                         +950%\n",
              "Technique                       +850%\n",
              "Therapist                       +400%\n",
              "Certification                   +350%\n",
              "Online degree                   +300%\n",
              "Stimulus                        +200%\n",
              "PBS                             +200%\n",
              "Graduate certificate            +200%\n",
              "Stimming                         +90%\n",
              "Therapy                          +70%\n",
              "Professional certification       +50%\n",
              "Educational assessment           +50%\n",
              "ABBA                             +50%"
            ]
          },
          "execution_count": 186,
          "metadata": {},
          "output_type": "execute_result"
        }
      ],
      "source": [
        "rt_uk_df = pd.read_csv('ABA google trends/uk/relatedEntities_topics_UK.csv', skiprows=2)\n",
        "rt_uk_df"
      ]
    },
    {
      "cell_type": "code",
      "execution_count": 187,
      "metadata": {},
      "outputs": [
        {
          "data": {
            "text/html": [
              "<div>\n",
              "<style scoped>\n",
              "    .dataframe tbody tr th:only-of-type {\n",
              "        vertical-align: middle;\n",
              "    }\n",
              "\n",
              "    .dataframe tbody tr th {\n",
              "        vertical-align: top;\n",
              "    }\n",
              "\n",
              "    .dataframe thead th {\n",
              "        text-align: right;\n",
              "    }\n",
              "</style>\n",
              "<table border=\"1\" class=\"dataframe\">\n",
              "  <thead>\n",
              "    <tr style=\"text-align: right;\">\n",
              "      <th></th>\n",
              "      <th>Top related topic UK</th>\n",
              "      <th>Trend index</th>\n",
              "    </tr>\n",
              "  </thead>\n",
              "  <tbody>\n",
              "    <tr>\n",
              "      <th>0</th>\n",
              "      <td>Therapy</td>\n",
              "      <td>100</td>\n",
              "    </tr>\n",
              "    <tr>\n",
              "      <th>1</th>\n",
              "      <td>Behavior</td>\n",
              "      <td>97</td>\n",
              "    </tr>\n",
              "    <tr>\n",
              "      <th>2</th>\n",
              "      <td>Analysis</td>\n",
              "      <td>71</td>\n",
              "    </tr>\n",
              "    <tr>\n",
              "      <th>3</th>\n",
              "      <td>Autistic Spectrum Disorders</td>\n",
              "      <td>35</td>\n",
              "    </tr>\n",
              "    <tr>\n",
              "      <th>4</th>\n",
              "      <td>coach</td>\n",
              "      <td>18</td>\n",
              "    </tr>\n",
              "  </tbody>\n",
              "</table>\n",
              "</div>"
            ],
            "text/plain": [
              "          Top related topic UK Trend index\n",
              "0                      Therapy         100\n",
              "1                     Behavior          97\n",
              "2                     Analysis          71\n",
              "3  Autistic Spectrum Disorders          35\n",
              "4                        coach          18"
            ]
          },
          "execution_count": 187,
          "metadata": {},
          "output_type": "execute_result"
        }
      ],
      "source": [
        "# select top 25 related topics (maximum Google Trends provided)\n",
        "rt_uk_df_top = rt_uk_df.iloc[:25]\n",
        "rt_uk_df_top = rt_uk_df_top.reset_index()\n",
        "rt_uk_df_top = rt_uk_df_top.rename(columns={\"index\": \"Top related topic UK\", \"TOP\": \"Trend index\"})\n",
        "rt_uk_df_top.head()"
      ]
    },
    {
      "cell_type": "code",
      "execution_count": 188,
      "metadata": {},
      "outputs": [
        {
          "data": {
            "text/html": [
              "<div>\n",
              "<style scoped>\n",
              "    .dataframe tbody tr th:only-of-type {\n",
              "        vertical-align: middle;\n",
              "    }\n",
              "\n",
              "    .dataframe tbody tr th {\n",
              "        vertical-align: top;\n",
              "    }\n",
              "\n",
              "    .dataframe thead th {\n",
              "        text-align: right;\n",
              "    }\n",
              "</style>\n",
              "<table border=\"1\" class=\"dataframe\">\n",
              "  <thead>\n",
              "    <tr style=\"text-align: right;\">\n",
              "      <th></th>\n",
              "      <th>Rising related risingic UK</th>\n",
              "      <th>Trend index</th>\n",
              "    </tr>\n",
              "  </thead>\n",
              "  <tbody>\n",
              "    <tr>\n",
              "      <th>1</th>\n",
              "      <td>Applied science</td>\n",
              "      <td>Breakout</td>\n",
              "    </tr>\n",
              "    <tr>\n",
              "      <th>2</th>\n",
              "      <td>Autism</td>\n",
              "      <td>Breakout</td>\n",
              "    </tr>\n",
              "    <tr>\n",
              "      <th>3</th>\n",
              "      <td>Autistic child</td>\n",
              "      <td>Breakout</td>\n",
              "    </tr>\n",
              "    <tr>\n",
              "      <th>4</th>\n",
              "      <td>harmful</td>\n",
              "      <td>+950%</td>\n",
              "    </tr>\n",
              "    <tr>\n",
              "      <th>5</th>\n",
              "      <td>Technique</td>\n",
              "      <td>+850%</td>\n",
              "    </tr>\n",
              "  </tbody>\n",
              "</table>\n",
              "</div>"
            ],
            "text/plain": [
              "  Rising related risingic UK Trend index\n",
              "1            Applied science    Breakout\n",
              "2                     Autism    Breakout\n",
              "3             Autistic child    Breakout\n",
              "4                    harmful       +950%\n",
              "5                  Technique       +850%"
            ]
          },
          "execution_count": 188,
          "metadata": {},
          "output_type": "execute_result"
        }
      ],
      "source": [
        "# select rising 25 related topics (maximum Google Trends provided)\n",
        "rt_uk_df_rising = rt_uk_df.iloc[25:]\n",
        "rt_uk_df_rising = rt_uk_df_rising.reset_index()\n",
        "rt_uk_df_rising = rt_uk_df_rising.rename(columns={\"index\": \"Rising related risingic UK\", \"TOP\": \"Trend index\"})\n",
        "rt_uk_df_rising = rt_uk_df_rising.tail(-1)\n",
        "rt_uk_df_rising.head()"
      ]
    },
    {
      "cell_type": "markdown",
      "metadata": {},
      "source": [
        "In UK, same as globally, ABA, as a topic, is related to Therapy and Autistic Spectrum Disorders (see TOP: rt_uk_df_top).\n",
        "\n",
        "Similarly to the global data, UK data shows that recently there has been a high increase in queries on Autism and Applied behaviour analysis. In contrast to the global queries, in UK there is also a high rise in queries about Applied behaviour analysis and the 'harmful' topic (see RISING: rt_world_df_rising). This suggests that in UK people are increasingly concerned about ABA having harmful, negative consequences/effects. "
      ]
    },
    {
      "cell_type": "markdown",
      "metadata": {
        "id": "_TZvOJpTy6ii"
      },
      "source": [
        "### Related queries - UK"
      ]
    },
    {
      "cell_type": "code",
      "execution_count": 189,
      "metadata": {
        "id": "zTS3ZPoazA-g"
      },
      "outputs": [
        {
          "data": {
            "text/html": [
              "<div>\n",
              "<style scoped>\n",
              "    .dataframe tbody tr th:only-of-type {\n",
              "        vertical-align: middle;\n",
              "    }\n",
              "\n",
              "    .dataframe tbody tr th {\n",
              "        vertical-align: top;\n",
              "    }\n",
              "\n",
              "    .dataframe thead th {\n",
              "        text-align: right;\n",
              "    }\n",
              "</style>\n",
              "<table border=\"1\" class=\"dataframe\">\n",
              "  <thead>\n",
              "    <tr style=\"text-align: right;\">\n",
              "      <th></th>\n",
              "      <th>TOP</th>\n",
              "    </tr>\n",
              "  </thead>\n",
              "  <tbody>\n",
              "    <tr>\n",
              "      <th>aba</th>\n",
              "      <td>100</td>\n",
              "    </tr>\n",
              "    <tr>\n",
              "      <th>aba therapy</th>\n",
              "      <td>24</td>\n",
              "    </tr>\n",
              "    <tr>\n",
              "      <th>autism</th>\n",
              "      <td>11</td>\n",
              "    </tr>\n",
              "    <tr>\n",
              "      <th>autism aba</th>\n",
              "      <td>11</td>\n",
              "    </tr>\n",
              "    <tr>\n",
              "      <th>behaviour</th>\n",
              "      <td>10</td>\n",
              "    </tr>\n",
              "    <tr>\n",
              "      <th>behaviour analysis</th>\n",
              "      <td>8</td>\n",
              "    </tr>\n",
              "    <tr>\n",
              "      <th>what is aba</th>\n",
              "      <td>7</td>\n",
              "    </tr>\n",
              "    <tr>\n",
              "      <th>applied behavior analysis</th>\n",
              "      <td>6</td>\n",
              "    </tr>\n",
              "    <tr>\n",
              "      <th>aba tutor</th>\n",
              "      <td>4</td>\n",
              "    </tr>\n",
              "    <tr>\n",
              "      <th>applied behaviour analysis</th>\n",
              "      <td>4</td>\n",
              "    </tr>\n",
              "    <tr>\n",
              "      <th>autism therapy</th>\n",
              "      <td>4</td>\n",
              "    </tr>\n",
              "    <tr>\n",
              "      <th>aba therapist</th>\n",
              "      <td>4</td>\n",
              "    </tr>\n",
              "    <tr>\n",
              "      <th>behavioural</th>\n",
              "      <td>4</td>\n",
              "    </tr>\n",
              "    <tr>\n",
              "      <th>aba therapy uk</th>\n",
              "      <td>3</td>\n",
              "    </tr>\n",
              "    <tr>\n",
              "      <th>aba for autism</th>\n",
              "      <td>3</td>\n",
              "    </tr>\n",
              "    <tr>\n",
              "      <th>behavioural analysis</th>\n",
              "      <td>3</td>\n",
              "    </tr>\n",
              "    <tr>\n",
              "      <th>aba training</th>\n",
              "      <td>3</td>\n",
              "    </tr>\n",
              "    <tr>\n",
              "      <th>aba meaning</th>\n",
              "      <td>3</td>\n",
              "    </tr>\n",
              "    <tr>\n",
              "      <th>autism uk</th>\n",
              "      <td>2</td>\n",
              "    </tr>\n",
              "    <tr>\n",
              "      <th>what is aba therapy</th>\n",
              "      <td>2</td>\n",
              "    </tr>\n",
              "    <tr>\n",
              "      <th>aba therapy near me</th>\n",
              "      <td>2</td>\n",
              "    </tr>\n",
              "    <tr>\n",
              "      <th>aba autism uk</th>\n",
              "      <td>2</td>\n",
              "    </tr>\n",
              "    <tr>\n",
              "      <th>psychology</th>\n",
              "      <td>2</td>\n",
              "    </tr>\n",
              "    <tr>\n",
              "      <th>aba remote jobs</th>\n",
              "      <td>&lt;1</td>\n",
              "    </tr>\n",
              "    <tr>\n",
              "      <th>ababet ug</th>\n",
              "      <td>&lt;1</td>\n",
              "    </tr>\n",
              "    <tr>\n",
              "      <th>RISING</th>\n",
              "      <td>NaN</td>\n",
              "    </tr>\n",
              "    <tr>\n",
              "      <th>aba remote jobs</th>\n",
              "      <td>Breakout</td>\n",
              "    </tr>\n",
              "    <tr>\n",
              "      <th>ababet ug</th>\n",
              "      <td>Breakout</td>\n",
              "    </tr>\n",
              "    <tr>\n",
              "      <th>what is stimming</th>\n",
              "      <td>Breakout</td>\n",
              "    </tr>\n",
              "    <tr>\n",
              "      <th>aba and preach</th>\n",
              "      <td>+4,650%</td>\n",
              "    </tr>\n",
              "    <tr>\n",
              "      <th>applied business academy</th>\n",
              "      <td>+2,750%</td>\n",
              "    </tr>\n",
              "    <tr>\n",
              "      <th>aba therapy near me</th>\n",
              "      <td>+650%</td>\n",
              "    </tr>\n",
              "    <tr>\n",
              "      <th>what is aba therapy</th>\n",
              "      <td>+300%</td>\n",
              "    </tr>\n",
              "    <tr>\n",
              "      <th>aba meaning</th>\n",
              "      <td>+180%</td>\n",
              "    </tr>\n",
              "    <tr>\n",
              "      <th>aba therapy</th>\n",
              "      <td>+80%</td>\n",
              "    </tr>\n",
              "    <tr>\n",
              "      <th>what is aba</th>\n",
              "      <td>+70%</td>\n",
              "    </tr>\n",
              "  </tbody>\n",
              "</table>\n",
              "</div>"
            ],
            "text/plain": [
              "                                 TOP\n",
              "aba                              100\n",
              "aba therapy                       24\n",
              "autism                            11\n",
              "autism aba                        11\n",
              "behaviour                         10\n",
              "behaviour analysis                 8\n",
              "what is aba                        7\n",
              "applied behavior analysis          6\n",
              "aba tutor                          4\n",
              "applied behaviour analysis         4\n",
              "autism therapy                     4\n",
              "aba therapist                      4\n",
              "behavioural                        4\n",
              "aba therapy uk                     3\n",
              "aba for autism                     3\n",
              "behavioural analysis               3\n",
              "aba training                       3\n",
              "aba meaning                        3\n",
              "autism uk                          2\n",
              "what is aba therapy                2\n",
              "aba therapy near me                2\n",
              "aba autism uk                      2\n",
              "psychology                         2\n",
              "aba remote jobs                   <1\n",
              "ababet ug                         <1\n",
              "RISING                           NaN\n",
              "aba remote jobs             Breakout\n",
              "ababet ug                   Breakout\n",
              "what is stimming            Breakout\n",
              "aba and preach               +4,650%\n",
              "applied business academy     +2,750%\n",
              "aba therapy near me            +650%\n",
              "what is aba therapy            +300%\n",
              "aba meaning                    +180%\n",
              "aba therapy                     +80%\n",
              "what is aba                     +70%"
            ]
          },
          "execution_count": 189,
          "metadata": {},
          "output_type": "execute_result"
        }
      ],
      "source": [
        "rq_uk_df = pd.read_csv('ABA google trends/uk/relatedQueries_search_UK.csv', skiprows=2)\n",
        "rq_uk_df"
      ]
    },
    {
      "cell_type": "code",
      "execution_count": 190,
      "metadata": {},
      "outputs": [
        {
          "data": {
            "text/html": [
              "<div>\n",
              "<style scoped>\n",
              "    .dataframe tbody tr th:only-of-type {\n",
              "        vertical-align: middle;\n",
              "    }\n",
              "\n",
              "    .dataframe tbody tr th {\n",
              "        vertical-align: top;\n",
              "    }\n",
              "\n",
              "    .dataframe thead th {\n",
              "        text-align: right;\n",
              "    }\n",
              "</style>\n",
              "<table border=\"1\" class=\"dataframe\">\n",
              "  <thead>\n",
              "    <tr style=\"text-align: right;\">\n",
              "      <th></th>\n",
              "      <th>index</th>\n",
              "      <th>TOP</th>\n",
              "    </tr>\n",
              "  </thead>\n",
              "  <tbody>\n",
              "    <tr>\n",
              "      <th>0</th>\n",
              "      <td>aba</td>\n",
              "      <td>100</td>\n",
              "    </tr>\n",
              "    <tr>\n",
              "      <th>1</th>\n",
              "      <td>aba therapy</td>\n",
              "      <td>24</td>\n",
              "    </tr>\n",
              "    <tr>\n",
              "      <th>2</th>\n",
              "      <td>autism</td>\n",
              "      <td>11</td>\n",
              "    </tr>\n",
              "    <tr>\n",
              "      <th>3</th>\n",
              "      <td>autism aba</td>\n",
              "      <td>11</td>\n",
              "    </tr>\n",
              "    <tr>\n",
              "      <th>4</th>\n",
              "      <td>behaviour</td>\n",
              "      <td>10</td>\n",
              "    </tr>\n",
              "  </tbody>\n",
              "</table>\n",
              "</div>"
            ],
            "text/plain": [
              "         index  TOP\n",
              "0          aba  100\n",
              "1  aba therapy   24\n",
              "2       autism   11\n",
              "3   autism aba   11\n",
              "4    behaviour   10"
            ]
          },
          "execution_count": 190,
          "metadata": {},
          "output_type": "execute_result"
        }
      ],
      "source": [
        "# select top 25 related queries/words ( this is the maximum Google Trends provided)\n",
        "rq_uk_df_top = rq_uk_df.iloc[:25]\n",
        "rq_uk_df_top = rq_uk_df_top.reset_index()\n",
        "rq_uk_df_top.head()"
      ]
    },
    {
      "cell_type": "code",
      "execution_count": 191,
      "metadata": {},
      "outputs": [
        {
          "data": {
            "text/html": [
              "<div>\n",
              "<style scoped>\n",
              "    .dataframe tbody tr th:only-of-type {\n",
              "        vertical-align: middle;\n",
              "    }\n",
              "\n",
              "    .dataframe tbody tr th {\n",
              "        vertical-align: top;\n",
              "    }\n",
              "\n",
              "    .dataframe thead th {\n",
              "        text-align: right;\n",
              "    }\n",
              "</style>\n",
              "<table border=\"1\" class=\"dataframe\">\n",
              "  <thead>\n",
              "    <tr style=\"text-align: right;\">\n",
              "      <th></th>\n",
              "      <th>UK Top related query word</th>\n",
              "      <th>Trend index</th>\n",
              "    </tr>\n",
              "  </thead>\n",
              "  <tbody>\n",
              "    <tr>\n",
              "      <th>0</th>\n",
              "      <td>aba</td>\n",
              "      <td>100</td>\n",
              "    </tr>\n",
              "    <tr>\n",
              "      <th>1</th>\n",
              "      <td>aba therapy</td>\n",
              "      <td>24</td>\n",
              "    </tr>\n",
              "    <tr>\n",
              "      <th>2</th>\n",
              "      <td>autism</td>\n",
              "      <td>11</td>\n",
              "    </tr>\n",
              "    <tr>\n",
              "      <th>3</th>\n",
              "      <td>autism aba</td>\n",
              "      <td>11</td>\n",
              "    </tr>\n",
              "    <tr>\n",
              "      <th>4</th>\n",
              "      <td>behaviour</td>\n",
              "      <td>10</td>\n",
              "    </tr>\n",
              "  </tbody>\n",
              "</table>\n",
              "</div>"
            ],
            "text/plain": [
              "  UK Top related query word Trend index\n",
              "0                       aba         100\n",
              "1               aba therapy          24\n",
              "2                    autism          11\n",
              "3                autism aba          11\n",
              "4                 behaviour          10"
            ]
          },
          "execution_count": 191,
          "metadata": {},
          "output_type": "execute_result"
        }
      ],
      "source": [
        "# rename the columns appropriately\n",
        "rq_uk_df_top = rq_uk_df_top.rename(columns={\"index\": \"UK Top related query word\", \"TOP\": \"Trend index\"})\n",
        "rq_uk_df_top.head()"
      ]
    },
    {
      "cell_type": "code",
      "execution_count": 192,
      "metadata": {},
      "outputs": [
        {
          "data": {
            "text/html": [
              "<div>\n",
              "<style scoped>\n",
              "    .dataframe tbody tr th:only-of-type {\n",
              "        vertical-align: middle;\n",
              "    }\n",
              "\n",
              "    .dataframe tbody tr th {\n",
              "        vertical-align: top;\n",
              "    }\n",
              "\n",
              "    .dataframe thead th {\n",
              "        text-align: right;\n",
              "    }\n",
              "</style>\n",
              "<table border=\"1\" class=\"dataframe\">\n",
              "  <thead>\n",
              "    <tr style=\"text-align: right;\">\n",
              "      <th></th>\n",
              "      <th>index</th>\n",
              "      <th>TOP</th>\n",
              "    </tr>\n",
              "  </thead>\n",
              "  <tbody>\n",
              "    <tr>\n",
              "      <th>0</th>\n",
              "      <td>RISING</td>\n",
              "      <td>NaN</td>\n",
              "    </tr>\n",
              "    <tr>\n",
              "      <th>1</th>\n",
              "      <td>aba remote jobs</td>\n",
              "      <td>Breakout</td>\n",
              "    </tr>\n",
              "    <tr>\n",
              "      <th>2</th>\n",
              "      <td>ababet ug</td>\n",
              "      <td>Breakout</td>\n",
              "    </tr>\n",
              "    <tr>\n",
              "      <th>3</th>\n",
              "      <td>what is stimming</td>\n",
              "      <td>Breakout</td>\n",
              "    </tr>\n",
              "    <tr>\n",
              "      <th>4</th>\n",
              "      <td>aba and preach</td>\n",
              "      <td>+4,650%</td>\n",
              "    </tr>\n",
              "  </tbody>\n",
              "</table>\n",
              "</div>"
            ],
            "text/plain": [
              "              index       TOP\n",
              "0            RISING       NaN\n",
              "1   aba remote jobs  Breakout\n",
              "2         ababet ug  Breakout\n",
              "3  what is stimming  Breakout\n",
              "4    aba and preach   +4,650%"
            ]
          },
          "execution_count": 192,
          "metadata": {},
          "output_type": "execute_result"
        }
      ],
      "source": [
        "# select the rising related queries/words\n",
        "rq_uk_df_rising = rq_uk_df.iloc[25:]\n",
        "rq_uk_df_rising = rq_uk_df_rising.reset_index()\n",
        "rq_uk_df_rising.head()"
      ]
    },
    {
      "cell_type": "code",
      "execution_count": 193,
      "metadata": {},
      "outputs": [
        {
          "data": {
            "text/html": [
              "<div>\n",
              "<style scoped>\n",
              "    .dataframe tbody tr th:only-of-type {\n",
              "        vertical-align: middle;\n",
              "    }\n",
              "\n",
              "    .dataframe tbody tr th {\n",
              "        vertical-align: top;\n",
              "    }\n",
              "\n",
              "    .dataframe thead th {\n",
              "        text-align: right;\n",
              "    }\n",
              "</style>\n",
              "<table border=\"1\" class=\"dataframe\">\n",
              "  <thead>\n",
              "    <tr style=\"text-align: right;\">\n",
              "      <th></th>\n",
              "      <th>UK Rising related query word</th>\n",
              "      <th>search increase</th>\n",
              "    </tr>\n",
              "  </thead>\n",
              "  <tbody>\n",
              "    <tr>\n",
              "      <th>1</th>\n",
              "      <td>aba remote jobs</td>\n",
              "      <td>Breakout</td>\n",
              "    </tr>\n",
              "    <tr>\n",
              "      <th>2</th>\n",
              "      <td>ababet ug</td>\n",
              "      <td>Breakout</td>\n",
              "    </tr>\n",
              "    <tr>\n",
              "      <th>3</th>\n",
              "      <td>what is stimming</td>\n",
              "      <td>Breakout</td>\n",
              "    </tr>\n",
              "    <tr>\n",
              "      <th>4</th>\n",
              "      <td>aba and preach</td>\n",
              "      <td>+4,650%</td>\n",
              "    </tr>\n",
              "    <tr>\n",
              "      <th>5</th>\n",
              "      <td>applied business academy</td>\n",
              "      <td>+2,750%</td>\n",
              "    </tr>\n",
              "  </tbody>\n",
              "</table>\n",
              "</div>"
            ],
            "text/plain": [
              "  UK Rising related query word search increase\n",
              "1              aba remote jobs        Breakout\n",
              "2                    ababet ug        Breakout\n",
              "3             what is stimming        Breakout\n",
              "4               aba and preach         +4,650%\n",
              "5     applied business academy         +2,750%"
            ]
          },
          "execution_count": 193,
          "metadata": {},
          "output_type": "execute_result"
        }
      ],
      "source": [
        "# rename the columns appropriately\n",
        "rq_uk_df_rising = rq_uk_df_rising.rename(columns={\"index\": \"UK Rising related query word\", \"TOP\": \"search increase\"})\n",
        "# drop the first row (this is a column lables row; the columns have already been renamed above)\n",
        "rq_uk_df_rising = rq_uk_df_rising.tail(-1)\n",
        "rq_uk_df_rising.head()"
      ]
    },
    {
      "cell_type": "markdown",
      "metadata": {},
      "source": [
        "The 2 data frames created above will be used as a word bank for related query words related to the topic of 'Applied behavior anlysis'. This word bank will be combined with the one obtained from global searches - any duplcates and irrelevant words/phrases ( for example, the ones related to sports bets and financial services - see Uganda discussion above) will be removed. The word bank thus created will be used to match relevant social media posts from the social media platform Reddit.\n",
        "\n",
        "The 2 data bases representig UK data:\n",
        "- rq_uk_df_rising\n",
        "- rq_uk_df_top"
      ]
    },
    {
      "cell_type": "markdown",
      "metadata": {},
      "source": [
        "## Creating the (ABA) queries wordbank "
      ]
    },
    {
      "cell_type": "code",
      "execution_count": 202,
      "metadata": {},
      "outputs": [],
      "source": [
        "# print(rq_world_df_top, rq_world_df_rising , rq_uk_df_top, rq_uk_df_rising ,  sep='\\n\\n')"
      ]
    },
    {
      "cell_type": "code",
      "execution_count": 212,
      "metadata": {},
      "outputs": [],
      "source": [
        "# save query words into a csv file\n",
        "with open(\"aba_wordbank.csv\", \"w\") as file:\n",
        "    # write data to file\n",
        "    for word in rq_world_df_top['World Top related query word']:\n",
        "        file.write(f'{word}\\n')\n",
        "with open(\"aba_wordbank.csv\", \"a\") as file:\n",
        "    # append data to file\n",
        "    for word in rq_world_df_rising['World Rising related query word']:\n",
        "        file.write(f'{word}\\n')\n",
        "    for word in rq_uk_df_top['UK Top related query word']:\n",
        "        file.write(f'{word}\\n')\n",
        "    for word in rq_uk_df_rising['UK Rising related query word']:\n",
        "        file.write(f'{word}\\n')"
      ]
    },
    {
      "cell_type": "markdown",
      "metadata": {},
      "source": [
        "The file obtained from agregating together the search terms from global and UK databases ( see above code ) was manually reviewed and irrelevant terms were removed ( see file comments for details regarding the decision process ). The resulting final query words/phrases can be found in the aba_wordbank_final.csv file"
      ]
    },
    {
      "cell_type": "code",
      "execution_count": 225,
      "metadata": {},
      "outputs": [
        {
          "data": {
            "text/plain": [
              "{'aba school,',\n",
              " 'aba therapist,',\n",
              " 'aba therapy,',\n",
              " 'aba training,',\n",
              " 'aba tutor,',\n",
              " 'aba,',\n",
              " 'applied behavior analysis,',\n",
              " 'applied behaviour analysis,',\n",
              " 'behavior analysis,',\n",
              " 'behavior analyst,',\n",
              " 'behavioral analysis,',\n",
              " 'behaviour analysis,',\n",
              " 'behavioural analysis,',\n",
              " 'behavioural,'}"
            ]
          },
          "execution_count": 225,
          "metadata": {},
          "output_type": "execute_result"
        }
      ],
      "source": [
        "# read the final wordbank file and save into a set ( to remove any duplicates )\n",
        "wordbank_set = set()\n",
        "with open(\"aba_wordbank_final.csv\", \"r\") as file:\n",
        "    # append data to file\n",
        "    for word in file:\n",
        "        wordbank_set.add(word.strip())\n",
        "\n",
        "wordbank_set"
      ]
    }
  ],
  "metadata": {
    "colab": {
      "provenance": []
    },
    "kernelspec": {
      "display_name": "Python 3",
      "name": "python3"
    },
    "language_info": {
      "codemirror_mode": {
        "name": "ipython",
        "version": 3
      },
      "file_extension": ".py",
      "mimetype": "text/x-python",
      "name": "python",
      "nbconvert_exporter": "python",
      "pygments_lexer": "ipython3",
      "version": "3.8.8"
    }
  },
  "nbformat": 4,
  "nbformat_minor": 0
}
